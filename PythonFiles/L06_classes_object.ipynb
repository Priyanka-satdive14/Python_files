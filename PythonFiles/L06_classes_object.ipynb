{
 "cells": [
  {
   "cell_type": "markdown",
   "metadata": {},
   "source": [
    "## Classes and Objects"
   ]
  },
  {
   "cell_type": "code",
   "execution_count": null,
   "metadata": {},
   "outputs": [],
   "source": [
    "#!/usr/bin/env python3\n",
    "# -*- coding:utf-8 -*-"
   ]
  },
  {
   "cell_type": "code",
   "execution_count": 1,
   "metadata": {},
   "outputs": [
    {
     "data": {
      "text/plain": [
       "14"
      ]
     },
     "execution_count": 1,
     "metadata": {},
     "output_type": "execute_result"
    }
   ],
   "source": [
    "#POlYMORPHISM\n",
    "len ('this is a line')"
   ]
  },
  {
   "cell_type": "code",
   "execution_count": 2,
   "metadata": {},
   "outputs": [
    {
     "data": {
      "text/plain": [
       "5"
      ]
     },
     "execution_count": 2,
     "metadata": {},
     "output_type": "execute_result"
    }
   ],
   "source": [
    "len([1,2,3,4,5])"
   ]
  },
  {
   "cell_type": "code",
   "execution_count": 3,
   "metadata": {},
   "outputs": [
    {
     "name": "stdout",
     "output_type": "stream",
     "text": [
      "<class '__main__.Person'>\n"
     ]
    }
   ],
   "source": [
    "class Person: #declaration of class\n",
    "    pass\n",
    "\n",
    "print(Person)"
   ]
  },
  {
   "cell_type": "code",
   "execution_count": 4,
   "metadata": {},
   "outputs": [
    {
     "name": "stdout",
     "output_type": "stream",
     "text": [
      "<__main__.Person object at 0x7f64bb6cdae0>\n"
     ]
    }
   ],
   "source": [
    "#instantiate\n",
    "p = Person()\n",
    "print(p)"
   ]
  },
  {
   "cell_type": "code",
   "execution_count": 5,
   "metadata": {},
   "outputs": [
    {
     "data": {
      "text/plain": [
       "['__class__',\n",
       " '__delattr__',\n",
       " '__dict__',\n",
       " '__dir__',\n",
       " '__doc__',\n",
       " '__eq__',\n",
       " '__format__',\n",
       " '__ge__',\n",
       " '__getattribute__',\n",
       " '__gt__',\n",
       " '__hash__',\n",
       " '__init__',\n",
       " '__init_subclass__',\n",
       " '__le__',\n",
       " '__lt__',\n",
       " '__module__',\n",
       " '__ne__',\n",
       " '__new__',\n",
       " '__reduce__',\n",
       " '__reduce_ex__',\n",
       " '__repr__',\n",
       " '__setattr__',\n",
       " '__sizeof__',\n",
       " '__str__',\n",
       " '__subclasshook__',\n",
       " '__weakref__']"
      ]
     },
     "execution_count": 5,
     "metadata": {},
     "output_type": "execute_result"
    }
   ],
   "source": [
    "dir(Person)"
   ]
  },
  {
   "cell_type": "code",
   "execution_count": 6,
   "metadata": {},
   "outputs": [],
   "source": [
    "class Person:\n",
    "\n",
    "    def __init__(self,fname,lname,age,country,city):\n",
    "         #attributes\n",
    "        self.first_name = fname\n",
    "        self.last_name = lname\n",
    "        self.age= age\n",
    "        self.country = country\n",
    "        self.city = city\n",
    "    #methods\n",
    "    def person_info (self):\n",
    "        return f'{self.first_name} {self.last_name}'"
   ]
  },
  {
   "cell_type": "code",
   "execution_count": 7,
   "metadata": {},
   "outputs": [
    {
     "name": "stdout",
     "output_type": "stream",
     "text": [
      "priyanka satdive\n"
     ]
    }
   ],
   "source": [
    "p = Person(\"priyanka\",\"satdive\",22,\"india\",\"Pune\")\n",
    "print(p.person_info())\n",
    " "
   ]
  },
  {
   "cell_type": "code",
   "execution_count": 8,
   "metadata": {},
   "outputs": [],
   "source": [
    "class PersonLocal:\n",
    "\n",
    "    def __init__(self,fname,lname,\n",
    "                 age,\n",
    "                 country = 'India',\n",
    "                 city = 'pune'):\n",
    "         #attributes\n",
    "        self.first_name = fname\n",
    "        self.last_name = lname\n",
    "        self.age= age\n",
    "        self.country = country\n",
    "        self.city = city\n",
    "        self.skills=[]\n",
    "    #methods\n",
    "    def person_info (self):\n",
    "        return f'{self.first_name} {self.last_name}'\n",
    "    \n",
    "    def add_skill(self, skill):\n",
    "        self.skills.append(skill)\n",
    "\n",
    "    def print_info(self):\n",
    "        return f'''{self.first_name} {self.last_name},\\n{self.age} old,\\nlives in{self.city},{self.country},skilled in {self.skills}\n",
    "'''"
   ]
  },
  {
   "cell_type": "code",
   "execution_count": 9,
   "metadata": {},
   "outputs": [
    {
     "name": "stdout",
     "output_type": "stream",
     "text": [
      "ROHIT sharma,\n",
      "28 old,\n",
      "lives inpune,India,skilled in []\n",
      "\n"
     ]
    }
   ],
   "source": [
    "p1 = PersonLocal(\"ROHIT\",\"sharma\",28,)\n",
    "print(p1.print_info())\n",
    "\n",
    " "
   ]
  },
  {
   "cell_type": "code",
   "execution_count": 10,
   "metadata": {},
   "outputs": [
    {
     "name": "stdout",
     "output_type": "stream",
     "text": [
      "ROHIT sharma,\n",
      "28 old,\n",
      "lives inpune,India,skilled in ['python', 'java', 'pandas']\n",
      "\n"
     ]
    }
   ],
   "source": [
    "p1.add_skill('python')\n",
    "p1.add_skill('java')\n",
    "p1.add_skill('pandas')\n",
    "print(p1.print_info())"
   ]
  },
  {
   "cell_type": "code",
   "execution_count": 11,
   "metadata": {},
   "outputs": [],
   "source": [
    "#inheritance\n",
    "class Student(PersonLocal):\n",
    "    '''Student is inherited from person'''\n",
    "pass"
   ]
  },
  {
   "cell_type": "code",
   "execution_count": 12,
   "metadata": {},
   "outputs": [
    {
     "name": "stdout",
     "output_type": "stream",
     "text": [
      "Rohan Tuli,\n",
      "26 old,\n",
      "lives inDelhi,India,skilled in []\n",
      "\n",
      "--------------------------------------------------\n",
      "Mohan Singh,\n",
      "24 old,\n",
      "lives inpune,India,skilled in []\n",
      "\n"
     ]
    }
   ],
   "source": [
    "s1 = Student('Mohan','Singh',24)\n",
    "s2 = Student('Rohan','Tuli',26,'India','Delhi')\n",
    "print(s2.print_info())\n",
    "print(\"-\"*50)\n",
    "print(s1.print_info())"
   ]
  },
  {
   "cell_type": "code",
   "execution_count": 13,
   "metadata": {},
   "outputs": [
    {
     "name": "stdout",
     "output_type": "stream",
     "text": [
      "Aaah...\n",
      "I am full, no thanks!\n"
     ]
    }
   ],
   "source": [
    "class Bird:\n",
    "    def __init__(self) :\n",
    "        self.hungry = True\n",
    "    def eat(self):\n",
    "        if self.hungry:\n",
    "            print('Aaah...')\n",
    "            self.hungry = False\n",
    "        else:\n",
    "            print('I am full, no thanks!')\n",
    "\n",
    "b= Bird()\n",
    "b.eat() #1st time feed output will be true\n",
    "b.eat()#2nd time try to feed then output will be i am full\n",
    "\n",
    "        "
   ]
  },
  {
   "cell_type": "code",
   "execution_count": 14,
   "metadata": {},
   "outputs": [
    {
     "name": "stdout",
     "output_type": "stream",
     "text": [
      "SingingSquawk! Squawk!!\n",
      "Aaah...\n"
     ]
    }
   ],
   "source": [
    "class SongBird(Bird):\n",
    "    def __init__(self):\n",
    "        super(SongBird,self).__init__()\n",
    "        self.sound = 'Squawk!'\n",
    "    def sing(self):\n",
    "        print(f'Singing{self.sound} {self.sound}!')\n",
    "\n",
    "sb = SongBird()\n",
    "sb.sing()\n",
    "sb.eat()"
   ]
  },
  {
   "cell_type": "code",
   "execution_count": 15,
   "metadata": {},
   "outputs": [
    {
     "name": "stdout",
     "output_type": "stream",
     "text": [
      "SingingSquawk! Squawk!!\n",
      "Pheu...\n",
      "No thanks,Had enough\n"
     ]
    }
   ],
   "source": [
    "class SongBird(Bird):\n",
    "    def __init__(self):\n",
    "        super(SongBird,self).__init__()\n",
    "        self.sound = 'Squawk!'\n",
    "    def sing(self):\n",
    "        print(f'Singing{self.sound} {self.sound}!')\n",
    "    def eat(self):\n",
    "        if self.hungry:\n",
    "            print('Pheu...')\n",
    "            self.hungry = False\n",
    "        else:\n",
    "            print('No thanks,Had enough')\n",
    "    \n",
    "\n",
    "sb = SongBird()\n",
    "sb.sing()\n",
    "sb.eat()\n",
    "sb.eat()"
   ]
  },
  {
   "cell_type": "code",
   "execution_count": 16,
   "metadata": {},
   "outputs": [],
   "source": [
    "#ENCAPSULATION\n",
    "globalName = \"hanuman\" #we can change name by calling function becuase we are assigning name out of the class\n",
    "class OpenObject():\n",
    "    def __init__(self):\n",
    "        self.globalName = globalName\n",
    "\n",
    "    def setName(self, name):\n",
    "        global globalName\n",
    "        globalName = name\n",
    "        self.globalName = name\n",
    "\n",
    "    def getName(self):\n",
    "        return self.globalName"
   ]
  },
  {
   "cell_type": "code",
   "execution_count": 17,
   "metadata": {},
   "outputs": [
    {
     "data": {
      "text/plain": [
       "'hanuman'"
      ]
     },
     "metadata": {},
     "output_type": "display_data"
    },
    {
     "data": {
      "text/plain": [
       "'Robin Hood'"
      ]
     },
     "metadata": {},
     "output_type": "display_data"
    },
    {
     "data": {
      "text/plain": [
       "'Robin Hood'"
      ]
     },
     "metadata": {},
     "output_type": "display_data"
    }
   ],
   "source": [
    "o1 = OpenObject()\n",
    "display(o1.globalName)\n",
    "o1.setName('Robin Hood')\n",
    "display(o1.globalName)\n",
    "o2 = OpenObject()\n",
    "display(o2.globalName)\n"
   ]
  },
  {
   "cell_type": "code",
   "execution_count": 18,
   "metadata": {},
   "outputs": [],
   "source": [
    "\n",
    "class EnclObject(): #no authority to change name becuase we are assigning name in the class\n",
    "    def __init__(self,name = \"Hanuman\"):\n",
    "        self._name = name\n",
    "\n",
    "    def setName(self, name):\n",
    "        self._name = name\n",
    "    def getName(self):\n",
    "        return self._name"
   ]
  },
  {
   "cell_type": "code",
   "execution_count": 19,
   "metadata": {},
   "outputs": [
    {
     "data": {
      "text/plain": [
       "'Hanuman'"
      ]
     },
     "metadata": {},
     "output_type": "display_data"
    },
    {
     "data": {
      "text/plain": [
       "'Robin Hood'"
      ]
     },
     "metadata": {},
     "output_type": "display_data"
    },
    {
     "data": {
      "text/plain": [
       "'Hanuman'"
      ]
     },
     "metadata": {},
     "output_type": "display_data"
    }
   ],
   "source": [
    "o1 = EnclObject()\n",
    "display(o1.getName())\n",
    "o1.setName('Robin Hood')\n",
    "display(o1.getName())\n",
    "o2 = EnclObject()\n",
    "display(o2.getName())"
   ]
  },
  {
   "cell_type": "code",
   "execution_count": 20,
   "metadata": {},
   "outputs": [
    {
     "name": "stdout",
     "output_type": "stream",
     "text": [
      "Maruti 800 is starting...\n",
      "Hyundai i10 is starting...\n"
     ]
    }
   ],
   "source": [
    "class Car:\n",
    "    def __init__(self,make,model):\n",
    "        self.make = make\n",
    "        self.model = model\n",
    "\n",
    "    def start(self):   #__ :private,_ :protected\n",
    "        print(f'{self.make} {self.model} is starting...')\n",
    "        \n",
    "car1 = Car('Maruti','800')\n",
    "car2 = Car('Hyundai','i10')\n",
    "car1.start()\n",
    "car2.start()"
   ]
  },
  {
   "cell_type": "code",
   "execution_count": 21,
   "metadata": {},
   "outputs": [
    {
     "data": {
      "text/plain": [
       "'Maruti'"
      ]
     },
     "execution_count": 21,
     "metadata": {},
     "output_type": "execute_result"
    }
   ],
   "source": [
    "car1.make"
   ]
  },
  {
   "cell_type": "code",
   "execution_count": 22,
   "metadata": {},
   "outputs": [
    {
     "name": "stdout",
     "output_type": "stream",
     "text": [
      "Where are youI am not there!\n"
     ]
    }
   ],
   "source": [
    "class Secret:\n",
    "    def __inaccessible(self):\n",
    "        print('I am not there!')\n",
    "    def accessible(self):\n",
    "        print ('Where are you',end='')\n",
    "        self.__inaccessible()\n",
    "s1 = Secret()\n",
    "s1.accessible()"
   ]
  },
  {
   "cell_type": "markdown",
   "metadata": {},
   "source": [
    "# Name Mangling"
   ]
  },
  {
   "cell_type": "code",
   "execution_count": 23,
   "metadata": {},
   "outputs": [],
   "source": [
    "class BankAccount:\n",
    "    def __init__(self,acc_num):\n",
    "        self.__acc_num = acc_num\n",
    "    def __validate_pin(self,pin):\n",
    "        return len(pin)==4\n",
    "acc = BankAccount('1234')\n"
   ]
  },
  {
   "cell_type": "code",
   "execution_count": 24,
   "metadata": {},
   "outputs": [
    {
     "data": {
      "text/plain": [
       "'1234'"
      ]
     },
     "execution_count": 24,
     "metadata": {},
     "output_type": "execute_result"
    }
   ],
   "source": [
    "acc._BankAccount__acc_num #to access private members in function this is method for call fun"
   ]
  },
  {
   "cell_type": "code",
   "execution_count": 25,
   "metadata": {},
   "outputs": [
    {
     "data": {
      "text/plain": [
       "True"
      ]
     },
     "execution_count": 25,
     "metadata": {},
     "output_type": "execute_result"
    }
   ],
   "source": [
    "acc._BankAccount__validate_pin('1234')"
   ]
  },
  {
   "cell_type": "markdown",
   "metadata": {},
   "source": [
    "Multilevel"
   ]
  },
  {
   "cell_type": "code",
   "execution_count": 26,
   "metadata": {},
   "outputs": [
    {
     "name": "stdout",
     "output_type": "stream",
     "text": [
      "Buddy makes a bark sound\n"
     ]
    },
    {
     "data": {
      "text/plain": [
       "'Generic animal'"
      ]
     },
     "execution_count": 26,
     "metadata": {},
     "output_type": "execute_result"
    }
   ],
   "source": [
    "#Multilevel \n",
    "\n",
    "class Animal:\n",
    "    def __init__(self,name) :\n",
    "        self._name = name\n",
    "    def _make_sound(self,sound):\n",
    "        print(f'{self._name} makes a {sound} sound')\n",
    "\n",
    "class Dog(Animal):\n",
    "    def bark(self):\n",
    "        self._make_sound('bark')\n",
    "        \n",
    "animal = Animal('Generic animal')\n",
    "dog = Dog('Buddy')\n",
    "dog.bark() #Buddy makes a bark sound\n",
    "animal._name\n",
    "        "
   ]
  },
  {
   "cell_type": "code",
   "execution_count": 27,
   "metadata": {},
   "outputs": [
    {
     "name": "stdout",
     "output_type": "stream",
     "text": [
      "ID: 101, name: Anil, gets 50000\n",
      "ID: 102, name: ajay, gets 68000\n"
     ]
    }
   ],
   "source": [
    "class Employee:\n",
    "    # init\n",
    "    def __init__(self, emp_id, emp_name, emp_salary):\n",
    "        \n",
    "        self._emp_id = emp_id  #private\n",
    "        \n",
    "        self._emp_name = emp_name  #private\n",
    "        \n",
    "        self._emp_salary = emp_salary\n",
    "    \n",
    "    # serialize\n",
    "    def __str__(self):\n",
    "        \n",
    "        return f'ID: {self._emp_id}, name: {self._emp_name}, gets {self._emp_salary }'\n",
    "    \n",
    "    # Provide Increment\n",
    "    def increase_salary(self, amount):\n",
    "        \n",
    "        if amount > 0:\n",
    "            \n",
    "            self._emp_salary += amount\n",
    "        \n",
    "        else:\n",
    "            \n",
    "            print(f'Invalid amount: {amount}')\n",
    "#Assigning values \n",
    "empl1 = Employee(101, 'Anil', 50000)\n",
    "empl2 = Employee(102, 'ajay', 68000)\n",
    "print (empl1)\n",
    "print (empl2)"
   ]
  },
  {
   "cell_type": "code",
   "execution_count": 28,
   "metadata": {},
   "outputs": [
    {
     "name": "stdout",
     "output_type": "stream",
     "text": [
      "ID: 101, name: Anil, gets 51000\n"
     ]
    }
   ],
   "source": [
    "empl1.increase_salary(1000)\n",
    "print(empl1)"
   ]
  },
  {
   "cell_type": "code",
   "execution_count": 29,
   "metadata": {},
   "outputs": [
    {
     "name": "stdout",
     "output_type": "stream",
     "text": [
      "ID: 102, name: ajay, gets 69000\n"
     ]
    }
   ],
   "source": [
    "empl2.increase_salary(1000)\n",
    "print(empl2)"
   ]
  },
  {
   "cell_type": "markdown",
   "metadata": {},
   "source": [
    "## Multiple Superclass\n"
   ]
  },
  {
   "cell_type": "code",
   "execution_count": 30,
   "metadata": {},
   "outputs": [
    {
     "name": "stdout",
     "output_type": "stream",
     "text": [
      "value:6\n"
     ]
    }
   ],
   "source": [
    "class Calculator:\n",
    "    \n",
    "    def calculate(self,expression):\n",
    "        \n",
    "        self.value = eval(expression)\n",
    "    \n",
    "\n",
    "class Talker:\n",
    "    \n",
    "    def talk(self):\n",
    "        \n",
    "        print(f'value:{self.value}')\n",
    "        \n",
    "class TalkingCalculator(Calculator,Talker):\n",
    "    \n",
    "    pass\n",
    "\n",
    "tc = TalkingCalculator()\n",
    "\n",
    "tc.calculate('1+2+3')\n",
    "\n",
    "tc.talk()"
   ]
  },
  {
   "cell_type": "code",
   "execution_count": 31,
   "metadata": {},
   "outputs": [
    {
     "name": "stdout",
     "output_type": "stream",
     "text": [
      "In  __init__  of Talking calculator\n",
      "In  __init__ of Calculator\n",
      "In __init__ of Talker\n",
      "In __init__ of Interaction system\n",
      "I am Talkingcalculator\n"
     ]
    }
   ],
   "source": [
    "class InteractionSystem:\n",
    "    def __init__(self):\n",
    "        print('In __init__ of Interaction system')\n",
    "    \n",
    "    def who_am_i(self):\n",
    "        \n",
    "        print('I am Interaction System')\n",
    "\n",
    "class Calculator(InteractionSystem):\n",
    "    \n",
    "    def __init__(self):\n",
    "        \n",
    "        print('In  __init__ of Calculator')\n",
    "        \n",
    "        super().__init__()\n",
    "        \n",
    "    def calculate(self,expression):\n",
    "        \n",
    "        self.value = eval(expression)\n",
    "        \n",
    "    def who_am_i(self):\n",
    "        \n",
    "        print('I am Calculator')\n",
    "    \n",
    "class Talker(InteractionSystem):\n",
    "    \n",
    "    def __init__(self):\n",
    "        \n",
    "        print('In __init__ of Talker')\n",
    "        \n",
    "        super().__init__()\n",
    "        \n",
    "    def who_am_i(self):\n",
    "        \n",
    "        print('I am Talker')    \n",
    "    \n",
    "    def talk(self):\n",
    "        \n",
    "        print(f'value:{self.value}')\n",
    "    \n",
    "    \n",
    "class TalkingCalculator(Calculator,Talker):\n",
    "    \n",
    "    def __init__(self):\n",
    "        \n",
    "        print('In  __init__  of Talking calculator')\n",
    "        \n",
    "        super().__init__()\n",
    "        \n",
    "    def who_am_i(self):\n",
    "        \n",
    "        print('I am Talkingcalculator')    \n",
    "        \n",
    "\n",
    "tc = TalkingCalculator()\n",
    "\n",
    "tc.who_am_i()\n",
    "\n"
   ]
  },
  {
   "cell_type": "code",
   "execution_count": 32,
   "metadata": {},
   "outputs": [
    {
     "data": {
      "text/plain": [
       "(__main__.TalkingCalculator,\n",
       " __main__.Calculator,\n",
       " __main__.Talker,\n",
       " __main__.InteractionSystem,\n",
       " object)"
      ]
     },
     "execution_count": 32,
     "metadata": {},
     "output_type": "execute_result"
    }
   ],
   "source": [
    "TalkingCalculator.__mro__ #to check flow of how code work"
   ]
  },
  {
   "cell_type": "markdown",
   "metadata": {},
   "source": [
    "'__len__','__getitem()__','__setitem()__','__delitem-__'"
   ]
  },
  {
   "cell_type": "code",
   "execution_count": 33,
   "metadata": {},
   "outputs": [
    {
     "name": "stdout",
     "output_type": "stream",
     "text": [
      "{}\n"
     ]
    }
   ],
   "source": [
    "def check_index(key):\n",
    "    \n",
    "    if not isinstance(key,int):raise TypeError\n",
    "    \n",
    "    if key<0: raise IndexError\n",
    "    \n",
    "    \n",
    "class ArithmaticError:\n",
    "    \n",
    "    def __init__(self,start = 0,step = 0):\n",
    "        \n",
    "        self.start = start\n",
    "        \n",
    "        self.step = step\n",
    "        \n",
    "        self.change = {}\n",
    "        \n",
    "    def __getitem__(self,key):\n",
    "        \n",
    "        check_index(key)\n",
    "        \n",
    "        try :return self.change[key]\n",
    "        \n",
    "        except KeyError:\n",
    "            \n",
    "            return self.start + key*self.step\n",
    "        \n",
    "    def __setitem__(self,key,value):\n",
    "        \n",
    "        check_index(key)\n",
    "        \n",
    "        self.change[key] = value\n",
    "     \n",
    "     \n",
    "    def __str__(self):\n",
    "        \n",
    "        return f'{self.change}' \n",
    "      \n",
    "s = ArithmaticError(1,2)\n",
    "\n",
    "print(s)\n",
    "        \n",
    "        "
   ]
  },
  {
   "cell_type": "code",
   "execution_count": 34,
   "metadata": {},
   "outputs": [
    {
     "name": "stdout",
     "output_type": "stream",
     "text": [
      "{2: 1000}\n"
     ]
    }
   ],
   "source": [
    "s[2] = 1000\n",
    "\n",
    "print (s)"
   ]
  },
  {
   "cell_type": "markdown",
   "metadata": {},
   "source": [
    "## Iterators"
   ]
  },
  {
   "cell_type": "code",
   "execution_count": 35,
   "metadata": {},
   "outputs": [],
   "source": [
    "#fibonacci series\n",
    "class Fibs:\n",
    "    \n",
    "    def __init__(self):\n",
    "        \n",
    "        self.a = 0\n",
    "        \n",
    "        self.b = 1\n",
    "    \n",
    "    def next(self):\n",
    "        \n",
    "        self.a,self.b = self.b,self.a + self.b\n",
    "        \n",
    "        return self.a\n",
    "    \n",
    "    def __iter__(self):\n",
    "        \n",
    "        return self"
   ]
  },
  {
   "cell_type": "code",
   "execution_count": 36,
   "metadata": {},
   "outputs": [
    {
     "name": "stdout",
     "output_type": "stream",
     "text": [
      "1, 1, 2, 3, 5, 8, 13, 21, 34, 55, 89, 144, 233, 377, 610, 987, 1597, 2584, 4181, 6765, 10946, 17711, 28657, 46368, 75025, 121393, 196418, 317811, 514229, 832040, 1346269, 2178309, 3524578, 5702887, 9227465, 14930352, 24157817, 39088169, 63245986, 102334155, 165580141, 267914296, 433494437, 701408733, 1134903170, 1836311903, 2971215073, 4807526976, 7778742049, 12586269025, 20365011074, 32951280099, 53316291173, 86267571272, 139583862445, 225851433717, 365435296162, 591286729879, 956722026041, 1548008755920, 2504730781961, 4052739537881, 6557470319842, 10610209857723, 17167680177565, 27777890035288, 44945570212853, 72723460248141, 117669030460994, 190392490709135, 308061521170129, 498454011879264, 806515533049393, 1304969544928657, 2111485077978050, 3416454622906707, 5527939700884757, 8944394323791464, 14472334024676221, 23416728348467685, 37889062373143906, 61305790721611591, 99194853094755497, 160500643816367088, 259695496911122585, 420196140727489673, 679891637638612258, 1100087778366101931, 1779979416004714189, 2880067194370816120, 4660046610375530309, 7540113804746346429, 12200160415121876738, 19740274219868223167, 31940434634990099905, 51680708854858323072, 83621143489848422977, 135301852344706746049, 218922995834555169026, 354224848179261915075, "
     ]
    }
   ],
   "source": [
    "fib = Fibs()\n",
    "\n",
    "for _ in range(100):\n",
    "    \n",
    "    print(fib.next(),end=', ')"
   ]
  },
  {
   "cell_type": "code",
   "execution_count": 37,
   "metadata": {},
   "outputs": [],
   "source": [
    "class FibsIter:\n",
    "    def __init__(self,max_num):\n",
    "        self.max_num = max_num\n",
    "        \n",
    "    def __iter__(self):\n",
    "        self.a = 0\n",
    "        self.b = 1\n",
    "        return self\n",
    "    \n",
    "    def __next__(self):\n",
    "        if self.a <= self.max_num:\n",
    "            self.a,self.b = self.b,self.a+self.b\n",
    "            return self.a\n",
    "        else:\n",
    "            raise StopIteration"
   ]
  },
  {
   "cell_type": "code",
   "execution_count": 38,
   "metadata": {},
   "outputs": [
    {
     "name": "stdout",
     "output_type": "stream",
     "text": [
      "1, 1, 2, 3, 5, 8, 13, 21, "
     ]
    }
   ],
   "source": [
    "fibs = FibsIter(20)\n",
    "for fib in fibs:\n",
    "    print(fib,end = ', ')"
   ]
  },
  {
   "cell_type": "markdown",
   "metadata": {},
   "source": [
    "## STATIC METHOD"
   ]
  },
  {
   "cell_type": "code",
   "execution_count": 39,
   "metadata": {},
   "outputs": [
    {
     "name": "stdout",
     "output_type": "stream",
     "text": [
      "15\n"
     ]
    }
   ],
   "source": [
    "class Mathop:\n",
    "    @staticmethod\n",
    "    def add(x,y):\n",
    "        return x + y\n",
    "    #calling the static method\n",
    "result = Mathop.add(10,5)\n",
    "print(result)\n",
    "        "
   ]
  },
  {
   "cell_type": "code",
   "execution_count": 40,
   "metadata": {},
   "outputs": [
    {
     "name": "stdout",
     "output_type": "stream",
     "text": [
      "1\n",
      "2\n"
     ]
    }
   ],
   "source": [
    "class Mathop:\n",
    "    count = 0 # class-level attribute\n",
    "    \n",
    "    @classmethod\n",
    "    def incremenet_count(cls):# cls take count = 0 it takes class  variable as static method\n",
    "        cls.count +=1         #it will increment class count value also\n",
    "        return cls.count\n",
    "#calling the class method\n",
    "print(Mathop.incremenet_count()) #O/P1\n",
    "print(Mathop.incremenet_count()) #O/P2"
   ]
  },
  {
   "cell_type": "code",
   "execution_count": 41,
   "metadata": {},
   "outputs": [
    {
     "name": "stdout",
     "output_type": "stream",
     "text": [
      "Static Method:8\n",
      "Class Method:count is 1\n",
      "Class Method:count is 2\n",
      "Instace Method:My name is Mohan\n",
      "Instace Method:My name is Bhavana\n"
     ]
    }
   ],
   "source": [
    "class Example:\n",
    "    count = 0 # class-level attribute\n",
    "    \n",
    "    def __init__(self,name):\n",
    "        self.name = name #instance-level attribute\n",
    "        \n",
    "    \n",
    "    @staticmethod\n",
    "    \n",
    "    def static_method(x,y):\n",
    "        return f'Static Method:{ x + y}'\n",
    "    \n",
    "    @classmethod\n",
    "    \n",
    "    def class_method(cls):    \n",
    "        cls.count +=1         #it will increment class count value also\n",
    "        return f\"Class Method:count is {cls.count}\"\n",
    "    \n",
    "    #object (instance method)\n",
    "    \n",
    "    def instance_method(self):\n",
    "        return f\"Instace Method:My name is {self.name}\"\n",
    "    \n",
    "#creating an instance of the class\n",
    "obj1 = Example(\"Mohan\")\n",
    "obj2 = Example(\"Bhavana\")\n",
    "\n",
    "#static method call\n",
    "print(Example.static_method(3,5)) #op static method:8\n",
    "\n",
    "#class method call\n",
    "print(Example.class_method()) #class method:count is 1\n",
    "print(Example.class_method()) #class method:count is 2\n",
    "\n",
    "#Instance method calls\n",
    "print(obj1.instance_method()) #Instance method:My name is Mohan\n",
    "print(obj2.instance_method()) #Instance method:My name is Bhavana"
   ]
  },
  {
   "cell_type": "markdown",
   "metadata": {},
   "source": [
    "## Exception Handling"
   ]
  },
  {
   "cell_type": "code",
   "execution_count": 42,
   "metadata": {},
   "outputs": [
    {
     "name": "stdout",
     "output_type": "stream",
     "text": [
      "Error unsupported operand type(s) for +: 'int' and 'str'\n",
      "I am always executed\n"
     ]
    }
   ],
   "source": [
    "try:\n",
    "    print(10+ ('5'))\n",
    "    a = 10\n",
    "    print (a/0)\n",
    "except Exception as e: #expection in language\n",
    "    print(f'Error {e}')\n",
    "except ZeroDivisionError:\n",
    "    print('Zero Division Error')\n",
    "else:                                   #finally and else are optional\n",
    "    print('I am usually executed')\n",
    "finally:\n",
    "    print('I am always executed')\n"
   ]
  },
  {
   "cell_type": "code",
   "execution_count": 43,
   "metadata": {},
   "outputs": [
    {
     "ename": "Exception",
     "evalue": "harddrive overloaded",
     "output_type": "error",
     "traceback": [
      "\u001b[0;31m---------------------------------------------------------------------------\u001b[0m",
      "\u001b[0;31mException\u001b[0m                                 Traceback (most recent call last)",
      "Cell \u001b[0;32mIn[43], line 1\u001b[0m\n\u001b[0;32m----> 1\u001b[0m \u001b[38;5;28;01mraise\u001b[39;00m \u001b[38;5;167;01mException\u001b[39;00m(\u001b[38;5;124m'\u001b[39m\u001b[38;5;124mharddrive overloaded\u001b[39m\u001b[38;5;124m'\u001b[39m)\n",
      "\u001b[0;31mException\u001b[0m: harddrive overloaded"
     ]
    }
   ],
   "source": [
    "raise Exception('harddrive overloaded')"
   ]
  },
  {
   "cell_type": "code",
   "execution_count": null,
   "metadata": {},
   "outputs": [],
   "source": []
  }
 ],
 "metadata": {
  "kernelspec": {
   "display_name": "Python 3",
   "language": "python",
   "name": "python3"
  },
  "language_info": {
   "codemirror_mode": {
    "name": "ipython",
    "version": 3
   },
   "file_extension": ".py",
   "mimetype": "text/x-python",
   "name": "python",
   "nbconvert_exporter": "python",
   "pygments_lexer": "ipython3",
   "version": "3.10.7"
  }
 },
 "nbformat": 4,
 "nbformat_minor": 2
}
