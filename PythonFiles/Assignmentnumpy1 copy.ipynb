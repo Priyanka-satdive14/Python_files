{
 "cells": [
  {
   "cell_type": "code",
   "execution_count": 2,
   "metadata": {},
   "outputs": [
    {
     "data": {
      "text/plain": [
       "'2.1.1'"
      ]
     },
     "execution_count": 2,
     "metadata": {},
     "output_type": "execute_result"
    }
   ],
   "source": [
    "import numpy as np\n",
    "np.__version__"
   ]
  },
  {
   "cell_type": "code",
   "execution_count": 3,
   "metadata": {},
   "outputs": [
    {
     "name": "stdout",
     "output_type": "stream",
     "text": [
      "\u001b[0;31mCall signature:\u001b[0m  \u001b[0mnp\u001b[0m\u001b[0;34m.\u001b[0m\u001b[0madd\u001b[0m\u001b[0;34m(\u001b[0m\u001b[0;34m*\u001b[0m\u001b[0margs\u001b[0m\u001b[0;34m,\u001b[0m \u001b[0;34m**\u001b[0m\u001b[0mkwargs\u001b[0m\u001b[0;34m)\u001b[0m\u001b[0;34m\u001b[0m\u001b[0;34m\u001b[0m\u001b[0m\n",
      "\u001b[0;31mType:\u001b[0m            ufunc\n",
      "\u001b[0;31mString form:\u001b[0m     <ufunc 'add'>\n",
      "\u001b[0;31mFile:\u001b[0m            ~/.local/lib/python3.10/site-packages/numpy/__init__.py\n",
      "\u001b[0;31mDocstring:\u001b[0m      \n",
      "add(x1, x2, /, out=None, *, where=True, casting='same_kind', order='K', dtype=None, subok=True[, signature])\n",
      "\n",
      "Add arguments element-wise.\n",
      "\n",
      "Parameters\n",
      "----------\n",
      "x1, x2 : array_like\n",
      "    The arrays to be added.\n",
      "    If ``x1.shape != x2.shape``, they must be broadcastable to a common\n",
      "    shape (which becomes the shape of the output).\n",
      "out : ndarray, None, or tuple of ndarray and None, optional\n",
      "    A location into which the result is stored. If provided, it must have\n",
      "    a shape that the inputs broadcast to. If not provided or None,\n",
      "    a freshly-allocated array is returned. A tuple (possible only as a\n",
      "    keyword argument) must have length equal to the number of outputs.\n",
      "where : array_like, optional\n",
      "    This condition is broadcast over the input. At locations where the\n",
      "    condition is True, the `out` array will be set to the ufunc result.\n",
      "    Elsewhere, the `out` array will retain its original value.\n",
      "    Note that if an uninitialized `out` array is created via the default\n",
      "    ``out=None``, locations within it where the condition is False will\n",
      "    remain uninitialized.\n",
      "**kwargs\n",
      "    For other keyword-only arguments, see the\n",
      "    :ref:`ufunc docs <ufuncs.kwargs>`.\n",
      "\n",
      "Returns\n",
      "-------\n",
      "add : ndarray or scalar\n",
      "    The sum of `x1` and `x2`, element-wise.\n",
      "    This is a scalar if both `x1` and `x2` are scalars.\n",
      "\n",
      "Notes\n",
      "-----\n",
      "Equivalent to `x1` + `x2` in terms of array broadcasting.\n",
      "\n",
      "Examples\n",
      "--------\n",
      ">>> import numpy as np\n",
      ">>> np.add(1.0, 4.0)\n",
      "5.0\n",
      ">>> x1 = np.arange(9.0).reshape((3, 3))\n",
      ">>> x2 = np.arange(3.0)\n",
      ">>> np.add(x1, x2)\n",
      "array([[  0.,   2.,   4.],\n",
      "       [  3.,   5.,   7.],\n",
      "       [  6.,   8.,  10.]])\n",
      "\n",
      "The ``+`` operator can be used as a shorthand for ``np.add`` on ndarrays.\n",
      "\n",
      ">>> x1 = np.arange(9.0).reshape((3, 3))\n",
      ">>> x2 = np.arange(3.0)\n",
      ">>> x1 + x2\n",
      "array([[ 0.,  2.,  4.],\n",
      "       [ 3.,  5.,  7.],\n",
      "       [ 6.,  8., 10.]])\n",
      "\u001b[0;31mClass docstring:\u001b[0m\n",
      "Functions that operate element by element on whole arrays.\n",
      "\n",
      "To see the documentation for a specific ufunc, use `info`.  For\n",
      "example, ``np.info(np.sin)``.  Because ufuncs are written in C\n",
      "(for speed) and linked into Python with NumPy's ufunc facility,\n",
      "Python's help() function finds this page whenever help() is called\n",
      "on a ufunc.\n",
      "\n",
      "A detailed explanation of ufuncs can be found in the docs for :ref:`ufuncs`.\n",
      "\n",
      "**Calling ufuncs:** ``op(*x[, out], where=True, **kwargs)``\n",
      "\n",
      "Apply `op` to the arguments `*x` elementwise, broadcasting the arguments.\n",
      "\n",
      "The broadcasting rules are:\n",
      "\n",
      "* Dimensions of length 1 may be prepended to either array.\n",
      "* Arrays may be repeated along dimensions of length 1.\n",
      "\n",
      "Parameters\n",
      "----------\n",
      "*x : array_like\n",
      "    Input arrays.\n",
      "out : ndarray, None, or tuple of ndarray and None, optional\n",
      "    Alternate array object(s) in which to put the result; if provided, it\n",
      "    must have a shape that the inputs broadcast to. A tuple of arrays\n",
      "    (possible only as a keyword argument) must have length equal to the\n",
      "    number of outputs; use None for uninitialized outputs to be\n",
      "    allocated by the ufunc.\n",
      "where : array_like, optional\n",
      "    This condition is broadcast over the input. At locations where the\n",
      "    condition is True, the `out` array will be set to the ufunc result.\n",
      "    Elsewhere, the `out` array will retain its original value.\n",
      "    Note that if an uninitialized `out` array is created via the default\n",
      "    ``out=None``, locations within it where the condition is False will\n",
      "    remain uninitialized.\n",
      "**kwargs\n",
      "    For other keyword-only arguments, see the :ref:`ufunc docs <ufuncs.kwargs>`.\n",
      "\n",
      "Returns\n",
      "-------\n",
      "r : ndarray or tuple of ndarray\n",
      "    `r` will have the shape that the arrays in `x` broadcast to; if `out` is\n",
      "    provided, it will be returned. If not, `r` will be allocated and\n",
      "    may contain uninitialized values. If the function has more than one\n",
      "    output, then the result will be a tuple of arrays."
     ]
    }
   ],
   "source": [
    "np.add?"
   ]
  },
  {
   "cell_type": "code",
   "execution_count": 5,
   "metadata": {},
   "outputs": [
    {
     "data": {
      "text/plain": [
       "np.True_"
      ]
     },
     "execution_count": 5,
     "metadata": {},
     "output_type": "execute_result"
    }
   ],
   "source": [
    "x = np.array([2,3,4,5])\n",
    "a = np.all(x) #to check none of all elements is zero\n",
    "a"
   ]
  },
  {
   "cell_type": "code",
   "execution_count": 8,
   "metadata": {},
   "outputs": [
    {
     "data": {
      "text/plain": [
       "np.False_"
      ]
     },
     "execution_count": 8,
     "metadata": {},
     "output_type": "execute_result"
    }
   ],
   "source": [
    "x = np.array([1234,3456,3455,0])\n",
    "b = np.all(x)\n",
    "b"
   ]
  },
  {
   "cell_type": "code",
   "execution_count": 10,
   "metadata": {},
   "outputs": [
    {
     "data": {
      "text/plain": [
       "array([ True,  True,  True, False,  True])"
      ]
     },
     "execution_count": 10,
     "metadata": {},
     "output_type": "execute_result"
    }
   ],
   "source": [
    "arr = np.array([1.0,2.0,5.0,np.nan,5.0])\n",
    "np.isfinite(arr)"
   ]
  },
  {
   "cell_type": "code",
   "execution_count": 11,
   "metadata": {},
   "outputs": [
    {
     "data": {
      "text/plain": [
       "array([False, False, False, False,  True, False])"
      ]
     },
     "execution_count": 11,
     "metadata": {},
     "output_type": "execute_result"
    }
   ],
   "source": [
    "arr = np.array([1.0,2.0,3.0,np.nan,np.inf,5.0])\n",
    "np.isinf(arr)"
   ]
  },
  {
   "cell_type": "code",
   "execution_count": 12,
   "metadata": {},
   "outputs": [
    {
     "data": {
      "text/plain": [
       "array([False, False, False,  True, False, False])"
      ]
     },
     "execution_count": 12,
     "metadata": {},
     "output_type": "execute_result"
    }
   ],
   "source": [
    "np.isnan(arr)"
   ]
  },
  {
   "cell_type": "code",
   "execution_count": 14,
   "metadata": {},
   "outputs": [
    {
     "data": {
      "text/plain": [
       "True"
      ]
     },
     "metadata": {},
     "output_type": "display_data"
    },
    {
     "data": {
      "text/plain": [
       "array([ True,  True, False,  True,  True])"
      ]
     },
     "metadata": {},
     "output_type": "display_data"
    },
    {
     "data": {
      "text/plain": [
       "False"
      ]
     },
     "metadata": {},
     "output_type": "display_data"
    }
   ],
   "source": [
    "arr1 = np.array([1,2,3+3j,np.nan,5.0])\n",
    "display(np.iscomplexobj(arr1))\n",
    "display(np.isreal(arr1))\n",
    "display(np.isscalar(arr1))"
   ]
  },
  {
   "cell_type": "code",
   "execution_count": 18,
   "metadata": {},
   "outputs": [
    {
     "name": "stdout",
     "output_type": "stream",
     "text": [
      "[100 200 300 500  60]\n",
      "[300  30  50  20  10]\n",
      "greater: [False  True  True  True  True]\n",
      "gre_equal [False  True  True  True  True]\n",
      "less [ True False False False False]\n",
      "less_equal [ True False False False False]\n"
     ]
    }
   ],
   "source": [
    "arr2 = np.array([100,200,300,500,60])\n",
    "arr3 = np.array([300,30,50,20,10])\n",
    "\n",
    "greater = arr2 > arr3\n",
    "gre_equal = arr2 >= arr3\n",
    "less = arr2 < arr3\n",
    "less_equal = arr2 <= arr3\n",
    "\n",
    "print(arr2)\n",
    "print(arr3)\n",
    "print(\"greater:\",greater)\n",
    "print(\"gre_equal\",gre_equal)\n",
    "print(\"less\",less)\n",
    "print(\"less_equal\",less_equal)"
   ]
  },
  {
   "cell_type": "code",
   "execution_count": 20,
   "metadata": {},
   "outputs": [
    {
     "data": {
      "text/plain": [
       "32"
      ]
     },
     "metadata": {},
     "output_type": "display_data"
    }
   ],
   "source": [
    "arrays = np.array([1,7,13,105])\n",
    "size = arrays.nbytes #memeory size calculted by nbytes\n",
    "display(size)"
   ]
  },
  {
   "cell_type": "code",
   "execution_count": 23,
   "metadata": {},
   "outputs": [
    {
     "name": "stdout",
     "output_type": "stream",
     "text": [
      "[0. 0. 0. 0. 0. 0. 0. 0. 0. 0.]\n",
      "[1. 1. 1. 1. 1. 1. 1. 1. 1. 1.]\n",
      "[5 5 5 5 5 5 5 5 5 5]\n"
     ]
    }
   ],
   "source": [
    "a = np.zeros(10)\n",
    "b = np.ones(10)\n",
    "c = np.full(10,5)\n",
    "print(a)\n",
    "print(b)\n",
    "print(c)"
   ]
  },
  {
   "cell_type": "code",
   "execution_count": 24,
   "metadata": {},
   "outputs": [
    {
     "data": {
      "text/plain": [
       "array([30, 31, 32, 33, 34, 35, 36, 37, 38, 39, 40, 41, 42, 43, 44, 45, 46,\n",
       "       47, 48, 49, 50, 51, 52, 53, 54, 55, 56, 57, 58, 59, 60, 61, 62, 63,\n",
       "       64, 65, 66, 67, 68, 69, 70])"
      ]
     },
     "execution_count": 24,
     "metadata": {},
     "output_type": "execute_result"
    }
   ],
   "source": [
    "ar2 = np.arange(30,71)\n",
    "ar2"
   ]
  },
  {
   "cell_type": "code",
   "execution_count": 25,
   "metadata": {},
   "outputs": [
    {
     "data": {
      "text/plain": [
       "array([30, 32, 34, 36, 38, 40, 42, 44, 46, 48, 50, 52, 54, 56, 58, 60, 62,\n",
       "       64, 66, 68, 70])"
      ]
     },
     "execution_count": 25,
     "metadata": {},
     "output_type": "execute_result"
    }
   ],
   "source": [
    "ar2 = np.arange(30,71,2)\n",
    "ar2"
   ]
  },
  {
   "cell_type": "code",
   "execution_count": 29,
   "metadata": {},
   "outputs": [
    {
     "data": {
      "text/plain": [
       "array([[1, 2, 3],\n",
       "       [4, 5, 6],\n",
       "       [6, 7, 8]])"
      ]
     },
     "execution_count": 29,
     "metadata": {},
     "output_type": "execute_result"
    }
   ],
   "source": [
    "a1 = np.array([[1,2,3],[4,5,6],[6,7,8]])\n",
    "a1"
   ]
  },
  {
   "cell_type": "code",
   "execution_count": 31,
   "metadata": {},
   "outputs": [
    {
     "name": "stdout",
     "output_type": "stream",
     "text": [
      "[]\n"
     ]
    }
   ],
   "source": [
    "a= np.random.random((0,1))\n",
    "print(a)"
   ]
  },
  {
   "cell_type": "code",
   "execution_count": 34,
   "metadata": {},
   "outputs": [
    {
     "name": "stdout",
     "output_type": "stream",
     "text": [
      "[-0.42046453 -1.06870136 -0.42703235  0.19731204  1.26935228  0.24490378\n",
      " -0.78037478  1.52158784  0.30999705 -0.19540669  0.5697871  -1.42461057\n",
      "  0.02944452  0.39536164 -0.09656725]\n"
     ]
    }
   ],
   "source": [
    "b= np.random.randn((15))\n",
    "print(b)"
   ]
  },
  {
   "cell_type": "code",
   "execution_count": 36,
   "metadata": {},
   "outputs": [
    {
     "name": "stdout",
     "output_type": "stream",
     "text": [
      "[16 17 18 19 20 21 22 23 24 25 26 27 28 29 30 31 32 33 34 35 36 37 38 39\n",
      " 40 41 42 43 44 45 46 47 48 49 50 51 52 53 54]\n"
     ]
    }
   ],
   "source": [
    "vector = np.arange(15,56)\n",
    "print(vector[1:-1])"
   ]
  },
  {
   "cell_type": "code",
   "execution_count": 38,
   "metadata": {},
   "outputs": [
    {
     "data": {
      "text/plain": [
       "array([[1, 2, 3, 4],\n",
       "       [2, 4, 6, 7],\n",
       "       [1, 3, 4, 5]])"
      ]
     },
     "execution_count": 38,
     "metadata": {},
     "output_type": "execute_result"
    }
   ],
   "source": [
    "a = np.array([[1,2,3,4],\n",
    "              [2,4,6,7],\n",
    "              [1,3,4,5]])\n",
    "a"
   ]
  },
  {
   "cell_type": "code",
   "execution_count": 41,
   "metadata": {},
   "outputs": [
    {
     "name": "stdout",
     "output_type": "stream",
     "text": [
      "[ 5. 10. 15. 20. 25. 30. 35. 40. 45. 50.]\n"
     ]
    }
   ],
   "source": [
    "vc = np.linspace(5,50,10)\n",
    "print(vc)"
   ]
  },
  {
   "cell_type": "code",
   "execution_count": 44,
   "metadata": {},
   "outputs": [
    {
     "name": "stdout",
     "output_type": "stream",
     "text": [
      "[  0   1   2   3   4   5   6   7   8  -9 -10 -11 -12 -13 -14 -15  16  17\n",
      "  18  19  20]\n"
     ]
    }
   ],
   "source": [
    "vc1 = np.arange(21)\n",
    "\n",
    "vc1[(vc1>=9) & (vc1<=15)] *=-1\n",
    "print(vc1)"
   ]
  },
  {
   "cell_type": "code",
   "execution_count": 45,
   "metadata": {},
   "outputs": [
    {
     "name": "stdout",
     "output_type": "stream",
     "text": [
      "[ 0  2  6  7 10]\n"
     ]
    }
   ],
   "source": [
    "v = np.random.randint(0,11,size=5)\n",
    "print(v)"
   ]
  },
  {
   "cell_type": "code",
   "execution_count": 46,
   "metadata": {},
   "outputs": [
    {
     "name": "stdout",
     "output_type": "stream",
     "text": [
      "[ 6 16 27]\n"
     ]
    }
   ],
   "source": [
    "v1 = np.array([1,2,3])\n",
    "v2 = np.array([6,8,9])\n",
    "\n",
    "result = v1 * v2\n",
    "print(result)"
   ]
  },
  {
   "cell_type": "code",
   "execution_count": 47,
   "metadata": {},
   "outputs": [
    {
     "name": "stdout",
     "output_type": "stream",
     "text": [
      "[[10 11 12 13]\n",
      " [14 15 16 17]\n",
      " [18 19 20 21]]\n"
     ]
    }
   ],
   "source": [
    "matrix = np.arange(10,22).reshape(3,4)\n",
    "print(matrix)"
   ]
  },
  {
   "cell_type": "code",
   "execution_count": 48,
   "metadata": {},
   "outputs": [
    {
     "data": {
      "text/plain": [
       "(3, 4)"
      ]
     },
     "execution_count": 48,
     "metadata": {},
     "output_type": "execute_result"
    }
   ],
   "source": [
    "matrix.shape"
   ]
  },
  {
   "cell_type": "code",
   "execution_count": 49,
   "metadata": {},
   "outputs": [
    {
     "name": "stdout",
     "output_type": "stream",
     "text": [
      "[[1. 0. 0.]\n",
      " [0. 1. 0.]\n",
      " [0. 0. 1.]]\n"
     ]
    }
   ],
   "source": [
    "i_m = np.eye(3)\n",
    "print(i_m)"
   ]
  },
  {
   "cell_type": "code",
   "execution_count": 50,
   "metadata": {},
   "outputs": [
    {
     "name": "stdout",
     "output_type": "stream",
     "text": [
      "[[1. 1. 1. 1. 1. 1. 1. 1. 1. 1.]\n",
      " [1. 0. 0. 0. 0. 0. 0. 0. 0. 1.]\n",
      " [1. 0. 0. 0. 0. 0. 0. 0. 0. 1.]\n",
      " [1. 0. 0. 0. 0. 0. 0. 0. 0. 1.]\n",
      " [1. 0. 0. 0. 0. 0. 0. 0. 0. 1.]\n",
      " [1. 0. 0. 0. 0. 0. 0. 0. 0. 1.]\n",
      " [1. 0. 0. 0. 0. 0. 0. 0. 0. 1.]\n",
      " [1. 0. 0. 0. 0. 0. 0. 0. 0. 1.]\n",
      " [1. 0. 0. 0. 0. 0. 0. 0. 0. 1.]\n",
      " [1. 1. 1. 1. 1. 1. 1. 1. 1. 1.]]\n"
     ]
    }
   ],
   "source": [
    "m1 = np.zeros((10,10))\n",
    "\n",
    "m1[0,:]=1\n",
    "m1[-1,:]=1\n",
    "m1[:,0]=1\n",
    "m1[:,-1]=1\n",
    "\n",
    "print(m1)"
   ]
  },
  {
   "cell_type": "code",
   "execution_count": 53,
   "metadata": {},
   "outputs": [
    {
     "name": "stdout",
     "output_type": "stream",
     "text": [
      "[[1. 0. 0. 0. 0.]\n",
      " [0. 2. 0. 0. 0.]\n",
      " [0. 0. 3. 0. 0.]\n",
      " [0. 0. 0. 4. 0.]\n",
      " [0. 0. 0. 0. 5.]]\n"
     ]
    }
   ],
   "source": [
    "zero_matrix = np.zeros((5,5))\n",
    "\n",
    "dg_values = np.array([1,2,3,4,5])\n",
    "np.fill_diagonal(zero_matrix,dg_values)\n",
    "print(zero_matrix)"
   ]
  },
  {
   "cell_type": "code",
   "execution_count": 56,
   "metadata": {},
   "outputs": [
    {
     "name": "stdout",
     "output_type": "stream",
     "text": [
      "[[[0.29401863 0.14640688 0.88532158]\n",
      "  [0.13671885 0.09562438 0.77251077]\n",
      "  [0.55648463 0.14077511 0.94553431]]\n",
      "\n",
      " [[0.96060528 0.5907328  0.81048968]\n",
      "  [0.32139406 0.80935786 0.41431781]\n",
      "  [0.1817799  0.37135571 0.36376854]]\n",
      "\n",
      " [[0.79273547 0.87574168 0.70024991]\n",
      "  [0.42741744 0.94854836 0.33108688]\n",
      "  [0.83839985 0.11838115 0.56127459]]]\n"
     ]
    }
   ],
   "source": [
    "array1= np.random.random((3,3,3))\n",
    "print(array1)"
   ]
  },
  {
   "cell_type": "code",
   "execution_count": 57,
   "metadata": {},
   "outputs": [
    {
     "name": "stdout",
     "output_type": "stream",
     "text": [
      "inner product: 26\n"
     ]
    }
   ],
   "source": [
    "va=np.array([1,4,3])\n",
    "vb=np.array([2,3,4])\n",
    "inner_product = np.dot(va,vb)\n",
    "print(\"inner product:\",inner_product)"
   ]
  },
  {
   "cell_type": "code",
   "execution_count": 58,
   "metadata": {},
   "outputs": [
    {
     "name": "stdout",
     "output_type": "stream",
     "text": [
      "\n",
      "sorted by rows:\n",
      "[[1 2 3]\n",
      " [1 2 3]\n",
      " [4 5 6]]\n",
      "\n",
      "sorted by columns:\n",
      "[[1 1 2]\n",
      " [3 2 3]\n",
      " [4 5 6]]\n"
     ]
    }
   ],
   "source": [
    "array = np.array([[3,1,2],\n",
    "                  [1,2,3],\n",
    "                  [4,5,6]])\n",
    "\n",
    "sorted_by_rows = np.sort(array, axis=1)\n",
    "\n",
    "sorted_by_columns = np.sort(array, axis=0)\n",
    "\n",
    "print(\"\\nsorted by rows:\")\n",
    "print(sorted_by_rows)\n",
    "\n",
    "print(\"\\nsorted by columns:\")\n",
    "print(sorted_by_columns)"
   ]
  },
  {
   "cell_type": "code",
   "execution_count": 59,
   "metadata": {},
   "outputs": [
    {
     "name": "stdout",
     "output_type": "stream",
     "text": [
      "\n",
      "Numbers less than25:\n",
      "[12 24]\n",
      "\n",
      "Numbers greater than25\n",
      "[34 46 65 60 77]\n"
     ]
    }
   ],
   "source": [
    "ab = np.array([12,24,34,46,65,60,77])\n",
    "\n",
    "specified_number = 25\n",
    "less_than =ab[ab < specified_number]\n",
    "greater_than = ab[ab> specified_number]\n",
    "\n",
    "print(f\"\\nNumbers less than{specified_number}:\")\n",
    "print(less_than)\n",
    "print(f\"\\nNumbers greater than{specified_number}\")\n",
    "print(greater_than)"
   ]
  },
  {
   "cell_type": "code",
   "execution_count": 66,
   "metadata": {},
   "outputs": [
    {
     "name": "stdout",
     "output_type": "stream",
     "text": [
      "modified array:\n",
      "[  0   0   0   0 100 100   0 100]\n"
     ]
    }
   ],
   "source": [
    "ac = np.array([10,20,45,40,409,60,44,200])\n",
    "\n",
    "specified_number = 45\n",
    "ac[ac==specified_number]=-1\n",
    "ac[ac<specified_number]=0\n",
    "ac[ac>specified_number]=100\n",
    "print(\"modified array:\")\n",
    "print(ac)"
   ]
  },
  {
   "cell_type": "code",
   "execution_count": 67,
   "metadata": {},
   "outputs": [
    {
     "name": "stdout",
     "output_type": "stream",
     "text": [
      "original array:\n",
      "[[1 2 3]\n",
      " [4 5 6]]\n",
      "\n",
      "empty array of the same shape and type\n",
      "[[94521816478871              0              0]\n",
      " [             0              0              0]]\n",
      "\n",
      "Zero array of the same shape and type:\n",
      "[[0 0 0]\n",
      " [0 0 0]]\n"
     ]
    }
   ],
   "source": [
    "import numpy as np \n",
    "og_array = np.array([[1,2,3],[4,5,6]])\n",
    "em_array =np.empty_like(og_array)\n",
    "zero_array = np.zeros_like(og_array)\n",
    "\n",
    "print(\"original array:\")\n",
    "print(og_array)\n",
    "\n",
    "print(\"\\nempty array of the same shape and type\")\n",
    "print(em_array)\n",
    "\n",
    "print(\"\\nZero array of the same shape and type:\")\n",
    "print(zero_array)"
   ]
  },
  {
   "cell_type": "code",
   "execution_count": 68,
   "metadata": {},
   "outputs": [
    {
     "name": "stdout",
     "output_type": "stream",
     "text": [
      "three dimensional with shape(3,4,5):\n",
      "[[[9.80329320e-01 2.55098610e-01 1.50141187e-02 2.63745943e-02]\n",
      "  [8.67595995e-01 7.19975287e-01 7.99096100e-01 9.75486521e-01]\n",
      "  [7.54752407e-01 8.14411177e-01 3.18917538e-01 8.03706112e-01]\n",
      "  [5.38553859e-01 4.06691426e-01 4.67125606e-01 3.60359881e-01]\n",
      "  [5.01373224e-02 2.80356184e-01 8.09455203e-01 1.03287579e-01]]\n",
      "\n",
      " [[5.45653189e-01 8.92659170e-01 6.86418686e-01 7.54512598e-01]\n",
      "  [1.03549737e-01 3.37050631e-01 9.70926417e-01 8.90600573e-02]\n",
      "  [4.99620210e-01 3.08983223e-01 4.58766412e-01 2.97195569e-04]\n",
      "  [7.60463843e-01 4.96554064e-01 6.85258498e-01 4.41556259e-01]\n",
      "  [4.94707648e-01 4.85114784e-02 5.29461674e-01 6.51490976e-01]]\n",
      "\n",
      " [[4.61651303e-01 7.18959008e-01 9.70171615e-01 4.89913189e-01]\n",
      "  [5.80852274e-01 9.56270373e-01 6.95262026e-01 5.74489957e-01]\n",
      "  [8.14601088e-01 2.37112628e-01 6.44839261e-01 2.28591676e-01]\n",
      "  [9.35476918e-01 5.47773290e-01 1.87371917e-01 1.85941307e-01]\n",
      "  [5.66702479e-01 9.35847157e-01 2.11112262e-01 3.24007087e-01]]]\n"
     ]
    }
   ],
   "source": [
    "a_3=np.random.rand(3,5,4)\n",
    "print(\"three dimensional with shape(3,4,5):\")\n",
    "print(a_3)"
   ]
  },
  {
   "cell_type": "code",
   "execution_count": null,
   "metadata": {},
   "outputs": [],
   "source": []
  }
 ],
 "metadata": {
  "kernelspec": {
   "display_name": "Python 3",
   "language": "python",
   "name": "python3"
  },
  "language_info": {
   "codemirror_mode": {
    "name": "ipython",
    "version": 3
   },
   "file_extension": ".py",
   "mimetype": "text/x-python",
   "name": "python",
   "nbconvert_exporter": "python",
   "pygments_lexer": "ipython3",
   "version": "3.10.7"
  }
 },
 "nbformat": 4,
 "nbformat_minor": 2
}
