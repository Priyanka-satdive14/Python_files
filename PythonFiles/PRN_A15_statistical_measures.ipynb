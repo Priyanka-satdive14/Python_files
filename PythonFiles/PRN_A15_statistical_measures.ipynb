{
 "cells": [
  {
   "cell_type": "code",
   "execution_count": 1,
   "metadata": {
    "collapsed": true,
    "jupyter": {
     "outputs_hidden": true
    }
   },
   "outputs": [],
   "source": [
    "#!/usr/bin/env python3\n",
    "# -*- coding: utf-8 -*-"
   ]
  },
  {
   "cell_type": "markdown",
   "metadata": {},
   "source": [
    "## PRN : ___________________________________\n",
    "## Name: ___________________________________"
   ]
  },
  {
   "cell_type": "markdown",
   "metadata": {},
   "source": [
    "# Analytics and Statistics using Python\n",
    "## A15: Statistical Measures : Lab assignment\n",
    "- Basics of Statistics\n",
    "- Statistical Analytics\n",
    "- Descriptive Statistical Measures\n",
    "- Statistics - Central Tendency & Dispersion (Mean, Median, Mode, Quartiles,\n",
    "- Percentiles, Range, Interquartile Range, Standard Deviation, Variance, and\n",
    "Coefficient of Variation)\n",
    "### Lab Assignments:\n",
    "- Load any dataset and find out the mean, median, mode and other central\n",
    "tendencies of the dataset.\n",
    "\n",
    "<img src='../../prasami_images/prasami_color_tutorials_small.png' width='400' alt=\"By Pramod Sharma : pramod.sharma@prasami.com\"/>"
   ]
  },
  {
   "cell_type": "markdown",
   "metadata": {},
   "source": [
    "## Practice Exercise:\n",
    "Load Students' performance data using Python's NumPy and Pandas. Create frequency distributions for categorical variables using Pandas."
   ]
  },
  {
   "cell_type": "code",
   "execution_count": 2,
   "metadata": {},
   "outputs": [
    {
     "name": "stderr",
     "output_type": "stream",
     "text": [
      "c:\\Users\\PRIYANKA\\AppData\\Local\\Programs\\Python\\Python310\\lib\\site-packages\\scipy\\__init__.py:146: UserWarning: A NumPy version >=1.17.3 and <1.25.0 is required for this version of SciPy (detected version 2.1.2\n",
      "  warnings.warn(f\"A NumPy version >={np_minversion} and <{np_maxversion}\"\n"
     ]
    },
    {
     "ename": "ValueError",
     "evalue": "numpy.dtype size changed, may indicate binary incompatibility. Expected 96 from C header, got 88 from PyObject",
     "output_type": "error",
     "traceback": [
      "\u001b[1;31m---------------------------------------------------------------------------\u001b[0m",
      "\u001b[1;31mValueError\u001b[0m                                Traceback (most recent call last)",
      "Input \u001b[1;32mIn [2]\u001b[0m, in \u001b[0;36m<module>\u001b[1;34m\u001b[0m\n\u001b[0;32m      5\u001b[0m \u001b[38;5;28;01mimport\u001b[39;00m \u001b[38;5;21;01mnumpy\u001b[39;00m \u001b[38;5;28;01mas\u001b[39;00m \u001b[38;5;21;01mnp\u001b[39;00m\n\u001b[0;32m      6\u001b[0m \u001b[38;5;28;01mimport\u001b[39;00m \u001b[38;5;21;01mmatplotlib\u001b[39;00m\u001b[38;5;21;01m.\u001b[39;00m\u001b[38;5;21;01mpyplot\u001b[39;00m \u001b[38;5;28;01mas\u001b[39;00m \u001b[38;5;21;01mplt\u001b[39;00m\n\u001b[1;32m----> 7\u001b[0m \u001b[38;5;28;01mimport\u001b[39;00m \u001b[38;5;21;01mseaborn\u001b[39;00m \u001b[38;5;28;01mas\u001b[39;00m \u001b[38;5;21;01msns\u001b[39;00m\n",
      "File \u001b[1;32mc:\\Users\\PRIYANKA\\AppData\\Local\\Programs\\Python\\Python310\\lib\\site-packages\\seaborn\\__init__.py:2\u001b[0m, in \u001b[0;36m<module>\u001b[1;34m\u001b[0m\n\u001b[0;32m      1\u001b[0m \u001b[38;5;66;03m# Import seaborn objects\u001b[39;00m\n\u001b[1;32m----> 2\u001b[0m \u001b[38;5;28;01mfrom\u001b[39;00m \u001b[38;5;21;01m.\u001b[39;00m\u001b[38;5;21;01mrcmod\u001b[39;00m \u001b[38;5;28;01mimport\u001b[39;00m \u001b[38;5;241m*\u001b[39m  \u001b[38;5;66;03m# noqa: F401,F403\u001b[39;00m\n\u001b[0;32m      3\u001b[0m \u001b[38;5;28;01mfrom\u001b[39;00m \u001b[38;5;21;01m.\u001b[39;00m\u001b[38;5;21;01mutils\u001b[39;00m \u001b[38;5;28;01mimport\u001b[39;00m \u001b[38;5;241m*\u001b[39m  \u001b[38;5;66;03m# noqa: F401,F403\u001b[39;00m\n\u001b[0;32m      4\u001b[0m \u001b[38;5;28;01mfrom\u001b[39;00m \u001b[38;5;21;01m.\u001b[39;00m\u001b[38;5;21;01mpalettes\u001b[39;00m \u001b[38;5;28;01mimport\u001b[39;00m \u001b[38;5;241m*\u001b[39m  \u001b[38;5;66;03m# noqa: F401,F403\u001b[39;00m\n",
      "File \u001b[1;32mc:\\Users\\PRIYANKA\\AppData\\Local\\Programs\\Python\\Python310\\lib\\site-packages\\seaborn\\rcmod.py:7\u001b[0m, in \u001b[0;36m<module>\u001b[1;34m\u001b[0m\n\u001b[0;32m      5\u001b[0m \u001b[38;5;28;01mimport\u001b[39;00m \u001b[38;5;21;01mmatplotlib\u001b[39;00m \u001b[38;5;28;01mas\u001b[39;00m \u001b[38;5;21;01mmpl\u001b[39;00m\n\u001b[0;32m      6\u001b[0m \u001b[38;5;28;01mfrom\u001b[39;00m \u001b[38;5;21;01mcycler\u001b[39;00m \u001b[38;5;28;01mimport\u001b[39;00m cycler\n\u001b[1;32m----> 7\u001b[0m \u001b[38;5;28;01mfrom\u001b[39;00m \u001b[38;5;21;01m.\u001b[39;00m \u001b[38;5;28;01mimport\u001b[39;00m palettes\n\u001b[0;32m     10\u001b[0m __all__ \u001b[38;5;241m=\u001b[39m [\u001b[38;5;124m\"\u001b[39m\u001b[38;5;124mset_theme\u001b[39m\u001b[38;5;124m\"\u001b[39m, \u001b[38;5;124m\"\u001b[39m\u001b[38;5;124mset\u001b[39m\u001b[38;5;124m\"\u001b[39m, \u001b[38;5;124m\"\u001b[39m\u001b[38;5;124mreset_defaults\u001b[39m\u001b[38;5;124m\"\u001b[39m, \u001b[38;5;124m\"\u001b[39m\u001b[38;5;124mreset_orig\u001b[39m\u001b[38;5;124m\"\u001b[39m,\n\u001b[0;32m     11\u001b[0m            \u001b[38;5;124m\"\u001b[39m\u001b[38;5;124maxes_style\u001b[39m\u001b[38;5;124m\"\u001b[39m, \u001b[38;5;124m\"\u001b[39m\u001b[38;5;124mset_style\u001b[39m\u001b[38;5;124m\"\u001b[39m, \u001b[38;5;124m\"\u001b[39m\u001b[38;5;124mplotting_context\u001b[39m\u001b[38;5;124m\"\u001b[39m, \u001b[38;5;124m\"\u001b[39m\u001b[38;5;124mset_context\u001b[39m\u001b[38;5;124m\"\u001b[39m,\n\u001b[0;32m     12\u001b[0m            \u001b[38;5;124m\"\u001b[39m\u001b[38;5;124mset_palette\u001b[39m\u001b[38;5;124m\"\u001b[39m]\n\u001b[0;32m     15\u001b[0m _style_keys \u001b[38;5;241m=\u001b[39m [\n\u001b[0;32m     16\u001b[0m \n\u001b[0;32m     17\u001b[0m     \u001b[38;5;124m\"\u001b[39m\u001b[38;5;124maxes.facecolor\u001b[39m\u001b[38;5;124m\"\u001b[39m,\n\u001b[1;32m   (...)\u001b[0m\n\u001b[0;32m     52\u001b[0m \n\u001b[0;32m     53\u001b[0m ]\n",
      "File \u001b[1;32mc:\\Users\\PRIYANKA\\AppData\\Local\\Programs\\Python\\Python310\\lib\\site-packages\\seaborn\\palettes.py:9\u001b[0m, in \u001b[0;36m<module>\u001b[1;34m\u001b[0m\n\u001b[0;32m      5\u001b[0m \u001b[38;5;28;01mimport\u001b[39;00m \u001b[38;5;21;01mmatplotlib\u001b[39;00m \u001b[38;5;28;01mas\u001b[39;00m \u001b[38;5;21;01mmpl\u001b[39;00m\n\u001b[0;32m      7\u001b[0m \u001b[38;5;28;01mfrom\u001b[39;00m \u001b[38;5;21;01m.\u001b[39;00m\u001b[38;5;21;01mexternal\u001b[39;00m \u001b[38;5;28;01mimport\u001b[39;00m husl\n\u001b[1;32m----> 9\u001b[0m \u001b[38;5;28;01mfrom\u001b[39;00m \u001b[38;5;21;01m.\u001b[39;00m\u001b[38;5;21;01mutils\u001b[39;00m \u001b[38;5;28;01mimport\u001b[39;00m desaturate, get_color_cycle\n\u001b[0;32m     10\u001b[0m \u001b[38;5;28;01mfrom\u001b[39;00m \u001b[38;5;21;01m.\u001b[39;00m\u001b[38;5;21;01mcolors\u001b[39;00m \u001b[38;5;28;01mimport\u001b[39;00m xkcd_rgb, crayons\n\u001b[0;32m     13\u001b[0m __all__ \u001b[38;5;241m=\u001b[39m [\u001b[38;5;124m\"\u001b[39m\u001b[38;5;124mcolor_palette\u001b[39m\u001b[38;5;124m\"\u001b[39m, \u001b[38;5;124m\"\u001b[39m\u001b[38;5;124mhls_palette\u001b[39m\u001b[38;5;124m\"\u001b[39m, \u001b[38;5;124m\"\u001b[39m\u001b[38;5;124mhusl_palette\u001b[39m\u001b[38;5;124m\"\u001b[39m, \u001b[38;5;124m\"\u001b[39m\u001b[38;5;124mmpl_palette\u001b[39m\u001b[38;5;124m\"\u001b[39m,\n\u001b[0;32m     14\u001b[0m            \u001b[38;5;124m\"\u001b[39m\u001b[38;5;124mdark_palette\u001b[39m\u001b[38;5;124m\"\u001b[39m, \u001b[38;5;124m\"\u001b[39m\u001b[38;5;124mlight_palette\u001b[39m\u001b[38;5;124m\"\u001b[39m, \u001b[38;5;124m\"\u001b[39m\u001b[38;5;124mdiverging_palette\u001b[39m\u001b[38;5;124m\"\u001b[39m,\n\u001b[0;32m     15\u001b[0m            \u001b[38;5;124m\"\u001b[39m\u001b[38;5;124mblend_palette\u001b[39m\u001b[38;5;124m\"\u001b[39m, \u001b[38;5;124m\"\u001b[39m\u001b[38;5;124mxkcd_palette\u001b[39m\u001b[38;5;124m\"\u001b[39m, \u001b[38;5;124m\"\u001b[39m\u001b[38;5;124mcrayon_palette\u001b[39m\u001b[38;5;124m\"\u001b[39m,\n\u001b[0;32m     16\u001b[0m            \u001b[38;5;124m\"\u001b[39m\u001b[38;5;124mcubehelix_palette\u001b[39m\u001b[38;5;124m\"\u001b[39m, \u001b[38;5;124m\"\u001b[39m\u001b[38;5;124mset_color_codes\u001b[39m\u001b[38;5;124m\"\u001b[39m]\n",
      "File \u001b[1;32mc:\\Users\\PRIYANKA\\AppData\\Local\\Programs\\Python\\Python310\\lib\\site-packages\\seaborn\\utils.py:10\u001b[0m, in \u001b[0;36m<module>\u001b[1;34m\u001b[0m\n\u001b[0;32m      7\u001b[0m \u001b[38;5;28;01mfrom\u001b[39;00m \u001b[38;5;21;01murllib\u001b[39;00m\u001b[38;5;21;01m.\u001b[39;00m\u001b[38;5;21;01mrequest\u001b[39;00m \u001b[38;5;28;01mimport\u001b[39;00m urlopen, urlretrieve\n\u001b[0;32m      9\u001b[0m \u001b[38;5;28;01mimport\u001b[39;00m \u001b[38;5;21;01mnumpy\u001b[39;00m \u001b[38;5;28;01mas\u001b[39;00m \u001b[38;5;21;01mnp\u001b[39;00m\n\u001b[1;32m---> 10\u001b[0m \u001b[38;5;28;01mfrom\u001b[39;00m \u001b[38;5;21;01mscipy\u001b[39;00m \u001b[38;5;28;01mimport\u001b[39;00m stats\n\u001b[0;32m     11\u001b[0m \u001b[38;5;28;01mimport\u001b[39;00m \u001b[38;5;21;01mpandas\u001b[39;00m \u001b[38;5;28;01mas\u001b[39;00m \u001b[38;5;21;01mpd\u001b[39;00m\n\u001b[0;32m     12\u001b[0m \u001b[38;5;28;01mimport\u001b[39;00m \u001b[38;5;21;01mmatplotlib\u001b[39;00m \u001b[38;5;28;01mas\u001b[39;00m \u001b[38;5;21;01mmpl\u001b[39;00m\n",
      "File \u001b[1;32mc:\\Users\\PRIYANKA\\AppData\\Local\\Programs\\Python\\Python310\\lib\\site-packages\\scipy\\stats\\__init__.py:453\u001b[0m, in \u001b[0;36m<module>\u001b[1;34m\u001b[0m\n\u001b[0;32m      1\u001b[0m \u001b[38;5;124;03m\"\"\"\u001b[39;00m\n\u001b[0;32m      2\u001b[0m \u001b[38;5;124;03m.. _statsrefmanual:\u001b[39;00m\n\u001b[0;32m      3\u001b[0m \n\u001b[1;32m   (...)\u001b[0m\n\u001b[0;32m    450\u001b[0m \n\u001b[0;32m    451\u001b[0m \u001b[38;5;124;03m\"\"\"\u001b[39;00m\n\u001b[1;32m--> 453\u001b[0m \u001b[38;5;28;01mfrom\u001b[39;00m \u001b[38;5;21;01m.\u001b[39;00m\u001b[38;5;21;01m_stats_py\u001b[39;00m \u001b[38;5;28;01mimport\u001b[39;00m \u001b[38;5;241m*\u001b[39m\n\u001b[0;32m    454\u001b[0m \u001b[38;5;28;01mfrom\u001b[39;00m \u001b[38;5;21;01m.\u001b[39;00m\u001b[38;5;21;01m_variation\u001b[39;00m \u001b[38;5;28;01mimport\u001b[39;00m variation\n\u001b[0;32m    455\u001b[0m \u001b[38;5;28;01mfrom\u001b[39;00m \u001b[38;5;21;01m.\u001b[39;00m\u001b[38;5;21;01mdistributions\u001b[39;00m \u001b[38;5;28;01mimport\u001b[39;00m \u001b[38;5;241m*\u001b[39m\n",
      "File \u001b[1;32mc:\\Users\\PRIYANKA\\AppData\\Local\\Programs\\Python\\Python310\\lib\\site-packages\\scipy\\stats\\_stats_py.py:38\u001b[0m, in \u001b[0;36m<module>\u001b[1;34m\u001b[0m\n\u001b[0;32m     35\u001b[0m \u001b[38;5;28;01mfrom\u001b[39;00m \u001b[38;5;21;01mnumpy\u001b[39;00m \u001b[38;5;28;01mimport\u001b[39;00m array, asarray, ma\n\u001b[0;32m     36\u001b[0m \u001b[38;5;28;01mfrom\u001b[39;00m \u001b[38;5;21;01mnumpy\u001b[39;00m\u001b[38;5;21;01m.\u001b[39;00m\u001b[38;5;21;01mlib\u001b[39;00m \u001b[38;5;28;01mimport\u001b[39;00m NumpyVersion\n\u001b[1;32m---> 38\u001b[0m \u001b[38;5;28;01mfrom\u001b[39;00m \u001b[38;5;21;01mscipy\u001b[39;00m\u001b[38;5;21;01m.\u001b[39;00m\u001b[38;5;21;01mspatial\u001b[39;00m\u001b[38;5;21;01m.\u001b[39;00m\u001b[38;5;21;01mdistance\u001b[39;00m \u001b[38;5;28;01mimport\u001b[39;00m cdist\n\u001b[0;32m     39\u001b[0m \u001b[38;5;28;01mfrom\u001b[39;00m \u001b[38;5;21;01mscipy\u001b[39;00m\u001b[38;5;21;01m.\u001b[39;00m\u001b[38;5;21;01mndimage\u001b[39;00m \u001b[38;5;28;01mimport\u001b[39;00m _measurements\n\u001b[0;32m     40\u001b[0m \u001b[38;5;28;01mfrom\u001b[39;00m \u001b[38;5;21;01mscipy\u001b[39;00m\u001b[38;5;21;01m.\u001b[39;00m\u001b[38;5;21;01m_lib\u001b[39;00m\u001b[38;5;21;01m.\u001b[39;00m\u001b[38;5;21;01m_util\u001b[39;00m \u001b[38;5;28;01mimport\u001b[39;00m (check_random_state, MapWrapper,\n\u001b[0;32m     41\u001b[0m                               rng_integers, float_factorial)\n",
      "File \u001b[1;32mc:\\Users\\PRIYANKA\\AppData\\Local\\Programs\\Python\\Python310\\lib\\site-packages\\scipy\\spatial\\__init__.py:102\u001b[0m, in \u001b[0;36m<module>\u001b[1;34m\u001b[0m\n\u001b[0;32m      1\u001b[0m \u001b[38;5;124;03m\"\"\"\u001b[39;00m\n\u001b[0;32m      2\u001b[0m \u001b[38;5;124;03m=============================================================\u001b[39;00m\n\u001b[0;32m      3\u001b[0m \u001b[38;5;124;03mSpatial algorithms and data structures (:mod:`scipy.spatial`)\u001b[39;00m\n\u001b[1;32m   (...)\u001b[0m\n\u001b[0;32m     99\u001b[0m \u001b[38;5;124;03m   QhullError\u001b[39;00m\n\u001b[0;32m    100\u001b[0m \u001b[38;5;124;03m\"\"\"\u001b[39;00m\n\u001b[1;32m--> 102\u001b[0m \u001b[38;5;28;01mfrom\u001b[39;00m \u001b[38;5;21;01m.\u001b[39;00m\u001b[38;5;21;01m_kdtree\u001b[39;00m \u001b[38;5;28;01mimport\u001b[39;00m \u001b[38;5;241m*\u001b[39m\n\u001b[0;32m    103\u001b[0m \u001b[38;5;28;01mfrom\u001b[39;00m \u001b[38;5;21;01m.\u001b[39;00m\u001b[38;5;21;01m_ckdtree\u001b[39;00m \u001b[38;5;28;01mimport\u001b[39;00m \u001b[38;5;241m*\u001b[39m\n\u001b[0;32m    104\u001b[0m \u001b[38;5;28;01mfrom\u001b[39;00m \u001b[38;5;21;01m.\u001b[39;00m\u001b[38;5;21;01m_qhull\u001b[39;00m \u001b[38;5;28;01mimport\u001b[39;00m \u001b[38;5;241m*\u001b[39m\n",
      "File \u001b[1;32mc:\\Users\\PRIYANKA\\AppData\\Local\\Programs\\Python\\Python310\\lib\\site-packages\\scipy\\spatial\\_kdtree.py:5\u001b[0m, in \u001b[0;36m<module>\u001b[1;34m\u001b[0m\n\u001b[0;32m      3\u001b[0m \u001b[38;5;28;01mimport\u001b[39;00m \u001b[38;5;21;01mnumpy\u001b[39;00m \u001b[38;5;28;01mas\u001b[39;00m \u001b[38;5;21;01mnp\u001b[39;00m\n\u001b[0;32m      4\u001b[0m \u001b[38;5;28;01mimport\u001b[39;00m \u001b[38;5;21;01mwarnings\u001b[39;00m\n\u001b[1;32m----> 5\u001b[0m \u001b[38;5;28;01mfrom\u001b[39;00m \u001b[38;5;21;01m.\u001b[39;00m\u001b[38;5;21;01m_ckdtree\u001b[39;00m \u001b[38;5;28;01mimport\u001b[39;00m cKDTree, cKDTreeNode\n\u001b[0;32m      7\u001b[0m __all__ \u001b[38;5;241m=\u001b[39m [\u001b[38;5;124m'\u001b[39m\u001b[38;5;124mminkowski_distance_p\u001b[39m\u001b[38;5;124m'\u001b[39m, \u001b[38;5;124m'\u001b[39m\u001b[38;5;124mminkowski_distance\u001b[39m\u001b[38;5;124m'\u001b[39m,\n\u001b[0;32m      8\u001b[0m            \u001b[38;5;124m'\u001b[39m\u001b[38;5;124mdistance_matrix\u001b[39m\u001b[38;5;124m'\u001b[39m,\n\u001b[0;32m      9\u001b[0m            \u001b[38;5;124m'\u001b[39m\u001b[38;5;124mRectangle\u001b[39m\u001b[38;5;124m'\u001b[39m, \u001b[38;5;124m'\u001b[39m\u001b[38;5;124mKDTree\u001b[39m\u001b[38;5;124m'\u001b[39m]\n\u001b[0;32m     12\u001b[0m \u001b[38;5;28;01mdef\u001b[39;00m \u001b[38;5;21mminkowski_distance_p\u001b[39m(x, y, p\u001b[38;5;241m=\u001b[39m\u001b[38;5;241m2\u001b[39m):\n",
      "File \u001b[1;32m_ckdtree.pyx:1\u001b[0m, in \u001b[0;36minit scipy.spatial._ckdtree\u001b[1;34m()\u001b[0m\n",
      "\u001b[1;31mValueError\u001b[0m: numpy.dtype size changed, may indicate binary incompatibility. Expected 96 from C header, got 88 from PyObject"
     ]
    }
   ],
   "source": [
    "###------------------\n",
    "### Import Statements\n",
    "###------------------\n",
    "import pandas as pd\n",
    "import numpy as np\n",
    "import matplotlib.pyplot as plt\n",
    "import seaborn as sns\n",
    "### end of import statements"
   ]
  },
  {
   "cell_type": "code",
   "execution_count": 2,
   "metadata": {
    "collapsed": true,
    "jupyter": {
     "outputs_hidden": true
    }
   },
   "outputs": [
    {
     "data": {
      "text/html": [
       "<div>\n",
       "<style scoped>\n",
       "    .dataframe tbody tr th:only-of-type {\n",
       "        vertical-align: middle;\n",
       "    }\n",
       "\n",
       "    .dataframe tbody tr th {\n",
       "        vertical-align: top;\n",
       "    }\n",
       "\n",
       "    .dataframe thead th {\n",
       "        text-align: right;\n",
       "    }\n",
       "</style>\n",
       "<table border=\"1\" class=\"dataframe\">\n",
       "  <thead>\n",
       "    <tr style=\"text-align: right;\">\n",
       "      <th></th>\n",
       "      <th>gender</th>\n",
       "      <th>race/ethnicity</th>\n",
       "      <th>parental level of education</th>\n",
       "      <th>lunch</th>\n",
       "      <th>test preparation course</th>\n",
       "      <th>math score</th>\n",
       "      <th>reading score</th>\n",
       "      <th>writing score</th>\n",
       "    </tr>\n",
       "  </thead>\n",
       "  <tbody>\n",
       "    <tr>\n",
       "      <th>0</th>\n",
       "      <td>female</td>\n",
       "      <td>group B</td>\n",
       "      <td>bachelor's degree</td>\n",
       "      <td>standard</td>\n",
       "      <td>none</td>\n",
       "      <td>72</td>\n",
       "      <td>72</td>\n",
       "      <td>74</td>\n",
       "    </tr>\n",
       "    <tr>\n",
       "      <th>1</th>\n",
       "      <td>female</td>\n",
       "      <td>group C</td>\n",
       "      <td>some college</td>\n",
       "      <td>standard</td>\n",
       "      <td>completed</td>\n",
       "      <td>69</td>\n",
       "      <td>90</td>\n",
       "      <td>88</td>\n",
       "    </tr>\n",
       "    <tr>\n",
       "      <th>2</th>\n",
       "      <td>female</td>\n",
       "      <td>group B</td>\n",
       "      <td>master's degree</td>\n",
       "      <td>standard</td>\n",
       "      <td>none</td>\n",
       "      <td>90</td>\n",
       "      <td>95</td>\n",
       "      <td>93</td>\n",
       "    </tr>\n",
       "    <tr>\n",
       "      <th>3</th>\n",
       "      <td>male</td>\n",
       "      <td>group A</td>\n",
       "      <td>associate's degree</td>\n",
       "      <td>free/reduced</td>\n",
       "      <td>none</td>\n",
       "      <td>47</td>\n",
       "      <td>57</td>\n",
       "      <td>44</td>\n",
       "    </tr>\n",
       "    <tr>\n",
       "      <th>4</th>\n",
       "      <td>male</td>\n",
       "      <td>group C</td>\n",
       "      <td>some college</td>\n",
       "      <td>standard</td>\n",
       "      <td>none</td>\n",
       "      <td>76</td>\n",
       "      <td>78</td>\n",
       "      <td>75</td>\n",
       "    </tr>\n",
       "  </tbody>\n",
       "</table>\n",
       "</div>"
      ],
      "text/plain": [
       "   gender race/ethnicity parental level of education         lunch  \\\n",
       "0  female        group B           bachelor's degree      standard   \n",
       "1  female        group C                some college      standard   \n",
       "2  female        group B             master's degree      standard   \n",
       "3    male        group A          associate's degree  free/reduced   \n",
       "4    male        group C                some college      standard   \n",
       "\n",
       "  test preparation course  math score  reading score  writing score  \n",
       "0                    none          72             72             74  \n",
       "1               completed          69             90             88  \n",
       "2                    none          90             95             93  \n",
       "3                    none          47             57             44  \n",
       "4                    none          76             78             75  "
      ]
     },
     "execution_count": 2,
     "metadata": {},
     "output_type": "execute_result"
    }
   ],
   "source": [
    "# Load `StudentsPerformance.csv` and explore whats inside\n",
    "data_df = pd.read_csv('./asp/StudentsPerformance.csv')\n",
    "data_df.head()"
   ]
  },
  {
   "cell_type": "code",
   "execution_count": 5,
   "metadata": {
    "collapsed": true,
    "jupyter": {
     "outputs_hidden": true
    }
   },
   "outputs": [
    {
     "name": "stdout",
     "output_type": "stream",
     "text": [
      "Frequency distribution for gender:\n",
      "gender\n",
      "female    518\n",
      "male      482\n",
      "Name: count, dtype: int64\n",
      "\n",
      "Frequency distribution for race/ethnicity:\n",
      "race/ethnicity\n",
      "group C    319\n",
      "group D    262\n",
      "group B    190\n",
      "group E    140\n",
      "group A     89\n",
      "Name: count, dtype: int64\n",
      "\n",
      "Frequency distribution for parental level of education:\n",
      "parental level of education\n",
      "some college          226\n",
      "associate's degree    222\n",
      "high school           196\n",
      "some high school      179\n",
      "bachelor's degree     118\n",
      "master's degree        59\n",
      "Name: count, dtype: int64\n",
      "\n",
      "Frequency distribution for lunch:\n",
      "lunch\n",
      "standard        645\n",
      "free/reduced    355\n",
      "Name: count, dtype: int64\n",
      "\n",
      "Frequency distribution for test preparation course:\n",
      "test preparation course\n",
      "none         642\n",
      "completed    358\n",
      "Name: count, dtype: int64\n",
      "\n"
     ]
    }
   ],
   "source": [
    "# Calculate Frequency Distribution for all categorical variable\n",
    "cate_var = data_df.select_dtypes(include=['object', 'category']).columns\n",
    "frequency_distribution = {}\n",
    "for var in cate_var:\n",
    "    frequency_distribution[var] = data_df[var].value_counts()\n",
    "\n",
    "# To display the results\n",
    "for var, freq in frequency_distribution.items():\n",
    "    print(f\"Frequency distribution for {var}:\\n{freq}\\n\")\n",
    "\n",
    "\n"
   ]
  },
  {
   "cell_type": "markdown",
   "metadata": {},
   "source": [
    "#### Discussions:\n",
    "- Discuss types of data (discrete, continuous).\n",
    "- Discuss why we differentiate between population and sample in statistics."
   ]
  },
  {
   "cell_type": "markdown",
   "metadata": {},
   "source": [
    "### Statistical Analytics\n",
    "#### Overview:\n",
    "Focus on applying statistical methods to analyze and interpret datasets. This includes calculating important descriptive statistics.\n",
    "\n",
    "- **Basic statistical analysis:** calculating measures of central tendency (mean, median, mode) and variability.\n",
    "- Visualizing data distributions.\n",
    "#### Exercise:\n",
    "- Calculate summary statistics for a dataset using Pandas.\n",
    "- Plot histograms to visualize distributions."
   ]
  },
  {
   "cell_type": "code",
   "execution_count": 6,
   "metadata": {},
   "outputs": [
    {
     "name": "stdout",
     "output_type": "stream",
     "text": [
      "       math score  reading score  writing score\n",
      "count  1000.00000    1000.000000    1000.000000\n",
      "mean     66.08900      69.169000      68.054000\n",
      "std      15.16308      14.600192      15.195657\n",
      "min       0.00000      17.000000      10.000000\n",
      "25%      57.00000      59.000000      57.750000\n",
      "50%      66.00000      70.000000      69.000000\n",
      "75%      77.00000      79.000000      79.000000\n",
      "max     100.00000     100.000000     100.000000\n"
     ]
    }
   ],
   "source": [
    "# Summary statistics for numerical variables\n",
    "summary_data = data_df.describe()  #describe to collect data summary from csv file\n",
    "print(summary_data)"
   ]
  },
  {
   "cell_type": "code",
   "execution_count": 7,
   "metadata": {},
   "outputs": [
    {
     "data": {
      "image/png": "[encoded data removed]",
      "text/plain": [
       "<Figure size 1000x400 with 3 Axes>"
      ]
     },
     "metadata": {},
     "output_type": "display_data"
    }
   ],
   "source": [
    "# Plot histogram of All three numerical variables\n",
    "num_cols = ['math score','reading score','writing score']\n",
    "fig,axes = plt.subplots(1,3,figsize=(10,4))\n",
    "\n",
    "for count, col in enumerate(num_cols):\n",
    "    ax = axes[count]\n",
    "    sns.histplot(data=data_df,x = col,ax = ax,bins = 10)\n",
    "fig.suptitle('Numerical columns')\n",
    "plt.tight_layout()\n",
    "\n"
   ]
  },
  {
   "cell_type": "markdown",
   "metadata": {},
   "source": [
    "### Descriptive Statistical Measures\n",
    "Explore key measures like central tendency (mean, median, mode) and dispersion (range, variance, standard deviation).\n",
    "\n",
    "- Measures of central tendency: mean, median, mode.\n",
    "- Measures of dispersion: range, variance, standard deviation, and interquartile range (IQR).\n",
    "\n",
    "#### Exercise:\n",
    "- Calculate mean, median, and mode for a dataset.\n",
    "- Calculate range, variance, and standard deviation.\n",
    "- Calculate IQR for understanding data spread."
   ]
  },
  {
   "cell_type": "code",
   "execution_count": 51,
   "metadata": {},
   "outputs": [
    {
     "name": "stdout",
     "output_type": "stream",
     "text": [
      "parch - Mean: 68.05, Median: 69.00, Mode: 74\n"
     ]
    }
   ],
   "source": [
    "\n",
    "# Mean, Median, Mode \n",
    "#fig,axes = plt.subplots(1,3,figsize =(15,6))\n",
    "num_cols = ['math score', 'reading score', 'writing score']\n",
    "for count,cols in enumerate(num_cols):\n",
    "    mean = data_df[cols].mean()\n",
    "    median = data_df[cols].median()\n",
    "    mode = data_df[cols].mode()[0]\n",
    "   \n",
    "print(f\"{col} - Mean: {mean:.2f}, Median: {median:.2f}, Mode: {mode}\")\n"
   ]
  },
  {
   "cell_type": "code",
   "execution_count": 53,
   "metadata": {},
   "outputs": [
    {
     "name": "stdout",
     "output_type": "stream",
     "text": [
      "math score - Range: 100, Variance: 229.91899799799796, Standard Deviation: 15.16308009600945\n",
      "reading score - Range: 83, Variance: 213.16560460460462, Standard Deviation: 14.600191937252216\n",
      "writing score - Range: 90, Variance: 230.907991991992, Standard Deviation: 15.19565701086965\n"
     ]
    }
   ],
   "source": [
    "num_cols = ['math score', 'reading score', 'writing score']\n",
    "#fig, axes = plt.subplots(1, 3, figsize=(15, 6))\n",
    "\n",
    "for count, col in enumerate(num_cols):\n",
    "\n",
    "    range = data_df[col].max() - data_df[col].min()\n",
    "    variance = data_df[col].var()\n",
    "    std_dev = data_df[col].std()\n",
    "    print(f\"{col} - Range: {range}, Variance: {variance}, Standard Deviation: {std_dev}\")\n",
    "\n"
   ]
  },
  {
   "cell_type": "code",
   "execution_count": 61,
   "metadata": {},
   "outputs": [
    {
     "name": "stdout",
     "output_type": "stream",
     "text": [
      "math score - Q1: 57.0, Q3: 77.0, IQR: 20.0, Range : 100\n",
      "reading score - Q1: 59.0, Q3: 79.0, IQR: 20.0, Range : 83\n",
      "writing score - Q1: 57.75, Q3: 79.0, IQR: 21.25, Range : 90\n"
     ]
    }
   ],
   "source": [
    "# IQR (Interquartile Range)\n",
    "num_cols = ['math score', 'reading score', 'writing score']\n",
    "\n",
    "out_list = []\n",
    "\n",
    "for col in num_cols:\n",
    "    # 1st Quartile\n",
    "    Q1 = np.percentile(data_df[col], 25)\n",
    "\n",
    "    # 3rd Quartile\n",
    "    Q3 = np.percentile(data_df[col], 75)\n",
    "    \n",
    "    #range calculate\n",
    "    ran = data_df[col].max() - data_df[col].min()\n",
    "\n",
    "    # IQR\n",
    "    IQR = Q3 - Q1\n",
    "    \n",
    "    # Append to the list\n",
    "    out_list.append((col, Q1, Q3, IQR,ran))\n",
    "    \n",
    "    # Print IQR\n",
    "    print(f\"{col} - Q1: {Q1}, Q3: {Q3}, IQR: {IQR}, Range : {ran}\")\n",
    "\n",
    "\n"
   ]
  },
  {
   "cell_type": "markdown",
   "metadata": {},
   "source": [
    "### Central Tendency & Dispersion\n",
    "\n",
    "Dive deeper into calculating and interpreting the central tendency (mean, median, mode) and measures of dispersion (range, variance, standard deviation, quartiles, percentiles).\n",
    "\n",
    "#### Key Concepts:\n",
    "- Central tendency: mean, median, mode.\n",
    "- Dispersion: range, variance, standard deviation, interquartile range.\n",
    "- Percentiles and Quartiles.\n",
    "####  Exercise:\n",
    "- Calculate quartiles and percentiles.\n",
    "- Visualize quartiles using box plots.\n",
    "- Compute the coefficient of variation to measure relative variability."
   ]
  },
  {
   "cell_type": "code",
   "execution_count": 41,
   "metadata": {},
   "outputs": [
    {
     "name": "stdout",
     "output_type": "stream",
     "text": [
      "math score - Q1: 57.0, Q2: 66.0, Q3: 77.0\n",
      "reading score - Q1: 59.0, Q2: 70.0, Q3: 79.0\n",
      "writing score - Q1: 57.75, Q2: 69.0, Q3: 79.0\n"
     ]
    }
   ],
   "source": [
    "out_list = {}\n",
    "for col in num_cols:\n",
    "    Q1 = np.percentile(data_df[col], 25)\n",
    "    Q2 = np.percentile(data_df[col], 50)  # Median\n",
    "    Q3 = np.percentile(data_df[col], 75)\n",
    "    out_list[col] = {'Q1': Q1, 'Q2': Q2, 'Q3': Q3}\n",
    "\n",
    "# Print quartiles\n",
    "for col, q in out_list.items():\n",
    "    print(f\"{col} - Q1: {q['Q1']}, Q2: {q['Q2']}, Q3: {q['Q3']}\")\n"
   ]
  },
  {
   "cell_type": "code",
   "execution_count": 39,
   "metadata": {},
   "outputs": [
    {
     "data": {
      "image/png": "[encoded data removed]",
      "text/plain": [
       "<Figure size 1200x600 with 1 Axes>"
      ]
     },
     "metadata": {},
     "output_type": "display_data"
    }
   ],
   "source": [
    "# Step 2: Visualize Quartiles Using Box Plots\n",
    "plt.figure(figsize=(12, 6))\n",
    "sns.boxplot(data=data_df)\n",
    "plt.title('Box Plot of Scores')\n",
    "plt.xlabel('Scores')\n",
    "plt.ylabel('Value')\n",
    "plt.xticks(ticks=np.arange(len(num_cols)), labels=num_cols)\n",
    "plt.show()\n"
   ]
  },
  {
   "cell_type": "code",
   "execution_count": 42,
   "metadata": {},
   "outputs": [
    {
     "name": "stdout",
     "output_type": "stream",
     "text": [
      "math score - Coefficient of Variation: 22.94%\n",
      "reading score - Coefficient of Variation: 21.11%\n",
      "writing score - Coefficient of Variation: 22.33%\n",
      "          Column  Coefficient of Variation\n",
      "0     math score                 22.943425\n",
      "1  reading score                 21.107999\n",
      "2  writing score                 22.328823\n"
     ]
    }
   ],
   "source": [
    "\n",
    "# Coefficient of Variation (CV)\n",
    "cv_results = {}\n",
    "\n",
    "for col in num_cols:\n",
    "    mean = data_df[col].mean()\n",
    "    std_dev = data_df[col].std()\n",
    "    cv = (std_dev / mean) * 100  # CV as a percentage\n",
    "    cv_results[col] = cv\n",
    "    print(f\"{col} - Coefficient of Variation: {cv:.2f}%\")\n",
    "\n",
    "# Optional: Display CV results in a DataFrame\n",
    "cv_df = pd.DataFrame(cv_results.items(), columns=['Column', 'Coefficient of Variation'])\n",
    "print(cv_df)\n"
   ]
  },
  {
   "cell_type": "markdown",
   "metadata": {},
   "source": [
    "### Practice more\n",
    "- Load titanic dataset (titanic.csv) and repeat the above steps."
   ]
  },
  {
   "cell_type": "code",
   "execution_count": 43,
   "metadata": {},
   "outputs": [
    {
     "data": {
      "text/html": [
       "<div>\n",
       "<style scoped>\n",
       "    .dataframe tbody tr th:only-of-type {\n",
       "        vertical-align: middle;\n",
       "    }\n",
       "\n",
       "    .dataframe tbody tr th {\n",
       "        vertical-align: top;\n",
       "    }\n",
       "\n",
       "    .dataframe thead th {\n",
       "        text-align: right;\n",
       "    }\n",
       "</style>\n",
       "<table border=\"1\" class=\"dataframe\">\n",
       "  <thead>\n",
       "    <tr style=\"text-align: right;\">\n",
       "      <th></th>\n",
       "      <th>pclass</th>\n",
       "      <th>name</th>\n",
       "      <th>sex</th>\n",
       "      <th>age</th>\n",
       "      <th>sibsp</th>\n",
       "      <th>parch</th>\n",
       "      <th>ticket</th>\n",
       "      <th>fare</th>\n",
       "      <th>cabin</th>\n",
       "      <th>embarked</th>\n",
       "      <th>survived</th>\n",
       "    </tr>\n",
       "  </thead>\n",
       "  <tbody>\n",
       "    <tr>\n",
       "      <th>0</th>\n",
       "      <td>1</td>\n",
       "      <td>Allen, Miss. Elisabeth Walton</td>\n",
       "      <td>female</td>\n",
       "      <td>29.0000</td>\n",
       "      <td>0</td>\n",
       "      <td>0</td>\n",
       "      <td>24160</td>\n",
       "      <td>211.3375</td>\n",
       "      <td>B5</td>\n",
       "      <td>S</td>\n",
       "      <td>1</td>\n",
       "    </tr>\n",
       "    <tr>\n",
       "      <th>1</th>\n",
       "      <td>1</td>\n",
       "      <td>Allison, Master. Hudson Trevor</td>\n",
       "      <td>male</td>\n",
       "      <td>0.9167</td>\n",
       "      <td>1</td>\n",
       "      <td>2</td>\n",
       "      <td>113781</td>\n",
       "      <td>151.5500</td>\n",
       "      <td>C22 C26</td>\n",
       "      <td>S</td>\n",
       "      <td>1</td>\n",
       "    </tr>\n",
       "    <tr>\n",
       "      <th>2</th>\n",
       "      <td>1</td>\n",
       "      <td>Allison, Miss. Helen Loraine</td>\n",
       "      <td>female</td>\n",
       "      <td>2.0000</td>\n",
       "      <td>1</td>\n",
       "      <td>2</td>\n",
       "      <td>113781</td>\n",
       "      <td>151.5500</td>\n",
       "      <td>C22 C26</td>\n",
       "      <td>S</td>\n",
       "      <td>0</td>\n",
       "    </tr>\n",
       "    <tr>\n",
       "      <th>3</th>\n",
       "      <td>1</td>\n",
       "      <td>Allison, Mr. Hudson Joshua Creighton</td>\n",
       "      <td>male</td>\n",
       "      <td>30.0000</td>\n",
       "      <td>1</td>\n",
       "      <td>2</td>\n",
       "      <td>113781</td>\n",
       "      <td>151.5500</td>\n",
       "      <td>C22 C26</td>\n",
       "      <td>S</td>\n",
       "      <td>0</td>\n",
       "    </tr>\n",
       "    <tr>\n",
       "      <th>4</th>\n",
       "      <td>1</td>\n",
       "      <td>Allison, Mrs. Hudson J C (Bessie Waldo Daniels)</td>\n",
       "      <td>female</td>\n",
       "      <td>25.0000</td>\n",
       "      <td>1</td>\n",
       "      <td>2</td>\n",
       "      <td>113781</td>\n",
       "      <td>151.5500</td>\n",
       "      <td>C22 C26</td>\n",
       "      <td>S</td>\n",
       "      <td>0</td>\n",
       "    </tr>\n",
       "  </tbody>\n",
       "</table>\n",
       "</div>"
      ],
      "text/plain": [
       "   pclass                                             name     sex      age  \\\n",
       "0       1                    Allen, Miss. Elisabeth Walton  female  29.0000   \n",
       "1       1                   Allison, Master. Hudson Trevor    male   0.9167   \n",
       "2       1                     Allison, Miss. Helen Loraine  female   2.0000   \n",
       "3       1             Allison, Mr. Hudson Joshua Creighton    male  30.0000   \n",
       "4       1  Allison, Mrs. Hudson J C (Bessie Waldo Daniels)  female  25.0000   \n",
       "\n",
       "   sibsp  parch  ticket      fare    cabin embarked  survived  \n",
       "0      0      0   24160  211.3375       B5        S         1  \n",
       "1      1      2  113781  151.5500  C22 C26        S         1  \n",
       "2      1      2  113781  151.5500  C22 C26        S         0  \n",
       "3      1      2  113781  151.5500  C22 C26        S         0  \n",
       "4      1      2  113781  151.5500  C22 C26        S         0  "
      ]
     },
     "execution_count": 43,
     "metadata": {},
     "output_type": "execute_result"
    }
   ],
   "source": [
    "data1 = pd.read_csv('./asp/titanic.csv')\n",
    "data1.head()"
   ]
  },
  {
   "cell_type": "code",
   "execution_count": 44,
   "metadata": {},
   "outputs": [
    {
     "name": "stdout",
     "output_type": "stream",
     "text": [
      "frequency distribution for name:\n",
      "name\n",
      "Kelly, Mr. James                     2\n",
      "Connolly, Miss. Kate                 2\n",
      "Ilmakangas, Miss. Ida Livija         1\n",
      "Ilieff, Mr. Ylio                     1\n",
      "Ibrahim Shawah, Mr. Yousseff         1\n",
      "                                    ..\n",
      "Harris, Mr. George                   1\n",
      "Harper, Rev. John                    1\n",
      "Harper, Miss. Annie Jessie \"Nina\"    1\n",
      "Harbeck, Mr. William H               1\n",
      "Herman, Mr. Samuel                   1\n",
      "Name: count, Length: 1307, dtype: int64\n",
      "\n",
      "frequency distribution for sex:\n",
      "sex\n",
      "male      843\n",
      "female    466\n",
      "Name: count, dtype: int64\n",
      "\n",
      "frequency distribution for ticket:\n",
      "ticket\n",
      "CA. 2343    11\n",
      "1601         8\n",
      "CA 2144      8\n",
      "PC 17608     7\n",
      "347082       7\n",
      "            ..\n",
      "3101281      1\n",
      "347091       1\n",
      "350043       1\n",
      "347075       1\n",
      "7546         1\n",
      "Name: count, Length: 929, dtype: int64\n",
      "\n",
      "frequency distribution for cabin:\n",
      "cabin\n",
      "C23 C25 C27        6\n",
      "B57 B59 B63 B66    5\n",
      "G6                 5\n",
      "D                  4\n",
      "F4                 4\n",
      "                  ..\n",
      "F E46              1\n",
      "F E57              1\n",
      "F E69              1\n",
      "E10                1\n",
      "F38                1\n",
      "Name: count, Length: 186, dtype: int64\n",
      "\n",
      "frequency distribution for embarked:\n",
      "embarked\n",
      "S    914\n",
      "C    270\n",
      "Q    123\n",
      "Name: count, dtype: int64\n",
      "\n"
     ]
    }
   ],
   "source": [
    "cal = data1.select_dtypes(include = ['object','category']).columns\n",
    "frequency = {}\n",
    "for v1 in cal:\n",
    "    frequency[v1] = data1[v1].value_counts()\n",
    "\n",
    "for v1,f1 in frequency.items():\n",
    "    print(f\"frequency distribution for {v1}:\\n{f1}\\n\")"
   ]
  },
  {
   "cell_type": "code",
   "execution_count": 45,
   "metadata": {},
   "outputs": [
    {
     "name": "stdout",
     "output_type": "stream",
     "text": [
      "            pclass          age        sibsp        parch         fare  \\\n",
      "count  1309.000000  1046.000000  1309.000000  1309.000000  1308.000000   \n",
      "mean      2.294882    29.881135     0.498854     0.385027    33.295479   \n",
      "std       0.837836    14.413500     1.041658     0.865560    51.758668   \n",
      "min       1.000000     0.166700     0.000000     0.000000     0.000000   \n",
      "25%       2.000000    21.000000     0.000000     0.000000     7.895800   \n",
      "50%       3.000000    28.000000     0.000000     0.000000    14.454200   \n",
      "75%       3.000000    39.000000     1.000000     0.000000    31.275000   \n",
      "max       3.000000    80.000000     8.000000     9.000000   512.329200   \n",
      "\n",
      "          survived  \n",
      "count  1309.000000  \n",
      "mean      0.381971  \n",
      "std       0.486055  \n",
      "min       0.000000  \n",
      "25%       0.000000  \n",
      "50%       0.000000  \n",
      "75%       1.000000  \n",
      "max       1.000000  \n"
     ]
    }
   ],
   "source": [
    "summary = data1.describe()\n",
    "print(summary)"
   ]
  },
  {
   "cell_type": "code",
   "execution_count": 47,
   "metadata": {},
   "outputs": [
    {
     "data": {
      "image/png": "[encoded data removed]",
      "text/plain": [
       "<Figure size 1000x400 with 4 Axes>"
      ]
     },
     "metadata": {},
     "output_type": "display_data"
    }
   ],
   "source": [
    "numCol = ['pclass','age','sibsp','parch']\n",
    "fig,axes = plt.subplots(1,4,figsize=(10,4))\n",
    "\n",
    "for count,col in enumerate(numCol):\n",
    "    ax = axes[count]\n",
    "    sns.histplot(data=data1,x = col,ax = ax,bins = 10)\n",
    "fig.suptitle(\"Data Titanic Num columns\")\n",
    "plt.tight_layout()"
   ]
  },
  {
   "cell_type": "code",
   "execution_count": 55,
   "metadata": {},
   "outputs": [
    {
     "name": "stdout",
     "output_type": "stream",
     "text": [
      "pclass - Mean: 2.29, Median: 3.00, Mode: 3\n",
      "age - Mean: 29.88, Median: 28.00, Mode: 24.0\n",
      "sibsp - Mean: 0.50, Median: 0.00, Mode: 0\n",
      "parch - Mean: 0.39, Median: 0.00, Mode: 0\n"
     ]
    }
   ],
   "source": [
    "numCol = ['pclass','age','sibsp','parch']\n",
    "#fig,axes = plt.subplots(1,4,figsize=(10,4))\n",
    "for count,col in enumerate(numCol):\n",
    "    mean1 = data1[col].mean()\n",
    "    median1 = data1[col].median()\n",
    "    mode1 = data1[col].mode()[0]\n",
    "    print(f\"{col} - Mean: {mean1:.2f}, Median: {median1:.2f}, Mode: {mode1}\")"
   ]
  },
  {
   "cell_type": "code",
   "execution_count": 57,
   "metadata": {},
   "outputs": [
    {
     "name": "stdout",
     "output_type": "stream",
     "text": [
      "pclass - Range: 2, Variance: 0.7019691946837117, Standard Deviation: 0.8378360189701274\n",
      "age - Range: 79.8333, Variance: 207.74897359969773, Standard Deviation: 14.413499699923602\n",
      "sibsp - Range: 8, Variance: 1.0850522026992615, Standard Deviation: 1.041658390596102\n",
      "parch - Range: 9, Variance: 0.7491945902631278, Standard Deviation: 0.8655602753495147\n"
     ]
    }
   ],
   "source": [
    "for count,col in enumerate(numCol):\n",
    "    range1 = data1[col].max() - data1[col].min()\n",
    "    variance1 = data1[col].var()\n",
    "    stdDev = data1[col].std()\n",
    "    print(f\"{col} - Range: {range1}, Variance: {variance1}, Standard Deviation: {stdDev}\")"
   ]
  },
  {
   "cell_type": "code",
   "execution_count": 60,
   "metadata": {},
   "outputs": [
    {
     "name": "stdout",
     "output_type": "stream",
     "text": [
      "pclass - Q1: 2.0, Q3 : 3.0, IQR: 1.0,Range: 2\n",
      "age - Q1: nan, Q3 : nan, IQR: nan,Range: 79.8333\n",
      "sibsp - Q1: 0.0, Q3 : 1.0, IQR: 1.0,Range: 8\n",
      "parch - Q1: 0.0, Q3 : 0.0, IQR: 0.0,Range: 9\n"
     ]
    }
   ],
   "source": [
    "out_list = []\n",
    "for col in numCol:\n",
    "    q1 = np.percentile(data1[col],25)\n",
    "    q3 = np.percentile(data1[col],75)\n",
    "    ran = data1[col].max() - data1[col].min()\n",
    "    \n",
    "    IQR1 = q3 - q1\n",
    "    out_list.append((col,q1,q3,IQR1,ran))\n",
    "    \n",
    "    print(f\"{col} - Q1: {q1}, Q3 : {q3}, IQR: {IQR1},Range: {ran}\")"
   ]
  },
  {
   "cell_type": "code",
   "execution_count": null,
   "metadata": {},
   "outputs": [],
   "source": []
  },
  {
   "cell_type": "code",
   "execution_count": null,
   "metadata": {},
   "outputs": [],
   "source": []
  },
  {
   "cell_type": "code",
   "execution_count": null,
   "metadata": {},
   "outputs": [],
   "source": []
  }
 ],
 "metadata": {
  "kernelspec": {
   "display_name": "Python 3",
   "language": "python",
   "name": "python3"
  },
  "language_info": {
   "codemirror_mode": {
    "name": "ipython",
    "version": 3
   },
   "file_extension": ".py",
   "mimetype": "text/x-python",
   "name": "python",
   "nbconvert_exporter": "python",
   "pygments_lexer": "ipython3",
   "version": "3.10.2"
  }
 },
 "nbformat": 4,
 "nbformat_minor": 4
}
