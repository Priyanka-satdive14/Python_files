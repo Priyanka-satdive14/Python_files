{
 "cells": [
  {
   "cell_type": "markdown",
   "metadata": {},
   "source": [
    "## Imp Question"
   ]
  },
  {
   "cell_type": "code",
   "execution_count": null,
   "metadata": {},
   "outputs": [],
   "source": [
    "#!/usr/bin/env python3\n",
    "# -*- coding:utf-8 -*-"
   ]
  },
  {
   "cell_type": "code",
   "execution_count": 1,
   "metadata": {},
   "outputs": [
    {
     "name": "stdout",
     "output_type": "stream",
     "text": [
      "2 1\n",
      "3 2\n",
      "4 6\n",
      "5 24\n",
      "6 120\n",
      "7 720\n"
     ]
    }
   ],
   "source": [
    "#WAP for factorial\n",
    "fact = 1\n",
    "n = 1\n",
    "while True:\n",
    "    fact = fact * n\n",
    "    n = n + 1\n",
    "    if fact > 2000:\n",
    "        break \n",
    "    print (n,fact)"
   ]
  },
  {
   "cell_type": "code",
   "execution_count": 2,
   "metadata": {},
   "outputs": [
    {
     "name": "stdout",
     "output_type": "stream",
     "text": [
      "3  Fizz\n",
      "5 Buzz\n",
      "6  Fizz\n",
      "9  Fizz\n",
      "10 Buzz\n",
      "12  Fizz\n",
      "15 FizzBuzz\n",
      "18  Fizz\n",
      "20 Buzz\n",
      "21  Fizz\n",
      "24  Fizz\n",
      "25 Buzz\n",
      "27  Fizz\n",
      "30 FizzBuzz\n",
      "33  Fizz\n",
      "35 Buzz\n",
      "36  Fizz\n",
      "39  Fizz\n",
      "40 Buzz\n",
      "42  Fizz\n",
      "45 FizzBuzz\n",
      "48  Fizz\n",
      "50 Buzz\n",
      "51  Fizz\n",
      "54  Fizz\n",
      "55 Buzz\n",
      "57  Fizz\n",
      "60 FizzBuzz\n",
      "63  Fizz\n",
      "65 Buzz\n",
      "66  Fizz\n",
      "69  Fizz\n",
      "70 Buzz\n",
      "72  Fizz\n",
      "75 FizzBuzz\n",
      "78  Fizz\n",
      "80 Buzz\n",
      "81  Fizz\n",
      "84  Fizz\n",
      "85 Buzz\n",
      "87  Fizz\n",
      "90 FizzBuzz\n",
      "93  Fizz\n",
      "95 Buzz\n",
      "96  Fizz\n",
      "99  Fizz\n"
     ]
    }
   ],
   "source": [
    "for num1 in range(1,100):\n",
    "    if (num1 % 3 ==0) and (num1 %5 ==0):\n",
    "        print (f'{num1} FizzBuzz')\n",
    "    elif (num1 % 3==0):\n",
    "        print (f'{num1}  Fizz')\n",
    "    elif (num1 % 5==0):\n",
    "        print (f'{num1} Buzz')\n",
    "    \n",
    "\n",
    "\n",
    "\n",
    "        "
   ]
  },
  {
   "cell_type": "code",
   "execution_count": 3,
   "metadata": {},
   "outputs": [
    {
     "name": "stdout",
     "output_type": "stream",
     "text": [
      "string radar is palindrome\n"
     ]
    }
   ],
   "source": [
    "#WAP for palindrome\n",
    "str1 = 'radar'\n",
    "str2 =  str1[::-1]\n",
    "if (str1 == str2):\n",
    "    print (f'string {str1} is palindrome')\n",
    "else:\n",
    "    print (f'string {str1} is not palindrome')"
   ]
  },
  {
   "cell_type": "code",
   "execution_count": 4,
   "metadata": {},
   "outputs": [
    {
     "name": "stdout",
     "output_type": "stream",
     "text": [
      "Satdive,Priyanka\n",
      "\"SP\"\n"
     ]
    }
   ],
   "source": [
    "f_name = \"priyanka sAtdive\"\n",
    "F1 = f_name.title()                  #to make it title case\n",
    "first,last = F1.split()              #split name and store into 2 diff variable at a once\n",
    "print (f'{last},{first}')            #print last name and first name\n",
    "print (f'\"{last[0]}{first[0]}\"')     #initials of names\n",
    "\n"
   ]
  },
  {
   "cell_type": "code",
   "execution_count": 5,
   "metadata": {},
   "outputs": [
    {
     "name": "stdout",
     "output_type": "stream",
     "text": [
      "8\n",
      "nohtyp ni gnimmargorp nrael I\n",
      "I studied programming in python\n"
     ]
    }
   ],
   "source": [
    "Sentence=\"I learn programming in python\"\n",
    "vowels = \"aAeEIiOoUu\"\n",
    "count = 0\n",
    "for i in Sentence:\n",
    "    if i in vowels:\n",
    "        count = count + 1\n",
    "    \n",
    "print(count)\n",
    "\n",
    "\n",
    "#reverse sentence\n",
    "reverse=Sentence[::-1]\n",
    "print(reverse)\n",
    "\n",
    "#replace\n",
    "new_variable = \"studied\"\n",
    "old_word=\"learn\"\n",
    "replaced_word=Sentence.replace(old_word,new_variable)\n",
    "print(replaced_word)"
   ]
  },
  {
   "cell_type": "code",
   "execution_count": 6,
   "metadata": {},
   "outputs": [
    {
     "name": "stdout",
     "output_type": "stream",
     "text": [
      "JANUARY\n",
      "Mo Tu We Th Fr Sa Su\n",
      "       1  2  3  4  5 \n",
      " 6  7  8  9 10 11 12 \n",
      "13 14 15 16 17 18 19 \n",
      "20 21 22 23 24 25 26 \n",
      "27 28 29 30 31 \n"
     ]
    }
   ],
   "source": [
    "days_in_month = 31\n",
    "start_day = 2\n",
    "\n",
    "#boundary condition checks\n",
    "if days_in_month not in [28,29,30,31]:\n",
    "    print ('Invalid days in month entered')\n",
    "if start_day < 0 or start_day > 6:\n",
    "    print ('Invalid start day entered')\n",
    "print (\"JANUARY\")\n",
    "#print the header for calender\n",
    "print(\"Mo Tu We Th Fr Sa Su\")\n",
    "\n",
    "#print spaces for first week\n",
    "current_day = 0\n",
    "for _ in range(start_day): #throw away something put \"_\" not to store anything in it\n",
    "    print (\"   \",end=\"\")#continue at line spces\n",
    "\n",
    "#prints the  days of the month\n",
    "for day in  range(1,days_in_month+1):\n",
    "    print(f\"{day:2} \",end=\"\")\n",
    "    current_day += 1\n",
    "    \n",
    "    position_count = current_day + start_day\n",
    "\n",
    "    #move to next line after sunday\n",
    "    if position_count % 7 == 0:\n",
    "        print()\n",
    "\n",
    "print() #new line after the calender\n"
   ]
  },
  {
   "cell_type": "code",
   "execution_count": 7,
   "metadata": {},
   "outputs": [
    {
     "name": "stdout",
     "output_type": "stream",
     "text": [
      "0: *\n",
      "1: **\n",
      "2: ***\n",
      "3: ****\n",
      "4: *****\n"
     ]
    }
   ],
   "source": [
    "data = [1,2,3,4,5]\n",
    "count = 0 #use as index\n",
    "\n",
    "#loop through each interger in the list\n",
    "for number in data:\n",
    "    print(f\"{count}: \",end=\"\")\n",
    "    #print * those many times\n",
    "    print(\"*\"*number)\n",
    "    count +=1      \n"
   ]
  },
  {
   "cell_type": "code",
   "execution_count": 8,
   "metadata": {},
   "outputs": [
    {
     "name": "stdout",
     "output_type": "stream",
     "text": [
      "\"Go hang a salami I'm a lasagna hog.\" -> Panagram :False\n",
      "\"Was it a rat I saw?\" -> Panagram :False\n",
      "\"Step on no pets\" -> Panagram :False\n",
      "\"or the exclamation Dammit, I'm mad!\" -> Panagram :False\n"
     ]
    }
   ],
   "source": [
    "import string\n",
    "\n",
    "def is_panagram(Sentence):\n",
    "    noramal_sentence = Sentence.lower() #remove spaces and make lowecase sentence\n",
    "    alphabet_set = set(string.ascii_lowercase) #all letters in english alphabet\n",
    "    sentence_set = set(noramal_sentence)  #set char of normal sentence\n",
    "\n",
    "    return alphabet_set.issubset(sentence_set)\n",
    "\n",
    "test_sentence = [\n",
    "    \"Go hang a salami I'm a lasagna hog.\", \n",
    "    \"Was it a rat I saw?\", \n",
    "    \"Step on no pets\",\n",
    "    \"or the exclamation Dammit, I'm mad!\"\n",
    "]\n",
    "\n",
    "for sentence in test_sentence:\n",
    "    result = is_panagram(sentence)\n",
    "    print(f'\"{sentence}\" -> Panagram :{result}')\n"
   ]
  },
  {
   "cell_type": "code",
   "execution_count": 9,
   "metadata": {},
   "outputs": [
    {
     "name": "stdout",
     "output_type": "stream",
     "text": [
      "false\n"
     ]
    }
   ],
   "source": [
    "\n",
    "alphabet=\"abcdefghijklmnopqrstuvwxyz\"\n",
    "test_sentence = \"Go hang a salami I'm a lasagna hog.\", \n",
    "    \n",
    "for i in test_sentence:\n",
    "    if i in alphabet:\n",
    "        print (\"true\")\n",
    "    else:\n",
    "        print (\"false\")\n",
    "\n",
    "\n"
   ]
  },
  {
   "cell_type": "code",
   "execution_count": 10,
   "metadata": {},
   "outputs": [
    {
     "name": "stdout",
     "output_type": "stream",
     "text": [
      "Number of person :4\n",
      "updated colour:black\n",
      "student and their fav colur in sorted order\n",
      "Arham: Blue\n",
      "Lisa: black\n",
      "Vinod: Purple\n"
     ]
    },
    {
     "data": {
      "text/plain": [
       "{'Arham': 'Blue', 'Lisa': 'black', 'Vinod': 'Purple'}"
      ]
     },
     "execution_count": 10,
     "metadata": {},
     "output_type": "execute_result"
    }
   ],
   "source": [
    "people = {'Arham':'Blue','Lisa':'Yellow','Vinod':'Purple','Jenny':'Pink'}\n",
    "print(f\"Number of person :{len(people)}\")\n",
    "people['Lisa']='black'\n",
    "print (f\"updated colour:{people['Lisa']}\")\n",
    "del people['Jenny']\n",
    "sort_people = dict(sorted(people.items()))\n",
    "print(\"student and their fav colur in sorted order\")\n",
    "for student,colour in sort_people.items():\n",
    "    print(f'{student}: {colour}')\n",
    "people\n"
   ]
  },
  {
   "cell_type": "code",
   "execution_count": 11,
   "metadata": {},
   "outputs": [
    {
     "data": {
      "text/plain": [
       "' tothohisos isos fofunon'"
      ]
     },
     "execution_count": 11,
     "metadata": {},
     "output_type": "execute_result"
    }
   ],
   "source": [
    "def translate(text):\n",
    "    vowels = \"aeiouAEIOU\"\n",
    "    translated_text = \" \"\n",
    "    for text1 in text:\n",
    "        if text1.isalpha() and text1 not in vowels:\n",
    "            translated_text += text1 + 'o' + text1\n",
    "        else:\n",
    "            translated_text += text1\n",
    "    return translated_text\n",
    "\n",
    "translate('this is fun')\n",
    "\n"
   ]
  },
  {
   "cell_type": "code",
   "execution_count": 12,
   "metadata": {},
   "outputs": [
    {
     "name": "stdout",
     "output_type": "stream",
     "text": [
      "True\n",
      "False\n",
      "True\n",
      "False\n",
      "False\n"
     ]
    }
   ],
   "source": [
    "def overlapping(list1, list2):\n",
    "    res = False\n",
    "    for x in list1:\n",
    "        if x in list2:\n",
    "            print(\"True\")\n",
    "        else:\n",
    "            print(\"False\")\n",
    "\n",
    "list1 = [2,4,5,6,7]\n",
    "list2 = [2,5,8,9]\n",
    "overlapping(list1,list2)\n",
    "\n"
   ]
  },
  {
   "cell_type": "code",
   "execution_count": 17,
   "metadata": {},
   "outputs": [
    {
     "name": "stdout",
     "output_type": "stream",
     "text": [
      "True\n",
      "True\n",
      "True\n"
     ]
    }
   ],
   "source": [
    "def overlapping(list1, list2):\n",
    "    set1 = set(list1)\n",
    "    set2 = set(list2)\n",
    "    common = set1.intersection(set2)\n",
    "    for x in common:\n",
    "        if x == 0:\n",
    "            print('False')\n",
    "        else:\n",
    "            print('True')\n",
    "\n",
    "list1 = [2,4,5,6,7]\n",
    "list2 = [2,4,5,8,9]\n",
    "overlapping(list1,list2)"
   ]
  },
  {
   "cell_type": "code",
   "execution_count": 16,
   "metadata": {},
   "outputs": [
    {
     "data": {
      "text/plain": [
       "{2, 4, 5}"
      ]
     },
     "execution_count": 16,
     "metadata": {},
     "output_type": "execute_result"
    }
   ],
   "source": [
    "set1 = set(list1)\n",
    "set2 = set(list2)\n",
    "common = set1.intersection(set2)\n",
    "common"
   ]
  },
  {
   "cell_type": "code",
   "execution_count": 18,
   "metadata": {},
   "outputs": [
    {
     "name": "stdout",
     "output_type": "stream",
     "text": [
      "This is vey funny and cool.Indeed!\n"
     ]
    }
   ],
   "source": [
    "import re\n",
    "def correct(text):\n",
    "    correct_test = re.sub(r'\\s{2,}',' ',text)\n",
    "    correct_test = re.sub(r'\\.([A-Za-z])',r'.\\1',correct_test)\n",
    "    return correct_test\n",
    "input_text =\"This is vey funny  and cool.Indeed!\"\n",
    "output_text = correct(input_text)\n",
    "print(output_text)"
   ]
  },
  {
   "cell_type": "code",
   "execution_count": null,
   "metadata": {},
   "outputs": [],
   "source": []
  },
  {
   "cell_type": "code",
   "execution_count": null,
   "metadata": {},
   "outputs": [],
   "source": []
  },
  {
   "cell_type": "code",
   "execution_count": null,
   "metadata": {},
   "outputs": [],
   "source": []
  },
  {
   "cell_type": "code",
   "execution_count": null,
   "metadata": {},
   "outputs": [],
   "source": []
  },
  {
   "cell_type": "code",
   "execution_count": null,
   "metadata": {},
   "outputs": [],
   "source": []
  },
  {
   "cell_type": "code",
   "execution_count": null,
   "metadata": {},
   "outputs": [],
   "source": []
  }
 ],
 "metadata": {
  "kernelspec": {
   "display_name": "Python 3",
   "language": "python",
   "name": "python3"
  },
  "language_info": {
   "codemirror_mode": {
    "name": "ipython",
    "version": 3
   },
   "file_extension": ".py",
   "mimetype": "text/x-python",
   "name": "python",
   "nbconvert_exporter": "python",
   "pygments_lexer": "ipython3",
   "version": "3.10.7"
  }
 },
 "nbformat": 4,
 "nbformat_minor": 2
}
