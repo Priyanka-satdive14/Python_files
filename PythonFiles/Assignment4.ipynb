{
 "cells": [
  {
   "cell_type": "markdown",
   "metadata": {},
   "source": [
    "# Name:Priyanka Vilas Satdive\n"
   ]
  },
  {
   "cell_type": "markdown",
   "metadata": {},
   "source": [
    "# PRN:240840141017"
   ]
  },
  {
   "cell_type": "code",
   "execution_count": null,
   "metadata": {},
   "outputs": [],
   "source": [
    "#!/usr/bin/env python3\n",
    "# -*- coding: utf-8 -*-"
   ]
  },
  {
   "cell_type": "code",
   "execution_count": 1,
   "metadata": {},
   "outputs": [
    {
     "name": "stdout",
     "output_type": "stream",
     "text": [
      "Decoded message: Caesar cipher? I much prefer Caesar salad!\n"
     ]
    }
   ],
   "source": [
    "'''\n",
    "Problem 1:\n",
    "In cryptography, a Caesar cipher is a very simple encryption techniques in which\n",
    "each letter in the plain text is replaced by a letter some fixed number of positions\n",
    "down the alphabet. For example, with a shift of 3, A would be replaced by D, B\n",
    "would become E, and so on. The method is named after Julius Caesar, who used\n",
    "it to communicate with his generals. ROT-13 (\"rotate by 13 places\") is a widely used\n",
    "example of a Caesar cipher where the shift is 13. In Python, the key for ROT-13\n",
    "may be represented by means of the following dictionary:\n",
    "- key = {'a':'n', 'b':'o', 'c':'p', 'd':'q', 'e':'r', 'f':'s', 'g':'t', 'h':'u',\n",
    " 'i':'v', 'j':'w', 'k':'x', 'l':'y', 'm':'z', 'n':'a', 'o':'b','p':'c', 'q':'d', \n",
    " 'r':'e', 's':'f', 't':'g', 'u':'h', 'v':'i', 'w':'j', 'x':'k', 'y':'l', 'z':'m', \n",
    " 'A':'N', 'B':'O', 'C':'P', 'D':'Q', 'E':'R', 'F':'S', 'G':'T', 'H':'U', 'I':'V', \n",
    " 'J':'W', 'K':'X', 'L':'Y', 'M':'Z', 'N':'A', 'O':'B', 'P':'C', 'Q':'D', 'R':'E',\n",
    "   'S':'F', 'T':'G', 'U':'H', 'V':'I', 'W':'J', 'X':'K', 'Y':'L', 'Z':'M'}\n",
    "\n",
    "\n",
    "Your task in this exercise is to implement an encoder/decoder of ROT-13. Once you're\n",
    "done, you will be able to read the following secret message:\n",
    "- Pnrfne pvcure? V zhpu cersre Pnrfne fnynq!\n",
    "'''\n",
    "\n",
    "def rot13(message):\n",
    "    key = {\n",
    "        'a': 'n', 'b': 'o', 'c': 'p', 'd': 'q', 'e': 'r', 'f': 's', 'g': 't', 'h': 'u',\n",
    "        'i': 'v', 'j': 'w', 'k': 'x', 'l': 'y', 'm': 'z', 'n': 'a', 'o': 'b', 'p': 'c',\n",
    "        'q': 'd', 'r': 'e', 's': 'f', 't': 'g', 'u': 'h', 'v': 'i', 'w': 'j', 'x': 'k',\n",
    "        'y': 'l', 'z': 'm', 'A': 'N', 'B': 'O', 'C': 'P', 'D': 'Q', 'E': 'R', 'F': 'S',\n",
    "        'G': 'T', 'H': 'U', 'I': 'V', 'J': 'W', 'K': 'X', 'L': 'Y', 'M': 'Z', 'N': 'A',\n",
    "        'O': 'B', 'P': 'C', 'Q': 'D', 'R': 'E', 'S': 'F', 'T': 'G', 'U': 'H', 'V': 'I',\n",
    "        'W': 'J', 'X': 'K', 'Y': 'L', 'Z': 'M'\n",
    "    }\n",
    "    \n",
    "    encoded_message = ''\n",
    "    \n",
    "    for char in message:\n",
    "        if char in key:\n",
    "            encoded_message += key[char]\n",
    "        else:\n",
    "            encoded_message += char  # Non-alphabetic characters are unchanged\n",
    "            \n",
    "    return encoded_message\n",
    "\n",
    "# Secret message\n",
    "secret_message = \"Pnrfne pvcure? V zhpu cersre Pnrfne fnynq!\"\n",
    "decoded_message = rot13(secret_message)\n",
    "\n",
    "print(\"Decoded message:\", decoded_message)\n"
   ]
  }
 ],
 "metadata": {
  "kernelspec": {
   "display_name": "Python 3",
   "language": "python",
   "name": "python3"
  },
  "language_info": {
   "codemirror_mode": {
    "name": "ipython",
    "version": 3
   },
   "file_extension": ".py",
   "mimetype": "text/x-python",
   "name": "python",
   "nbconvert_exporter": "python",
   "pygments_lexer": "ipython3",
   "version": "3.10.2"
  }
 },
 "nbformat": 4,
 "nbformat_minor": 2
}
