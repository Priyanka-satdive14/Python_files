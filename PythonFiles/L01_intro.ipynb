{
 "cells": [
  {
   "cell_type": "markdown",
   "metadata": {},
   "source": [
    "## Introduction"
   ]
  },
  {
   "cell_type": "code",
   "execution_count": null,
   "metadata": {},
   "outputs": [],
   "source": [
    "#!/usr/bin/env python3\n",
    "# -*- coding:utf-8 -*-"
   ]
  },
  {
   "cell_type": "code",
   "execution_count": 82,
   "metadata": {},
   "outputs": [],
   "source": [
    "num_students =34\n",
    "course = 'Python Programming'\n",
    "my_name = \"priya\""
   ]
  },
  {
   "cell_type": "code",
   "execution_count": 83,
   "metadata": {},
   "outputs": [
    {
     "name": "stdout",
     "output_type": "stream",
     "text": [
      "'Python Programming' 34.0000\n"
     ]
    }
   ],
   "source": [
    "formatter = '%r %7.4f'\n",
    "print (formatter%(course,num_students))"
   ]
  },
  {
   "cell_type": "code",
   "execution_count": 84,
   "metadata": {},
   "outputs": [
    {
     "name": "stdout",
     "output_type": "stream",
     "text": [
      "Python Programming             : 034\n"
     ]
    }
   ],
   "source": [
    "formatter = '{0:30} : {1:03}'\n",
    "print (formatter.format(course, num_students))"
   ]
  },
  {
   "cell_type": "code",
   "execution_count": 85,
   "metadata": {},
   "outputs": [
    {
     "name": "stdout",
     "output_type": "stream",
     "text": [
      "1. introduction tab \t here\n",
      "2. introduction newline \n",
      " here\n",
      "print double quotes\" here\n",
      "this is a single quote ' in the line\n"
     ]
    }
   ],
   "source": [
    "print ('1. introduction tab \\t here')\n",
    "print ('2. introduction newline \\n here')\n",
    "print ('print double quotes\" here')\n",
    "print ('this is a single quote \\' in the line')\n"
   ]
  },
  {
   "cell_type": "code",
   "execution_count": 86,
   "metadata": {},
   "outputs": [
    {
     "name": "stdout",
     "output_type": "stream",
     "text": [
      "number is smaller\n",
      "number is smaller\n",
      "number is smaller\n",
      "number is bigger\n",
      "number is bigger\n"
     ]
    }
   ],
   "source": [
    "array = [1,2,3,5,6]\n",
    "pivot = 4\n",
    "#loop through the list\n",
    "for x in array:\n",
    "    if x < pivot:\n",
    "        print (\"number is smaller\")\n",
    "    else:\n",
    "        print (\"number is bigger\")"
   ]
  },
  {
   "cell_type": "code",
   "execution_count": 87,
   "metadata": {},
   "outputs": [
    {
     "name": "stdout",
     "output_type": "stream",
     "text": [
      "<class 'list'>\n",
      "<class 'int'>\n",
      "<class 'float'>\n",
      "<class 'dict'>\n",
      "<class 'set'>\n",
      "<class 'tuple'>\n"
     ]
    }
   ],
   "source": [
    "print(type(array)) #this is a list\n",
    "print(type(10)) # this is an integer\n",
    "print(type(9.81)) # this is float\n",
    "print(type({'name' : 'cdac'})) #  this is dictionary\n",
    "print(type({1,2,3})) #this is set\n",
    "print(type((1,2,3))) #this is tuple"
   ]
  },
  {
   "cell_type": "code",
   "execution_count": 88,
   "metadata": {},
   "outputs": [
    {
     "name": "stdout",
     "output_type": "stream",
     "text": [
      "<class 'complex'>\n"
     ]
    }
   ],
   "source": [
    "print (type(10 +5j))  #complex class if there is int and stirng together"
   ]
  },
  {
   "cell_type": "code",
   "execution_count": 89,
   "metadata": {},
   "outputs": [
    {
     "name": "stdout",
     "output_type": "stream",
     "text": [
      "<class 'str'>\n",
      "<class 'list'>\n",
      "<class 'tuple'>\n"
     ]
    }
   ],
   "source": [
    "stringD = 'hello,world'\n",
    "list_data = [1,2,3]\n",
    "tupleA = (1,2,3)\n",
    "print (type (stringD))\n",
    "print(type(list_data)) #[1,2,3]\n",
    "print (type(tupleA)) #(1,2,3)"
   ]
  },
  {
   "cell_type": "code",
   "execution_count": 90,
   "metadata": {},
   "outputs": [
    {
     "name": "stdout",
     "output_type": "stream",
     "text": [
      "<class 'dict'>\n"
     ]
    }
   ],
   "source": [
    "person = {'name':'priyanka', 'age' : 25}  #dictionary type\n",
    "print (type(person))"
   ]
  },
  {
   "cell_type": "code",
   "execution_count": 91,
   "metadata": {},
   "outputs": [
    {
     "name": "stdout",
     "output_type": "stream",
     "text": [
      "<class 'set'>\n",
      "<class 'frozenset'>\n"
     ]
    }
   ],
   "source": [
    "set_data = {1,2,3,4,5} #set it means it has to be unique and no value should be repeat\n",
    "frozen_set = frozenset({1,2,3,4,5})  #imutable means cant be changed\n",
    "print (type(set_data))\n",
    "print (type(frozen_set))"
   ]
  },
  {
   "cell_type": "code",
   "execution_count": 92,
   "metadata": {},
   "outputs": [
    {
     "data": {
      "text/plain": [
       "2"
      ]
     },
     "execution_count": 92,
     "metadata": {},
     "output_type": "execute_result"
    }
   ],
   "source": [
    "# + adittion\n",
    "5 // 2  # give remiander\n"
   ]
  },
  {
   "cell_type": "code",
   "execution_count": 93,
   "metadata": {},
   "outputs": [
    {
     "name": "stdout",
     "output_type": "stream",
     "text": [
      "False\n",
      "True\n",
      "False\n",
      "True\n"
     ]
    }
   ],
   "source": [
    "x = 5\n",
    "y = 10\n",
    "print (x == y) #false\n",
    "print (x != y) #true\n",
    "print (x > y) #false\n",
    "print (x < y) #true\n",
    "\n"
   ]
  },
  {
   "cell_type": "code",
   "execution_count": 94,
   "metadata": {},
   "outputs": [
    {
     "name": "stdout",
     "output_type": "stream",
     "text": [
      "False\n",
      "True\n",
      "True\n"
     ]
    }
   ],
   "source": [
    "# or ,and ,not  \n",
    "\n",
    "a = True\n",
    "b = False\n",
    "\n",
    "print (a and b) #false\n",
    "print (a or b) #true\n",
    "print (not b) #true"
   ]
  },
  {
   "cell_type": "code",
   "execution_count": 95,
   "metadata": {},
   "outputs": [
    {
     "name": "stdout",
     "output_type": "stream",
     "text": [
      "1010,100\n",
      "14 is 1110\n"
     ]
    }
   ],
   "source": [
    "# &,|,^,~,<<,>>  #bitwise operators\n",
    "\n",
    "x = 10\n",
    "y = 4\n",
    "\n",
    "print (f'{x:b},{y:b}') #to prinnt in binary values of x and y\n",
    "result = x^y         #xor operation performned\n",
    "print (f'{result} is {result:b}')  #gives output in binar"
   ]
  },
  {
   "cell_type": "code",
   "execution_count": 96,
   "metadata": {},
   "outputs": [
    {
     "name": "stdout",
     "output_type": "stream",
     "text": [
      "1110,1010\n",
      "10 is 1010\n"
     ]
    }
   ],
   "source": [
    "\n",
    "x = 14\n",
    "y = 10\n",
    "\n",
    "print (f'{x:b},{y:b}') #to prinnt in binary values of x and y , f means formatting and then their is placeholder {}\n",
    "result = x & y        #bitwise and operation perfomed\n",
    "print (f'{result} is {result:b}') "
   ]
  },
  {
   "cell_type": "code",
   "execution_count": 97,
   "metadata": {},
   "outputs": [
    {
     "name": "stdout",
     "output_type": "stream",
     "text": [
      "for x = 1110, and y =1010\n"
     ]
    }
   ],
   "source": [
    "x = 14\n",
    "y = 10\n",
    "\n",
    "print (f'for x = {x:b}, and y ={y:b}')  #taking for it will print value"
   ]
  },
  {
   "cell_type": "code",
   "execution_count": 98,
   "metadata": {},
   "outputs": [
    {
     "name": "stdout",
     "output_type": "stream",
     "text": [
      "~ 1010  = -1011\n"
     ]
    }
   ],
   "source": [
    "#num -> -num+1\n",
    "num = 10\n",
    "print (f'~{num: b}  = {~num : b}')   #firts ~(num) gives positve 10,~it treated as normal symbol to print as it is and another (~num) gives negative 10"
   ]
  },
  {
   "cell_type": "code",
   "execution_count": 99,
   "metadata": {},
   "outputs": [
    {
     "name": "stdout",
     "output_type": "stream",
     "text": [
      " 1010>>2  =  10\n",
      " 1010>>2  = 2\n"
     ]
    }
   ],
   "source": [
    "num = 10\n",
    "print (f'{num: b}>>2  = {num>>2 : b}')   #right shift by two\n",
    "print (f'{num: b}>>2  = {num>>2 }')       "
   ]
  },
  {
   "cell_type": "code",
   "execution_count": 100,
   "metadata": {},
   "outputs": [
    {
     "name": "stdout",
     "output_type": "stream",
     "text": [
      " 1010<<2 =  101000\n",
      " 1010<< = 40\n"
     ]
    }
   ],
   "source": [
    "num = 10\n",
    "print (f'{num: b}<<2 = {num<<2 : b}')  #left shift by two\n",
    " \n",
    "print (f'{num: b}<< = {num<<2 }')       \n"
   ]
  },
  {
   "cell_type": "code",
   "execution_count": 101,
   "metadata": {},
   "outputs": [
    {
     "data": {
      "text/plain": [
       "False"
      ]
     },
     "execution_count": 101,
     "metadata": {},
     "output_type": "execute_result"
    }
   ],
   "source": [
    "fruits =['apple', 'banana','cherry'] #searching elements\n",
    "'mango' in fruits"
   ]
  },
  {
   "cell_type": "code",
   "execution_count": 102,
   "metadata": {},
   "outputs": [
    {
     "name": "stdout",
     "output_type": "stream",
     "text": [
      "True\n",
      "False\n",
      "False\n"
     ]
    }
   ],
   "source": [
    "#identity\n",
    "a = [1,2,3]   \n",
    "b = a            #assign a to b\n",
    "c =[1,2,3]\n",
    "print(a is b)    \n",
    "print(c is b)    #prints false bcox c and b areent in same location\n",
    "print(c is a)"
   ]
  },
  {
   "cell_type": "code",
   "execution_count": 103,
   "metadata": {},
   "outputs": [
    {
     "name": "stdout",
     "output_type": "stream",
     "text": [
      "<class 'int'>\n"
     ]
    }
   ],
   "source": [
    "a = 10.2\n",
    "b = (type(int(a))) #type casting float is changed to int here\n",
    "print (b)\n"
   ]
  },
  {
   "cell_type": "code",
   "execution_count": 104,
   "metadata": {},
   "outputs": [
    {
     "name": "stdout",
     "output_type": "stream",
     "text": [
      "10\n"
     ]
    }
   ],
   "source": [
    "a = 10.2\n",
    "b = int(a) #type casting float into int and print int value\n",
    "print (b)"
   ]
  },
  {
   "cell_type": "code",
   "execution_count": 105,
   "metadata": {},
   "outputs": [
    {
     "name": "stdout",
     "output_type": "stream",
     "text": [
      "I am global\n"
     ]
    }
   ],
   "source": [
    "g_val ='I am global'\n",
    "def fn_my():            #function declare\n",
    "    print (g_val)       #print string\n",
    "\n",
    "fn_my()                 #function call"
   ]
  },
  {
   "cell_type": "code",
   "execution_count": 106,
   "metadata": {},
   "outputs": [
    {
     "name": "stdout",
     "output_type": "stream",
     "text": [
      "i am local\n"
     ]
    }
   ],
   "source": [
    "def fn1():\n",
    "    g_val ='i am local'  #declared a local variable\n",
    "    print (g_val)\n",
    "\n",
    "fn1()   "
   ]
  },
  {
   "cell_type": "code",
   "execution_count": 107,
   "metadata": {},
   "outputs": [
    {
     "name": "stdout",
     "output_type": "stream",
     "text": [
      "Hello,PK!\n"
     ]
    }
   ],
   "source": [
    "from Utils import greetmodule as gm #function call after importing rename greetmodule as gm  .. with using gm variable\n",
    "print (gm.greet('PK'))"
   ]
  },
  {
   "cell_type": "code",
   "execution_count": 108,
   "metadata": {},
   "outputs": [
    {
     "name": "stdout",
     "output_type": "stream",
     "text": [
      "Hello,PK!\n"
     ]
    }
   ],
   "source": [
    "from Utils.greetmodule  import greet #we can directly import like this without using variable\n",
    "print (greet('PK'))"
   ]
  },
  {
   "cell_type": "code",
   "execution_count": 109,
   "metadata": {},
   "outputs": [
    {
     "data": {
      "text/plain": [
       "['__add__',\n",
       " '__class__',\n",
       " '__contains__',\n",
       " '__delattr__',\n",
       " '__dir__',\n",
       " '__doc__',\n",
       " '__eq__',\n",
       " '__format__',\n",
       " '__ge__',\n",
       " '__getattribute__',\n",
       " '__getitem__',\n",
       " '__getnewargs__',\n",
       " '__gt__',\n",
       " '__hash__',\n",
       " '__init__',\n",
       " '__init_subclass__',\n",
       " '__iter__',\n",
       " '__le__',\n",
       " '__len__',\n",
       " '__lt__',\n",
       " '__mod__',\n",
       " '__mul__',\n",
       " '__ne__',\n",
       " '__new__',\n",
       " '__reduce__',\n",
       " '__reduce_ex__',\n",
       " '__repr__',\n",
       " '__rmod__',\n",
       " '__rmul__',\n",
       " '__setattr__',\n",
       " '__sizeof__',\n",
       " '__str__',\n",
       " '__subclasshook__',\n",
       " 'capitalize',\n",
       " 'casefold',\n",
       " 'center',\n",
       " 'count',\n",
       " 'encode',\n",
       " 'endswith',\n",
       " 'expandtabs',\n",
       " 'find',\n",
       " 'format',\n",
       " 'format_map',\n",
       " 'index',\n",
       " 'isalnum',\n",
       " 'isalpha',\n",
       " 'isascii',\n",
       " 'isdecimal',\n",
       " 'isdigit',\n",
       " 'isidentifier',\n",
       " 'islower',\n",
       " 'isnumeric',\n",
       " 'isprintable',\n",
       " 'isspace',\n",
       " 'istitle',\n",
       " 'isupper',\n",
       " 'join',\n",
       " 'ljust',\n",
       " 'lower',\n",
       " 'lstrip',\n",
       " 'maketrans',\n",
       " 'partition',\n",
       " 'removeprefix',\n",
       " 'removesuffix',\n",
       " 'replace',\n",
       " 'rfind',\n",
       " 'rindex',\n",
       " 'rjust',\n",
       " 'rpartition',\n",
       " 'rsplit',\n",
       " 'rstrip',\n",
       " 'split',\n",
       " 'splitlines',\n",
       " 'startswith',\n",
       " 'strip',\n",
       " 'swapcase',\n",
       " 'title',\n",
       " 'translate',\n",
       " 'upper',\n",
       " 'zfill']"
      ]
     },
     "execution_count": 109,
     "metadata": {},
     "output_type": "execute_result"
    }
   ],
   "source": [
    "dir(str)            #predefined keywords"
   ]
  },
  {
   "cell_type": "code",
   "execution_count": 110,
   "metadata": {},
   "outputs": [
    {
     "name": "stdout",
     "output_type": "stream",
     "text": [
      "10\n"
     ]
    }
   ],
   "source": [
    "#condition statement\n",
    "x = 10\n",
    "if x > 5:\n",
    "    print(x)\n",
    "else:\n",
    "    print('error')"
   ]
  },
  {
   "cell_type": "code",
   "execution_count": 111,
   "metadata": {},
   "outputs": [
    {
     "name": "stdout",
     "output_type": "stream",
     "text": [
      "postive\n"
     ]
    }
   ],
   "source": [
    "#Above code in one line\n",
    "print ('postive' if x > 0 else 'negative')"
   ]
  },
  {
   "cell_type": "code",
   "execution_count": 112,
   "metadata": {},
   "outputs": [
    {
     "name": "stdout",
     "output_type": "stream",
     "text": [
      "zero\n"
     ]
    }
   ],
   "source": [
    "#nested if else\n",
    "\n",
    "a = 0\n",
    "if a > 0 and a % 2 == 0:\n",
    "    print ('Postive even number')\n",
    "elif a > 0 and a % 2 != 0:\n",
    "    print ('postive number')\n",
    "elif a == 0:\n",
    "    print ('zero')\n",
    "else:\n",
    "    print ('A is negative number')\n"
   ]
  },
  {
   "cell_type": "code",
   "execution_count": 113,
   "metadata": {},
   "outputs": [
    {
     "name": "stdout",
     "output_type": "stream",
     "text": [
      "0\n",
      "1\n",
      "2\n",
      "4\n"
     ]
    }
   ],
   "source": [
    "#While loop\n",
    "\n",
    "count = 0\n",
    "while count < 5:\n",
    "    if count == 3:\n",
    "        count = count +1\n",
    "        continue\n",
    "    print (count)\n",
    "    count +=1"
   ]
  },
  {
   "cell_type": "code",
   "execution_count": 114,
   "metadata": {},
   "outputs": [
    {
     "name": "stdout",
     "output_type": "stream",
     "text": [
      "0\n",
      "1\n",
      "2\n",
      "4\n",
      "5\n"
     ]
    }
   ],
   "source": [
    "count = 0\n",
    "while True:\n",
    "    if count == 3:\n",
    "        count  += 1\n",
    "        continue\n",
    "    print (count)\n",
    "    count += 1\n",
    "    if count > 5:\n",
    "        break"
   ]
  },
  {
   "cell_type": "code",
   "execution_count": 115,
   "metadata": {},
   "outputs": [
    {
     "name": "stdout",
     "output_type": "stream",
     "text": [
      "1\n",
      "2\n",
      "3\n",
      "4\n",
      "5\n"
     ]
    }
   ],
   "source": [
    "numbers = [1,2,3,4,5]\n",
    "s = len(numbers)\n",
    "\n",
    "#print(s)\n",
    "\n",
    "for count in range(s):\n",
    "    print (numbers[count])"
   ]
  },
  {
   "cell_type": "code",
   "execution_count": 116,
   "metadata": {},
   "outputs": [
    {
     "name": "stdout",
     "output_type": "stream",
     "text": [
      "p\n",
      "y\n",
      "t\n",
      "h\n",
      "o\n",
      "n\n",
      " \n",
      "e\n",
      "r\n",
      "r\n",
      "o\n",
      "r\n"
     ]
    }
   ],
   "source": [
    "#string iterate\n",
    "error = 'python error'\n",
    "for l in error:\n",
    "    print(l)"
   ]
  },
  {
   "cell_type": "code",
   "execution_count": 117,
   "metadata": {},
   "outputs": [
    {
     "name": "stdout",
     "output_type": "stream",
     "text": [
      "key:first_name\n",
      "key:last_name\n",
      "key:age\n",
      "key:country\n",
      "key:is_married\n",
      "key:skills\n",
      "key:address\n",
      "--------------------------------------------------\n",
      "key:first_name|value:Riya\n",
      "key:last_name|value:sharma\n",
      "key:age|value:25\n",
      "key:country|value:India\n",
      "key:is_married|value:False\n",
      "key:skills|value:['C', 'c++', 'python']\n",
      "key:address|value:{'street': 'ABC street', 'zipcode': '123456'}\n",
      "--------------------------------------------------\n",
      "key:first_name|value:Riya\n",
      "key:last_name|value:sharma\n",
      "key:age|value:25\n",
      "key:country|value:India\n",
      "key:is_married|value:False\n",
      "key:skills|value:['C', 'c++', 'python']\n",
      "key:address|value:{'street': 'ABC street', 'zipcode': '123456'}\n",
      "Done with person\n",
      "--------------------------------------------------\n"
     ]
    }
   ],
   "source": [
    "#Looping with a dictionary\n",
    "person = {'first_name':'Riya',\n",
    "          'last_name':'sharma',\n",
    "          'age':25,\n",
    "          'country':'India',\n",
    "          'is_married':False,\n",
    "          'skills':['C','c++','python'],\n",
    "          'address':{'street':'ABC street','zipcode':'123456'\n",
    "                     }\n",
    "        }\n",
    "for key in person:\n",
    "    print(f'key:{key}')\n",
    "print ('-'*50)\n",
    "\n",
    "for key in person:\n",
    "    print(f'key:{key}|value:{person[key]}')\n",
    "print('-'*50)\n",
    "\n",
    "for key,value in person.items():\n",
    "    print(f'key:{key}|value:{value}')\n",
    "else:\n",
    "    print('Done with person')\n",
    "print('-'*50)\n"
   ]
  },
  {
   "cell_type": "code",
   "execution_count": null,
   "metadata": {},
   "outputs": [],
   "source": []
  },
  {
   "cell_type": "code",
   "execution_count": null,
   "metadata": {},
   "outputs": [],
   "source": []
  },
  {
   "cell_type": "code",
   "execution_count": null,
   "metadata": {},
   "outputs": [],
   "source": []
  },
  {
   "cell_type": "code",
   "execution_count": null,
   "metadata": {},
   "outputs": [],
   "source": []
  },
  {
   "cell_type": "code",
   "execution_count": null,
   "metadata": {},
   "outputs": [],
   "source": []
  },
  {
   "cell_type": "code",
   "execution_count": null,
   "metadata": {},
   "outputs": [],
   "source": []
  }
 ],
 "metadata": {
  "kernelspec": {
   "display_name": "Python 3",
   "language": "python",
   "name": "python3"
  },
  "language_info": {
   "codemirror_mode": {
    "name": "ipython",
    "version": 3
   },
   "file_extension": ".py",
   "mimetype": "text/x-python",
   "name": "python",
   "nbconvert_exporter": "python",
   "pygments_lexer": "ipython3",
   "version": "3.10.7"
  }
 },
 "nbformat": 4,
 "nbformat_minor": 2
}
