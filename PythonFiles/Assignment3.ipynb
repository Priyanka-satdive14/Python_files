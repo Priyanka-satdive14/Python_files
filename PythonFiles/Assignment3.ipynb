{
 "cells": [
  {
   "cell_type": "markdown",
   "metadata": {},
   "source": [
    "# Name:Priyanka Vilas Satdive\n",
    "# PRN:240840141017"
   ]
  },
  {
   "cell_type": "code",
   "execution_count": null,
   "metadata": {},
   "outputs": [],
   "source": [
    "#!/usr/bin/env python3\n",
    "# -*- coding: utf-8 -*-"
   ]
  },
  {
   "cell_type": "code",
   "execution_count": 13,
   "metadata": {},
   "outputs": [
    {
     "name": "stdout",
     "output_type": "stream",
     "text": [
      "Final Even list: [2, 4, 6, 8]\n",
      "Final Odd list: [3, 5, 7, 9]\n"
     ]
    }
   ],
   "source": [
    "'''\n",
    "Problem 1\n",
    "    \"Write a Python program that takes a list of numbers as input, \n",
    "    and then separates them into two lists: one containing the even numbers \n",
    "    and the other containing the odd numbers.\"\n",
    "'''\n",
    "\n",
    "list1 = [2,3,4,5,6,7,8,9]\n",
    "Even = []\n",
    "Odd = []\n",
    "for list in list1:\n",
    "    if list % 2 == 0:\n",
    "        Even.append(list)\n",
    "        \n",
    "    else:\n",
    "        Odd.append(list)\n",
    "        \n",
    "\n",
    "print(\"Final Even list:\", Even)\n",
    "print(\"Final Odd list:\", Odd)"
   ]
  }
 ],
 "metadata": {
  "kernelspec": {
   "display_name": "Python 3",
   "language": "python",
   "name": "python3"
  },
  "language_info": {
   "codemirror_mode": {
    "name": "ipython",
    "version": 3
   },
   "file_extension": ".py",
   "mimetype": "text/x-python",
   "name": "python",
   "nbconvert_exporter": "python",
   "pygments_lexer": "ipython3",
   "version": "3.10.2"
  }
 },
 "nbformat": 4,
 "nbformat_minor": 2
}
