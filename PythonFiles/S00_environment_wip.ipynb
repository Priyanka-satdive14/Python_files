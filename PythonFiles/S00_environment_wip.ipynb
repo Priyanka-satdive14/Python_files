{
 "cells": [
  {
   "cell_type": "code",
   "execution_count": 1,
   "metadata": {},
   "outputs": [],
   "source": [
    "#!/usr/bin/env python3\n",
    "# -*- coding: utf-8 -*-"
   ]
  },
  {
   "cell_type": "markdown",
   "metadata": {},
   "source": [
    "# Analytics and Statistics using Python\n",
    "## S00: Environment\n",
    "\n",
    "<img src='../../prasami_images/prasami_color_tutorials_small.png' width='400' alt=\"By Pramod Sharma : pramod.sharma@prasami.com\" align = \"left\"/>"
   ]
  },
  {
   "cell_type": "markdown",
   "metadata": {},
   "source": [
    "## [Python on Windows](https://www.python.org/downloads/windows/)\n",
    "By default, Python is usually not installed on Windows. However, you can check if it exists on the system by running one line of command on the command prompt: python --version\n",
    "\n",
    "### Date: 6-Aug-2024\n",
    "Python 3.12 is the newest major release of the Python programming language, and it contains many new features and optimizations. 3.12.5 is the latest maintenance release, containing more than 250 bugfixes, build improvements and documentation changes since 3.12.4.\n",
    "\n",
    "This version of Python 3.12 also comes with pip 24.2 by default.\n",
    "\n",
    "<img src='../../images/python_windows_aug_2024.png'>"
   ]
  },
  {
   "cell_type": "markdown",
   "metadata": {},
   "source": [
    "## Ubuntu\n",
    "### Prepare Virtual environment for Machine Learning\n",
    "#### Keep default version of Python on your machine\n",
    "\n",
    "<div class=\"alert alert-block alert-info\" style=\"font-family: Arial; font-size:1.2em;\">\n",
    "Step 1: Update and Upgrade\n",
    ">`sudo apt-get update`; `sudo apt-get -y upgrade`\n",
    "\n",
    "Step 2: Check python3 version\n",
    "By default Ubuntu has python installed.\n",
    ">`python3 -V`\n",
    "\n",
    "Step 3:Check / install pip3 latest version\n",
    ">`sudo apt-get install -y python3-pip`\n",
    "\n",
    "Step 4: Don't forget to install following to make your environment more consistent\n",
    ">`sudo apt-get install build-essential libssl-dev libffi-dev python3-dev`\n",
    "\n",
    "Step 5: Install python3-venv\n",
    ">`sudo apt-get install -y python3-venv`\n",
    "\n",
    "Step 6: (Important) check and see if xvfb is installed:\n",
    "> `Xvfb -help`\n",
    "\n",
    "if not, install in main installation (outside virtual environment)\n",
    "> `sudo apt-get install xvfb`\n",
    "\n",
    "Step 7: make your environment\n",
    "> `python3 -m venv Sep2024`\n",
    "\n",
    "Step 8: activate your environment\n",
    ">`source Sep2024/bin/activate`\n",
    "\n",
    "Step 9: install required libraries\n",
    "\n",
    ">`pip3 install -U beautifulsoup4 imageio numpy pandas matplotlib jupyterlab seaborn jupyter_contrib_nbextensions statsmodels tqdm requests beautifulsoup4 plotly mysql-connector-python`\n",
    "\n",
    "<b>Note</b>: -U helps upgrade all specified packages to the newest available version.\n",
    "\n",
    " Step 10: Freeze the environment\n",
    " > `pip3 freeze -l > asp_requirements.txt`\n",
    "\n",
    "\n",
    "\n",
    " \n",
    "---:######:---\n",
    "</div>"
   ]
  },
  {
   "cell_type": "code",
   "execution_count": 1,
   "metadata": {},
   "outputs": [],
   "source": [
    "# at times, it makes sense to ignore irrelevant warnings\n",
    "import warnings\n",
    "\n",
    "warnings.filterwarnings('ignore')"
   ]
  },
  {
   "cell_type": "code",
   "execution_count": 2,
   "metadata": {},
   "outputs": [
    {
     "data": {
      "text/plain": [
       "'1.21.5'"
      ]
     },
     "execution_count": 2,
     "metadata": {},
     "output_type": "execute_result"
    }
   ],
   "source": [
    "import numpy as np\n",
    "np.__version__"
   ]
  },
  {
   "cell_type": "code",
   "execution_count": 4,
   "metadata": {},
   "outputs": [
    {
     "ename": "ModuleNotFoundError",
     "evalue": "No module named 'pandas'",
     "output_type": "error",
     "traceback": [
      "\u001b[0;31m---------------------------------------------------------------------------\u001b[0m",
      "\u001b[0;31mModuleNotFoundError\u001b[0m                       Traceback (most recent call last)",
      "\u001b[0;32m/tmp/ipykernel_14217/2302869698.py\u001b[0m in \u001b[0;36m<module>\u001b[0;34m\u001b[0m\n\u001b[0;32m----> 1\u001b[0;31m \u001b[0;32mimport\u001b[0m \u001b[0mpandas\u001b[0m \u001b[0;32mas\u001b[0m \u001b[0mpd\u001b[0m\u001b[0;34m\u001b[0m\u001b[0;34m\u001b[0m\u001b[0m\n\u001b[0m\u001b[1;32m      2\u001b[0m \u001b[0mpd\u001b[0m\u001b[0;34m.\u001b[0m\u001b[0m__version__\u001b[0m\u001b[0;34m\u001b[0m\u001b[0;34m\u001b[0m\u001b[0m\n",
      "\u001b[0;31mModuleNotFoundError\u001b[0m: No module named 'pandas'"
     ]
    }
   ],
   "source": [
    "import pandas as pd\n",
    "pd.__version__\n"
   ]
  },
  {
   "cell_type": "code",
   "execution_count": 5,
   "metadata": {},
   "outputs": [
    {
     "data": {
      "text/plain": [
       "'3.9.2'"
      ]
     },
     "execution_count": 5,
     "metadata": {},
     "output_type": "execute_result"
    }
   ],
   "source": [
    "import matplotlib\n",
    "matplotlib.__version__"
   ]
  },
  {
   "cell_type": "code",
   "execution_count": 6,
   "metadata": {},
   "outputs": [
    {
     "data": {
      "text/plain": [
       "'4.2.5'"
      ]
     },
     "execution_count": 6,
     "metadata": {},
     "output_type": "execute_result"
    }
   ],
   "source": [
    "import jupyterlab\n",
    "jupyterlab.__version__"
   ]
  },
  {
   "cell_type": "code",
   "execution_count": 7,
   "metadata": {},
   "outputs": [
    {
     "data": {
      "text/plain": [
       "'0.13.2'"
      ]
     },
     "execution_count": 7,
     "metadata": {},
     "output_type": "execute_result"
    }
   ],
   "source": [
    "import seaborn as sns\n",
    "sns.__version__"
   ]
  },
  {
   "cell_type": "markdown",
   "metadata": {},
   "source": [
    "### Uninstalling Packages\n",
    "\n",
    "If you do not like to keep the installed packages, you can remove them using the following command.\n",
    "\n",
    "> pip uninstall <packagename>\n",
    "\n",
    "### List of Packages\n",
    "\n",
    "We can use `!pip3 list` to see the installed packages on our machine.."
   ]
  },
  {
   "cell_type": "code",
   "execution_count": 8,
   "metadata": {},
   "outputs": [
    {
     "name": "stdout",
     "output_type": "stream",
     "text": [
      "Package                           Version\n",
      "--------------------------------- --------------\n",
      "absl-py                           2.1.0\n",
      "anyio                             4.4.0\n",
      "argon2-cffi                       23.1.0\n",
      "argon2-cffi-bindings              21.2.0\n",
      "arrow                             1.3.0\n",
      "asttokens                         2.4.1\n",
      "astunparse                        1.6.3\n",
      "async-lru                         2.0.4\n",
      "attrs                             23.2.0\n",
      "Babel                             2.15.0\n",
      "beautifulsoup4                    4.12.3\n",
      "bleach                            6.1.0\n",
      "certifi                           2024.7.4\n",
      "cffi                              1.16.0\n",
      "charset-normalizer                3.3.2\n",
      "comm                              0.2.2\n",
      "contourpy                         1.2.1\n",
      "cycler                            0.12.1\n",
      "debugpy                           1.8.2\n",
      "decorator                         5.1.1\n",
      "defusedxml                        0.7.1\n",
      "exceptiongroup                    1.2.2\n",
      "executing                         2.0.1\n",
      "fastjsonschema                    2.20.0\n",
      "filelock                          3.15.4\n",
      "flatbuffers                       24.3.25\n",
      "fonttools                         4.53.1\n",
      "fqdn                              1.5.1\n",
      "fsspec                            2024.6.1\n",
      "gast                              0.6.0\n",
      "google-pasta                      0.2.0\n",
      "graphviz                          0.20.3\n",
      "grpcio                            1.64.1\n",
      "h11                               0.14.0\n",
      "h5py                              3.11.0\n",
      "httpcore                          1.0.5\n",
      "httpx                             0.27.0\n",
      "idna                              3.7\n",
      "imageio                           2.35.0\n",
      "ipykernel                         6.29.5\n",
      "ipython                           8.26.0\n",
      "ipython-genutils                  0.2.0\n",
      "isoduration                       20.11.0\n",
      "jedi                              0.19.1\n",
      "Jinja2                            3.1.4\n",
      "joblib                            1.4.2\n",
      "json5                             0.9.25\n",
      "jsonpointer                       3.0.0\n",
      "jsonschema                        4.23.0\n",
      "jsonschema-specifications         2023.12.1\n",
      "jupyter_client                    8.6.2\n",
      "jupyter-contrib-core              0.4.2\n",
      "jupyter-contrib-nbextensions      0.7.0\n",
      "jupyter_core                      5.7.2\n",
      "jupyter-events                    0.10.0\n",
      "jupyter-highlight-selected-word   0.2.0\n",
      "jupyter-lsp                       2.2.5\n",
      "jupyter_nbextensions_configurator 0.6.4\n",
      "jupyter_server                    2.14.2\n",
      "jupyter_server_terminals          0.5.3\n",
      "jupyterlab                        4.2.5\n",
      "jupyterlab_pygments               0.3.0\n",
      "jupyterlab_server                 2.27.2\n",
      "jupyterlab-spellchecker           0.8.4\n",
      "keras                             3.4.1\n",
      "kiwisolver                        1.4.5\n",
      "lazy_loader                       0.4\n",
      "libclang                          18.1.1\n",
      "lxml                              5.2.2\n",
      "Markdown                          3.6\n",
      "markdown-it-py                    3.0.0\n",
      "MarkupSafe                        2.1.5\n",
      "matplotlib                        3.9.2\n",
      "matplotlib-inline                 0.1.7\n",
      "mdurl                             0.1.2\n",
      "mistune                           3.0.2\n",
      "mizani                            0.11.4\n",
      "ml-dtypes                         0.4.0\n",
      "mpmath                            1.3.0\n",
      "mysql-connector-python            9.0.0\n",
      "namex                             0.0.8\n",
      "nbclient                          0.10.0\n",
      "nbconvert                         7.16.4\n",
      "nbformat                          5.10.4\n",
      "nest-asyncio                      1.6.0\n",
      "networkx                          3.3\n",
      "notebook                          7.2.1\n",
      "notebook_shim                     0.2.4\n",
      "numpy                             1.26.4\n",
      "nvidia-cublas-cu12                12.1.3.1\n",
      "nvidia-cuda-cupti-cu12            12.1.105\n",
      "nvidia-cuda-nvcc-cu12             12.3.107\n",
      "nvidia-cuda-nvrtc-cu12            12.1.105\n",
      "nvidia-cuda-runtime-cu12          12.1.105\n",
      "nvidia-cudnn-cu12                 8.9.2.26\n",
      "nvidia-cufft-cu12                 11.0.2.54\n",
      "nvidia-curand-cu12                10.3.2.106\n",
      "nvidia-cusolver-cu12              11.4.5.107\n",
      "nvidia-cusparse-cu12              12.1.0.106\n",
      "nvidia-nccl-cu12                  2.20.5\n",
      "nvidia-nvjitlink-cu12             12.3.101\n",
      "nvidia-nvtx-cu12                  12.1.105\n",
      "opencv-contrib-python             4.10.0.84\n",
      "opt-einsum                        3.3.0\n",
      "optree                            0.12.1\n",
      "overrides                         7.7.0\n",
      "packaging                         24.1\n",
      "pandas                            2.2.2\n",
      "pandocfilters                     1.5.1\n",
      "parso                             0.8.4\n",
      "patsy                             0.5.6\n",
      "pexpect                           4.9.0\n",
      "pillow                            10.4.0\n",
      "pip                               22.0.2\n",
      "platformdirs                      4.2.2\n",
      "plotly                            5.23.0\n",
      "plotnine                          0.13.6\n",
      "prometheus_client                 0.20.0\n",
      "prompt_toolkit                    3.0.47\n",
      "protobuf                          4.25.3\n",
      "psutil                            6.0.0\n",
      "ptyprocess                        0.7.0\n",
      "pure-eval                         0.2.2\n",
      "pyarrow                           16.1.0\n",
      "pycparser                         2.22\n",
      "pydot                             2.0.0\n",
      "Pygments                          2.18.0\n",
      "pyparsing                         3.1.2\n",
      "python-dateutil                   2.9.0.post0\n",
      "python-json-logger                2.0.7\n",
      "pytube                            15.0.0\n",
      "pytz                              2024.1\n",
      "PyYAML                            6.0.1\n",
      "pyzmq                             26.0.3\n",
      "referencing                       0.35.1\n",
      "requests                          2.32.3\n",
      "rfc3339-validator                 0.1.4\n",
      "rfc3986-validator                 0.1.1\n",
      "rich                              13.7.1\n",
      "rpds-py                           0.19.0\n",
      "scikit-image                      0.24.0\n",
      "scikit-learn                      1.5.1\n",
      "scipy                             1.14.0\n",
      "seaborn                           0.13.2\n",
      "Send2Trash                        1.8.3\n",
      "setuptools                        59.6.0\n",
      "six                               1.16.0\n",
      "sniffio                           1.3.1\n",
      "soupsieve                         2.5\n",
      "stack-data                        0.6.3\n",
      "statsmodels                       0.14.2\n",
      "sympy                             1.13.0\n",
      "tenacity                          9.0.0\n",
      "tensorboard                       2.17.0\n",
      "tensorboard-data-server           0.7.2\n",
      "tensorflow                        2.17.0\n",
      "tensorflow-io-gcs-filesystem      0.37.1\n",
      "termcolor                         2.4.0\n",
      "terminado                         0.18.1\n",
      "threadpoolctl                     3.5.0\n",
      "tifffile                          2024.7.2\n",
      "tinycss2                          1.3.0\n",
      "tomli                             2.0.1\n",
      "torch                             2.3.1\n",
      "torchaudio                        2.3.1\n",
      "torchinfo                         1.8.0\n",
      "torchsummary                      1.5.1\n",
      "torchvision                       0.18.1\n",
      "tornado                           6.4.1\n",
      "tqdm                              4.66.5\n",
      "traitlets                         5.14.3\n",
      "triton                            2.3.1\n",
      "types-python-dateutil             2.9.0.20240316\n",
      "typing_extensions                 4.12.2\n",
      "tzdata                            2024.1\n",
      "uri-template                      1.3.0\n",
      "urllib3                           2.2.2\n",
      "wcwidth                           0.2.13\n",
      "webcolors                         24.6.0\n",
      "webencodings                      0.5.1\n",
      "websocket-client                  1.8.0\n",
      "Werkzeug                          3.0.3\n",
      "wheel                             0.43.0\n",
      "wrapt                             1.16.0\n",
      "xgboost                           2.1.0\n"
     ]
    }
   ],
   "source": [
    "!pip3 list"
   ]
  },
  {
   "cell_type": "markdown",
   "metadata": {},
   "source": [
    "### Show Package\n",
    "<div class=\"alert alert-block alert-info\" style=\"font-family: Arial; font-size:1.2em;\">\n",
    "To show information about a package\n",
    "\n",
    "> pip show packagename\n",
    "</div>"
   ]
  },
  {
   "cell_type": "code",
   "execution_count": 9,
   "metadata": {},
   "outputs": [
    {
     "name": "stdout",
     "output_type": "stream",
     "text": [
      "Name: pandas\n",
      "Version: 2.2.2\n",
      "Summary: Powerful data structures for data analysis, time series, and statistics\n",
      "Home-page: https://pandas.pydata.org\n",
      "Author: \n",
      "Author-email: The Pandas Development Team <pandas-dev@python.org>\n",
      "License: BSD 3-Clause License\n",
      "        \n",
      "        Copyright (c) 2008-2011, AQR Capital Management, LLC, Lambda Foundry, Inc. and PyData Development Team\n",
      "        All rights reserved.\n",
      "        \n",
      "        Copyright (c) 2011-2023, Open source contributors.\n",
      "        \n",
      "        Redistribution and use in source and binary forms, with or without\n",
      "        modification, are permitted provided that the following conditions are met:\n",
      "        \n",
      "        * Redistributions of source code must retain the above copyright notice, this\n",
      "          list of conditions and the following disclaimer.\n",
      "        \n",
      "        * Redistributions in binary form must reproduce the above copyright notice,\n",
      "          this list of conditions and the following disclaimer in the documentation\n",
      "          and/or other materials provided with the distribution.\n",
      "        \n",
      "        * Neither the name of the copyright holder nor the names of its\n",
      "          contributors may be used to endorse or promote products derived from\n",
      "          this software without specific prior written permission.\n",
      "        \n",
      "        THIS SOFTWARE IS PROVIDED BY THE COPYRIGHT HOLDERS AND CONTRIBUTORS \"AS IS\"\n",
      "        AND ANY EXPRESS OR IMPLIED WARRANTIES, INCLUDING, BUT NOT LIMITED TO, THE\n",
      "        IMPLIED WARRANTIES OF MERCHANTABILITY AND FITNESS FOR A PARTICULAR PURPOSE ARE\n",
      "        DISCLAIMED. IN NO EVENT SHALL THE COPYRIGHT HOLDER OR CONTRIBUTORS BE LIABLE\n",
      "        FOR ANY DIRECT, INDIRECT, INCIDENTAL, SPECIAL, EXEMPLARY, OR CONSEQUENTIAL\n",
      "        DAMAGES (INCLUDING, BUT NOT LIMITED TO, PROCUREMENT OF SUBSTITUTE GOODS OR\n",
      "        SERVICES; LOSS OF USE, DATA, OR PROFITS; OR BUSINESS INTERRUPTION) HOWEVER\n",
      "        CAUSED AND ON ANY THEORY OF LIABILITY, WHETHER IN CONTRACT, STRICT LIABILITY,\n",
      "        OR TORT (INCLUDING NEGLIGENCE OR OTHERWISE) ARISING IN ANY WAY OUT OF THE USE\n",
      "        OF THIS SOFTWARE, EVEN IF ADVISED OF THE POSSIBILITY OF SUCH DAMAGE.\n",
      "Location: /home/pks/Sep2024/lib/python3.10/site-packages\n",
      "Requires: numpy, python-dateutil, pytz, tzdata\n",
      "Required-by: mizani, plotnine, seaborn, statsmodels\n"
     ]
    }
   ],
   "source": [
    "!pip3 show pandas"
   ]
  },
  {
   "cell_type": "code",
   "execution_count": 10,
   "metadata": {},
   "outputs": [
    {
     "name": "stdout",
     "output_type": "stream",
     "text": [
      "Name: pandas\n",
      "Version: 2.2.2\n",
      "Summary: Powerful data structures for data analysis, time series, and statistics\n",
      "Home-page: https://pandas.pydata.org\n",
      "Author: \n",
      "Author-email: The Pandas Development Team <pandas-dev@python.org>\n",
      "License: BSD 3-Clause License\n",
      "        \n",
      "        Copyright (c) 2008-2011, AQR Capital Management, LLC, Lambda Foundry, Inc. and PyData Development Team\n",
      "        All rights reserved.\n",
      "        \n",
      "        Copyright (c) 2011-2023, Open source contributors.\n",
      "        \n",
      "        Redistribution and use in source and binary forms, with or without\n",
      "        modification, are permitted provided that the following conditions are met:\n",
      "        \n",
      "        * Redistributions of source code must retain the above copyright notice, this\n",
      "          list of conditions and the following disclaimer.\n",
      "        \n",
      "        * Redistributions in binary form must reproduce the above copyright notice,\n",
      "          this list of conditions and the following disclaimer in the documentation\n",
      "          and/or other materials provided with the distribution.\n",
      "        \n",
      "        * Neither the name of the copyright holder nor the names of its\n",
      "          contributors may be used to endorse or promote products derived from\n",
      "          this software without specific prior written permission.\n",
      "        \n",
      "        THIS SOFTWARE IS PROVIDED BY THE COPYRIGHT HOLDERS AND CONTRIBUTORS \"AS IS\"\n",
      "        AND ANY EXPRESS OR IMPLIED WARRANTIES, INCLUDING, BUT NOT LIMITED TO, THE\n",
      "        IMPLIED WARRANTIES OF MERCHANTABILITY AND FITNESS FOR A PARTICULAR PURPOSE ARE\n",
      "        DISCLAIMED. IN NO EVENT SHALL THE COPYRIGHT HOLDER OR CONTRIBUTORS BE LIABLE\n",
      "        FOR ANY DIRECT, INDIRECT, INCIDENTAL, SPECIAL, EXEMPLARY, OR CONSEQUENTIAL\n",
      "        DAMAGES (INCLUDING, BUT NOT LIMITED TO, PROCUREMENT OF SUBSTITUTE GOODS OR\n",
      "        SERVICES; LOSS OF USE, DATA, OR PROFITS; OR BUSINESS INTERRUPTION) HOWEVER\n",
      "        CAUSED AND ON ANY THEORY OF LIABILITY, WHETHER IN CONTRACT, STRICT LIABILITY,\n",
      "        OR TORT (INCLUDING NEGLIGENCE OR OTHERWISE) ARISING IN ANY WAY OUT OF THE USE\n",
      "        OF THIS SOFTWARE, EVEN IF ADVISED OF THE POSSIBILITY OF SUCH DAMAGE.\n",
      "Location: /home/pks/Sep2024/lib/python3.10/site-packages\n",
      "Requires: numpy, python-dateutil, pytz, tzdata\n",
      "Required-by: mizani, plotnine, seaborn, statsmodels\n",
      "Metadata-Version: 2.1\n",
      "Installer: pip\n",
      "Classifiers:\n",
      "  Development Status :: 5 - Production/Stable\n",
      "  Environment :: Console\n",
      "  Intended Audience :: Science/Research\n",
      "  License :: OSI Approved :: BSD License\n",
      "  Operating System :: OS Independent\n",
      "  Programming Language :: Cython\n",
      "  Programming Language :: Python\n",
      "  Programming Language :: Python :: 3\n",
      "  Programming Language :: Python :: 3 :: Only\n",
      "  Programming Language :: Python :: 3.9\n",
      "  Programming Language :: Python :: 3.10\n",
      "  Programming Language :: Python :: 3.11\n",
      "  Programming Language :: Python :: 3.12\n",
      "  Topic :: Scientific/Engineering\n",
      "Entry-points:\n",
      "  [pandas_plotting_backends]\n",
      "  matplotlib = pandas:plotting._matplotlib\n",
      "  \n"
     ]
    }
   ],
   "source": [
    "# If we want even more details, just add --verbose\n",
    "\n",
    "!pip3 show --verbose pandas"
   ]
  },
  {
   "cell_type": "code",
   "execution_count": 11,
   "metadata": {},
   "outputs": [],
   "source": [
    "#!pip3 freeze -l > asp_requirements.txt"
   ]
  },
  {
   "cell_type": "code",
   "execution_count": 7,
   "metadata": {},
   "outputs": [],
   "source": [
    "num_students =34\n",
    "course = 'Python Programming'\n",
    "my_name = \"priya\""
   ]
  },
  {
   "cell_type": "code",
   "execution_count": 9,
   "metadata": {},
   "outputs": [
    {
     "name": "stdout",
     "output_type": "stream",
     "text": [
      "'Python Programming' 34.0000\n"
     ]
    }
   ],
   "source": [
    "formatter = '%r %7.4f'\n",
    "print (formatter%(course,num_students))"
   ]
  }
 ],
 "metadata": {
  "kernelspec": {
   "display_name": "Python 3 (ipykernel)",
   "language": "python",
   "name": "python3"
  },
  "language_info": {
   "codemirror_mode": {
    "name": "ipython",
    "version": 3
   },
   "file_extension": ".py",
   "mimetype": "text/x-python",
   "name": "python",
   "nbconvert_exporter": "python",
   "pygments_lexer": "ipython3",
   "version": "3.10.7"
  }
 },
 "nbformat": 4,
 "nbformat_minor": 4
}
