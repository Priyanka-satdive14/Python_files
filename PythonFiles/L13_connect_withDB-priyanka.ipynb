{
 "cells": [
  {
   "cell_type": "code",
   "execution_count": 1,
   "metadata": {},
   "outputs": [],
   "source": [
    "import mysql.connector\n",
    "from mysql.connector import Error\n",
    "import pandas as pd"
   ]
  },
  {
   "cell_type": "markdown",
   "metadata": {},
   "source": [
    "## Establish Connection"
   ]
  },
  {
   "cell_type": "code",
   "execution_count": 5,
   "metadata": {},
   "outputs": [],
   "source": [
    "def create_server_connection(host_name,\n",
    "                             db_name,\n",
    "                             user_name,\n",
    "                             user_password):\n",
    "    '''\n",
    "    Args:\n",
    "        host_name:Db server name or Ip e.g localhost\n",
    "        db_name:databse name e.g pydb\n",
    "        user_name:user name\n",
    "        user_password:user password\n",
    "    \n",
    "    '''\n",
    "    connection = None\n",
    "    try:\n",
    "        connection = mysql.connector.connect(host=host_name, \n",
    "                                             db_name = db_name,\n",
    "                                             user = user_name,\n",
    "                                             passwd = user_password)\n",
    "        print(f'Connection to {host_name} established.')\n",
    "    except Error as e:\n",
    "        print(f'Error occured: {e}')\n",
    "        \n",
    "    return connection"
   ]
  },
  {
   "cell_type": "code",
   "execution_count": 3,
   "metadata": {},
   "outputs": [
    {
     "data": {
      "text/plain": [
       "dict_keys(['weather_map_key'])"
      ]
     },
     "execution_count": 3,
     "metadata": {},
     "output_type": "execute_result"
    }
   ],
   "source": [
    "from Utils.config import Config\n",
    "\n",
    "config = Config()\n",
    "config.get_key_names()"
   ]
  },
  {
   "cell_type": "code",
   "execution_count": 4,
   "metadata": {},
   "outputs": [
    {
     "ename": "TypeError",
     "evalue": "create_server_connection() got an unexpected keyword argument 'database'",
     "output_type": "error",
     "traceback": [
      "\u001b[0;31m---------------------------------------------------------------------------\u001b[0m",
      "\u001b[0;31mTypeError\u001b[0m                                 Traceback (most recent call last)",
      "Cell \u001b[0;32mIn[4], line 5\u001b[0m\n\u001b[1;32m      2\u001b[0m usr_pw \u001b[38;5;241m=\u001b[39m config\u001b[38;5;241m.\u001b[39mget_key(\u001b[38;5;124m'\u001b[39m\u001b[38;5;124mMYSQL_USER_PW\u001b[39m\u001b[38;5;124m'\u001b[39m)\n\u001b[1;32m      3\u001b[0m db_name \u001b[38;5;241m=\u001b[39mconfig\u001b[38;5;241m.\u001b[39mget_key(\u001b[38;5;124m'\u001b[39m\u001b[38;5;124mMYSQL_DB_NAME\u001b[39m\u001b[38;5;124m'\u001b[39m)\n\u001b[0;32m----> 5\u001b[0m connection \u001b[38;5;241m=\u001b[39m \u001b[43mcreate_server_connection\u001b[49m\u001b[43m(\u001b[49m\u001b[43mhost_name\u001b[49m\u001b[38;5;241;43m=\u001b[39;49m\u001b[38;5;124;43m'\u001b[39;49m\u001b[38;5;124;43mlocalhost\u001b[39;49m\u001b[38;5;124;43m'\u001b[39;49m\u001b[43m,\u001b[49m\n\u001b[1;32m      6\u001b[0m \u001b[43m                                      \u001b[49m\u001b[43mdatabase\u001b[49m\u001b[38;5;241;43m=\u001b[39;49m\u001b[43mdb_name\u001b[49m\u001b[43m,\u001b[49m\n\u001b[1;32m      7\u001b[0m \u001b[43m                                      \u001b[49m\u001b[43muser_name\u001b[49m\u001b[38;5;241;43m=\u001b[39;49m\u001b[43musr_name\u001b[49m\u001b[43m,\u001b[49m\n\u001b[1;32m      8\u001b[0m \u001b[43m                                      \u001b[49m\u001b[43muser_password\u001b[49m\u001b[38;5;241;43m=\u001b[39;49m\u001b[43musr_pw\u001b[49m\u001b[43m)\u001b[49m\n",
      "\u001b[0;31mTypeError\u001b[0m: create_server_connection() got an unexpected keyword argument 'database'"
     ]
    }
   ],
   "source": [
    "usr_name = config.get_key('MYSQL_USER_NAME')\n",
    "usr_pw = config.get_key('MYSQL_USER_PW')\n",
    "db_name =config.get_key('MYSQL_DB_NAME')\n",
    "\n",
    "connection = create_server_connection(host_name='localhost',\n",
    "                                      database=db_name,\n",
    "                                      user_name=usr_name,\n",
    "                                      user_password=usr_pw)"
   ]
  },
  {
   "cell_type": "code",
   "execution_count": null,
   "metadata": {},
   "outputs": [],
   "source": [
    "def execute_query(connection,query):\n",
    "    cursor = connection.cursor(buffered= True)\n",
    "    \n",
    "    try:\n",
    "        cursor.execute(query)\n",
    "        cursor.commit()\n",
    "        print(f'Query Successful!')\n",
    "        \n",
    "    except Error as e:\n",
    "        print('Error occured: {err}')\n",
    "        \n",
    "    cursor.close()\n",
    "    "
   ]
  },
  {
   "cell_type": "code",
   "execution_count": null,
   "metadata": {},
   "outputs": [],
   "source": [
    "create_teacher_table = '''CREATE TABLE employee(\n",
    "employee_id INT PRIMARY KEY,\n",
    "first_name VARCHAR(40) NOT NULL,\n",
    "phone_no VARCHAR(20))'''\n",
    "    \n",
    "execute_query(connection=connection,create_teacher_table) #connection generated and table create and executed\n",
    "    "
   ]
  },
  {
   "cell_type": "code",
   "execution_count": null,
   "metadata": {},
   "outputs": [],
   "source": [
    "drop_table = 'DROP TABLE {}' #irriversible directly drop\n",
    "execute_query(connection=connection,drop_table)"
   ]
  },
  {
   "cell_type": "code",
   "execution_count": null,
   "metadata": {},
   "outputs": [],
   "source": [
    "data_df = "
   ]
  },
  {
   "cell_type": "code",
   "execution_count": null,
   "metadata": {},
   "outputs": [],
   "source": [
    "for _,row in data_df.iterrow():\n",
    "    print\n"
   ]
  },
  {
   "cell_type": "code",
   "execution_count": null,
   "metadata": {},
   "outputs": [],
   "source": [
    "data_df['previousrank'] = data_df['']"
   ]
  },
  {
   "cell_type": "code",
   "execution_count": null,
   "metadata": {},
   "outputs": [],
   "source": []
  },
  {
   "cell_type": "code",
   "execution_count": null,
   "metadata": {},
   "outputs": [],
   "source": []
  }
 ],
 "metadata": {
  "kernelspec": {
   "display_name": "Python 3",
   "language": "python",
   "name": "python3"
  },
  "language_info": {
   "codemirror_mode": {
    "name": "ipython",
    "version": 3
   },
   "file_extension": ".py",
   "mimetype": "text/x-python",
   "name": "python",
   "nbconvert_exporter": "python",
   "pygments_lexer": "ipython3",
   "version": "3.10.7"
  }
 },
 "nbformat": 4,
 "nbformat_minor": 2
}
