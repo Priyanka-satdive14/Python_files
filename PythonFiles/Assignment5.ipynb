{
 "cells": [
  {
   "cell_type": "markdown",
   "metadata": {},
   "source": [
    "# Name:Priyanka Vilas Satdive\n"
   ]
  },
  {
   "cell_type": "markdown",
   "metadata": {},
   "source": [
    "# PRN:240840141017\n"
   ]
  },
  {
   "cell_type": "code",
   "execution_count": 1,
   "metadata": {},
   "outputs": [],
   "source": [
    "#!/usr/bin/env python3\n",
    "# -*- coding: utf-8 -*-"
   ]
  },
  {
   "cell_type": "code",
   "execution_count": 3,
   "metadata": {},
   "outputs": [
    {
     "name": "stdout",
     "output_type": "stream",
     "text": [
      "Number of students is:4\n",
      "updated colour of Lisa:Green\n",
      "new list:{'Arham': 'Blue', 'Lisa': 'Green', 'Vinod': 'Purple'}\n",
      "student and their fav colur in sorted order\n",
      "Arham:Blue\n",
      "Lisa:Green\n",
      "Vinod:Purple\n"
     ]
    },
    {
     "data": {
      "text/plain": [
       "{'Arham': 'Blue', 'Lisa': 'Green', 'Vinod': 'Purple'}"
      ]
     },
     "execution_count": 3,
     "metadata": {},
     "output_type": "execute_result"
    }
   ],
   "source": [
    "'''\n",
    "Problem 1:\n",
    "\n",
    "Given a dictionary of students and their favourite colours:\n",
    "\n",
    "> people={'Arham':'Blue', 'Lisa':'Yellow','Vinod':'Purple','Jenny':'Pink'}\n",
    "1. Find out how many students are in the list.\n",
    "2. Change Lisa's Favorite colour.\n",
    "3. Remove 'Jenny'and her favorite colour\n",
    "4. Sort and print students and their favorite colours in alphabetically by name.\n",
    "'''\n",
    "people={'Arham':'Blue', 'Lisa':'Yellow',\n",
    "        'Vinod':'Purple','Jenny':'Pink'}\n",
    "#how many students are in list\n",
    "print(f'Number of students is:{len(people)}')\n",
    "#change lisa's fav colour\n",
    "people['Lisa'] ='Green'\n",
    "print(f\"updated colour of Lisa:{people['Lisa']}\")\n",
    "#remove Jenny fav colour\n",
    "del people['Jenny']\n",
    "print(f'new list:{people}')\n",
    "#sort and print by alphabetically by name\n",
    "sort_people=dict(sorted(people.items()))\n",
    "print(\"student and their fav colur in sorted order\")\n",
    "for student,colour in sort_people.items():\n",
    "    print(f'{student}:{colour}')\n",
    "people\n"
   ]
  },
  {
   "cell_type": "code",
   "execution_count": 4,
   "metadata": {},
   "outputs": [
    {
     "data": {
      "text/plain": [
       "' tothohisos isos fofunon'"
      ]
     },
     "execution_count": 4,
     "metadata": {},
     "output_type": "execute_result"
    }
   ],
   "source": [
    "'''\n",
    "Problem 2\n",
    "Write a function translate() that will translate a text into\n",
    "\"rövarspråket\" (Swedish for \"robber's language\"). That is, double every consonant and \n",
    "place an occurrence of \"o\" in between. \n",
    "For example, translate(\"this is fun\") should return the string \"tothohisos isos fofunon\".\n",
    "'''\n",
    "def translate(text):\n",
    "    vowels = \"aeiouAEIOU\"\n",
    "    translated_text = \" \"\n",
    "    for text1 in text:\n",
    "        if text1.isalpha() and text1 not in vowels:\n",
    "            translated_text += text1 + 'o' + text1\n",
    "        else:\n",
    "            translated_text += text1\n",
    "    return translated_text\n",
    "\n",
    "translate('this is fun')"
   ]
  },
  {
   "cell_type": "code",
   "execution_count": 1,
   "metadata": {},
   "outputs": [
    {
     "name": "stdout",
     "output_type": "stream",
     "text": [
      "1! = 1\n",
      "2! = 2\n",
      "3! = 6\n",
      "4! = 24\n",
      "5! = 120\n",
      "6! = 720\n",
      "7! = 5040\n",
      "8! = 40320\n",
      "9! = 362880\n",
      "10! = 3628800\n",
      "11! = 39916800\n",
      "12! = 479001600\n",
      "13! = 6227020800\n",
      "14! = 87178291200\n",
      "15! = 1307674368000\n",
      "16! = 20922789888000\n",
      "17! = 355687428096000\n",
      "18! = 6402373705728000\n",
      "19! = 121645100408832000\n",
      "20! = 2432902008176640000\n"
     ]
    }
   ],
   "source": [
    "'''\n",
    "Problem 3\n",
    "Write a program that contains a function that has one parameter, n, \n",
    "representing an integer greater than 0. The function should return n! (n factorial). \n",
    "Then write a main function that calls this function with the values\n",
    "1 through 20, one at a time, printing the returned results.\n",
    "'''\n",
    "def factorial(n):\n",
    "    \"\"\"Calculate the factorial of a given number n.\"\"\"\n",
    "    if n == 1 or n == 0:\n",
    "        return 1\n",
    "    else:\n",
    "        return n * factorial(n - 1)\n",
    "\n",
    "def main():\n",
    "    \"\"\"Main function to call factorial function for values 1 through 20.\"\"\"\n",
    "    for i in range(1, 21):\n",
    "        result = factorial(i)\n",
    "        print(f\"{i}! = {result}\")\n",
    "\n",
    "main()\n",
    "\n"
   ]
  },
  {
   "cell_type": "code",
   "execution_count": 10,
   "metadata": {},
   "outputs": [
    {
     "name": "stdout",
     "output_type": "stream",
     "text": [
      "sum is:55\n"
     ]
    }
   ],
   "source": [
    "'''\n",
    "Problem 4\n",
    "Write a Python program to compute the sum 1 + 2 + 3 + 4 + 5 + 6 + 7 + 8 + 9 + 10 recursively'''\n",
    "def sum(*n):\n",
    "    add = 0\n",
    "    for num in n:\n",
    "        add += num \n",
    "    print(f'sum is:{add}')\n",
    "\n",
    "\n",
    "sum(1,2,3,4,5,6,7,8,9,10)\n",
    "\n",
    "\n",
    "\n"
   ]
  },
  {
   "cell_type": "code",
   "execution_count": 13,
   "metadata": {},
   "outputs": [
    {
     "name": "stdout",
     "output_type": "stream",
     "text": [
      "True\n",
      "False\n",
      "True\n",
      "False\n",
      "False\n"
     ]
    }
   ],
   "source": [
    "'''\n",
    "### Problem 5\n",
    "Define a function overlapping () that takes two lists and returns True \n",
    "if they have at least one member in common, False otherwise\n",
    "'''\n",
    "def overlapping(list1, list2):\n",
    "    res = False\n",
    "    for x in list1:\n",
    "        if x in list2:\n",
    "            print(\"True\")\n",
    "        else:\n",
    "            print(\"False\")\n",
    "\n",
    "list1 = [2,4,5,6,7]\n",
    "list2 = [2,5,8,9]\n",
    "overlapping(list1,list2)\n"
   ]
  },
  {
   "cell_type": "code",
   "execution_count": null,
   "metadata": {},
   "outputs": [],
   "source": [
    "'''\n",
    "Problem 6\n",
    "Write a function find_longest_word() that takes a list of words and returns the longest one and its length.\n",
    "\n",
    "> word_list = [\"apple\", \"banana\", \"strawberry\", \"kiwi\", \"pineapple\"]\n",
    "'''\n",
    "def find_longest_word():\n",
    "    word_list = [\"apple\", \"banana\", \"strawberry\", \"kiwi\", \"pineapple\"]\n",
    "        \n"
   ]
  },
  {
   "cell_type": "code",
   "execution_count": null,
   "metadata": {},
   "outputs": [],
   "source": []
  },
  {
   "cell_type": "code",
   "execution_count": null,
   "metadata": {},
   "outputs": [],
   "source": []
  },
  {
   "cell_type": "code",
   "execution_count": null,
   "metadata": {},
   "outputs": [],
   "source": []
  },
  {
   "cell_type": "code",
   "execution_count": null,
   "metadata": {},
   "outputs": [],
   "source": []
  },
  {
   "cell_type": "code",
   "execution_count": null,
   "metadata": {},
   "outputs": [],
   "source": []
  },
  {
   "cell_type": "code",
   "execution_count": null,
   "metadata": {},
   "outputs": [],
   "source": []
  },
  {
   "cell_type": "code",
   "execution_count": null,
   "metadata": {},
   "outputs": [],
   "source": []
  }
 ],
 "metadata": {
  "kernelspec": {
   "display_name": "Python 3",
   "language": "python",
   "name": "python3"
  },
  "language_info": {
   "codemirror_mode": {
    "name": "ipython",
    "version": 3
   },
   "file_extension": ".py",
   "mimetype": "text/x-python",
   "name": "python",
   "nbconvert_exporter": "python",
   "pygments_lexer": "ipython3",
   "version": "3.10.2"
  }
 },
 "nbformat": 4,
 "nbformat_minor": 2
}
