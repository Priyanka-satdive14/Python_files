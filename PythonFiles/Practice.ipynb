{
 "cells": [
  {
   "cell_type": "code",
   "execution_count": 3,
   "metadata": {},
   "outputs": [],
   "source": [
    "emp_no = 1034\n",
    "desitination = 'software Devloper'\n",
    "emp_name = \"Priyanka\""
   ]
  },
  {
   "cell_type": "code",
   "execution_count": 5,
   "metadata": {},
   "outputs": [
    {
     "name": "stdout",
     "output_type": "stream",
     "text": [
      "'software Devloper' 1034.0000\n"
     ]
    }
   ],
   "source": [
    "formatter = '%r %7.4f'\n",
    "print(formatter%(desitination,emp_no))"
   ]
  },
  {
   "cell_type": "code",
   "execution_count": 21,
   "metadata": {},
   "outputs": [
    {
     "name": "stdout",
     "output_type": "stream",
     "text": [
      "software Devloper : 1034\n"
     ]
    }
   ],
   "source": [
    "formatter = '{0:1} : {1:4}'\n",
    "print(formatter.format(desitination,emp_no))"
   ]
  },
  {
   "cell_type": "code",
   "execution_count": 23,
   "metadata": {},
   "outputs": [
    {
     "name": "stdout",
     "output_type": "stream",
     "text": [
      "1.Introduction tab \t here\n",
      "2.Introduction newline \n",
      " here\n",
      "print double quotes \" here\n",
      "this is a single quote ' in the line\n"
     ]
    }
   ],
   "source": [
    "print('1.Introduction tab \\t here')\n",
    "print('2.Introduction newline \\n here')\n",
    "print('print double quotes \\\" here')\n",
    "print('this is a single quote \\' in the line')\n"
   ]
  },
  {
   "cell_type": "code",
   "execution_count": 45,
   "metadata": {},
   "outputs": [
    {
     "name": "stdout",
     "output_type": "stream",
     "text": [
      "[45, 32, 22]\n"
     ]
    }
   ],
   "source": [
    "array = [1,2,3,45,32,22]\n",
    "a2 = []\n",
    "pivot = 3\n",
    "for x in array:\n",
    "    if x > pivot:\n",
    "       a2.append(x)\n",
    "       \n",
    "print(a2)"
   ]
  },
  {
   "cell_type": "code",
   "execution_count": 46,
   "metadata": {},
   "outputs": [
    {
     "name": "stdout",
     "output_type": "stream",
     "text": [
      "<class 'list'>\n",
      "<class 'int'>\n",
      "<class 'float'>\n",
      "<class 'dict'>\n",
      "<class 'set'>\n",
      "<class 'tuple'>\n"
     ]
    }
   ],
   "source": [
    "print(type(array))\n",
    "print(type(10))\n",
    "print(type(9.81))\n",
    "print(type({'name' : 'cdac'}))\n",
    "print(type({1,2,3}))\n",
    "print(type((1,2,3)))"
   ]
  },
  {
   "cell_type": "code",
   "execution_count": 47,
   "metadata": {},
   "outputs": [
    {
     "name": "stdout",
     "output_type": "stream",
     "text": [
      "<class 'complex'>\n"
     ]
    }
   ],
   "source": [
    "print(type(10+5j))"
   ]
  },
  {
   "cell_type": "code",
   "execution_count": 49,
   "metadata": {},
   "outputs": [
    {
     "name": "stdout",
     "output_type": "stream",
     "text": [
      "<class 'str'>\n",
      "<class 'list'>\n",
      "<class 'tuple'>\n",
      "<class 'dict'>\n"
     ]
    }
   ],
   "source": [
    "string_data = \"name\"\n",
    "lis = [1,2,3]\n",
    "tuple = (3,4,5)\n",
    "dist = {'name':'riya','age':25,'city':'pune'}\n",
    "\n",
    "print(type(string_data))\n",
    "print(type(lis))\n",
    "print(type(tuple))\n",
    "print(type(dist))"
   ]
  },
  {
   "cell_type": "code",
   "execution_count": 50,
   "metadata": {},
   "outputs": [
    {
     "data": {
      "text/plain": [
       "{'name': 'riya', 'age': 25, 'city': 'pune'}"
      ]
     },
     "execution_count": 50,
     "metadata": {},
     "output_type": "execute_result"
    }
   ],
   "source": [
    "dist"
   ]
  },
  {
   "cell_type": "code",
   "execution_count": 53,
   "metadata": {},
   "outputs": [
    {
     "name": "stdout",
     "output_type": "stream",
     "text": [
      "<class 'set'>\n",
      "<class 'frozenset'>\n"
     ]
    }
   ],
   "source": [
    "set_data = {1,2,3,4,5}\n",
    "frozen_set = frozenset({2,3,4,5})\n",
    "print(type(set_data))\n",
    "print(type(frozen_set))"
   ]
  },
  {
   "cell_type": "code",
   "execution_count": 54,
   "metadata": {},
   "outputs": [
    {
     "data": {
      "text/plain": [
       "2"
      ]
     },
     "execution_count": 54,
     "metadata": {},
     "output_type": "execute_result"
    }
   ],
   "source": [
    "5 // 2"
   ]
  },
  {
   "cell_type": "code",
   "execution_count": 55,
   "metadata": {},
   "outputs": [
    {
     "name": "stdout",
     "output_type": "stream",
     "text": [
      "False\n",
      "True\n",
      "True\n",
      "False\n"
     ]
    }
   ],
   "source": [
    "x = 156\n",
    "y = 100\n",
    "print (x == y)\n",
    "print (x != y)\n",
    "print (x > y)\n",
    "print (x < y)\n"
   ]
  },
  {
   "cell_type": "code",
   "execution_count": 56,
   "metadata": {},
   "outputs": [
    {
     "name": "stdout",
     "output_type": "stream",
     "text": [
      "False\n",
      "True\n",
      "False\n"
     ]
    }
   ],
   "source": [
    "x1 = True\n",
    "y1 = False\n",
    "\n",
    "print(x1 and y1)\n",
    "print(x1 or y1)\n",
    "print(not x1)\n"
   ]
  },
  {
   "cell_type": "code",
   "execution_count": 57,
   "metadata": {},
   "outputs": [
    {
     "name": "stdout",
     "output_type": "stream",
     "text": [
      "10011100,1100100\n",
      "248 is 11111000\n"
     ]
    }
   ],
   "source": [
    "a1 = 30\n",
    "b1 = 4\n",
    "\n",
    "print (f'{x:b},{y:b}')\n",
    "result1 = x^y\n",
    "print (f'{result1} is {result1:b}')"
   ]
  },
  {
   "cell_type": "code",
   "execution_count": 58,
   "metadata": {},
   "outputs": [
    {
     "name": "stdout",
     "output_type": "stream",
     "text": [
      "for x2 = 1010, and y =10100\n"
     ]
    }
   ],
   "source": [
    "x2 = 10\n",
    "y2 = 20\n",
    "\n",
    "print (f'for x2 = {x2:b}, and y ={y2:b}')"
   ]
  },
  {
   "cell_type": "code",
   "execution_count": 59,
   "metadata": {},
   "outputs": [
    {
     "name": "stdout",
     "output_type": "stream",
     "text": [
      "~ 10100 = -10101\n"
     ]
    }
   ],
   "source": [
    "number = 20\n",
    "print (f'~{number: b} = {~number : b}')"
   ]
  },
  {
   "cell_type": "code",
   "execution_count": 60,
   "metadata": {},
   "outputs": [
    {
     "name": "stdout",
     "output_type": "stream",
     "text": [
      " 11110>>2 =  111\n",
      " 11110>>2 =7\n"
     ]
    }
   ],
   "source": [
    "number1 = 30\n",
    "print (f'{number1: b}>>2 = {number1>>2 : b}')\n",
    "print (f'{number1: b}>>2 ={number1>>2}')"
   ]
  },
  {
   "cell_type": "code",
   "execution_count": 61,
   "metadata": {},
   "outputs": [
    {
     "data": {
      "text/plain": [
       "False"
      ]
     },
     "execution_count": 61,
     "metadata": {},
     "output_type": "execute_result"
    }
   ],
   "source": [
    "fruits = ['apple', 'banana','cherry']\n",
    "'mango' in fruits"
   ]
  },
  {
   "cell_type": "code",
   "execution_count": null,
   "metadata": {},
   "outputs": [],
   "source": []
  }
 ],
 "metadata": {
  "kernelspec": {
   "display_name": "Python 3",
   "language": "python",
   "name": "python3"
  },
  "language_info": {
   "codemirror_mode": {
    "name": "ipython",
    "version": 3
   },
   "file_extension": ".py",
   "mimetype": "text/x-python",
   "name": "python",
   "nbconvert_exporter": "python",
   "pygments_lexer": "ipython3",
   "version": "3.10.7"
  }
 },
 "nbformat": 4,
 "nbformat_minor": 2
}
