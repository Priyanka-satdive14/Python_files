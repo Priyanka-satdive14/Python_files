{
 "cells": [
  {
   "cell_type": "markdown",
   "metadata": {},
   "source": [
    "\n",
    "# Name:Priyanka Vilas Satdive\n",
    "# PRN:240840141017"
   ]
  },
  {
   "cell_type": "code",
   "execution_count": null,
   "metadata": {},
   "outputs": [],
   "source": [
    "#!/usr/bin/env python3\n",
    "# -*- coding: utf-8 -*-"
   ]
  },
  {
   "cell_type": "code",
   "execution_count": 1,
   "metadata": {},
   "outputs": [
    {
     "name": "stdout",
     "output_type": "stream",
     "text": [
      "JANUARY\n",
      "Mo Tu We Th Fr Sa Su\n",
      "       1  2  3  4  5 \n",
      " 6  7  8  9 10 11 12 \n",
      "13 14 15 16 17 18 19 \n",
      "20 21 22 23 24 25 26 \n",
      "27 28 29 30 31 \n"
     ]
    }
   ],
   "source": [
    "'''\n",
    "Problem 1:\n",
    "Write a program that asks the user how many days are in a particular month, and \n",
    "what day of the week the month begins on (0 for Monday, 1 for Tuesday, etc), \n",
    "and then prints a calendar for that month.\n",
    "'''\n",
    "days_in_month = 31\n",
    "start_day = 2\n",
    "\n",
    "#boundary condition checks\n",
    "if days_in_month not in [28,29,30,31]:\n",
    "    print ('Invalid days in month entered')\n",
    "if start_day < 0 or start_day > 6:\n",
    "    print ('Invalid start day entered')\n",
    "print (\"JANUARY\")\n",
    "#print the header for calender\n",
    "print(\"Mo Tu We Th Fr Sa Su\")\n",
    "\n",
    "#print spaces for first week\n",
    "current_day = 0\n",
    "for _ in range(start_day): #throw away something put \"_\" not to store anything in it\n",
    "    print (\"   \",end=\"\")#continue at line spces\n",
    "\n",
    "#prints the  days of the month\n",
    "for day in  range(1,days_in_month+1):\n",
    "    print(f\"{day:2} \",end=\"\")\n",
    "    current_day += 1\n",
    "    \n",
    "    position_count = current_day + start_day\n",
    "\n",
    "    #move to next line after sunday\n",
    "    if position_count % 7 == 0:\n",
    "        print()\n",
    "\n",
    "print() #new line after the calender\n"
   ]
  },
  {
   "cell_type": "code",
   "execution_count": 2,
   "metadata": {},
   "outputs": [
    {
     "name": "stdout",
     "output_type": "stream",
     "text": [
      "0: **\n",
      "1: ***\n",
      "2: ******\n",
      "3: ****\n",
      "4: *****\n"
     ]
    }
   ],
   "source": [
    "'''\n",
    "Problem 2:\n",
    "Define a procedure histogram() that takes a list of \n",
    "integers and prints a histogram to the screen using a character '*'.\n",
    "'''\n",
    "data = [2,3,6,4,5]\n",
    "count = 0 #use as index\n",
    "\n",
    "#loop through each interger in the list\n",
    "for number in data:\n",
    "    print(f\"{count}: \",end=\"\")\n",
    "    #print * those many times\n",
    "    print(\"*\"*number)\n",
    "    count +=1   "
   ]
  },
  {
   "cell_type": "code",
   "execution_count": 5,
   "metadata": {},
   "outputs": [
    {
     "name": "stdout",
     "output_type": "stream",
     "text": [
      "Go hang a salami I'm a lasagna hog. -> Palindrome\n",
      "Was it a rat I saw? -> Palindrome\n",
      "Step on no pets -> Palindrome\n",
      "Sit on a potato pan, Otis -> Palindrome\n",
      "Lisa Bonet ate no basil -> Palindrome\n",
      "Satan, oscillate my metallic sonatas -> Palindrome\n",
      "I roamed under it as a tired nude Maori -> Palindrome\n",
      "Rise to vote sir -> Palindrome\n",
      "or the exclamation Dammit, I'm mad! -> Palindrome\n"
     ]
    }
   ],
   "source": [
    "'''\n",
    "Problem 3\n",
    "Write a version of a palindrome recogniser that also accepts phrase\n",
    "palindromes such as \"Go hang a salami I'm a lasagna hog.\n",
    "\", \"Was it a rat I saw?\", \"Step on no pets\", \"Sit on a potato pan, Otis\", \n",
    "\"Lisa Bonet ate no basil\", \n",
    "\"Satan, oscillate my metallic sonatas\", \n",
    "\"I roamed under it as a tired nude Maori\", \"Rise to vote sir\", or the exclamation \"Dammit, I'm mad!\".\n",
    " Note that punctuation, capitalisation, and spacing are usually ignored.\n",
    "'''\n",
    "str1 = [\"Go hang a salami I'm a lasagna hog.\",\n",
    "        \"Was it a rat I saw?\", \n",
    "        \"Step on no pets\", \n",
    "        \"Sit on a potato pan, Otis\", \n",
    "        \"Lisa Bonet ate no basil\", \n",
    "        \"Satan, oscillate my metallic sonatas\", \n",
    "        \"I roamed under it as a tired nude Maori\", \n",
    "        \"Rise to vote sir\", \"or the exclamation Dammit, I'm mad!\"]\n",
    "        \n",
    "for string in str1:\n",
    "    result =  string[::-1]\n",
    "    if (string == result):\n",
    "        print(f'{string} -> Palindrome')\n",
    "    else:\n",
    "        print(f'{string} -> Palindrome')"
   ]
  },
  {
   "cell_type": "code",
   "execution_count": 7,
   "metadata": {},
   "outputs": [
    {
     "name": "stdout",
     "output_type": "stream",
     "text": [
      "\"The quick brown fox jumps over the lazy dog.\" -> Panagram :True\n"
     ]
    }
   ],
   "source": [
    "'''\n",
    "Problem 4\n",
    "A pangram is a sentence that contains all the letters of the English alphabet at least once, \n",
    "for example: The quick brown fox jumps over the lazy dog. \n",
    "Your task here is to write a function to check a sentence to see if it is a pangram or not.\n",
    "ignbmen\n",
    "'''\n",
    "import string\n",
    "\n",
    "def is_panagram(Sentence):\n",
    "    noramal_sentence = Sentence.lower() #remove spaces and make lowecase sentence\n",
    "    alphabet_set = set(string.ascii_lowercase) #all letters in english alphabet\n",
    "    sentence_set = set(noramal_sentence)  #set char of normal sentence\n",
    "\n",
    "    return alphabet_set.issubset(sentence_set)\n",
    "\n",
    "test_sentence = \"The quick brown fox jumps over the lazy dog.\" \n",
    "result = is_panagram(test_sentence)\n",
    "print(f'\"{test_sentence}\" -> Panagram :{result}')\n",
    "\n",
    "\n"
   ]
  }
 ],
 "metadata": {
  "kernelspec": {
   "display_name": "Python 3",
   "language": "python",
   "name": "python3"
  },
  "language_info": {
   "codemirror_mode": {
    "name": "ipython",
    "version": 3
   },
   "file_extension": ".py",
   "mimetype": "text/x-python",
   "name": "python",
   "nbconvert_exporter": "python",
   "pygments_lexer": "ipython3",
   "version": "3.10.2"
  }
 },
 "nbformat": 4,
 "nbformat_minor": 2
}
