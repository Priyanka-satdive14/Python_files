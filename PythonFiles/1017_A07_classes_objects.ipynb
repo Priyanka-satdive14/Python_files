{
 "cells": [
  {
   "cell_type": "markdown",
   "metadata": {},
   "source": [
    "# PRN:240840141017\n",
    "# NAME:Priyanka Vilas Satdive"
   ]
  },
  {
   "cell_type": "code",
   "execution_count": 1,
   "metadata": {},
   "outputs": [],
   "source": [
    "#!/usr/bin/env python3\n",
    "# -*- coding: utf-8 -*-"
   ]
  },
  {
   "cell_type": "code",
   "execution_count": 3,
   "metadata": {},
   "outputs": [],
   "source": [
    "from datetime import datetime  # Importing the datetime module for handling dates and times\n",
    "\n",
    "class Vehicle:  # Defining a class named Vehicle\n",
    "    \n",
    "    def __init__(self, vehicle_no, vehicle_type):  # Constructor method for initializing a new Vehicle object\n",
    "        self.vc_no = vehicle_no  # Assigning the vehicle number to an instance variable\n",
    "        self.vc_type = vehicle_type  # Assigning the vehicle type to an instance variable \n",
    "        \n",
    "    def __str__(self):  # Method to return a string representation of the Vehicle object\n",
    "        return f\"{self.vc_type.capitalize()} with license plate: {self.vc_no}\"  # Formatting the string to show vehicle type and license plate\n",
    "    \n",
    "    def get_licence_plate(self):  # Method to return the vehicle's license plate\n",
    "        return f'{self.vc_no}'  # Returning the license plate number as a string\n",
    "    \n",
    "    def get_vahicle_type(self):  # Method to return the type of vehicle\n",
    "        return self.vc_type  # Returning the vehicle type\n"
   ]
  },
  {
   "cell_type": "code",
   "execution_count": 4,
   "metadata": {},
   "outputs": [],
   "source": [
    "class ParkingLot:  # Defining a class named ParkingLot\n",
    "    \n",
    "    def __init__(self, name):  # Constructor method for initializing a new ParkingLot object\n",
    "        self.name = name  # Assigning the name of the parking lot to an instance variable\n",
    "        self.spots = []  # Initializing an empty list to hold parking spots\n",
    "        self.occupied_spots = {}  # Initializing a dictionary to track occupied spots and their corresponding vehicles\n",
    "        \n",
    "    def __str__(self):  # Method to return a string representation of the ParkingLot object\n",
    "        return f'Welcome to: {self.name}'  # Formatting the string to display the name of the parking lot\n",
    "    \n",
    "    def add_spot(self, spot):  # Method to add a new parking spot to the parking lot\n",
    "        self.spots.append(spot)  # Appending the new spot to the list of spots\n",
    "        \n",
    "    def find_spot_for_vehicle(self, vehicle):  # Method to find an available parking spot for a given vehicle\n",
    "        for spot in self.spots:  # Looping through all parking spots\n",
    "            if not spot.is_occupied and spot._is_spot_suitable(vehicle):  # Checking if the spot is not occupied and is suitable for the vehicle\n",
    "                return spot  # Return the suitable spot if found\n",
    "                \n",
    "        raise Exception(f'No spot Available for {vehicle.vc_type}')  # Raise an exception if no suitable spot is found\n",
    "    \n",
    "    def park_vehicle(self, vehicle):  # Method to park a vehicle in an available spot\n",
    "        spot = self.find_spot_f\n"
   ]
  },
  {
   "cell_type": "code",
   "execution_count": 5,
   "metadata": {},
   "outputs": [],
   "source": [
    "        \n",
    "class ParkingSpot:  # Defining a class named ParkingSpot\n",
    "    \n",
    "    def __init__(self, spot_id, spot_type):  # Constructor method for initializing a new ParkingSpot object\n",
    "        self.spot_id = spot_id  # Assigning the ID of the parking spot to an instance variable\n",
    "        self.spot_type = spot_type  # Assigning the type of the parking spot (e.g., car, motorcycle, large) to an instance variable\n",
    "        self.is_occupied = False  # Initializing the occupancy status to False (not occupied)\n",
    "        self.entry_time = None  # Initializing entry time to None (no vehicle parked yet)\n",
    "        self.vehicle = None  # Initializing the vehicle variable to None (no vehicle parked yet)\n",
    "        \n",
    "    def park_vehicle(self, vehicle):  # Method to park a vehicle in the spot\n",
    "        '''\n",
    "        args:\n",
    "                vehicle: object of class Vehicle\n",
    "        '''\n",
    "        \n",
    "        if self.is_occupied:  # Check if the spot is already occupied\n",
    "            raise Exception(f'Spot {self.spot_id} is already occupied')  # Raise an exception if occupied\n",
    "        \n",
    "        if not self._is_spot_suitable(vehicle):  # Check if the spot is suitable for the vehicle\n",
    "            raise Exception(f'Spot {self.spot_id} is not suitable for {vehicle.vc_type}')  # Raise an exception if not suitable\n",
    "        \n",
    "        self.vehicle = vehicle  # Assign the vehicle to the spot\n",
    "        self.is_occupied = True  # Mark the spot as occupied\n",
    "        self.entry_time = datetime.now()  # Record the entry time of the vehicle\n",
    "\n",
    "    def remove_vehicle(self):  # Method to remove a vehicle from the spot\n",
    "        if not self.is_occupied:  # Check if the spot is occupied\n",
    "            raise Exception(f'No vehicle in {self.spot_id}')  # Raise an exception if no vehicle is present\n",
    "        \n",
    "        Vehicle = self.vehicle  # Store the current vehicle to return later\n",
    "        self.vehicle = None  # Set the vehicle variable to None (remove the vehicle)\n",
    "        self.is_occupied = False  # Mark the spot as not occupied\n",
    "\n",
    "        parked_duration = (datetime.now() - self.entry_time).total_seconds()  # Calculate the duration the vehicle was parked\n",
    "        self.entry_time = None  # Reset the entry time to None\n",
    "\n",
    "        return Vehicle, parked_duration  # Return the vehicle and the duration it was parked\n",
    "\n",
    "    def _is_spot_suitable(self, vehicle):  # Method to check if the spot is suitable for a given vehi\n"
   ]
  },
  {
   "cell_type": "code",
   "execution_count": 6,
   "metadata": {},
   "outputs": [
    {
     "name": "stdout",
     "output_type": "stream",
     "text": [
      "Parked Car with license plate: XYZ-1234 in spot S1\n",
      "Parked Motorcycle with license plate: ABC-5678 in spot S2\n",
      "for Car with license plate: XYZ-1234 ,Duration: 0.006014; fee : 0.15035\n",
      "for Motorcycle with license plate: ABC-5678 ,Duration: 0.006014; fee : 0.15035\n"
     ]
    },
    {
     "data": {
      "text/plain": [
       "(<__main__.Vehicle at 0x18b92cd7100>, 0.15035)"
      ]
     },
     "execution_count": 6,
     "metadata": {},
     "output_type": "execute_result"
    }
   ],
   "source": [
    "# Create vehicles\n",
    "car = Vehicle(\"XYZ-1234\", \"car\")\n",
    "motorcycle = Vehicle(\"ABC-5678\", \"motorcycle\")\n",
    "\n",
    "# Initialize a parking lot\n",
    "parking_lot = ParkingLot(\"Downtown Parking\")\n",
    "\n",
    "# Add parking spots to the lot\n",
    "parking_lot.add_spot(ParkingSpot(\"S1\", \"car\"))\n",
    "parking_lot.add_spot(ParkingSpot(\"S2\", \"motorcycle\"))\n",
    "parking_lot.add_spot(ParkingSpot(\"S3\", \"car\"))\n",
    "\n",
    "# Park vehicles\n",
    "parking_lot.park_vehicle(car)\n",
    "parking_lot.park_vehicle(motorcycle)\n",
    "\n",
    "# Remove vehicles from parking spots using their spot IDs\n",
    "parking_lot.remove_vehicle(\"S1\")  # ID for the parked car\n",
    "parking_lot.remove_vehicle(\"S2\")  # ID for the parked motorcycle\n"
   ]
  },
  {
   "cell_type": "code",
   "execution_count": null,
   "metadata": {},
   "outputs": [],
   "source": []
  }
 ],
 "metadata": {
  "kernelspec": {
   "display_name": "Python 3",
   "language": "python",
   "name": "python3"
  },
  "language_info": {
   "codemirror_mode": {
    "name": "ipython",
    "version": 3
   },
   "file_extension": ".py",
   "mimetype": "text/x-python",
   "name": "python",
   "nbconvert_exporter": "python",
   "pygments_lexer": "ipython3",
   "version": "3.10.2"
  }
 },
 "nbformat": 4,
 "nbformat_minor": 4
}
