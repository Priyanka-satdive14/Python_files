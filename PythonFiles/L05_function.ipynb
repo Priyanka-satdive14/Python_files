{
 "cells": [
  {
   "cell_type": "markdown",
   "metadata": {},
   "source": [
    "## Function"
   ]
  },
  {
   "cell_type": "code",
   "execution_count": 40,
   "metadata": {},
   "outputs": [],
   "source": [
    "#!/usr/bin/env python3\n",
    "# -*- coding:utf-8 -*-"
   ]
  },
  {
   "cell_type": "code",
   "execution_count": 41,
   "metadata": {},
   "outputs": [
    {
     "data": {
      "text/plain": [
       "'paul cromer'"
      ]
     },
     "execution_count": 41,
     "metadata": {},
     "output_type": "execute_result"
    }
   ],
   "source": [
    "def gen_full_name(): #default function\n",
    "    '''Args:\n",
    "\n",
    "\n",
    "       returns:    \n",
    "       full_name:str\n",
    "    '''\n",
    "\n",
    "    first_name ='paul'\n",
    "    last_name ='cromer'\n",
    "    full_name = first_name + \" \" +last_name\n",
    "    \n",
    "    return full_name #its just store value in full_name if we want to print we also store fun in variable and print that variable\n",
    "firstname ='paul'\n",
    "lastname = 'cromer'\n",
    "gen_full_name()\n"
   ]
  },
  {
   "cell_type": "code",
   "execution_count": 42,
   "metadata": {},
   "outputs": [
    {
     "data": {
      "text/plain": [
       "'sam lee'"
      ]
     },
     "execution_count": 42,
     "metadata": {},
     "output_type": "execute_result"
    }
   ],
   "source": [
    "def gen_full_name(f_name='str',l_name='str'): # passing arguments to function parameterize function\n",
    "    '''Args:\n",
    "        f_name:str\n",
    "        l_name:str\n",
    "\n",
    "       returns:    \n",
    "       full_name:str\n",
    "    '''\n",
    "\n",
    "    #first_name ='paul'\n",
    "    #last_name ='cromer'\n",
    "    full_name = f'{f_name} {l_name}'\n",
    "    \n",
    "    return full_name \n",
    "firstname ='sam'\n",
    "lastname = 'lee'\n",
    "fullname = gen_full_name(firstname,lastname)\n",
    "fullname"
   ]
  },
  {
   "cell_type": "code",
   "execution_count": 43,
   "metadata": {},
   "outputs": [
    {
     "data": {
      "text/plain": [
       "'sam lee'"
      ]
     },
     "execution_count": 43,
     "metadata": {},
     "output_type": "execute_result"
    }
   ],
   "source": [
    "firstname ='sam'\n",
    "lastname = 'lee'\n",
    "fullname = gen_full_name(f_name=firstname,\n",
    "                         l_name=lastname) # anotherway of passing values this called key value\n",
    "fullname"
   ]
  },
  {
   "cell_type": "code",
   "execution_count": 44,
   "metadata": {},
   "outputs": [
    {
     "data": {
      "text/plain": [
       "[100]"
      ]
     },
     "execution_count": 44,
     "metadata": {},
     "output_type": "execute_result"
    }
   ],
   "source": [
    "def compute_profit(sales,cost):\n",
    "    return sales - cost\n",
    "\n",
    "sales_data =[(100,70),(200,150),(150,100),(300,200)]\n",
    "\n",
    "profits = []\n",
    "'''\n",
    "for sales,cost in sales_data:\n",
    "    profit = compute_profit(sales,cost) #packing profit in a line\n",
    "    profits.append(profit)\n",
    "    if profit > 50:\n",
    "        profits.append(profit)\n",
    "        '''\n",
    "profits = [compute_profit(s,c) for s,c in sales_data if compute_profit(s,c) > 50]\n",
    "\n",
    "profits\n"
   ]
  },
  {
   "cell_type": "code",
   "execution_count": 45,
   "metadata": {},
   "outputs": [
    {
     "data": {
      "text/plain": [
       "[100]"
      ]
     },
     "execution_count": 45,
     "metadata": {},
     "output_type": "execute_result"
    }
   ],
   "source": [
    "# := this is a operator in the latest version not in earlier version. (walrus operator) interview question .\n",
    "\n",
    "\n",
    "def compute_profit(sales,cost):\n",
    "    return sales - cost\n",
    "\n",
    "sales_data =[(100,70),(200,150),(150,100),(300,200)]\n",
    "\n",
    "profits = []\n",
    "\n",
    "profits = [profit for s,c in sales_data if (profit :=compute_profit(s,c)) > 50]  #checks condition in if and to store a value in a variable...use of walrus\n",
    "\n",
    "profits"
   ]
  },
  {
   "cell_type": "code",
   "execution_count": 46,
   "metadata": {},
   "outputs": [
    {
     "data": {
      "text/plain": [
       "<function int.as_integer_ratio()>"
      ]
     },
     "execution_count": 46,
     "metadata": {},
     "output_type": "execute_result"
    }
   ],
   "source": [
    "integer = 10\n",
    "getattr(integer, 'as_integer_ratio') # it checks if integer fn exits or not"
   ]
  },
  {
   "cell_type": "code",
   "execution_count": 47,
   "metadata": {},
   "outputs": [
    {
     "data": {
      "text/plain": [
       "'paul, Welcome to pl'"
      ]
     },
     "execution_count": 47,
     "metadata": {},
     "output_type": "execute_result"
    }
   ],
   "source": [
    "def greetings(name , module = 'pl' ):   #this is called default\n",
    "    return f'{name}, Welcome to {module}'\n",
    "\n",
    "greetings('paul')"
   ]
  },
  {
   "cell_type": "code",
   "execution_count": 48,
   "metadata": {},
   "outputs": [
    {
     "data": {
      "text/plain": [
       "'john, Welcome to ai'"
      ]
     },
     "execution_count": 48,
     "metadata": {},
     "output_type": "execute_result"
    }
   ],
   "source": [
    "greetings('john' , 'ai')"
   ]
  },
  {
   "cell_type": "code",
   "execution_count": 49,
   "metadata": {},
   "outputs": [
    {
     "data": {
      "text/plain": [
       "\"pramod 'total is:21\""
      ]
     },
     "execution_count": 49,
     "metadata": {},
     "output_type": "execute_result"
    }
   ],
   "source": [
    "def sum_num(name,*nums): # *num means multiple number as a argument we can take\n",
    "    total = 0\n",
    "    for num in nums:\n",
    "        total += num\n",
    "\n",
    "    return f'{name} \\'total is:{total}'\n",
    "\n",
    "sum_num('pramod',1,2,3,4,5,6)\n"
   ]
  },
  {
   "cell_type": "code",
   "execution_count": 50,
   "metadata": {},
   "outputs": [
    {
     "data": {
      "text/plain": [
       "9"
      ]
     },
     "execution_count": 50,
     "metadata": {},
     "output_type": "execute_result"
    }
   ],
   "source": [
    "def fn_do_something(fn_foo,x):\n",
    "    return fn_foo(x)\n",
    "\n",
    "def square_num(n):\n",
    "    return n * n\n",
    "\n",
    "fn_do_something(square_num,3)# passing value as another function"
   ]
  },
  {
   "cell_type": "code",
   "execution_count": 51,
   "metadata": {},
   "outputs": [
    {
     "name": "stdout",
     "output_type": "stream",
     "text": [
      "Return the sum of a 'start' value (default: 0) plus an iterable of numbers\n",
      "\n",
      "When the iterable is empty, return the start value.\n",
      "This function is intended specifically for use with numeric values and may\n",
      "reject non-numeric types.\n"
     ]
    }
   ],
   "source": [
    "print(sum.__doc__)"
   ]
  },
  {
   "cell_type": "code",
   "execution_count": 52,
   "metadata": {},
   "outputs": [
    {
     "name": "stdout",
     "output_type": "stream",
     "text": [
      "shrubberry\n"
     ]
    }
   ],
   "source": [
    "## Problem of shadowing\n",
    "parameter = 'berry'\n",
    "def combine(param):\n",
    "    \n",
    "    parameter = param\n",
    "    print(parameter + globals()['parameter']) #invoke globally\n",
    "\n",
    "\n",
    "combine('shrub')"
   ]
  },
  {
   "cell_type": "code",
   "execution_count": 53,
   "metadata": {},
   "outputs": [
    {
     "data": {
      "text/plain": [
       "18"
      ]
     },
     "execution_count": 53,
     "metadata": {},
     "output_type": "execute_result"
    }
   ],
   "source": [
    "def multiplier(factor): #main fn\n",
    "    def multByfactor(number): #Build-in fn\n",
    "        return factor * number\n",
    "    return multByfactor #returning the function\n",
    "\n",
    "#double = multiplier(2) #this going to factor\n",
    "#double(9) #its taking argument number going to second function\n",
    "multiplier(2)(9)"
   ]
  },
  {
   "cell_type": "code",
   "execution_count": 54,
   "metadata": {},
   "outputs": [
    {
     "data": {
      "text/plain": [
       "27"
      ]
     },
     "execution_count": 54,
     "metadata": {},
     "output_type": "execute_result"
    }
   ],
   "source": [
    "def exponential(factor): #main fn\n",
    "    def exptByfactor(number): #Build-in fn\n",
    "        return factor * number\n",
    "    return exptByfactor\n",
    "\n",
    "double1 = exponential(3)\n",
    "double1(9)\n"
   ]
  },
  {
   "cell_type": "code",
   "execution_count": 55,
   "metadata": {},
   "outputs": [
    {
     "data": {
      "text/plain": [
       "120"
      ]
     },
     "execution_count": 55,
     "metadata": {},
     "output_type": "execute_result"
    }
   ],
   "source": [
    "#Regression\n",
    "\n",
    "def factorial(n):\n",
    "    result = n\n",
    "    for i in range(1,n):\n",
    "        result *= i\n",
    "    return result\n",
    "\n",
    "factorial(5)\n"
   ]
  },
  {
   "cell_type": "code",
   "execution_count": 56,
   "metadata": {},
   "outputs": [
    {
     "data": {
      "text/plain": [
       "120"
      ]
     },
     "execution_count": 56,
     "metadata": {},
     "output_type": "execute_result"
    }
   ],
   "source": [
    "#recursion\n",
    "\n",
    "\n",
    "def factorial(n):\n",
    "    #base condition\n",
    "    if n == 1:\n",
    "        return 1\n",
    "    else:\n",
    "        return n * factorial ( n-1 ) # stack implementation fun\n",
    "\n",
    "factorial(5)"
   ]
  },
  {
   "cell_type": "code",
   "execution_count": 57,
   "metadata": {},
   "outputs": [
    {
     "name": "stdout",
     "output_type": "stream",
     "text": [
      "welcome Sam Host!\n",
      "Addition is: 755\n"
     ]
    }
   ],
   "source": [
    "from Utils import mymodule #we are importing file from Utils which is in same path filename is mymoule.py\n",
    "print (mymodule.generate_full_name('Sam','Host'))\n",
    "print(mymodule.sum_two_nums(155,600))\n"
   ]
  },
  {
   "cell_type": "code",
   "execution_count": 58,
   "metadata": {},
   "outputs": [
    {
     "name": "stdout",
     "output_type": "stream",
     "text": [
      "welcome Sam Host!\n",
      "Addition is: 755\n"
     ]
    },
    {
     "data": {
      "text/plain": [
       "70.60788"
      ]
     },
     "execution_count": 58,
     "metadata": {},
     "output_type": "execute_result"
    }
   ],
   "source": [
    "from Utils.mymodule import (generate_full_name,sum_two_nums,\n",
    "                            person,gravity) #we are importing file from Utils which is in same path filename is mymoule.py\n",
    "print (mymodule.generate_full_name('Sam','Host'))\n",
    "\n",
    "print(mymodule.sum_two_nums(155,600))\n",
    "\n",
    "\n",
    "mass = 7.2\n",
    "weight = mass * gravity\n",
    "weight\n"
   ]
  },
  {
   "cell_type": "code",
   "execution_count": 59,
   "metadata": {},
   "outputs": [
    {
     "data": {
      "text/plain": [
       "'welcome sam host!'"
      ]
     },
     "execution_count": 59,
     "metadata": {},
     "output_type": "execute_result"
    }
   ],
   "source": [
    "from Utils.mymodule import generate_full_name as name  #alias\n",
    "name('sam','host')"
   ]
  },
  {
   "cell_type": "code",
   "execution_count": 60,
   "metadata": {},
   "outputs": [],
   "source": [
    "import os"
   ]
  },
  {
   "cell_type": "code",
   "execution_count": 61,
   "metadata": {},
   "outputs": [],
   "source": [
    "os.mkdir('some_dir') #create directory"
   ]
  },
  {
   "cell_type": "code",
   "execution_count": 62,
   "metadata": {},
   "outputs": [],
   "source": [
    "os.chdir('some_dir') #change dir"
   ]
  },
  {
   "cell_type": "code",
   "execution_count": 63,
   "metadata": {},
   "outputs": [
    {
     "data": {
      "text/plain": [
       "'/home/dhpcsap/PythonFiles/some_dir'"
      ]
     },
     "execution_count": 63,
     "metadata": {},
     "output_type": "execute_result"
    }
   ],
   "source": [
    "path = os.getcwd() #get path\n",
    "path"
   ]
  },
  {
   "cell_type": "code",
   "execution_count": 64,
   "metadata": {},
   "outputs": [
    {
     "data": {
      "text/plain": [
       "'/home/dhpcsap/PythonFiles'"
      ]
     },
     "metadata": {},
     "output_type": "display_data"
    }
   ],
   "source": [
    "os.chdir('..') #to enter in som_dir\n",
    "display(os.getcwd()) "
   ]
  },
  {
   "cell_type": "code",
   "execution_count": 65,
   "metadata": {},
   "outputs": [],
   "source": [
    "os.rmdir(path) #remove directory"
   ]
  },
  {
   "cell_type": "code",
   "execution_count": 66,
   "metadata": {},
   "outputs": [
    {
     "data": {
      "text/plain": [
       "'../../inputs/machine_learning'"
      ]
     },
     "execution_count": 66,
     "metadata": {},
     "output_type": "execute_result"
    }
   ],
   "source": [
    "inpDir = '../../inputs'\n",
    "subDir = 'machine_learning'\n",
    "\n",
    "path = os.path.join(inpDir,subDir)\n",
    "path"
   ]
  },
  {
   "cell_type": "code",
   "execution_count": 67,
   "metadata": {},
   "outputs": [],
   "source": [
    "import sys"
   ]
  },
  {
   "cell_type": "code",
   "execution_count": 68,
   "metadata": {},
   "outputs": [
    {
     "data": {
      "text/plain": [
       "1.7976931348623157e+308"
      ]
     },
     "execution_count": 68,
     "metadata": {},
     "output_type": "execute_result"
    }
   ],
   "source": [
    "sys.float_info.max"
   ]
  },
  {
   "cell_type": "code",
   "execution_count": 69,
   "metadata": {},
   "outputs": [
    {
     "data": {
      "text/plain": [
       "709.782712893384"
      ]
     },
     "execution_count": 69,
     "metadata": {},
     "output_type": "execute_result"
    }
   ],
   "source": [
    "import numpy as np\n",
    "np.log(sys.float_info.max)"
   ]
  },
  {
   "cell_type": "code",
   "execution_count": 70,
   "metadata": {},
   "outputs": [
    {
     "name": "stderr",
     "output_type": "stream",
     "text": [
      "/tmp/ipykernel_87062/3614348979.py:1: RuntimeWarning: overflow encountered in exp\n",
      "  np.exp(710)   #limit is 709 thats why this showing overflow encountered\n"
     ]
    },
    {
     "data": {
      "text/plain": [
       "inf"
      ]
     },
     "execution_count": 70,
     "metadata": {},
     "output_type": "execute_result"
    }
   ],
   "source": [
    "np.exp(710)   #limit is 709 thats why this showing overflow encountered"
   ]
  },
  {
   "cell_type": "code",
   "execution_count": 71,
   "metadata": {},
   "outputs": [
    {
     "data": {
      "text/plain": [
       "27.666666666666668"
      ]
     },
     "metadata": {},
     "output_type": "display_data"
    }
   ],
   "source": [
    "from statistics import *  # *imports everything\n",
    "ages = [20,30,15,21,30,26,29,35,43]\n",
    "display(mean(ages))"
   ]
  },
  {
   "cell_type": "code",
   "execution_count": 72,
   "metadata": {},
   "outputs": [
    {
     "data": {
      "text/plain": [
       "29"
      ]
     },
     "execution_count": 72,
     "metadata": {},
     "output_type": "execute_result"
    }
   ],
   "source": [
    "median(ages)"
   ]
  },
  {
   "cell_type": "code",
   "execution_count": 73,
   "metadata": {},
   "outputs": [
    {
     "data": {
      "text/plain": [
       "30"
      ]
     },
     "execution_count": 73,
     "metadata": {},
     "output_type": "execute_result"
    }
   ],
   "source": [
    "mode(ages)"
   ]
  },
  {
   "cell_type": "code",
   "execution_count": 74,
   "metadata": {},
   "outputs": [
    {
     "data": {
      "text/plain": [
       "(8.426149773176359, 249)"
      ]
     },
     "execution_count": 74,
     "metadata": {},
     "output_type": "execute_result"
    }
   ],
   "source": [
    "stdev(ages), sum(ages)"
   ]
  },
  {
   "cell_type": "code",
   "execution_count": 75,
   "metadata": {},
   "outputs": [
    {
     "data": {
      "text/plain": [
       "3.141592653589793"
      ]
     },
     "metadata": {},
     "output_type": "display_data"
    },
    {
     "data": {
      "text/plain": [
       "2.0"
      ]
     },
     "metadata": {},
     "output_type": "display_data"
    },
    {
     "data": {
      "text/plain": [
       "8.0"
      ]
     },
     "metadata": {},
     "output_type": "display_data"
    },
    {
     "data": {
      "text/plain": [
       "9"
      ]
     },
     "metadata": {},
     "output_type": "display_data"
    },
    {
     "data": {
      "text/plain": [
       "10"
      ]
     },
     "metadata": {},
     "output_type": "display_data"
    },
    {
     "data": {
      "text/plain": [
       "2.0"
      ]
     },
     "metadata": {},
     "output_type": "display_data"
    },
    {
     "data": {
      "text/plain": [
       "4.61512051684126"
      ]
     },
     "metadata": {},
     "output_type": "display_data"
    }
   ],
   "source": [
    "import math\n",
    "\n",
    "\n",
    "display(math.pi)\n",
    "display(math.sqrt(4))\n",
    "display(math.pow(2,3))\n",
    "display(math.floor(9.81))\n",
    "display(math.ceil(9.49)) #op to be 10\n",
    "display(math.log10(100))\n",
    "display(math.log1p(100)) # 1p aviod log 0 error"
   ]
  },
  {
   "cell_type": "code",
   "execution_count": 76,
   "metadata": {},
   "outputs": [
    {
     "data": {
      "text/plain": [
       "0.557457957246124"
      ]
     },
     "execution_count": 76,
     "metadata": {},
     "output_type": "execute_result"
    }
   ],
   "source": [
    "from random import random, randint\n",
    "random()\n"
   ]
  },
  {
   "cell_type": "code",
   "execution_count": 77,
   "metadata": {},
   "outputs": [
    {
     "ename": "SyntaxError",
     "evalue": "invalid syntax (1620018147.py, line 1)",
     "output_type": "error",
     "traceback": [
      "\u001b[0;36m  File \u001b[0;32m\"/tmp/ipykernel_87062/1620018147.py\"\u001b[0;36m, line \u001b[0;32m1\u001b[0m\n\u001b[0;31m    random?      #generate value btw 0 and 1\u001b[0m\n\u001b[0m          ^\u001b[0m\n\u001b[0;31mSyntaxError\u001b[0m\u001b[0;31m:\u001b[0m invalid syntax\n"
     ]
    }
   ],
   "source": [
    "random?      #generate value btw 0 and 1 "
   ]
  },
  {
   "cell_type": "code",
   "execution_count": null,
   "metadata": {},
   "outputs": [],
   "source": [
    "randint(5, 20)"
   ]
  },
  {
   "cell_type": "code",
   "execution_count": null,
   "metadata": {},
   "outputs": [],
   "source": [
    "#lambda\n",
    "\n",
    "\n",
    "def fn_add(a,b):\n",
    "    return a+b\n",
    "fn_add(2,3)"
   ]
  },
  {
   "cell_type": "code",
   "execution_count": 1,
   "metadata": {},
   "outputs": [
    {
     "data": {
      "text/plain": [
       "6"
      ]
     },
     "execution_count": 1,
     "metadata": {},
     "output_type": "execute_result"
    }
   ],
   "source": [
    "fn_add =  lambda a,b : a * b\n",
    "fn_add(2,3)"
   ]
  },
  {
   "cell_type": "code",
   "execution_count": 27,
   "metadata": {},
   "outputs": [
    {
     "data": {
      "text/plain": [
       "8"
      ]
     },
     "execution_count": 27,
     "metadata": {},
     "output_type": "execute_result"
    }
   ],
   "source": [
    "(lambda a,b : a ** b)(2,3) #we can add as many no we want"
   ]
  },
  {
   "cell_type": "code",
   "execution_count": null,
   "metadata": {},
   "outputs": [],
   "source": [
    "def power (x):\n",
    "    return lambda n: x**n\n",
    "cube = power(x = 2)(3)\n",
    "cube"
   ]
  },
  {
   "cell_type": "code",
   "execution_count": 26,
   "metadata": {},
   "outputs": [
    {
     "data": {
      "text/plain": [
       "21"
      ]
     },
     "execution_count": 26,
     "metadata": {},
     "output_type": "execute_result"
    }
   ],
   "source": [
    "def sum_num(nums):\n",
    "    return sum(nums)   \n",
    "def higher_order_fn (f, lst):\n",
    "    summation = f(lst)\n",
    "    return summation\n",
    "\n",
    "higher_order_fn(sum_num, [1,2,3,4,5,6])"
   ]
  },
  {
   "cell_type": "code",
   "execution_count": 20,
   "metadata": {},
   "outputs": [
    {
     "data": {
      "text/plain": [
       "25"
      ]
     },
     "metadata": {},
     "output_type": "display_data"
    },
    {
     "data": {
      "text/plain": [
       "125"
      ]
     },
     "metadata": {},
     "output_type": "display_data"
    }
   ],
   "source": [
    "def fn_square(x):\n",
    "    return x**2\n",
    "def fn_cube(x):\n",
    "    return x**3\n",
    "\n",
    "\n",
    "def higher_order_fn(type):\n",
    "    if type == 'square':\n",
    "        return fn_square\n",
    "    if type == 'cube':\n",
    "        return fn_cube\n",
    "    \n",
    "display(higher_order_fn('square')(5))  \n",
    "display(higher_order_fn('cube')(5))"
   ]
  },
  {
   "cell_type": "code",
   "execution_count": 23,
   "metadata": {},
   "outputs": [
    {
     "data": {
      "text/plain": [
       "15"
      ]
     },
     "execution_count": 23,
     "metadata": {},
     "output_type": "execute_result"
    }
   ],
   "source": [
    "#python Closures\n",
    "\n",
    "def add_ten():\n",
    "    ten = 10                #here inside the fn we can access the variable that is present outsdie it , this property is called closure.\n",
    "    def add(num):\n",
    "        return num + ten\n",
    "    return add\n",
    "res = add_ten()                    # we have access to ten = 10 here although it is out of the function it is calle closure\n",
    "res(5)"
   ]
  },
  {
   "cell_type": "code",
   "execution_count": null,
   "metadata": {},
   "outputs": [],
   "source": [
    "## Decorators"
   ]
  },
  {
   "cell_type": "code",
   "execution_count": 25,
   "metadata": {},
   "outputs": [
    {
     "name": "stdout",
     "output_type": "stream",
     "text": [
      "Deco executed fn_display\n",
      "Display ran\n",
      "Executed after fn_display\n"
     ]
    }
   ],
   "source": [
    "def fn_decorators(original_function):\n",
    "    print(f'Deco executed {original_function.__name__}')   #this fn is passed in fn display\n",
    "    result = original_function()\n",
    "    print(f'Executed after {original_function.__name__}')\n",
    "    return result\n",
    "\n",
    "@fn_decorators\n",
    "def fn_display():\n",
    "    print('Display ran')\n",
    "\n",
    "fn_display \n"
   ]
  },
  {
   "cell_type": "code",
   "execution_count": 67,
   "metadata": {},
   "outputs": [
    {
     "data": {
      "text/plain": [
       "'WELCOME TO PYTHON'"
      ]
     },
     "execution_count": 67,
     "metadata": {},
     "output_type": "execute_result"
    }
   ],
   "source": [
    "def fn_uppercase_deco(fn):              \n",
    "    make_upp = fn().upper()\n",
    "    return make_upp\n",
    "\n",
    "@fn_uppercase_deco\n",
    "def fn_greetings():\n",
    "    return'welcome to python'\n",
    "fn_greetings\n"
   ]
  },
  {
   "cell_type": "code",
   "execution_count": 71,
   "metadata": {},
   "outputs": [
    {
     "name": "stdout",
     "output_type": "stream",
     "text": [
      "Inside fn_uppercase_deco\n",
      "Inside fn_split\n",
      "Inside wrapper\n",
      "Inside wrapper:['WELCOME', 'TO', 'PYTHON']\n"
     ]
    },
    {
     "data": {
      "text/plain": [
       "['WELCOME', 'TO', 'PYTHON']"
      ]
     },
     "execution_count": 71,
     "metadata": {},
     "output_type": "execute_result"
    }
   ],
   "source": [
    "def fn_uppercase_deco(fn): \n",
    "    print('Inside fn_uppercase_deco')\n",
    "    def fn_wrapper():      \n",
    "        print('Inside wrapper')       \n",
    "        make_upp = fn().upper()\n",
    "        return make_upp\n",
    "    return fn_wrapper\n",
    "\n",
    "def fn_split(f2):\n",
    "    print('Inside fn_split')\n",
    "    def fn_wrapper():\n",
    "        func = f2()\n",
    "        splitted_s = func.split()\n",
    "        print(f'Inside wrapper:{splitted_s}')\n",
    "        return splitted_s\n",
    "    return fn_wrapper\n",
    "@fn_split\n",
    "\n",
    "@fn_uppercase_deco\n",
    "def fn_greetings():\n",
    "    return'welcome to python'\n",
    "fn_greetings()\n"
   ]
  },
  {
   "cell_type": "code",
   "execution_count": 73,
   "metadata": {},
   "outputs": [
    {
     "data": {
      "text/plain": [
       "[1, 4, 9, 16, 25]"
      ]
     },
     "execution_count": 73,
     "metadata": {},
     "output_type": "execute_result"
    }
   ],
   "source": [
    "numbers = [1,2,3,4,5,]\n",
    "\n",
    "def square(x):\n",
    "    return x**2\n",
    "\n",
    "num_squares = map(square,numbers) #maps are iterater makes squres one by one serially\n",
    "\n",
    "list(num_squares)"
   ]
  },
  {
   "cell_type": "code",
   "execution_count": 74,
   "metadata": {},
   "outputs": [
    {
     "data": {
      "text/plain": [
       "[2, 4]"
      ]
     },
     "execution_count": 74,
     "metadata": {},
     "output_type": "execute_result"
    }
   ],
   "source": [
    "numbers = [1,2,3,4,5,]\n",
    "\n",
    "def is_even(x):\n",
    "    res = False\n",
    "    if x % 2 == 0:\n",
    "        res = True\n",
    "    return res\n",
    "\n",
    "even_num = filter(is_even,numbers) #without using for loop it will iterate one by one pick up even numbers only\n",
    "\n",
    "list(even_num)"
   ]
  },
  {
   "cell_type": "code",
   "execution_count": 75,
   "metadata": {},
   "outputs": [
    {
     "data": {
      "text/plain": [
       "15"
      ]
     },
     "execution_count": 75,
     "metadata": {},
     "output_type": "execute_result"
    }
   ],
   "source": [
    "from functools import reduce\n",
    "num_str = ['1','2','3','4','5'] #iterable\n",
    "\n",
    "def add_two(x,y):\n",
    "    return int(x) + int(y) #addition stores in x and new element is store in y it \n",
    "\n",
    "total = reduce(add_two,num_str) \n",
    "total"
   ]
  },
  {
   "cell_type": "code",
   "execution_count": null,
   "metadata": {},
   "outputs": [],
   "source": []
  },
  {
   "cell_type": "code",
   "execution_count": null,
   "metadata": {},
   "outputs": [],
   "source": []
  },
  {
   "cell_type": "code",
   "execution_count": null,
   "metadata": {},
   "outputs": [],
   "source": []
  },
  {
   "cell_type": "code",
   "execution_count": null,
   "metadata": {},
   "outputs": [],
   "source": []
  },
  {
   "cell_type": "code",
   "execution_count": null,
   "metadata": {},
   "outputs": [],
   "source": []
  },
  {
   "cell_type": "code",
   "execution_count": null,
   "metadata": {},
   "outputs": [],
   "source": []
  },
  {
   "cell_type": "code",
   "execution_count": null,
   "metadata": {},
   "outputs": [],
   "source": []
  },
  {
   "cell_type": "code",
   "execution_count": null,
   "metadata": {},
   "outputs": [],
   "source": []
  },
  {
   "cell_type": "code",
   "execution_count": null,
   "metadata": {},
   "outputs": [],
   "source": []
  },
  {
   "cell_type": "code",
   "execution_count": null,
   "metadata": {},
   "outputs": [],
   "source": []
  },
  {
   "cell_type": "code",
   "execution_count": null,
   "metadata": {},
   "outputs": [],
   "source": []
  },
  {
   "cell_type": "code",
   "execution_count": null,
   "metadata": {},
   "outputs": [],
   "source": []
  },
  {
   "cell_type": "code",
   "execution_count": null,
   "metadata": {},
   "outputs": [],
   "source": []
  },
  {
   "cell_type": "code",
   "execution_count": null,
   "metadata": {},
   "outputs": [],
   "source": []
  },
  {
   "cell_type": "code",
   "execution_count": null,
   "metadata": {},
   "outputs": [],
   "source": []
  },
  {
   "cell_type": "code",
   "execution_count": null,
   "metadata": {},
   "outputs": [],
   "source": []
  },
  {
   "cell_type": "code",
   "execution_count": null,
   "metadata": {},
   "outputs": [],
   "source": []
  },
  {
   "cell_type": "code",
   "execution_count": null,
   "metadata": {},
   "outputs": [],
   "source": []
  },
  {
   "cell_type": "code",
   "execution_count": null,
   "metadata": {},
   "outputs": [],
   "source": []
  },
  {
   "cell_type": "code",
   "execution_count": null,
   "metadata": {},
   "outputs": [],
   "source": []
  },
  {
   "cell_type": "code",
   "execution_count": null,
   "metadata": {},
   "outputs": [],
   "source": []
  },
  {
   "cell_type": "code",
   "execution_count": null,
   "metadata": {},
   "outputs": [],
   "source": []
  },
  {
   "cell_type": "code",
   "execution_count": null,
   "metadata": {},
   "outputs": [],
   "source": []
  },
  {
   "cell_type": "code",
   "execution_count": null,
   "metadata": {},
   "outputs": [],
   "source": []
  },
  {
   "cell_type": "code",
   "execution_count": null,
   "metadata": {},
   "outputs": [],
   "source": []
  }
 ],
 "metadata": {
  "kernelspec": {
   "display_name": "Python 3",
   "language": "python",
   "name": "python3"
  },
  "language_info": {
   "codemirror_mode": {
    "name": "ipython",
    "version": 3
   },
   "file_extension": ".py",
   "mimetype": "text/x-python",
   "name": "python",
   "nbconvert_exporter": "python",
   "pygments_lexer": "ipython3",
   "version": "3.10.7"
  }
 },
 "nbformat": 4,
 "nbformat_minor": 2
}
