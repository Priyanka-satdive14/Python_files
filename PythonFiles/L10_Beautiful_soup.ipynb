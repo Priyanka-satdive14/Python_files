{
 "cells": [
  {
   "cell_type": "code",
   "execution_count": 1,
   "metadata": {},
   "outputs": [],
   "source": [
    "#!/usr/bin/env python3\n",
    "# -*- coding:utf-8 -*-"
   ]
  },
  {
   "cell_type": "markdown",
   "metadata": {},
   "source": [
    "https://www.w3.org/TR/PNG/iso_8859-1.txt\n",
    "\n",
    "https://www.example.com"
   ]
  },
  {
   "cell_type": "code",
   "execution_count": 2,
   "metadata": {},
   "outputs": [],
   "source": [
    "import requests"
   ]
  },
  {
   "cell_type": "markdown",
   "metadata": {},
   "source": [
    "- get() # gets the data \n",
    "- status_code # checks current status failer or not\n",
    "- headers\n",
    "- text\n",
    "- json"
   ]
  },
  {
   "cell_type": "code",
   "execution_count": 3,
   "metadata": {},
   "outputs": [
    {
     "name": "stdout",
     "output_type": "stream",
     "text": [
      "<!doctype html>\n",
      "<html>\n",
      "<head>\n",
      "    <title>Example Domain</title>\n",
      "\n",
      "    <meta charset=\"utf-8\" />\n",
      "    <meta http-equiv=\"Content-type\" content=\"text/html; charset=utf-8\" />\n",
      "    <meta name=\"viewport\" content=\"width=device-width, initial-scale=1\" />\n",
      "    <style type=\"text/css\">\n",
      "    body {\n",
      "        background-color: #f0f0f2;\n",
      "        margin: 0;\n",
      "        padding: 0;\n",
      "        font-family: -apple-system, system-ui, BlinkMacSystemFont, \"Segoe UI\", \"Open Sans\", \"Helvetica Neue\", Helvetica, Arial, sans-serif;\n",
      "    \n"
     ]
    }
   ],
   "source": [
    "url = 'https://www.example.com'\n",
    "\n",
    "response  = requests .get(url)\n",
    "\n",
    "if response.status_code == 200: #if website sts code is 200 then\n",
    "    \n",
    "    html_content = response.text #html page found \n",
    "    \n",
    "    print (html_content[:500])  #it will show web html code upto 500 character\n",
    "else:\n",
    "    print (f'failed with status :{response.status_code}')  #if page fails means website error it give sts  code"
   ]
  },
  {
   "cell_type": "code",
   "execution_count": 4,
   "metadata": {},
   "outputs": [
    {
     "name": "stdout",
     "output_type": "stream",
     "text": [
      "dict_keys(['weather_map_key'])\n"
     ]
    }
   ],
   "source": [
    "from Utils.config import Config\n",
    "\n",
    "config = Config()\n",
    "print(config.get_key_names())\n",
    "api_key = config.get_key(\"weather_map_key\")\n"
   ]
  },
  {
   "cell_type": "code",
   "execution_count": 5,
   "metadata": {},
   "outputs": [],
   "source": [
    "city = 'Mumbai'\n",
    "url = f'http://api.openweathermap.org/data/2.5/weather?q={city}&appid={api_key}'"
   ]
  },
  {
   "cell_type": "code",
   "execution_count": 6,
   "metadata": {},
   "outputs": [
    {
     "name": "stdout",
     "output_type": "stream",
     "text": [
      "Mumbai:\n",
      "          Temprature : 301.14\n",
      "          haze \n"
     ]
    }
   ],
   "source": [
    "response = requests.get(url)\n",
    "if response.status_code == 200:\n",
    "    weather_data = response.json()\n",
    "    city_name = weather_data[\"name\"]\n",
    "    temperature = weather_data[\"main\"][\"temp\"]\n",
    "    description = weather_data[\"weather\"] [0] ['description']\n",
    "    print(f'''{city_name}:\n",
    "          Temprature : {temperature}\n",
    "          {description} ''')\n",
    "\n",
    "else:\n",
    "    print(f'faild with status:{response.status_code}')"
   ]
  },
  {
   "cell_type": "code",
   "execution_count": 7,
   "metadata": {},
   "outputs": [
    {
     "data": {
      "text/plain": [
       "{'coord': {'lon': 72.8479, 'lat': 19.0144},\n",
       " 'weather': [{'id': 721,\n",
       "   'main': 'Haze',\n",
       "   'description': 'haze',\n",
       "   'icon': '50n'}],\n",
       " 'base': 'stations',\n",
       " 'main': {'temp': 301.14,\n",
       "  'feels_like': 304.92,\n",
       "  'temp_min': 301.09,\n",
       "  'temp_max': 301.14,\n",
       "  'pressure': 1007,\n",
       "  'humidity': 78,\n",
       "  'sea_level': 1007,\n",
       "  'grnd_level': 1006},\n",
       " 'visibility': 2500,\n",
       " 'wind': {'speed': 2.06, 'deg': 170},\n",
       " 'clouds': {'all': 75},\n",
       " 'dt': 1728739312,\n",
       " 'sys': {'type': 1,\n",
       "  'id': 9052,\n",
       "  'country': 'IN',\n",
       "  'sunrise': 1728694904,\n",
       "  'sunset': 1728737284},\n",
       " 'timezone': 19800,\n",
       " 'id': 1275339,\n",
       " 'name': 'Mumbai',\n",
       " 'cod': 200}"
      ]
     },
     "execution_count": 7,
     "metadata": {},
     "output_type": "execute_result"
    }
   ],
   "source": [
    "weather_data"
   ]
  },
  {
   "cell_type": "code",
   "execution_count": 8,
   "metadata": {},
   "outputs": [],
   "source": [
    "from bs4 import BeautifulSoup\n",
    "\n",
    "url = \"https://news.ycombinator.com\"\n",
    "\n",
    "response = requests.get(url)"
   ]
  },
  {
   "cell_type": "code",
   "execution_count": 11,
   "metadata": {},
   "outputs": [
    {
     "name": "stdout",
     "output_type": "stream",
     "text": [
      "0.FreeBSD: How Can We Make It More Attractive to New Users? (gyptazy.com) | None\n",
      "1.PostgreSQL Streaming Replication (WAL); What It Is and How to Configure One (mindhub365.com) | None\n",
      "2.AMD's Turin: 5th Gen EPYC Launched (chipsandcheese.com) | None\n",
      "3.Putting a full power search engine in Ecto (moosie.us) | None\n",
      "4.Started a guide to writing FUSE filesystems in Python (gwolf.org) | None\n",
      "5.'Shoe doping' changed marathon times in ways we still don't understand (nytimes.com) | None\n",
      "6.Python and SysV Shared Memory (euroquis.nl) | None\n",
      "7.Conway's Gradient of Life (hardmath123.github.io) | None\n",
      "8.The Society in Dedham for Apprehending Horse Thieves (wikipedia.org) | None\n",
      "9.Psilocybin Bests SSRI for Major Depression in First Long-Term Comparison (medscape.com) | None\n",
      "10.Swarm, a new agent framework by OpenAI (github.com/openai) | None\n",
      "11.Lm.rs: Minimal CPU LLM inference in Rust with no dependency (github.com/samuel-vitorino) | None\n",
      "12.“Bad Apple” in Minecraft (purplesyringa.moe) | None\n",
      "13.In Praise of 'Megalopolis' (compactmag.com) | None\n",
      "14.PeachPie Compiler: Compile and run PHP on top of .NET runtime (peachpie.io) | None\n",
      "15.Show HN: Self-Hostable Algolia DocSearch Replacement (github.com/fastrepl) | None\n",
      "16.Gboard double-sided version (landing.google.co.jp) | None\n",
      "17.Show HN: I made a URL expander because short links are too mainstream (urlshortenersaresoyesterdaytrythisamazin...) | None\n",
      "18.The revival of the beach in twentieth-century Los Angeles (bbc.com) | None\n",
      "19.Phase transitions in random circuit sampling [pdf] (nature.com) | None\n",
      "20.Ryzen 9000X3D performance according to MSI (videocardz.com) | None\n",
      "21.How London's Crystal Palace was built so quickly (arstechnica.com) | None\n",
      "22.Windows dynamic linking depends on the active code page (nullprogram.com) | None\n",
      "23.Working from home is powering productivity (imf.org) | None\n",
      "24.INTELLECT–1: Launching the First Decentralized Training of a 10B Parameter Model (primeintellect.ai) | None\n",
      "25.Show HN: I made an Ollama summarizer for Firefox (addons.mozilla.org) | None\n",
      "26.Fundamental physics is dying? [video] (youtube.com) | None\n",
      "27.Why do systems fail? Tandem NonStop system and fault tolerance (erlang-solutions.com) | None\n",
      "28.Understanding the Limitations of Mathematical Reasoning in LLMs (arxiv.org) | None\n",
      "29.Io_uring and seccomp (2022) (0x74696d.com) | None\n"
     ]
    }
   ],
   "source": [
    "if response.status_code== 200:\n",
    "    soup = BeautifulSoup(response.text, 'html.parser') #html code\n",
    "    titles = soup.find_all('span', class_ = 'titleline')\n",
    "    \n",
    "    for index, title in enumerate(titles):\n",
    "        title_text = title.text # get text of title\n",
    "        title_link = title.get('href') # get hrf or url\n",
    "        print (f'{index}.{title_text} | {title_link}')\n",
    "        \n",
    "else:\n",
    "    print(f'failed with status:{response.status_code} ')"
   ]
  },
  {
   "cell_type": "code",
   "execution_count": 16,
   "metadata": {},
   "outputs": [
    {
     "name": "stdout",
     "output_type": "stream",
     "text": [
      "1. | None\n",
      "2. | None\n",
      "3. | None\n",
      "4. | None\n",
      "5. | None\n",
      "6. | None\n",
      "7. | None\n",
      "8. | None\n",
      "9. | None\n",
      "10. | None\n",
      "11. | None\n",
      "12. | None\n",
      "13. | None\n",
      "14. | None\n",
      "15. | None\n",
      "16. | None\n",
      "17. | None\n",
      "18. | None\n",
      "19. | None\n",
      "20. | None\n",
      "21. | None\n",
      "22. | None\n",
      "23. | None\n",
      "24. | None\n",
      "25. | None\n",
      "26. | None\n",
      "27. | None\n",
      "28. | None\n",
      "29. | None\n",
      "30. | None\n"
     ]
    }
   ],
   "source": [
    "if response.status_code== 200:\n",
    "    soup = BeautifulSoup(response.text, 'html.parser') #html code\n",
    "    titles = soup.find_all('span', class_ = 'rank')\n",
    "    \n",
    "    for index, title in enumerate(titles):\n",
    "        title_text = title.text # get text of title\n",
    "        title_link = title.get('href') # get hrf or url\n",
    "        #print (f'{index}.{title_text} | {title_link}')\n",
    "        print (f'{title_text} | {title_link}')\n",
    "        \n",
    "else:\n",
    "    print(f'failed with status:{response.status_code} ')"
   ]
  },
  {
   "cell_type": "code",
   "execution_count": null,
   "metadata": {},
   "outputs": [],
   "source": []
  },
  {
   "cell_type": "code",
   "execution_count": null,
   "metadata": {},
   "outputs": [],
   "source": []
  },
  {
   "cell_type": "code",
   "execution_count": null,
   "metadata": {},
   "outputs": [],
   "source": []
  },
  {
   "cell_type": "code",
   "execution_count": null,
   "metadata": {},
   "outputs": [],
   "source": []
  },
  {
   "cell_type": "code",
   "execution_count": null,
   "metadata": {},
   "outputs": [],
   "source": []
  }
 ],
 "metadata": {
  "kernelspec": {
   "display_name": "Python 3",
   "language": "python",
   "name": "python3"
  },
  "language_info": {
   "codemirror_mode": {
    "name": "ipython",
    "version": 3
   },
   "file_extension": ".py",
   "mimetype": "text/x-python",
   "name": "python",
   "nbconvert_exporter": "python",
   "pygments_lexer": "ipython3",
   "version": "3.10.7"
  }
 },
 "nbformat": 4,
 "nbformat_minor": 2
}
