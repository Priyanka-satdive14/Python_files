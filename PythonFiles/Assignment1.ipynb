{
 "cells": [
  {
   "cell_type": "markdown",
   "metadata": {},
   "source": [
    "# Name:Priyanka Vilas Satdive\n",
    "# PRN:240840141017"
   ]
  },
  {
   "cell_type": "code",
   "execution_count": null,
   "metadata": {},
   "outputs": [],
   "source": [
    "#!/usr/bin/env python3\n",
    "# -*- coding: utf-8 -*-"
   ]
  },
  {
   "cell_type": "code",
   "execution_count": 1,
   "metadata": {},
   "outputs": [
    {
     "name": "stdout",
     "output_type": "stream",
     "text": [
      "2 1\n",
      "3 2\n",
      "4 6\n",
      "5 24\n",
      "6 120\n",
      "7 720\n"
     ]
    }
   ],
   "source": [
    "\n",
    "\n",
    "'''\n",
    "Problem 1:\n",
    "- Using for loop, write and run a Python program to print out n! (n factorial) from 0! to\n",
    "10!\n",
    "- Modify the program above using a while loop so it prints out all of the factorial\n",
    "values that are less than 2 billion.\n",
    "'''\n",
    "fact = 1\n",
    "n = 1\n",
    "while True:\n",
    "    fact = fact * n\n",
    "    n = n + 1\n",
    "    if fact > 2000:\n",
    "        break \n",
    "    print (n,fact)\n"
   ]
  },
  {
   "cell_type": "code",
   "execution_count": 2,
   "metadata": {},
   "outputs": [
    {
     "name": "stdout",
     "output_type": "stream",
     "text": [
      "3  Fizz\n",
      "5 Buzz\n",
      "6  Fizz\n",
      "9  Fizz\n",
      "10 Buzz\n",
      "12  Fizz\n",
      "15 FizzBuzz\n",
      "18  Fizz\n",
      "20 Buzz\n",
      "21  Fizz\n",
      "24  Fizz\n",
      "25 Buzz\n",
      "27  Fizz\n",
      "30 FizzBuzz\n",
      "33  Fizz\n",
      "35 Buzz\n",
      "36  Fizz\n",
      "39  Fizz\n",
      "40 Buzz\n",
      "42  Fizz\n",
      "45 FizzBuzz\n",
      "48  Fizz\n",
      "50 Buzz\n",
      "51  Fizz\n",
      "54  Fizz\n",
      "55 Buzz\n",
      "57  Fizz\n",
      "60 FizzBuzz\n",
      "63  Fizz\n",
      "65 Buzz\n",
      "66  Fizz\n",
      "69  Fizz\n",
      "70 Buzz\n",
      "72  Fizz\n",
      "75 FizzBuzz\n",
      "78  Fizz\n",
      "80 Buzz\n",
      "81  Fizz\n",
      "84  Fizz\n",
      "85 Buzz\n",
      "87  Fizz\n",
      "90 FizzBuzz\n",
      "93  Fizz\n",
      "95 Buzz\n",
      "96  Fizz\n",
      "99  Fizz\n"
     ]
    }
   ],
   "source": [
    "'''\n",
    "Problem 2:\n",
    "Write a Python program that prints the numbers from 1 to 100. For multiples of three, print \"Fizz\" instead of the number, and for multiples of five, print \"Buzz.\" For numbers which are multiples of both three and five, print \"FizzBuzz.\"\n",
    "'''\n",
    "for num1 in range(1,100):\n",
    "    if (num1 % 3 ==0) and (num1 %5 ==0):\n",
    "        print (f'{num1} FizzBuzz')\n",
    "    elif (num1 % 3==0):\n",
    "        print (f'{num1}  Fizz')\n",
    "    elif (num1 % 5==0):\n",
    "        print (f'{num1} Buzz')\n",
    "    \n",
    "\n"
   ]
  }
 ],
 "metadata": {
  "kernelspec": {
   "display_name": "Python 3",
   "language": "python",
   "name": "python3"
  },
  "language_info": {
   "codemirror_mode": {
    "name": "ipython",
    "version": 3
   },
   "file_extension": ".py",
   "mimetype": "text/x-python",
   "name": "python",
   "nbconvert_exporter": "python",
   "pygments_lexer": "ipython3",
   "version": "3.10.2"
  }
 },
 "nbformat": 4,
 "nbformat_minor": 2
}
