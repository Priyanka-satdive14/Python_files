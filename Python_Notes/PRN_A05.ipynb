{
 "cells": [
  {
   "cell_type": "code",
   "execution_count": 1,
   "metadata": {},
   "outputs": [],
   "source": [
    "#!/usr/bin/env python3\n",
    "# -*- coding: utf-8 -*-"
   ]
  },
  {
   "cell_type": "markdown",
   "metadata": {},
   "source": [
    "## PRN : ___________________________________\n",
    "## Name: ___________________________________"
   ]
  },
  {
   "cell_type": "markdown",
   "metadata": {},
   "source": [
    "# Analytics & Statistics using Python\n",
    "## Assignment 05:\n",
    "### Problem 1:\n",
    "\n",
    "Given a dictionary of students and their favourite colours:\n",
    "\n",
    "> people={'Arham':'Blue', 'Lisa':'Yellow','Vinod':'Purple','Jenny':'Pink'}\n",
    "1. Find out how many students are in the list.\n",
    "2. Change Lisa’s Favorite colour.\n",
    "3. Remove ‘Jenny’and her favorite colour\n",
    "4. Sort and print students and their favorite colours in alphabetically by name."
   ]
  },
  {
   "cell_type": "code",
   "execution_count": null,
   "metadata": {},
   "outputs": [],
   "source": []
  },
  {
   "cell_type": "markdown",
   "metadata": {},
   "source": [
    "### Problem 2\n",
    "Write a function translate() that will translate a text into \"rövarspråket\" (Swedish for \"robber's language\"). That is, double every consonant and place an occurrence of \"o\" in between. For example, translate(\"this is fun\") should return the string \"tothohisos isos fofunon\"."
   ]
  },
  {
   "cell_type": "code",
   "execution_count": null,
   "metadata": {},
   "outputs": [],
   "source": []
  },
  {
   "cell_type": "markdown",
   "metadata": {},
   "source": [
    "### Problem 3\n",
    "Write a program that contains a function that has one parameter, n, representing an integer greater than 0. The function should return n! (n factorial). Then write a main function that calls this function with the values 1 through 20, one at a time, printing the returned results."
   ]
  },
  {
   "cell_type": "code",
   "execution_count": null,
   "metadata": {},
   "outputs": [],
   "source": []
  },
  {
   "cell_type": "markdown",
   "metadata": {},
   "source": [
    "### Problem 4\n",
    "Write a Python program to compute the sum 1 + 2 + 3 + 4 + 5 + 6 + 7 + 8 + 9 + 10 recursively"
   ]
  },
  {
   "cell_type": "code",
   "execution_count": null,
   "metadata": {},
   "outputs": [],
   "source": []
  },
  {
   "cell_type": "markdown",
   "metadata": {},
   "source": [
    "### Problem 5\n",
    "Define a function overlapping () that takes two lists and returns True if they have at least one member in common, False otherwise"
   ]
  },
  {
   "cell_type": "code",
   "execution_count": null,
   "metadata": {},
   "outputs": [],
   "source": []
  },
  {
   "cell_type": "markdown",
   "metadata": {},
   "source": [
    "### Problem 6\n",
    "Write a function find_longest_word() that takes a list of words and returns the longest one and its length.\n",
    "\n",
    "> word_list = [\"apple\", \"banana\", \"strawberry\", \"kiwi\", \"pineapple\"]"
   ]
  },
  {
   "cell_type": "code",
   "execution_count": null,
   "metadata": {},
   "outputs": [],
   "source": []
  },
  {
   "cell_type": "markdown",
   "metadata": {},
   "source": [
    "### Problem 7\n",
    "Write a function filter_long_words() that takes a list of words and an integer n and returns the list of words that are longer than n.\n",
    "\n",
    "> word_list = [\"apple\", \"banana\", \"strawberry\", \"kiwi\", \"pineapple\"]\n",
    "\n",
    "> n = 5"
   ]
  },
  {
   "cell_type": "code",
   "execution_count": null,
   "metadata": {},
   "outputs": [],
   "source": []
  },
  {
   "cell_type": "markdown",
   "metadata": {},
   "source": [
    "### Problem 8\n",
    "Define a simple \"spelling correction\" function correct () that takes a string and sees to it that:\n",
    "- Two or more occurrences of the space character is compressed into one, and\n",
    "- Inserts an extra space after a period if the period is directly followed by a letter.\n",
    "\n",
    "e.g. correct (\"This is very funny and  cool.Indeed!\") should return \"This is very funny and cool. Indeed!\""
   ]
  },
  {
   "cell_type": "code",
   "execution_count": null,
   "metadata": {},
   "outputs": [],
   "source": []
  },
  {
   "cell_type": "markdown",
   "metadata": {},
   "source": [
    "### Problem 9\n",
    "In English, present participle is formed by adding suffix -ing to infinite form: go $\\rightarrow$ going. A simple set of heuristic rules can be given as follows:\n",
    "- If the verb ends in e, drop the e and add ing (if not exception be, see, flee, knee, etc.)\n",
    "- If the verb ends in ie, change ie to y and add ing\n",
    "- For words consisting of consonant-vowel-consonant, double the final letter before adding\n",
    "- By default, just adding"
   ]
  },
  {
   "cell_type": "code",
   "execution_count": null,
   "metadata": {},
   "outputs": [],
   "source": []
  }
 ],
 "metadata": {
  "kernelspec": {
   "display_name": "Python 3 (ipykernel)",
   "language": "python",
   "name": "python3"
  },
  "language_info": {
   "codemirror_mode": {
    "name": "ipython",
    "version": 3
   },
   "file_extension": ".py",
   "mimetype": "text/x-python",
   "name": "python",
   "nbconvert_exporter": "python",
   "pygments_lexer": "ipython3",
   "version": "3.10.12"
  }
 },
 "nbformat": 4,
 "nbformat_minor": 4
}
