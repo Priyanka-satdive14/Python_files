{
 "cells": [
  {
   "cell_type": "code",
   "execution_count": 1,
   "metadata": {},
   "outputs": [],
   "source": [
    "#!/usr/bin/env python3\n",
    "# -*- coding: utf-8 -*-"
   ]
  },
  {
   "cell_type": "markdown",
   "metadata": {},
   "source": [
    "# Analytics and Statistics using Python\n",
    "## S10: Working with NumPy\n",
    "\n",
    "<img src='../../prasami_images/prasami_color_tutorials_small.png' width='400' alt=\"By Pramod Sharma : pramod.sharma@prasami.com\"/>"
   ]
  },
  {
   "cell_type": "markdown",
   "metadata": {},
   "source": [
    "## Numpy Arrays"
   ]
  },
  {
   "cell_type": "markdown",
   "metadata": {},
   "source": [
    "NumPy is a powerful Python library that provides support for large, multi-dimensional arrays and matrices, along with a comprehensive collection of high-level mathematical functions to perform operations on these arrays. At its core, NumPy's main object is the ndarray, a homogeneous multidimensional array that can efficiently handle large amounts of data.\n",
    "\n",
    "In Numpy, dimensions are called axes. The number of axes in an array is called rank of the array.\n",
    "\n",
    "### Key Concepts:\n",
    "- **Homogeneous Arrays:** In NumPy, all elements within an array are of the same data type. This homogeneity allows for optimized and fast operations, as NumPy can allocate fixed amounts of memory for the array elements and apply operations uniformly across them.\n",
    "\n",
    "\n",
    "- **Dimensions and Axes:** In NumPy, dimensions are referred to as axes. For example, in a 2D array (which you might think of as a matrix), one axis represents the rows, and the other axis represents the columns. A 3D array might have axes corresponding to height, width, and depth.\n",
    "    The rank of an array is the number of axes or dimensions it has. A 2D array has a rank of 2, a 3D array has a rank of 3, and so on.\n",
    "- **Operations on Arrays:** NumPy provides a rich set of functions to perform operations on these arrays. These include element-wise operations, linear algebra, statistical calculations, and more. The library is designed to work efficiently with large data sets, making it a staple for data science and scientific computing.\n",
    "\n",
    "### Additional Notes:\n",
    "- **Broadcasting:** NumPy supports broadcasting, a powerful mechanism that allows operations between arrays of different shapes, expanding them as needed to perform element-wise operations.\n",
    "- **Memory Efficiency:** Due to its focus on homogeneity and fixed data types, NumPy arrays consume less memory compared to regular Python lists, especially when dealing with large datasets.\n",
    "- **Integration:** NumPy is the foundation for many other scientific libraries in Python, such as SciPy, Pandas, and TensorFlow, making it a critical component of the Python ecosystem.\n",
    "\n",
    "<img src = '../../images/technologies.png' width='400'/>"
   ]
  },
  {
   "cell_type": "code",
   "execution_count": 2,
   "metadata": {
    "collapsed": true,
    "jupyter": {
     "outputs_hidden": true
    }
   },
   "outputs": [],
   "source": [
    "# we need to import the library before we can start using it.\n",
    "\n",
    "###-----------------\n",
    "### Import Statement\n",
    "###-----------------\n",
    "\n",
    "import numpy as np # its a convention in python community to import numpy as 'np'"
   ]
  },
  {
   "cell_type": "code",
   "execution_count": 3,
   "metadata": {},
   "outputs": [
    {
     "data": {
      "text/plain": [
       "array([[0, 1, 2, 3, 4],\n",
       "       [5, 6, 7, 8, 9]])"
      ]
     },
     "execution_count": 3,
     "metadata": {},
     "output_type": "execute_result"
    }
   ],
   "source": [
    "# Simple Array\n",
    "X = np.array([[0,1,2,3,4], [5,6,7,8,9]])\n",
    "\n",
    "X"
   ]
  },
  {
   "cell_type": "code",
   "execution_count": 4,
   "metadata": {},
   "outputs": [
    {
     "data": {
      "text/plain": [
       "dtype('int64')"
      ]
     },
     "execution_count": 4,
     "metadata": {},
     "output_type": "execute_result"
    }
   ],
   "source": [
    "X.dtype"
   ]
  },
  {
   "cell_type": "code",
   "execution_count": 5,
   "metadata": {},
   "outputs": [
    {
     "data": {
      "text/plain": [
       "array([[0, 1, 2, 3, 4],\n",
       "       [5, 6, 7, 8, 9]])"
      ]
     },
     "execution_count": 5,
     "metadata": {},
     "output_type": "execute_result"
    }
   ],
   "source": [
    "# It may also be defined as:\n",
    "X = np.arange(10).reshape((2,5)) # i.e. arrange 0 to 9 in two rows and 5 columns\n",
    "X"
   ]
  },
  {
   "cell_type": "markdown",
   "metadata": {},
   "source": [
    "np.arange(10) produces 10 integers from 0 to 9 and reshape command is to convert to two rows and 5 columns.\n",
    "\n",
    "**Note:** reshaped array should have same number of elements i.e. 10 = 2 *5"
   ]
  },
  {
   "cell_type": "code",
   "execution_count": 6,
   "metadata": {},
   "outputs": [
    {
     "data": {
      "text/plain": [
       "(2, 5)"
      ]
     },
     "execution_count": 6,
     "metadata": {},
     "output_type": "execute_result"
    }
   ],
   "source": [
    "X.shape"
   ]
  },
  {
   "cell_type": "markdown",
   "metadata": {},
   "source": [
    "### From and To List"
   ]
  },
  {
   "cell_type": "code",
   "execution_count": 7,
   "metadata": {},
   "outputs": [
    {
     "name": "stdout",
     "output_type": "stream",
     "text": [
      "Type: <class 'list'>\n",
      "[1, 2, 3, 4, 5]\n"
     ]
    }
   ],
   "source": [
    "# Creating python List\n",
    "python_list = [1,2,3,4,5]\n",
    "\n",
    "# Checking data types\n",
    "print('Type:', type (python_list)) # <class 'list'>\n",
    "\n",
    "print(python_list) # [1, 2, 3, 4, 5]"
   ]
  },
  {
   "cell_type": "code",
   "execution_count": 8,
   "metadata": {},
   "outputs": [
    {
     "name": "stdout",
     "output_type": "stream",
     "text": [
      "<class 'numpy.ndarray'>\n",
      "[1. 2. 3. 4. 5.]\n"
     ]
    }
   ],
   "source": [
    "# Creating Numpy(Numerical Python) array from python list\n",
    "numpy_array_from_list = np.array(python_list, dtype=float)\n",
    "print(type (numpy_array_from_list))   # <class 'numpy.ndarray'>\n",
    "print(numpy_array_from_list) # array([1, 2, 3, 4, 5])"
   ]
  },
  {
   "cell_type": "code",
   "execution_count": 9,
   "metadata": {},
   "outputs": [
    {
     "name": "stdout",
     "output_type": "stream",
     "text": [
      "[[0, 1, 2], [3, 4, 5], [6, 7, 8]]\n",
      "<class 'numpy.ndarray'>\n",
      "[[0. 1. 2.]\n",
      " [3. 4. 5.]\n",
      " [6. 7. 8.]]\n"
     ]
    }
   ],
   "source": [
    "two_dimensional_list = [[0, 1, 2], [3, 4, 5], [6, 7, 8]]\n",
    "print(two_dimensional_list)  # [[0, 1, 2], [3, 4, 5], [6, 7, 8]]\n",
    "two_dim_array_from_list = np.array(two_dimensional_list, dtype=np.float32)\n",
    "print(type (two_dim_array_from_list))   # <class 'numpy.ndarray'>\n",
    "print(two_dim_array_from_list) # array([[0. 1. 2.]  [3. 4. 5.]  [6. 7. 8.]])"
   ]
  },
  {
   "cell_type": "code",
   "execution_count": 10,
   "metadata": {},
   "outputs": [
    {
     "name": "stdout",
     "output_type": "stream",
     "text": [
      "<class 'list'>\n",
      "From one dimensional array: [1.0, 2.0, 3.0, 4.0, 5.0]\n",
      "From two dimensional array:  [[0.0, 1.0, 2.0], [3.0, 4.0, 5.0], [6.0, 7.0, 8.0]]\n"
     ]
    }
   ],
   "source": [
    "# We can always convert an array back to a python list using tolist().\n",
    "np_to_list = numpy_array_from_list.tolist()\n",
    "\n",
    "print(type (np_to_list))\n",
    "print('From one dimensional array:', np_to_list)\n",
    "print('From two dimensional array: ', two_dim_array_from_list.tolist())"
   ]
  },
  {
   "cell_type": "markdown",
   "metadata": {},
   "source": [
    "Numpy Arrays can have a combination of numerals and characters also. Combinations are stored as character string. For details of datatypes, please refer NumPy [documentation](https://docs.scipy.org/doc/numpy/reference/arrays.dtypes.html)"
   ]
  },
  {
   "cell_type": "code",
   "execution_count": 11,
   "metadata": {},
   "outputs": [
    {
     "data": {
      "text/plain": [
       "array([[['0', '1', '2', '3', '4'],\n",
       "        ['5', '6', '7', '8', '9']],\n",
       "\n",
       "       [['a', 'b', 'c', 'd', 'e'],\n",
       "        ['f', 'g', 'h', 'i', 'j']]], dtype='<U21')"
      ]
     },
     "execution_count": 11,
     "metadata": {},
     "output_type": "execute_result"
    }
   ],
   "source": [
    "X1 = np.array([[[0,1,2,3,4], [5,6,7,8,9]], [['a','b','c','d','e'], ['f','g','h','i','j']]])\n",
    "\n",
    "X1"
   ]
  },
  {
   "cell_type": "code",
   "execution_count": 12,
   "metadata": {},
   "outputs": [
    {
     "data": {
      "text/plain": [
       "dtype('<U21')"
      ]
     },
     "execution_count": 12,
     "metadata": {},
     "output_type": "execute_result"
    }
   ],
   "source": [
    "X1.dtype"
   ]
  },
  {
   "cell_type": "markdown",
   "metadata": {},
   "source": [
    "Note - dtype('<U21') represents a NumPy array that can store Unicode strings of up to 21 characters,\n",
    "\n",
    "### Shape of numpy array\n",
    "The shape method provide the shape of the array as a tuple. The first is the row and the second is the column. If the array is just one dimensional it returns the size of the array."
   ]
  },
  {
   "cell_type": "code",
   "execution_count": 13,
   "metadata": {},
   "outputs": [
    {
     "data": {
      "text/plain": [
       "(2, 2, 5)"
      ]
     },
     "execution_count": 13,
     "metadata": {},
     "output_type": "execute_result"
    }
   ],
   "source": [
    "# Shape of the array\n",
    "X1.shape"
   ]
  },
  {
   "cell_type": "code",
   "execution_count": 14,
   "metadata": {},
   "outputs": [
    {
     "data": {
      "text/plain": [
       "3"
      ]
     },
     "execution_count": 14,
     "metadata": {},
     "output_type": "execute_result"
    }
   ],
   "source": [
    "# Number of dimensions\n",
    "X1.ndim"
   ]
  },
  {
   "cell_type": "code",
   "execution_count": 15,
   "metadata": {
    "collapsed": true,
    "jupyter": {
     "outputs_hidden": true
    }
   },
   "outputs": [],
   "source": [
    "X2 = np.array([[[0,1,2,3,4], [5,6,7,8,9]], [list('abcde'), list('fghij')]])"
   ]
  },
  {
   "cell_type": "code",
   "execution_count": 16,
   "metadata": {},
   "outputs": [
    {
     "data": {
      "text/plain": [
       "array([[['0', '1', '2', '3', '4'],\n",
       "        ['5', '6', '7', '8', '9']],\n",
       "\n",
       "       [['a', 'b', 'c', 'd', 'e'],\n",
       "        ['f', 'g', 'h', 'i', 'j']]], dtype='<U21')"
      ]
     },
     "execution_count": 16,
     "metadata": {},
     "output_type": "execute_result"
    }
   ],
   "source": [
    "#Since second row has only two elements, it will be a 2 x 2 array \n",
    "# which intern would contain lists of elements.\n",
    "X2"
   ]
  },
  {
   "cell_type": "code",
   "execution_count": 17,
   "metadata": {},
   "outputs": [
    {
     "data": {
      "text/plain": [
       "(2, 2, 5)"
      ]
     },
     "execution_count": 17,
     "metadata": {},
     "output_type": "execute_result"
    }
   ],
   "source": [
    "X2.shape"
   ]
  },
  {
   "cell_type": "code",
   "execution_count": 18,
   "metadata": {},
   "outputs": [
    {
     "data": {
      "text/plain": [
       "array([['0', '1', '2', '3', '4'],\n",
       "       ['5', '6', '7', '8', '9']], dtype='<U21')"
      ]
     },
     "execution_count": 18,
     "metadata": {},
     "output_type": "execute_result"
    }
   ],
   "source": [
    "# First row\n",
    "X2[0]"
   ]
  },
  {
   "cell_type": "code",
   "execution_count": 19,
   "metadata": {},
   "outputs": [
    {
     "data": {
      "text/plain": [
       "array([['5', '6', '7', '8', '9'],\n",
       "       ['f', 'g', 'h', 'i', 'j']], dtype='<U21')"
      ]
     },
     "execution_count": 19,
     "metadata": {},
     "output_type": "execute_result"
    }
   ],
   "source": [
    "# We can access any row of the array. For example, to access second row: \n",
    "X2[:,1]\n",
    "# Note: index of first row being 0, that for second row is 1"
   ]
  },
  {
   "cell_type": "code",
   "execution_count": 20,
   "metadata": {},
   "outputs": [
    {
     "data": {
      "text/plain": [
       "array([['1', '6'],\n",
       "       ['b', 'g']], dtype='<U21')"
      ]
     },
     "execution_count": 20,
     "metadata": {},
     "output_type": "execute_result"
    }
   ],
   "source": [
    "# Third Dimension\n",
    "X2[:,:,1]"
   ]
  },
  {
   "cell_type": "code",
   "execution_count": 21,
   "metadata": {},
   "outputs": [
    {
     "data": {
      "text/plain": [
       "(10, 20, 20)"
      ]
     },
     "execution_count": 21,
     "metadata": {},
     "output_type": "execute_result"
    }
   ],
   "source": [
    "# size tells us how many elemnent are there in any array.\n",
    "X.size, X1.size, X2.size"
   ]
  },
  {
   "cell_type": "code",
   "execution_count": 22,
   "metadata": {},
   "outputs": [
    {
     "data": {
      "text/plain": [
       "('int64', 'str672', 'str672')"
      ]
     },
     "execution_count": 22,
     "metadata": {},
     "output_type": "execute_result"
    }
   ],
   "source": [
    "X.dtype.name, X1.dtype.name, X2.dtype.name"
   ]
  },
  {
   "cell_type": "code",
   "execution_count": 23,
   "metadata": {},
   "outputs": [
    {
     "data": {
      "text/plain": [
       "array([[['0', '1', '2', '3', '4'],\n",
       "        ['5', '6', '7', '8', '9']],\n",
       "\n",
       "       [['a', 'b', 'c', 'd', 'e'],\n",
       "        ['f', 'g', 'h', 'i', 'j']]], dtype='<U21')"
      ]
     },
     "execution_count": 23,
     "metadata": {},
     "output_type": "execute_result"
    }
   ],
   "source": [
    "X1"
   ]
  },
  {
   "cell_type": "code",
   "execution_count": 24,
   "metadata": {},
   "outputs": [
    {
     "data": {
      "text/plain": [
       "numpy.ndarray"
      ]
     },
     "execution_count": 24,
     "metadata": {},
     "output_type": "execute_result"
    }
   ],
   "source": [
    "type(X)"
   ]
  },
  {
   "cell_type": "code",
   "execution_count": 25,
   "metadata": {},
   "outputs": [
    {
     "data": {
      "text/plain": [
       "array([[[5.68144e-07, 3.30496e-41, 0.00000e+00, 0.00000e+00],\n",
       "        [6.30584e-44, 6.86636e-44, 6.72623e-44, 6.30584e-44],\n",
       "        [6.72623e-44, 7.00649e-44, 1.17709e-43, 6.72623e-44]],\n",
       "\n",
       "       [[7.56701e-44, 8.12753e-44, 6.86636e-44, 7.84727e-44],\n",
       "        [8.12753e-44, 7.42688e-44, 7.56701e-44, 6.44597e-44],\n",
       "        [7.00649e-44, 7.28675e-44, 6.86636e-44, 1.26117e-43]]],\n",
       "      dtype=float32)"
      ]
     },
     "execution_count": 25,
     "metadata": {},
     "output_type": "execute_result"
    }
   ],
   "source": [
    "# create an array of size 2 x 3 x 4 with some arbitary values\n",
    "Y = np.ndarray ( (2, 3, 4), dtype=np.float32)\n",
    "\n",
    "Y"
   ]
  },
  {
   "cell_type": "code",
   "execution_count": 26,
   "metadata": {},
   "outputs": [
    {
     "data": {
      "text/plain": [
       "(2, 3, 4)"
      ]
     },
     "execution_count": 26,
     "metadata": {},
     "output_type": "execute_result"
    }
   ],
   "source": [
    "Y.shape"
   ]
  },
  {
   "cell_type": "code",
   "execution_count": 27,
   "metadata": {},
   "outputs": [
    {
     "data": {
      "text/plain": [
       "3"
      ]
     },
     "execution_count": 27,
     "metadata": {},
     "output_type": "execute_result"
    }
   ],
   "source": [
    "Y.ndim"
   ]
  },
  {
   "cell_type": "markdown",
   "metadata": {},
   "source": [
    "### Data type of numpy array\n",
    "\n",
    "Type of data types: str, int, float, complex, bool, list, None"
   ]
  },
  {
   "cell_type": "code",
   "execution_count": 28,
   "metadata": {},
   "outputs": [
    {
     "name": "stdout",
     "output_type": "stream",
     "text": [
      "[-3 -2 -1  0  1  2  3]\n",
      "int64\n",
      "[-3. -2. -1.  0.  1.  2.  3.]\n",
      "float32\n"
     ]
    }
   ],
   "source": [
    "int_lists = [-3, -2, -1, 0, 1, 2,3]\n",
    "int_array = np.array(int_lists)\n",
    "float_array = np.array(int_lists, dtype=np.float32)\n",
    "\n",
    "print(int_array)\n",
    "print(int_array.dtype)\n",
    "print(float_array)\n",
    "print(float_array.dtype)"
   ]
  },
  {
   "cell_type": "markdown",
   "metadata": {},
   "source": [
    "## Checking data types"
   ]
  },
  {
   "cell_type": "code",
   "execution_count": 108,
   "metadata": {},
   "outputs": [
    {
     "name": "stdout",
     "output_type": "stream",
     "text": [
      "int64\n",
      "float64\n",
      "bool\n"
     ]
    }
   ],
   "source": [
    "#Int,  Float numbers\n",
    "numpy_int_arr = np.array([ 1, 2, 3, 4])\n",
    "\n",
    "numpy_float_arr = np.array([1.1, 2.0, 3.2])\n",
    "\n",
    "numpy_bool_arr = np.array([-3, -2, 0, 1,2,3], dtype=np.bool_)\n",
    "\n",
    "\n",
    "print(numpy_int_arr.dtype)\n",
    "print(numpy_float_arr.dtype)\n",
    "print(numpy_bool_arr.dtype)"
   ]
  },
  {
   "cell_type": "code",
   "execution_count": 30,
   "metadata": {},
   "outputs": [
    {
     "data": {
      "text/plain": [
       "array([ True,  True, False,  True,  True,  True])"
      ]
     },
     "execution_count": 30,
     "metadata": {},
     "output_type": "execute_result"
    }
   ],
   "source": [
    "# Zeros are false, everything else is true \n",
    "numpy_bool_arr"
   ]
  },
  {
   "cell_type": "markdown",
   "metadata": {},
   "source": [
    "### Converting types\n",
    "\n",
    "We can convert the data types of numpy array"
   ]
  },
  {
   "cell_type": "code",
   "execution_count": 109,
   "metadata": {},
   "outputs": [
    {
     "data": {
      "text/plain": [
       "array([1., 2., 3., 4.], dtype=float32)"
      ]
     },
     "execution_count": 109,
     "metadata": {},
     "output_type": "execute_result"
    }
   ],
   "source": [
    "# Int to Float\n",
    "numpy_int_arr = np.array([1,2,3,4], dtype = np.float32)\n",
    "numpy_int_arr"
   ]
  },
  {
   "cell_type": "code",
   "execution_count": 32,
   "metadata": {},
   "outputs": [
    {
     "data": {
      "text/plain": [
       "array([ True,  True, False,  True,  True,  True])"
      ]
     },
     "execution_count": 32,
     "metadata": {},
     "output_type": "execute_result"
    }
   ],
   "source": [
    "# Int ot boolean\n",
    "\n",
    "np.array([-3, -2, 0, 1, 2, 3], dtype='bool') # array([ True,  True, False,  True,  True,  True])"
   ]
  },
  {
   "cell_type": "code",
   "execution_count": 33,
   "metadata": {},
   "outputs": [
    {
     "data": {
      "text/plain": [
       "array(['1', '2', '3', '4'], dtype='<U6')"
      ]
     },
     "execution_count": 33,
     "metadata": {},
     "output_type": "execute_result"
    }
   ],
   "source": [
    "# Int to str\n",
    "numpy_int_arr.astype(np.int16).astype('str')"
   ]
  },
  {
   "cell_type": "markdown",
   "metadata": {},
   "source": [
    "### Size of a numpy array\n",
    "\n",
    "In numpy to know the number of items in a numpy array list we use size"
   ]
  },
  {
   "cell_type": "code",
   "execution_count": 34,
   "metadata": {},
   "outputs": [
    {
     "name": "stdout",
     "output_type": "stream",
     "text": [
      "The size: 5\n",
      "The size: 9\n"
     ]
    }
   ],
   "source": [
    "numpy_array_from_list = np.array([1, 2, 3, 4, 5])\n",
    "two_dimensional_list = np.array([[0, 1, 2],\n",
    "                              [3, 4, 5],\n",
    "                              [6, 7, 8]])\n",
    "\n",
    "print('The size:', numpy_array_from_list.size) # 5\n",
    "print('The size:', two_dimensional_list.size)  # 9"
   ]
  },
  {
   "cell_type": "markdown",
   "metadata": {},
   "source": [
    "## Minimum and Maximum values"
   ]
  },
  {
   "cell_type": "code",
   "execution_count": 106,
   "metadata": {},
   "outputs": [
    {
     "name": "stdout",
     "output_type": "stream",
     "text": [
      "For <class 'numpy.int8'>,:\n",
      "          - minimum value: -128\n",
      "          - maximum value is 127\n",
      "\n",
      "For <class 'numpy.int16'>,:\n",
      "          - minimum value: -32768\n",
      "          - maximum value is 32767\n",
      "\n",
      "For <class 'numpy.int32'>,:\n",
      "          - minimum value: -2147483648\n",
      "          - maximum value is 2147483647\n",
      "\n",
      "For <class 'numpy.int64'>,:\n",
      "          - minimum value: -9223372036854775808\n",
      "          - maximum value is 9223372036854775807\n",
      "\n"
     ]
    }
   ],
   "source": [
    "# Integers\n",
    "for dtype in [np.int8, np.int16,np.int32, np.int64]:\n",
    "    \n",
    "    print(f'''For {dtype},:\n",
    "          - minimum value: {np.iinfo(dtype).min}\n",
    "          - maximum value is {np.iinfo(dtype).max}\\n''')"
   ]
  },
  {
   "cell_type": "code",
   "execution_count": 105,
   "metadata": {},
   "outputs": [
    {
     "name": "stdout",
     "output_type": "stream",
     "text": [
      "For <class 'numpy.float16'>,:\n",
      "        - minimum value: -65504.0\n",
      "        - maximum value is 65504.0\n",
      "        - epsilon value is 0.0009765625\n",
      "\n",
      "For <class 'numpy.float32'>,:\n",
      "        - minimum value: -3.4028234663852886e+38\n",
      "        - maximum value is 3.4028234663852886e+38\n",
      "        - epsilon value is 1.1920928955078125e-07\n",
      "\n",
      "For <class 'numpy.float64'>,:\n",
      "        - minimum value: -1.7976931348623157e+308\n",
      "        - maximum value is 1.7976931348623157e+308\n",
      "        - epsilon value is 2.220446049250313e-16\n",
      "\n"
     ]
    }
   ],
   "source": [
    "# Floats\n",
    "for dtype in [ np.float16, np.float32, np.float64]:\n",
    "    \n",
    "    print(f'''For {dtype},:\n",
    "        - minimum value: {np.finfo(dtype).min}\n",
    "        - maximum value is {np.finfo(dtype).max}\n",
    "        - epsilon value is {np.finfo(dtype).eps}\\n''')\n",
    "    \n",
    "\n",
    "# eps is minimum float increment such that its increment is not taken as ~0"
   ]
  },
  {
   "cell_type": "markdown",
   "metadata": {},
   "source": [
    "### Creating boolean numpy arrays\n",
    "\n",
    "Creating a boolean a numpy array from list"
   ]
  },
  {
   "cell_type": "code",
   "execution_count": 107,
   "metadata": {},
   "outputs": [
    {
     "name": "stdout",
     "output_type": "stream",
     "text": [
      "[False  True  True False False]\n"
     ]
    }
   ],
   "source": [
    "numpy_bool_array = np.array([0, 1, -1, 0, 0], dtype=np.bool_)\n",
    "print(numpy_bool_array) # array([False,  True,  True, False, False])"
   ]
  },
  {
   "cell_type": "markdown",
   "metadata": {},
   "source": [
    "## Slicing Numpy array\n",
    "\n",
    "Slicing in numpy is similar to slicing in python list"
   ]
  },
  {
   "cell_type": "code",
   "execution_count": 38,
   "metadata": {},
   "outputs": [
    {
     "name": "stdout",
     "output_type": "stream",
     "text": [
      "[[1 2]\n",
      " [4 5]]\n"
     ]
    }
   ],
   "source": [
    "two_dimension_array = np.array([[1,2,3],[4,5,6], [7,8,9]])\n",
    "first_two_rows_and_columns = two_dimension_array[0:2, 0:2]\n",
    "print(first_two_rows_and_columns)"
   ]
  },
  {
   "cell_type": "markdown",
   "metadata": {},
   "source": [
    "### Reverse the row and column positions"
   ]
  },
  {
   "cell_type": "code",
   "execution_count": 39,
   "metadata": {},
   "outputs": [
    {
     "name": "stdout",
     "output_type": "stream",
     "text": [
      "Original:\n",
      " [[1 2 3]\n",
      " [4 5 6]\n",
      " [7 8 9]]\n",
      "\n",
      "Reversed:\n",
      " [[9 8 7]\n",
      " [6 5 4]\n",
      " [3 2 1]]\n",
      "\n"
     ]
    }
   ],
   "source": [
    "two_dimension_array = np.array([[1,2,3],[4,5,6], [7,8,9]])\n",
    "print (f'Original:\\n {two_dimension_array}\\n')\n",
    "\n",
    "print (f'Reversed:\\n {two_dimension_array[::-1,::-1]}\\n')"
   ]
  },
  {
   "cell_type": "markdown",
   "metadata": {},
   "source": [
    "## Impute individual values?"
   ]
  },
  {
   "cell_type": "code",
   "execution_count": 40,
   "metadata": {},
   "outputs": [
    {
     "name": "stdout",
     "output_type": "stream",
     "text": [
      "Original\n",
      " [[1 2 3]\n",
      " [4 5 6]\n",
      " [7 8 9]]\n",
      "\n",
      "Imputed\n",
      " [[ 1  2  3]\n",
      " [ 4 55 44]\n",
      " [ 7  8  9]]\n"
     ]
    }
   ],
   "source": [
    "print('Original\\n', two_dimension_array)\n",
    "\n",
    "two_dimension_array[1,1] = 55\n",
    "\n",
    "two_dimension_array[1,2] =44\n",
    "\n",
    "print('\\nImputed\\n', two_dimension_array)"
   ]
  },
  {
   "cell_type": "markdown",
   "metadata": {},
   "source": [
    "## Numpy Zeroes\n",
    "numpy.zeros(shape, dtype=float, order='C')"
   ]
  },
  {
   "cell_type": "code",
   "execution_count": 41,
   "metadata": {},
   "outputs": [
    {
     "data": {
      "text/plain": [
       "array([[0, 0, 0],\n",
       "       [0, 0, 0],\n",
       "       [0, 0, 0]], dtype=int16)"
      ]
     },
     "execution_count": 41,
     "metadata": {},
     "output_type": "execute_result"
    }
   ],
   "source": [
    "\n",
    "numpy_zeroes = np.zeros((3,3),dtype=np.int16,order='C')\n",
    "numpy_zeroes"
   ]
  },
  {
   "cell_type": "markdown",
   "metadata": {},
   "source": [
    "## Numpy Ones"
   ]
  },
  {
   "cell_type": "code",
   "execution_count": 42,
   "metadata": {},
   "outputs": [
    {
     "name": "stdout",
     "output_type": "stream",
     "text": [
      "[[1 1 1]\n",
      " [1 1 1]\n",
      " [1 1 1]]\n"
     ]
    }
   ],
   "source": [
    "\n",
    "numpy_ones = np.ones((3,3), dtype=np.int16, order='C')\n",
    "print(numpy_ones)"
   ]
  },
  {
   "cell_type": "markdown",
   "metadata": {
    "collapsed": true,
    "jupyter": {
     "outputs_hidden": true
    }
   },
   "source": [
    "When storing multi-dimensional data (such as arrays or matrices) in memory, the difference between row-major (C-style) and column-major (Fortran-style) order lies in how the elements of the array are laid out in a linear sequence in memory.\n",
    "Example:\n",
    "Consider a 2D array:\n",
    "\n",
    "$\n",
    "\\begin{align}\n",
    "Array = \\begin{bmatrix} 𝑎_{11} & 𝑎_{12} & 𝑎_{13}\\\\\n",
    "𝑎_{21} & 𝑎_{22} & 𝑎_{23}\\\\\n",
    "𝑎_{31} & 𝑎_{32} & 𝑎_{33}\\\\\n",
    "\\end{bmatrix}\n",
    "\\end{align}\n",
    "$\n",
    "\n",
    "\n",
    "1. Row-Major Order (C-Style):\n",
    "In row-major order, the elements of a multi-dimensional array are stored row by row. This means that elements in the same row are stored contiguously in memory.\n",
    "\n",
    "In row-major order, this array would be stored in memory as:\n",
    "> a11, a12, a13, a21, a22, a23, a31, a32, a33\n",
    "\n",
    "2. Column-Major Order (Fortran-Style)\n",
    "In column-major order, the elements of a multi-dimensional array are stored column by column. This means that elements in the same column are stored contiguously in memory.\n",
    "\n",
    "In column-major order, this array would be stored in memory as:\n",
    "> a11, a21, a31, a12, a22, a32, a13, a23, a33\n",
    "\n",
    "### Why Does This Matter?\n",
    "Performance: Access patterns in your program can significantly affect performance due to how data is cached by the CPU. If your program accesses elements in the order they are stored in memory, it can take advantage of spatial locality, reducing cache misses.\n",
    "\n",
    "### Language Differences: \n",
    "Many programming languages and libraries follow one of these conventions. For example, C and C++ use row-major order by default, while Fortran and MATLAB use column-major order.\n",
    "\n",
    "Understanding these concepts is important when working with libraries or languages that assume a particular memory layout, especially if you need to interface between them or optimize performance for large datasets.\n",
    "\n",
    "\n",
    "## Identity matrix\n",
    "Its a matrix where only diagonal elements are non-zero. Other elements are zero. The diagonal elements are one."
   ]
  },
  {
   "cell_type": "code",
   "execution_count": 43,
   "metadata": {},
   "outputs": [
    {
     "name": "stdout",
     "output_type": "stream",
     "text": [
      "[[1. 0. 0.]\n",
      " [0. 1. 0.]\n",
      " [0. 0. 1.]]\n"
     ]
    }
   ],
   "source": [
    "Z = np.eye(3)\n",
    "print(Z)"
   ]
  },
  {
   "cell_type": "markdown",
   "metadata": {},
   "source": [
    "## Array with random values"
   ]
  },
  {
   "cell_type": "code",
   "execution_count": 44,
   "metadata": {},
   "outputs": [
    {
     "name": "stdout",
     "output_type": "stream",
     "text": [
      "[[0.12291164 0.03742836 0.23933937 0.0482782 ]\n",
      " [0.77745948 0.65282938 0.88884677 0.5937113 ]\n",
      " [0.69478007 0.67667554 0.5734236  0.93964435]\n",
      " [0.17930314 0.16294279 0.42190021 0.2117031 ]]\n"
     ]
    }
   ],
   "source": [
    "Z = np.random.random((4,4))\n",
    "print(Z)"
   ]
  },
  {
   "cell_type": "code",
   "execution_count": 45,
   "metadata": {},
   "outputs": [
    {
     "name": "stdout",
     "output_type": "stream",
     "text": [
      "Min  = 0.03743\n",
      "Max  = 0.93964\n",
      "Mean = 0.45132\n"
     ]
    }
   ],
   "source": [
    "# Min(), max(), mean()\n",
    "Z_min, Z_max, Z_mean = Z.min(), Z.max(), Z.mean()\n",
    "\n",
    "print('Min  = {0:7.5f}\\nMax  = {1:7.5f}\\nMean = {2:7.5f}'.format(Z_min, Z_max, Z_mean))"
   ]
  },
  {
   "cell_type": "code",
   "execution_count": 46,
   "metadata": {},
   "outputs": [
    {
     "name": "stdout",
     "output_type": "stream",
     "text": [
      "Min =  [[0.12291164 0.03742836 0.23933937 0.0482782 ]]\n",
      "Max =   [[0.77745948 0.67667554 0.88884677 0.93964435]]\n"
     ]
    }
   ],
   "source": [
    "# To find minimum and max values in various columns\n",
    "Y_0_min = Z.min(axis =0, keepdims=True)\n",
    "Y_0_max = Z.max(axis =0, keepdims=True)\n",
    "\n",
    "print ('Min = ', Y_0_min)\n",
    "print ('Max =  ', Y_0_max)"
   ]
  },
  {
   "cell_type": "markdown",
   "metadata": {},
   "source": [
    "## Basic Operations\n",
    "\n",
    "NumPy array is not like exactly like python list. To do mathematical operation in Python list we have to loop through the items but numpy can allow to do any mathematical operation without looping.\n",
    "Mathematical Operation:\n",
    "\n",
    "- Addition (+)\n",
    "- Subtraction (-)\n",
    "- Multiplication (\\*)\n",
    "- Division (/)\n",
    "- Modules (%)\n",
    "- Floor Division(//)\n",
    "- Exponential(\\*\\*)\n",
    "\n",
    "### Addition"
   ]
  },
  {
   "cell_type": "code",
   "execution_count": 47,
   "metadata": {},
   "outputs": [
    {
     "data": {
      "text/plain": [
       "array([20, 30, 40, 50])"
      ]
     },
     "execution_count": 47,
     "metadata": {},
     "output_type": "execute_result"
    }
   ],
   "source": [
    "# Let's create two arrays\n",
    "X2 = np.array( [20,30,40,50] )\n",
    "X2"
   ]
  },
  {
   "cell_type": "code",
   "execution_count": 48,
   "metadata": {},
   "outputs": [
    {
     "data": {
      "text/plain": [
       "array([0, 1, 2, 3])"
      ]
     },
     "execution_count": 48,
     "metadata": {},
     "output_type": "execute_result"
    }
   ],
   "source": [
    "Y2 = np.arange( 4 )\n",
    "Y2"
   ]
  },
  {
   "cell_type": "code",
   "execution_count": 49,
   "metadata": {},
   "outputs": [
    {
     "name": "stdout",
     "output_type": "stream",
     "text": [
      "Additions:  [20 31 42 53]\n"
     ]
    }
   ],
   "source": [
    "# Mathematical Operation\n",
    "# Addition\n",
    "addition = X2+Y2\n",
    "print('Additions: ', addition)"
   ]
  },
  {
   "cell_type": "markdown",
   "metadata": {},
   "source": [
    "#### Substraction"
   ]
  },
  {
   "cell_type": "code",
   "execution_count": 50,
   "metadata": {},
   "outputs": [
    {
     "data": {
      "text/plain": [
       "array([20, 29, 38, 47])"
      ]
     },
     "execution_count": 50,
     "metadata": {},
     "output_type": "execute_result"
    }
   ],
   "source": [
    "Z2 = X2 - Y2\n",
    "Z2"
   ]
  },
  {
   "cell_type": "markdown",
   "metadata": {},
   "source": [
    "> First element 20 - 0 = 20\n",
    "\n",
    "> Second element 30 - 1 = 29 and the rest of the elemts are calculated accordingly."
   ]
  },
  {
   "cell_type": "markdown",
   "metadata": {},
   "source": [
    "#### Square"
   ]
  },
  {
   "cell_type": "code",
   "execution_count": 51,
   "metadata": {},
   "outputs": [
    {
     "data": {
      "text/plain": [
       "array([0, 1, 4, 9])"
      ]
     },
     "execution_count": 51,
     "metadata": {},
     "output_type": "execute_result"
    }
   ],
   "source": [
    "Y2**2"
   ]
  },
  {
   "cell_type": "markdown",
   "metadata": {},
   "source": [
    "Every element is squared individually."
   ]
  },
  {
   "cell_type": "markdown",
   "metadata": {},
   "source": [
    "#### Logical"
   ]
  },
  {
   "cell_type": "code",
   "execution_count": 52,
   "metadata": {},
   "outputs": [
    {
     "data": {
      "text/plain": [
       "array([ True,  True, False, False])"
      ]
     },
     "execution_count": 52,
     "metadata": {},
     "output_type": "execute_result"
    }
   ],
   "source": [
    "# test if an element is less than a certain value\n",
    "X2 < 35"
   ]
  },
  {
   "cell_type": "markdown",
   "metadata": {},
   "source": [
    "In not so frequent cases, its simple to iterate over rows of an array using a for loop..."
   ]
  },
  {
   "cell_type": "code",
   "execution_count": 53,
   "metadata": {},
   "outputs": [
    {
     "name": "stdout",
     "output_type": "stream",
     "text": [
      "[['0' '1' '2' '3' '4']\n",
      " ['5' '6' '7' '8' '9']]\n",
      "--------------------------------------------------\n",
      "[['a' 'b' 'c' 'd' 'e']\n",
      " ['f' 'g' 'h' 'i' 'j']]\n",
      "--------------------------------------------------\n"
     ]
    }
   ],
   "source": [
    "for x in X1:\n",
    "    print(x)\n",
    "    print ('-'*50)"
   ]
  },
  {
   "cell_type": "code",
   "execution_count": 54,
   "metadata": {},
   "outputs": [
    {
     "name": "stdout",
     "output_type": "stream",
     "text": [
      "0\n",
      "1\n",
      "2\n",
      "3\n",
      "4\n",
      "5\n",
      "6\n",
      "7\n",
      "8\n",
      "9\n"
     ]
    }
   ],
   "source": [
    "# we can iterate over all items of an array. Not a pythonic way though...\n",
    "for x in X.flat:\n",
    "    print(x)"
   ]
  },
  {
   "cell_type": "markdown",
   "metadata": {},
   "source": [
    "### Division"
   ]
  },
  {
   "cell_type": "code",
   "execution_count": 55,
   "metadata": {},
   "outputs": [
    {
     "name": "stdout",
     "output_type": "stream",
     "text": [
      "[0.         0.03333333 0.05       0.06      ]\n"
     ]
    }
   ],
   "source": [
    "division = Y2/X2\n",
    "print (division)"
   ]
  },
  {
   "cell_type": "markdown",
   "metadata": {},
   "source": [
    "### Modulus"
   ]
  },
  {
   "cell_type": "code",
   "execution_count": 56,
   "metadata": {},
   "outputs": [
    {
     "name": "stdout",
     "output_type": "stream",
     "text": [
      "[0 1 2 0]\n"
     ]
    }
   ],
   "source": [
    "modulus = Y2 % 3\n",
    "print (modulus)"
   ]
  },
  {
   "cell_type": "markdown",
   "metadata": {},
   "source": [
    "### Floor Division"
   ]
  },
  {
   "cell_type": "code",
   "execution_count": 57,
   "metadata": {},
   "outputs": [
    {
     "data": {
      "text/plain": [
       "array([ 6, 10, 13, 16])"
      ]
     },
     "execution_count": 57,
     "metadata": {},
     "output_type": "execute_result"
    }
   ],
   "source": [
    "flr_division = X2//3\n",
    "flr_division"
   ]
  },
  {
   "cell_type": "code",
   "execution_count": 58,
   "metadata": {},
   "outputs": [
    {
     "name": "stdout",
     "output_type": "stream",
     "text": [
      "Original Array:\n",
      " [[0 1 2 3 4]\n",
      " [5 6 7 8 9]]\n",
      "\n",
      "Transposed Array:\n",
      " [[0 5]\n",
      " [1 6]\n",
      " [2 7]\n",
      " [3 8]\n",
      " [4 9]]\n"
     ]
    }
   ],
   "source": [
    "# Transpose an array\n",
    "\n",
    "print ('Original Array:\\n', X)\n",
    "print ()\n",
    "print ('Transposed Array:\\n', X.T)"
   ]
  },
  {
   "cell_type": "code",
   "execution_count": 59,
   "metadata": {},
   "outputs": [
    {
     "name": "stdout",
     "output_type": "stream",
     "text": [
      "[5 6 7 8 9]\n"
     ]
    }
   ],
   "source": [
    "# Let's create a row vector from X\n",
    "Y = X[1,:]\n",
    "print (Y)"
   ]
  },
  {
   "cell_type": "code",
   "execution_count": 60,
   "metadata": {},
   "outputs": [
    {
     "name": "stdout",
     "output_type": "stream",
     "text": [
      "New Array:\n",
      " [[5]\n",
      " [6]\n",
      " [7]\n",
      " [8]\n",
      " [9]]\n",
      "Its shape is : (5, 1)\n"
     ]
    }
   ],
   "source": [
    "# covert into a column vector by moving all elements to a newaxis\n",
    "Yt = Y[:, np.newaxis]\n",
    "\n",
    "print ('New Array:\\n',Yt)\n",
    "print ('Its shape is :',Yt.shape)"
   ]
  },
  {
   "cell_type": "code",
   "execution_count": 61,
   "metadata": {
    "scrolled": true
   },
   "outputs": [
    {
     "name": "stdout",
     "output_type": "stream",
     "text": [
      "New Array:\n",
      " [[[5]]\n",
      "\n",
      " [[6]]\n",
      "\n",
      " [[7]]\n",
      "\n",
      " [[8]]\n",
      "\n",
      " [[9]]]\n",
      "Its shape is : (5, 1, 1)\n"
     ]
    }
   ],
   "source": [
    "# If we move these elements to yet another axis, we will get a three dimensional array\n",
    "Ytt = Yt[:, np.newaxis]\n",
    "print ('New Array:\\n',Ytt)\n",
    "print ('Its shape is :',Ytt.shape)"
   ]
  },
  {
   "cell_type": "markdown",
   "metadata": {
    "collapsed": true,
    "jupyter": {
     "outputs_hidden": true
    }
   },
   "source": [
    "### Array multiplication"
   ]
  },
  {
   "cell_type": "code",
   "execution_count": 62,
   "metadata": {},
   "outputs": [
    {
     "data": {
      "text/plain": [
       "array([0, 1, 2, 3, 4, 5])"
      ]
     },
     "execution_count": 62,
     "metadata": {},
     "output_type": "execute_result"
    }
   ],
   "source": [
    "X = np.arange(6)\n",
    "X"
   ]
  },
  {
   "cell_type": "code",
   "execution_count": 63,
   "metadata": {},
   "outputs": [
    {
     "data": {
      "text/plain": [
       "array([[0, 1],\n",
       "       [2, 3],\n",
       "       [4, 5]])"
      ]
     },
     "execution_count": 63,
     "metadata": {},
     "output_type": "execute_result"
    }
   ],
   "source": [
    "X  = X.reshape((3,2))\n",
    "X"
   ]
  },
  {
   "cell_type": "code",
   "execution_count": 64,
   "metadata": {},
   "outputs": [
    {
     "data": {
      "text/plain": [
       "array([2, 3])"
      ]
     },
     "execution_count": 64,
     "metadata": {},
     "output_type": "execute_result"
    }
   ],
   "source": [
    "y = np.arange(2)\n",
    "y +=2\n",
    "y"
   ]
  },
  {
   "cell_type": "code",
   "execution_count": 65,
   "metadata": {},
   "outputs": [
    {
     "name": "stdout",
     "output_type": "stream",
     "text": [
      "[ 3 13 23]\n"
     ]
    }
   ],
   "source": [
    "print (np.dot(X,y))"
   ]
  },
  {
   "cell_type": "code",
   "execution_count": 66,
   "metadata": {},
   "outputs": [
    {
     "data": {
      "text/plain": [
       "((3, 2), (2,))"
      ]
     },
     "execution_count": 66,
     "metadata": {},
     "output_type": "execute_result"
    }
   ],
   "source": [
    "X.shape, y.shape"
   ]
  },
  {
   "cell_type": "markdown",
   "metadata": {},
   "source": [
    "> First element 0x2 + 1x3  = 3\n",
    "\n",
    "> Second element 2x2 + 3x3 = 13\n",
    "\n",
    "> Third element 2x4 + 5x3 = 23\n",
    "\n",
    "> We learnt that is school too..."
   ]
  },
  {
   "cell_type": "markdown",
   "metadata": {},
   "source": [
    "### Another example"
   ]
  },
  {
   "cell_type": "code",
   "execution_count": 67,
   "metadata": {},
   "outputs": [
    {
     "name": "stdout",
     "output_type": "stream",
     "text": [
      "[[1 2 3]\n",
      " [4 5 6]]\n"
     ]
    }
   ],
   "source": [
    "matrix1 = np.array([[1,2,3], [4,5,6]])\n",
    "print (matrix1)"
   ]
  },
  {
   "cell_type": "code",
   "execution_count": 68,
   "metadata": {},
   "outputs": [
    {
     "name": "stdout",
     "output_type": "stream",
     "text": [
      "[[ 7  8]\n",
      " [ 9 10]\n",
      " [11 12]]\n"
     ]
    }
   ],
   "source": [
    "matrix2 = np.array([[7,8], [9,10], [11,12]])\n",
    "print (matrix2)"
   ]
  },
  {
   "cell_type": "code",
   "execution_count": 69,
   "metadata": {},
   "outputs": [
    {
     "data": {
      "text/plain": [
       "array([[ 58,  64],\n",
       "       [139, 154]])"
      ]
     },
     "execution_count": 69,
     "metadata": {},
     "output_type": "execute_result"
    }
   ],
   "source": [
    "matrix1.dot(matrix2)"
   ]
  },
  {
   "cell_type": "markdown",
   "metadata": {},
   "source": [
    "<img src = '../../images/asp_matmul.png' >"
   ]
  },
  {
   "cell_type": "markdown",
   "metadata": {},
   "source": [
    "### NumPy Matrix Multiplication with np.matmul()"
   ]
  },
  {
   "cell_type": "code",
   "execution_count": 70,
   "metadata": {},
   "outputs": [
    {
     "name": "stdout",
     "output_type": "stream",
     "text": [
      "[[1 2]\n",
      " [3 4]]\n",
      "\n",
      "[[5 6]\n",
      " [7 8]]\n"
     ]
    }
   ],
   "source": [
    "### Matmul: product of two arrays\n",
    "X1 = np.array([[1,2],[3,4]])\n",
    "X2 = np.array([[5,6],[7,8]])\n",
    "\n",
    "print (X1)\n",
    "print()\n",
    "print(X2)"
   ]
  },
  {
   "cell_type": "code",
   "execution_count": 71,
   "metadata": {},
   "outputs": [
    {
     "data": {
      "text/plain": [
       "array([[19, 22],\n",
       "       [43, 50]])"
      ]
     },
     "execution_count": 71,
     "metadata": {},
     "output_type": "execute_result"
    }
   ],
   "source": [
    "\n",
    "\n",
    "np.matmul(X1, X2) ### 1*5+2*7 = 19"
   ]
  },
  {
   "cell_type": "markdown",
   "metadata": {},
   "source": [
    "### Cross Product\n",
    "The cross product of two vectors is a vector that is perpendicular to both of the original vectors, typically in three-dimensional space. In NumPy, the cross product can be computed using the numpy.cross() function.\n",
    "\n",
    "Mathematically,\n",
    "\n",
    "$A= [A_x ,A_y ,A_z ], B=[B_x ,B_y ,B_z]$\n",
    "​\n",
    "\n",
    "The cross product 𝐶 = 𝐴 x 𝐵 is defined as:\n",
    "\n",
    "$𝐶 = [ (A_y.B_z - A_z. B_y) , (A_z.B_x - A_x. B_z) , (A_x.B_y - A_y. B_x) ]$\n",
    "\n",
    "This results in a vector C that is orthogonal (perpendicular) to both A and B.\n",
    "\n",
    "For cross products of two vectors both vectors are assumed to be 3 dimensional. Resultant vector is perpendicular to both the vectors and the magnitude of the cross product is A x B = |A||B|. sin( angle ) ."
   ]
  },
  {
   "cell_type": "code",
   "execution_count": 110,
   "metadata": {
    "collapsed": true,
    "jupyter": {
     "outputs_hidden": true
    }
   },
   "outputs": [],
   "source": [
    "# cross product... vector perpendicular to the plane of the vectors\n",
    "vect_a = np.array([1, 2, 3])\n",
    "vect_b = np.array([4, 5, 6])"
   ]
  },
  {
   "cell_type": "code",
   "execution_count": 111,
   "metadata": {},
   "outputs": [
    {
     "name": "stdout",
     "output_type": "stream",
     "text": [
      "Vector a is [1 2 3] and vector b is [4 5 6]\n"
     ]
    }
   ],
   "source": [
    "print ('Vector a is {} and vector b is {}'.format(vect_a , vect_b))"
   ]
  },
  {
   "cell_type": "code",
   "execution_count": 112,
   "metadata": {},
   "outputs": [
    {
     "name": "stdout",
     "output_type": "stream",
     "text": [
      "Cross product A x B is [-3  6 -3]\n",
      "Cross product B x A is [ 3 -6  3]\n"
     ]
    }
   ],
   "source": [
    "# np.cross returns cross products of two vectors\n",
    "print ( 'Cross product A x B is {}'.format(np.cross ( vect_a , vect_b ) ) )\n",
    "print ( 'Cross product B x A is {}'.format(np.cross ( vect_b , vect_a ) ) )"
   ]
  },
  {
   "cell_type": "markdown",
   "metadata": {},
   "source": [
    "> "
   ]
  },
  {
   "cell_type": "markdown",
   "metadata": {},
   "source": [
    "## Sort an array by the nth column"
   ]
  },
  {
   "cell_type": "code",
   "execution_count": 75,
   "metadata": {},
   "outputs": [
    {
     "name": "stdout",
     "output_type": "stream",
     "text": [
      "The vector was\n",
      " [[0.72 0.05 0.3 ]\n",
      " [0.52 0.61 0.03]\n",
      " [0.29 0.34 0.24]\n",
      " [0.24 0.75 0.95]\n",
      " [0.54 0.04 0.  ]]\n",
      "\n",
      "Sorted by second column\n",
      " [[0.54 0.04 0.  ]\n",
      " [0.72 0.05 0.3 ]\n",
      " [0.29 0.34 0.24]\n",
      " [0.52 0.61 0.03]\n",
      " [0.24 0.75 0.95]]\n"
     ]
    }
   ],
   "source": [
    "Z = np.random.random((5,3)).round(2)\n",
    "\n",
    "print('The vector was\\n', Z)\n",
    "print ()\n",
    "print('Sorted by second column\\n', Z[Z[:,1].argsort()])\n",
    "# Note: index of second column is 1"
   ]
  },
  {
   "cell_type": "markdown",
   "metadata": {},
   "source": [
    "## Check for null values"
   ]
  },
  {
   "cell_type": "code",
   "execution_count": 76,
   "metadata": {},
   "outputs": [
    {
     "name": "stdout",
     "output_type": "stream",
     "text": [
      "False\n"
     ]
    }
   ],
   "source": [
    "print((~Z.any(axis=0)).any())"
   ]
  },
  {
   "cell_type": "code",
   "execution_count": 77,
   "metadata": {
    "collapsed": true,
    "jupyter": {
     "outputs_hidden": true
    }
   },
   "outputs": [],
   "source": [
    "#Now lets set some null values\n",
    "Z[:,1] = False"
   ]
  },
  {
   "cell_type": "code",
   "execution_count": 78,
   "metadata": {},
   "outputs": [
    {
     "name": "stdout",
     "output_type": "stream",
     "text": [
      "[[0.72 0.   0.3 ]\n",
      " [0.52 0.   0.03]\n",
      " [0.29 0.   0.24]\n",
      " [0.24 0.   0.95]\n",
      " [0.54 0.   0.  ]]\n"
     ]
    }
   ],
   "source": [
    "# How does z look\n",
    "print (Z)"
   ]
  },
  {
   "cell_type": "code",
   "execution_count": 79,
   "metadata": {},
   "outputs": [
    {
     "name": "stdout",
     "output_type": "stream",
     "text": [
      "True\n"
     ]
    }
   ],
   "source": [
    "# Print whether there are any null columns\n",
    "\n",
    "print((~Z.any(axis=0)).any())"
   ]
  },
  {
   "cell_type": "code",
   "execution_count": 80,
   "metadata": {},
   "outputs": [
    {
     "data": {
      "text/plain": [
       "dtype('float64')"
      ]
     },
     "execution_count": 80,
     "metadata": {},
     "output_type": "execute_result"
    }
   ],
   "source": [
    "Z.dtype"
   ]
  },
  {
   "cell_type": "markdown",
   "metadata": {},
   "source": [
    "## Horitzontal Stack"
   ]
  },
  {
   "cell_type": "code",
   "execution_count": 81,
   "metadata": {},
   "outputs": [
    {
     "name": "stdout",
     "output_type": "stream",
     "text": [
      "Horizontal Stacked: [1 2 3 4 5 6]\n"
     ]
    }
   ],
   "source": [
    "np_list_one = np.array([1,2,3])\n",
    "np_list_two = np.array([4,5,6])\n",
    "\n",
    "print('Horizontal Stacked:', np.hstack((np_list_one, np_list_two)))"
   ]
  },
  {
   "cell_type": "markdown",
   "metadata": {},
   "source": [
    "## Vertical Stack"
   ]
  },
  {
   "cell_type": "code",
   "execution_count": 82,
   "metadata": {},
   "outputs": [
    {
     "name": "stdout",
     "output_type": "stream",
     "text": [
      "Vertical Stacked:\n",
      " [[1 2 3]\n",
      " [4 5 6]]\n"
     ]
    }
   ],
   "source": [
    "print('Vertical Stacked:\\n', np.vstack((np_list_one, np_list_two)))"
   ]
  },
  {
   "cell_type": "markdown",
   "metadata": {},
   "source": [
    "### Numpy numpy.arange()\n",
    "\n",
    "#### What is Arange?\n",
    "Sometimes, you want to create values that are evenly spaced within a defined interval. For instance, you want to create values from 1 to 10; you can use numpy.arange() function"
   ]
  },
  {
   "cell_type": "code",
   "execution_count": 83,
   "metadata": {},
   "outputs": [
    {
     "name": "stdout",
     "output_type": "stream",
     "text": [
      "lst range(0, 11, 2)\n",
      "[0, 2, 4, 6, 8, 10]\n"
     ]
    }
   ],
   "source": [
    "# List Example\n",
    "# creating list using range(starting, stop, step)\n",
    "lst = range(0, 11, 2)\n",
    "print ('lst', lst)\n",
    "print (list(lst))"
   ]
  },
  {
   "cell_type": "code",
   "execution_count": 84,
   "metadata": {},
   "outputs": [
    {
     "data": {
      "text/plain": [
       "array([ 0,  1,  2,  3,  4,  5,  6,  7,  8,  9, 10, 11, 12, 13, 14, 15, 16,\n",
       "       17, 18, 19])"
      ]
     },
     "execution_count": 84,
     "metadata": {},
     "output_type": "execute_result"
    }
   ],
   "source": [
    "# Similar to range numpy.arange(start, stop, step)\n",
    "whole_numbers = np.arange(0, 20, 1)\n",
    "whole_numbers"
   ]
  },
  {
   "cell_type": "markdown",
   "metadata": {},
   "source": [
    "### Creating sequence of numbers using linspace"
   ]
  },
  {
   "cell_type": "code",
   "execution_count": 85,
   "metadata": {},
   "outputs": [
    {
     "data": {
      "text/plain": [
       "array([1. , 1.5, 2. , 2.5, 3. , 3.5, 4. , 4.5, 5. ])"
      ]
     },
     "execution_count": 85,
     "metadata": {},
     "output_type": "execute_result"
    }
   ],
   "source": [
    "np.linspace(1.0, 5.0, num=9) # Rounded off "
   ]
  },
  {
   "cell_type": "code",
   "execution_count": 86,
   "metadata": {},
   "outputs": [
    {
     "data": {
      "text/plain": [
       "array([1. , 1.5, 2. , 2.5, 3. , 3.5, 4. , 4.5])"
      ]
     },
     "execution_count": 86,
     "metadata": {},
     "output_type": "execute_result"
    }
   ],
   "source": [
    "# not to include the last value in the interval\n",
    "np.linspace(1.0, 5.0, num=8, endpoint=False) # now divisions are 8 only"
   ]
  },
  {
   "cell_type": "code",
   "execution_count": 87,
   "metadata": {},
   "outputs": [
    {
     "data": {
      "text/plain": [
       "array([   10.,   100.,  1000., 10000.])"
      ]
     },
     "execution_count": 87,
     "metadata": {},
     "output_type": "execute_result"
    }
   ],
   "source": [
    "# LogSpace returns even spaced numbers on a log scale. Logspace has the same parameters as np.linspace.\n",
    "# numpy.logspace(start, stop, num, endpoint)\n",
    "\n",
    "np.logspace(1, 4.0, num=4)"
   ]
  },
  {
   "cell_type": "markdown",
   "metadata": {},
   "source": [
    "### Itemsize\n",
    "Length of one array element in bytes."
   ]
  },
  {
   "cell_type": "code",
   "execution_count": 88,
   "metadata": {},
   "outputs": [
    {
     "data": {
      "text/plain": [
       "array([[0, 1],\n",
       "       [2, 3],\n",
       "       [4, 5]])"
      ]
     },
     "execution_count": 88,
     "metadata": {},
     "output_type": "execute_result"
    }
   ],
   "source": [
    "# to check the size of an array\n",
    "X"
   ]
  },
  {
   "cell_type": "code",
   "execution_count": 89,
   "metadata": {},
   "outputs": [
    {
     "data": {
      "text/plain": [
       "8"
      ]
     },
     "execution_count": 89,
     "metadata": {},
     "output_type": "execute_result"
    }
   ],
   "source": [
    "X.itemsize"
   ]
  },
  {
   "cell_type": "code",
   "execution_count": 90,
   "metadata": {},
   "outputs": [
    {
     "data": {
      "text/plain": [
       "1"
      ]
     },
     "execution_count": 90,
     "metadata": {},
     "output_type": "execute_result"
    }
   ],
   "source": [
    "# int8\n",
    "X = X.astype(np.int8)\n",
    "X.itemsize"
   ]
  },
  {
   "cell_type": "code",
   "execution_count": 91,
   "metadata": {},
   "outputs": [
    {
     "data": {
      "text/plain": [
       "2"
      ]
     },
     "execution_count": 91,
     "metadata": {},
     "output_type": "execute_result"
    }
   ],
   "source": [
    "# float16\n",
    "X = X.astype(np.float16)\n",
    "X.itemsize"
   ]
  },
  {
   "cell_type": "code",
   "execution_count": 92,
   "metadata": {},
   "outputs": [
    {
     "data": {
      "text/plain": [
       "8"
      ]
     },
     "execution_count": 92,
     "metadata": {},
     "output_type": "execute_result"
    }
   ],
   "source": [
    "# float64\n",
    "X = X.astype(np.float64)\n",
    "X.itemsize"
   ]
  },
  {
   "cell_type": "code",
   "execution_count": 93,
   "metadata": {},
   "outputs": [
    {
     "data": {
      "text/plain": [
       "16"
      ]
     },
     "execution_count": 93,
     "metadata": {},
     "output_type": "execute_result"
    }
   ],
   "source": [
    "# np.complex128\n",
    "X = X.astype(np.complex128)\n",
    "X.itemsize"
   ]
  },
  {
   "cell_type": "markdown",
   "metadata": {},
   "source": [
    "### How to create repeating sequences?"
   ]
  },
  {
   "cell_type": "code",
   "execution_count": 94,
   "metadata": {},
   "outputs": [
    {
     "name": "stdout",
     "output_type": "stream",
     "text": [
      "Tile:    [1 2 3 1 2 3]\n",
      "Repeat:  [1 1 2 2 3 3]\n"
     ]
    }
   ],
   "source": [
    "a = [1,2,3]\n",
    "\n",
    "# Repeat whole of 'a' two times\n",
    "print('Tile:   ', np.tile(a, 2))\n",
    "\n",
    "# Repeat each element of 'a' two times\n",
    "print('Repeat: ', np.repeat(a, 2))"
   ]
  },
  {
   "cell_type": "markdown",
   "metadata": {},
   "source": [
    "## Mode"
   ]
  },
  {
   "cell_type": "code",
   "execution_count": 95,
   "metadata": {},
   "outputs": [
    {
     "name": "stdout",
     "output_type": "stream",
     "text": [
      "mode:  ModeResult(mode=1, count=126)\n"
     ]
    }
   ],
   "source": [
    "from scipy import stats\n",
    "np_normal_dis = np.random.randint(1, 10,1000) # mean, standard deviation, number of samples\n",
    "print('mode: ', stats.mode(np_normal_dis))"
   ]
  },
  {
   "cell_type": "code",
   "execution_count": 96,
   "metadata": {},
   "outputs": [
    {
     "name": "stdout",
     "output_type": "stream",
     "text": [
      "Unique: [1 2 3 4 5 6 7 8 9]\n",
      "Counts: [126 110 108 122 102 115 107 105 105]\n"
     ]
    }
   ],
   "source": [
    "unique, counts = np.unique(np_normal_dis, return_counts=True)\n",
    "print ('Unique:', unique)\n",
    "print ('Counts:', counts)"
   ]
  },
  {
   "cell_type": "markdown",
   "metadata": {},
   "source": [
    "## Broad Casting\n",
    "\n",
    "Broadcasting allows NumPy to perform operations on arrays of different shapes in a way that makes element-wise operations more efficient. This avoids the need to create arrays of the same shape manually, which saves memory and computation time."
   ]
  },
  {
   "cell_type": "code",
   "execution_count": 97,
   "metadata": {},
   "outputs": [
    {
     "name": "stdout",
     "output_type": "stream",
     "text": [
      "Matrix:\n",
      " [[1 2 3]\n",
      " [4 5 6]\n",
      " [7 8 9]]\n",
      "Vector:\n",
      " [ 1  0 -1]\n",
      "Result after broadcasting:\n",
      " [[2 2 2]\n",
      " [5 5 5]\n",
      " [8 8 8]]\n"
     ]
    }
   ],
   "source": [
    "import numpy as np\n",
    "\n",
    "# 2D array of shape (3, 3)\n",
    "matrix = np.array([[1, 2, 3],\n",
    "                   [4, 5, 6],\n",
    "                   [7, 8, 9]])\n",
    "\n",
    "# 1D array of shape (3,)\n",
    "vector = np.array([1, 0, -1])\n",
    "\n",
    "# Broadcasting will add the vector to each row of the matrix\n",
    "result = matrix + vector\n",
    "\n",
    "print(\"Matrix:\\n\", matrix)\n",
    "print(\"Vector:\\n\", vector)\n",
    "print(\"Result after broadcasting:\\n\", result)"
   ]
  },
  {
   "cell_type": "markdown",
   "metadata": {},
   "source": [
    "- The matrix is of shape (3, 3) and the vector is of shape (3,).\n",
    "- The vector is broadcast to each row of the matrix, making the operation possible.\n",
    "#### Failure Condition: Broadcasting with Incompatible Shapes\n",
    "If the arrays have shapes that are not compatible, NumPy will raise a ValueError.\n",
    "\n"
   ]
  },
  {
   "cell_type": "code",
   "execution_count": 98,
   "metadata": {},
   "outputs": [
    {
     "ename": "ValueError",
     "evalue": "operands could not be broadcast together with shapes (3,3) (2,) ",
     "output_type": "error",
     "traceback": [
      "\u001b[0;31m---------------------------------------------------------------------------\u001b[0m",
      "\u001b[0;31mValueError\u001b[0m                                Traceback (most recent call last)",
      "Cell \u001b[0;32mIn[98], line 10\u001b[0m\n\u001b[1;32m      7\u001b[0m incompatible_vector \u001b[38;5;241m=\u001b[39m np\u001b[38;5;241m.\u001b[39marray([\u001b[38;5;241m1\u001b[39m, \u001b[38;5;241m-\u001b[39m\u001b[38;5;241m1\u001b[39m])\n\u001b[1;32m      9\u001b[0m \u001b[38;5;66;03m# This will raise an error because the shapes are not compatible for broadcasting\u001b[39;00m\n\u001b[0;32m---> 10\u001b[0m result \u001b[38;5;241m=\u001b[39m \u001b[43mmatrix\u001b[49m\u001b[43m \u001b[49m\u001b[38;5;241;43m+\u001b[39;49m\u001b[43m \u001b[49m\u001b[43mincompatible_vector\u001b[49m\n",
      "\u001b[0;31mValueError\u001b[0m: operands could not be broadcast together with shapes (3,3) (2,) "
     ]
    }
   ],
   "source": [
    "# 2D array of shape (3, 3)\n",
    "matrix = np.array([[1, 2, 3],\n",
    "                   [4, 5, 6],\n",
    "                   [7, 8, 9]])\n",
    "\n",
    "# 1D array of shape (2,)\n",
    "incompatible_vector = np.array([1, -1])\n",
    "\n",
    "# This will raise an error because the shapes are not compatible for broadcasting\n",
    "result = matrix + incompatible_vector"
   ]
  },
  {
   "cell_type": "markdown",
   "metadata": {},
   "source": [
    "### Caution:\n",
    "Make sure that the broadcasting is in right direction"
   ]
  },
  {
   "cell_type": "code",
   "execution_count": 117,
   "metadata": {},
   "outputs": [
    {
     "name": "stdout",
     "output_type": "stream",
     "text": [
      "Matrix - (3, 3):\n",
      " [[1 2 3]\n",
      " [4 5 6]\n",
      " [7 8 9]]\n",
      "Vector - (3,):\n",
      " [ 2  0 -1]\n",
      "Result after broadcasting (Multiplication):\n",
      " [[ 2  0 -3]\n",
      " [ 8  0 -6]\n",
      " [14  0 -9]]\n"
     ]
    }
   ],
   "source": [
    "# 2D array of shape (3, 3)\n",
    "matrix = np.array([[1, 2, 3],\n",
    "                   [4, 5, 6],\n",
    "                   [7, 8, 9]])\n",
    "\n",
    "# 1D array of shape (3,)\n",
    "vector = np.array([2, 0, -1])\n",
    "\n",
    "# Broadcasting will multiply the vector with each row of the matrix\n",
    "result = matrix * vector\n",
    "\n",
    "print(f\"Matrix - {matrix.shape}:\\n\", matrix)\n",
    "print(f\"Vector - {vector.shape}:\\n\", vector)\n",
    "print(\"Result after broadcasting (Multiplication):\\n\", result)"
   ]
  },
  {
   "cell_type": "markdown",
   "metadata": {},
   "source": [
    "Changing shape of vector"
   ]
  },
  {
   "cell_type": "code",
   "execution_count": 116,
   "metadata": {},
   "outputs": [
    {
     "name": "stdout",
     "output_type": "stream",
     "text": [
      "Matrix - (3, 3):\n",
      " [[1 2 3]\n",
      " [4 5 6]\n",
      " [7 8 9]]\n",
      "Vector - (3, 1):\n",
      " [[ 2]\n",
      " [ 0]\n",
      " [-1]]\n",
      "Result after broadcasting (Multiplication):\n",
      " [[ 2  4  6]\n",
      " [ 0  0  0]\n",
      " [-7 -8 -9]]\n"
     ]
    }
   ],
   "source": [
    "# 2D array of shape (3, 3)\n",
    "matrix = np.array([[1, 2, 3],\n",
    "                   [4, 5, 6],\n",
    "                   [7, 8, 9]])\n",
    "\n",
    "# 1D array of shape (3,)\n",
    "#vector = np.array([[2], [0], [-1]])\n",
    "vector = vector.reshape(3,1)\n",
    "\n",
    "# Broadcasting will multiply the vector with each row of the matrix\n",
    "result = matrix * vector\n",
    "\n",
    "print(f\"Matrix - {matrix.shape}:\\n\", matrix)\n",
    "print(f\"Vector - {vector.shape}:\\n\", vector)\n",
    "print(\"Result after broadcasting (Multiplication):\\n\", result)"
   ]
  },
  {
   "cell_type": "markdown",
   "metadata": {},
   "source": [
    "\n",
    "## Scipy Sparse Matrices"
   ]
  },
  {
   "cell_type": "code",
   "execution_count": 92,
   "metadata": {
    "collapsed": true,
    "jupyter": {
     "outputs_hidden": true
    }
   },
   "outputs": [],
   "source": [
    "from scipy import sparse"
   ]
  },
  {
   "cell_type": "code",
   "execution_count": 93,
   "metadata": {},
   "outputs": [
    {
     "name": "stdout",
     "output_type": "stream",
     "text": [
      "[[0.+0.j 0.+0.j]\n",
      " [2.+0.j 3.+0.j]\n",
      " [4.+0.j 5.+0.j]]\n"
     ]
    }
   ],
   "source": [
    "# set the some elements to zero\n",
    "X[X < 2] = 0\n",
    "print (X)"
   ]
  },
  {
   "cell_type": "code",
   "execution_count": 94,
   "metadata": {},
   "outputs": [
    {
     "name": "stdout",
     "output_type": "stream",
     "text": [
      "<Compressed Sparse Row sparse matrix of dtype 'complex128'\n",
      "\twith 4 stored elements and shape (3, 2)>\n",
      "  Coords\tValues\n",
      "  (1, 0)\t(2+0j)\n",
      "  (1, 1)\t(3+0j)\n",
      "  (2, 0)\t(4+0j)\n",
      "  (2, 1)\t(5+0j)\n"
     ]
    }
   ],
   "source": [
    "# to convert X into a csr (Compressed-Sparse-Row) matrix\n",
    "X_csr = sparse.csr_matrix(X)\n",
    "print (X_csr)"
   ]
  },
  {
   "cell_type": "code",
   "execution_count": 95,
   "metadata": {},
   "outputs": [
    {
     "data": {
      "text/plain": [
       "<Compressed Sparse Row sparse matrix of dtype 'complex128'\n",
       "\twith 4 stored elements and shape (3, 2)>"
      ]
     },
     "execution_count": 95,
     "metadata": {},
     "output_type": "execute_result"
    }
   ],
   "source": [
    "X_csr"
   ]
  },
  {
   "cell_type": "code",
   "execution_count": 96,
   "metadata": {},
   "outputs": [
    {
     "name": "stdout",
     "output_type": "stream",
     "text": [
      "[[0.+0.j 0.+0.j]\n",
      " [2.+0.j 3.+0.j]\n",
      " [4.+0.j 5.+0.j]]\n"
     ]
    }
   ],
   "source": [
    "# To convert the sparse matrix back to a dense array\n",
    "print (X_csr.toarray())"
   ]
  },
  {
   "cell_type": "markdown",
   "metadata": {},
   "source": [
    "### Point by point distances, using scipy spatial "
   ]
  },
  {
   "cell_type": "code",
   "execution_count": 104,
   "metadata": {},
   "outputs": [
    {
     "name": "stdout",
     "output_type": "stream",
     "text": [
      "The vectors are\n",
      " [[1 2]\n",
      " [3 4]\n",
      " [5 6]] \n",
      "\n",
      " [[0 0]\n",
      " [7 7]]\n",
      "\n",
      "\n",
      "The distances are\n",
      " [[2.23606798 7.81024968]\n",
      " [5.         5.        ]\n",
      " [7.81024968 2.23606798]]\n"
     ]
    }
   ],
   "source": [
    "import scipy\n",
    "\n",
    "import scipy.spatial\n",
    "\n",
    "# Two sets of points\n",
    "XA = np.array([[1, 2], [3, 4], [5, 6]])\n",
    "XB = np.array([[0, 0], [7, 7]])\n",
    "\n",
    "D = scipy.spatial.distance.cdist(XA,XB)\n",
    "print('The vectors are\\n', XA, '\\n\\n', XB)\n",
    "print('\\n\\nThe distances are\\n', D)"
   ]
  },
  {
   "cell_type": "markdown",
   "metadata": {},
   "source": [
    "The Euclidean distance between two points A = $[a_1, a_2, ... a_n]$ and B = $[b_1, b_2, ... b_n]$ in n-dimensional space is given by:\n",
    "\n",
    "Euclidean Distance= $\\sqrt{(a1−b1)^2  + (a2−b2)^2 +...+(an−bn)^2}$\n",
    "\n",
    "For our example:\n",
    "\n",
    "Distance between [1, 2] and [0, 0]:\n",
    "\n",
    "$\n",
    "\\begin{align}\n",
    "D &= \\sqrt{(1−0)^2 + (2−0)^2}\\\\\n",
    "&= \\sqrt{1^2 + 2^2}\\\\\n",
    "&= \\sqrt{1^2 + 2^2}\\\\\n",
    "&≈2.236\n",
    "\\end{align}\n",
    "$\n",
    "\n",
    "`metric`: A string or callable that specifies the distance metric to use. Common metrics include:\n",
    "- `euclidean`: Euclidean distance.\n",
    "- `cityblock`: Manhattan distance.\n",
    "- `cosine`: Cosine distance.\n",
    "- `correlation`: Correlation distance.\n",
    "- `hamming`: Hamming distance."
   ]
  },
  {
   "cell_type": "code",
   "execution_count": 105,
   "metadata": {},
   "outputs": [
    {
     "data": {
      "text/plain": [
       "7.810249675906654"
      ]
     },
     "execution_count": 105,
     "metadata": {},
     "output_type": "execute_result"
    }
   ],
   "source": [
    "np.sqrt((1-7)**2+(2-7)**2)"
   ]
  },
  {
   "cell_type": "markdown",
   "metadata": {},
   "source": [
    "## Gausian Distribution\n",
    "To draw the Gaussian normal distribution using numpy. As you can see below, the numpy can generate random numbers. To create random sample, we need the mean(mu), sigma(standard deviation), mumber of data points."
   ]
  },
  {
   "cell_type": "code",
   "execution_count": 106,
   "metadata": {},
   "outputs": [
    {
     "data": {
      "image/png": "[encoded data removed]",
      "text/plain": [
       "<Figure size 640x480 with 1 Axes>"
      ]
     },
     "metadata": {},
     "output_type": "display_data"
    }
   ],
   "source": [
    "import seaborn as sns\n",
    "import matplotlib.pyplot as plt\n",
    "mu = 28\n",
    "sigma = 15\n",
    "samples = 100000\n",
    "\n",
    "X1 = np.random.normal(mu, sigma, samples)\n",
    "ax = sns.histplot(X1, kde= True)\n",
    "ax.set(xlabel=\"X\", ylabel='Density')\n",
    "plt.show()"
   ]
  },
  {
   "cell_type": "code",
   "execution_count": null,
   "metadata": {},
   "outputs": [],
   "source": []
  }
 ],
 "metadata": {
  "kernelspec": {
   "display_name": "Python 3 (ipykernel)",
   "language": "python",
   "name": "python3"
  },
  "language_info": {
   "codemirror_mode": {
    "name": "ipython",
    "version": 3
   },
   "file_extension": ".py",
   "mimetype": "text/x-python",
   "name": "python",
   "nbconvert_exporter": "python",
   "pygments_lexer": "ipython3",
   "version": "3.10.12"
  }
 },
 "nbformat": 4,
 "nbformat_minor": 4
}
