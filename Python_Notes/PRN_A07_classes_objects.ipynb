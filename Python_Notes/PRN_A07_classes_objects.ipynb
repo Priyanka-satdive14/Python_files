{
 "cells": [
  {
   "cell_type": "code",
   "execution_count": 1,
   "metadata": {},
   "outputs": [],
   "source": [
    "#!/usr/bin/env python3\n",
    "# -*- coding: utf-8 -*-"
   ]
  },
  {
   "cell_type": "markdown",
   "metadata": {},
   "source": [
    "# Analytics and Statistics using Python\n",
    "## S07: Classes and Objects\n",
    "- Working example\n",
    "\n",
    "<img src='../../prasami_images/prasami_color_tutorials_small.png' width='400' alt=\"By Pramod Sharma : pramod.sharma@prasami.com\" align = \"left\"/>"
   ]
  },
  {
   "cell_type": "markdown",
   "metadata": {},
   "source": [
    "## Implement a Parking Lot System\n",
    "### Problem Statement:\n",
    "\n",
    "Design a parking lot system that can handle multiple types of vehicles. The system should:\n",
    "\n",
    "- Track the availability of parking spots.\n",
    "- Allow different types of vehicles to park in appropriate spots (e.g., a motorcycle can park in a car spot, but not vice versa).\n",
    "- Handle parking fees based on the duration a vehicle has been parked.\n",
    "\n",
    "### Classes to Implement:\n",
    "\n",
    "- Vehicle (Base Class):\n",
    "    - Attributes: license_plate, vehicle_type.\n",
    "    - Methods: __str__(), getters, setters.\n",
    "\n",
    "- ParkingSpot:\n",
    "\n",
    "    - Attributes: spot_id, spot_type, is_occupied.\n",
    "    - Methods: park_vehicle(), remove_vehicle().\n",
    "\n",
    "- ParkingLot:\n",
    "\n",
    "    - Attributes: name, spots (a list of parking spots), occupied_spots (a dictionary mapping spots to vehicles).\n",
    "    - Methods: add_spot(), find_spot_for_vehicle(), calculate_fee()."
   ]
  },
  {
   "cell_type": "markdown",
   "metadata": {},
   "source": [
    "# Example Usage"
   ]
  },
  {
   "cell_type": "code",
   "execution_count": 39,
   "metadata": {},
   "outputs": [
    {
     "ename": "NameError",
     "evalue": "name 'ParkingLot' is not defined",
     "output_type": "error",
     "traceback": [
      "\u001b[0;31m---------------------------------------------------------------------------\u001b[0m",
      "\u001b[0;31mNameError\u001b[0m                                 Traceback (most recent call last)",
      "Cell \u001b[0;32mIn[39], line 2\u001b[0m\n\u001b[1;32m      1\u001b[0m \u001b[38;5;66;03m# Initialize a parking lot\u001b[39;00m\n\u001b[0;32m----> 2\u001b[0m parking_lot \u001b[38;5;241m=\u001b[39m \u001b[43mParkingLot\u001b[49m(\u001b[38;5;124m\"\u001b[39m\u001b[38;5;124mDowntown Parking\u001b[39m\u001b[38;5;124m\"\u001b[39m)\n\u001b[1;32m      4\u001b[0m \u001b[38;5;66;03m# Add parking spots to the lot\u001b[39;00m\n\u001b[1;32m      5\u001b[0m parking_lot\u001b[38;5;241m.\u001b[39madd_spot(ParkingSpot(\u001b[38;5;124m\"\u001b[39m\u001b[38;5;124mS1\u001b[39m\u001b[38;5;124m\"\u001b[39m, \u001b[38;5;124m\"\u001b[39m\u001b[38;5;124mCar\u001b[39m\u001b[38;5;124m\"\u001b[39m))\n",
      "\u001b[0;31mNameError\u001b[0m: name 'ParkingLot' is not defined"
     ]
    }
   ],
   "source": [
    "# Initialize a parking lot\n",
    "parking_lot = ParkingLot(\"Downtown Parking\")\n",
    "\n",
    "# Add parking spots to the lot\n",
    "parking_lot.add_spot(ParkingSpot(\"S1\", \"Car\"))\n",
    "parking_lot.add_spot(ParkingSpot(\"S2\", \"Motorcycle\"))\n",
    "parking_lot.add_spot(ParkingSpot(\"S3\", \"Car\"))\n",
    "\n",
    "# Create vehicles\n",
    "car = Vehicle(\"XYZ-1234\", \"Car\")\n",
    "motorcycle = Vehicle(\"ABC-5678\", \"Motorcycle\")\n",
    "\n",
    "# Park vehicles\n",
    "parking_lot.park_vehicle(car)\n",
    "parking_lot.park_vehicle(motorcycle)\n",
    "\n",
    "# Calculate parking fees (assuming some time has passed)\n",
    "parking_lot.calculate_fee(car)\n",
    "parking_lot.calculate_fee(motorcycle)\n",
    "\n",
    "# Remove vehicles from parking spots\n",
    "parking_lot.remove_vehicle(car)"
   ]
  },
  {
   "cell_type": "markdown",
   "metadata": {},
   "source": [
    "### Task:\n",
    "\n",
    "- Implement the park_vehicle() method to ensure that vehicles are parked in appropriate spots.\n",
    "- Implement the calculate_fee() method to calculate fees based on the time a vehicle has been parked. This may require tracking the entry time and using time-based calculations.\n",
    "- Consider edge cases, such as what happens if the parking lot is full or if a vehicle tries to park in an occupied spot."
   ]
  },
  {
   "cell_type": "markdown",
   "metadata": {},
   "source": []
  }
 ],
 "metadata": {
  "kernelspec": {
   "display_name": "Python 3 (ipykernel)",
   "language": "python",
   "name": "python3"
  },
  "language_info": {
   "codemirror_mode": {
    "name": "ipython",
    "version": 3
   },
   "file_extension": ".py",
   "mimetype": "text/x-python",
   "name": "python",
   "nbconvert_exporter": "python",
   "pygments_lexer": "ipython3",
   "version": "3.10.12"
  }
 },
 "nbformat": 4,
 "nbformat_minor": 4
}
