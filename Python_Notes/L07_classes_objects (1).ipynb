{
 "cells": [
  {
   "cell_type": "code",
   "execution_count": 10,
   "metadata": {},
   "outputs": [],
   "source": [
    "#!/usr/bin/env python3\n",
    "# -*- coding: utf-8 -*-"
   ]
  },
  {
   "cell_type": "markdown",
   "metadata": {},
   "source": [
    "# Analytics and Statistics using Python\n",
    "## L07: Classes & Objects - Lecture suppliment\n",
    "\n",
    "\n",
    "<img src='../../prasami_images/prasami_color_tutorials_small.png' width='400' alt=\"By Pramod Sharma : pramod.sharma@prasami.com\" align = \"left\"/>"
   ]
  },
  {
   "cell_type": "code",
   "execution_count": 11,
   "metadata": {},
   "outputs": [
    {
     "data": {
      "text/plain": [
       "14"
      ]
     },
     "execution_count": 11,
     "metadata": {},
     "output_type": "execute_result"
    }
   ],
   "source": [
    "len('this is a line')"
   ]
  },
  {
   "cell_type": "code",
   "execution_count": 12,
   "metadata": {},
   "outputs": [
    {
     "data": {
      "text/plain": [
       "6"
      ]
     },
     "execution_count": 12,
     "metadata": {},
     "output_type": "execute_result"
    }
   ],
   "source": [
    "len([1,2,3,4,5,6])"
   ]
  },
  {
   "cell_type": "code",
   "execution_count": 13,
   "metadata": {},
   "outputs": [
    {
     "name": "stdout",
     "output_type": "stream",
     "text": [
      "<class '__main__.Person'>\n"
     ]
    }
   ],
   "source": [
    "class Person:\n",
    "    pass\n",
    "\n",
    "print (Person)\n"
   ]
  },
  {
   "cell_type": "code",
   "execution_count": 14,
   "metadata": {},
   "outputs": [
    {
     "name": "stdout",
     "output_type": "stream",
     "text": [
      "<__main__.Person object at 0x757378059a80>\n"
     ]
    }
   ],
   "source": [
    "p = Person()\n",
    "print (p)"
   ]
  },
  {
   "cell_type": "code",
   "execution_count": 15,
   "metadata": {},
   "outputs": [
    {
     "data": {
      "text/plain": [
       "['__class__',\n",
       " '__delattr__',\n",
       " '__dict__',\n",
       " '__dir__',\n",
       " '__doc__',\n",
       " '__eq__',\n",
       " '__format__',\n",
       " '__ge__',\n",
       " '__getattribute__',\n",
       " '__gt__',\n",
       " '__hash__',\n",
       " '__init__',\n",
       " '__init_subclass__',\n",
       " '__le__',\n",
       " '__lt__',\n",
       " '__module__',\n",
       " '__ne__',\n",
       " '__new__',\n",
       " '__reduce__',\n",
       " '__reduce_ex__',\n",
       " '__repr__',\n",
       " '__setattr__',\n",
       " '__sizeof__',\n",
       " '__str__',\n",
       " '__subclasshook__',\n",
       " '__weakref__']"
      ]
     },
     "execution_count": 15,
     "metadata": {},
     "output_type": "execute_result"
    }
   ],
   "source": [
    "dir(Person)"
   ]
  },
  {
   "cell_type": "code",
   "execution_count": 16,
   "metadata": {},
   "outputs": [],
   "source": [
    "class Person:\n",
    "    def __init__(self, fName, lName, \n",
    "                 age, country, city):\n",
    "        # attributes\n",
    "        self.first_name = fName  # Name\n",
    "        self.last_name = lName\n",
    "        self.age = age\n",
    "        self.country = country\n",
    "        self.city = city\n",
    "    # Methods\n",
    "    def full_name (self):\n",
    "        return f'{self.first_name} {self.last_name}'\n",
    "\n"
   ]
  },
  {
   "cell_type": "code",
   "execution_count": 17,
   "metadata": {},
   "outputs": [
    {
     "name": "stdout",
     "output_type": "stream",
     "text": [
      "Paul Lee\n"
     ]
    }
   ],
   "source": [
    "# fName, lName, age, country, city\n",
    "p = Person('Paul', 'Lee', 25, 'India', 'Pune')\n",
    "print (p.full_name ()) "
   ]
  },
  {
   "cell_type": "code",
   "execution_count": 18,
   "metadata": {},
   "outputs": [],
   "source": [
    "class PersonLocal:\n",
    "    def __init__(self, fName, lName, age,\n",
    "                 country = 'India',\n",
    "                 city = 'Pune'):\n",
    "        \n",
    "        # attributes\n",
    "        self.first_name = fName  # Name\n",
    "        self.last_name = lName\n",
    "        self.age = age\n",
    "        self.country = country\n",
    "        self.city = city\n",
    "        self.skills = []\n",
    "    # Methods\n",
    "    def full_name (self):\n",
    "        return f'{self.first_name} {self.last_name}'\n",
    "    \n",
    "    def add_skill(self, skill):\n",
    "        self.skills.append(skill)\n",
    "\n",
    "    def print_info(self):\n",
    "        return f'''{self.first_name} {self.last_name}, \n",
    "{self.age} old,\n",
    "lives in {self.city}, {self.country},\n",
    "skilled in {self.skills}\n",
    "'''"
   ]
  },
  {
   "cell_type": "code",
   "execution_count": 19,
   "metadata": {},
   "outputs": [
    {
     "name": "stdout",
     "output_type": "stream",
     "text": [
      "Rohit Gupta\n"
     ]
    }
   ],
   "source": [
    "# fName, lName, age, country, city\n",
    "p1 = PersonLocal('Rohit', 'Gupta', 26)\n",
    "print (p1.full_name ()) "
   ]
  },
  {
   "cell_type": "code",
   "execution_count": 20,
   "metadata": {},
   "outputs": [
    {
     "name": "stdout",
     "output_type": "stream",
     "text": [
      "Rohit Gupta, \n",
      "26 old,\n",
      "lives in Pune, India,\n",
      "skilled in ['Python', 'Pandas', 'NumPy']\n",
      "\n"
     ]
    }
   ],
   "source": [
    "p1.add_skill('Python')\n",
    "p1.add_skill('Pandas')\n",
    "p1.add_skill('NumPy')\n",
    "print(p1.print_info())"
   ]
  },
  {
   "cell_type": "markdown",
   "metadata": {},
   "source": [
    "## Inheritance"
   ]
  },
  {
   "cell_type": "code",
   "execution_count": 21,
   "metadata": {},
   "outputs": [],
   "source": [
    "class Student(PersonLocal):\n",
    "    ''' Student is inherited from Person'''\n",
    "    pass"
   ]
  },
  {
   "cell_type": "code",
   "execution_count": 22,
   "metadata": {},
   "outputs": [
    {
     "name": "stdout",
     "output_type": "stream",
     "text": [
      "Rohan Tuli, \n",
      "26 old,\n",
      "lives in Delhi, India,\n",
      "skilled in []\n",
      "\n"
     ]
    }
   ],
   "source": [
    "s1 = Student('Mohan', 'Singh', 25)\n",
    "s2 = Student('Rohan', 'Tuli', 26, 'India', 'Delhi')\n",
    "print(s2.print_info())"
   ]
  },
  {
   "cell_type": "code",
   "execution_count": 23,
   "metadata": {},
   "outputs": [
    {
     "name": "stdout",
     "output_type": "stream",
     "text": [
      "Aaaah....\n",
      "I am full, no thanks!\n"
     ]
    }
   ],
   "source": [
    "class Bird:\n",
    "    def __init__ (self):\n",
    "        self.hungry = True\n",
    "    def eat(self):\n",
    "        if self.hungry:\n",
    "            print('Aaaah....')\n",
    "            self.hungry = False\n",
    "        else:\n",
    "            print('I am full, no thanks!')\n",
    "\n",
    "b = Bird()\n",
    "b.eat()\n",
    "b.eat()"
   ]
  },
  {
   "cell_type": "code",
   "execution_count": 24,
   "metadata": {},
   "outputs": [
    {
     "name": "stdout",
     "output_type": "stream",
     "text": [
      "Singing: Squawk! Squawk!!\n",
      "Pheu...\n",
      "No thanks, Had enough!\n"
     ]
    }
   ],
   "source": [
    "class SongBird(Bird):\n",
    "    def __init__(self):\n",
    "        super(SongBird, self).__init__()\n",
    "        self.sound = 'Squawk!'\n",
    "    def sing(self):\n",
    "        print (f'Singing: {self.sound} {self.sound}!')\n",
    "    \n",
    "    def eat(self):\n",
    "        if self.hungry:\n",
    "            print('Pheu...')\n",
    "            self.hungry = False\n",
    "        else:\n",
    "            print('No thanks, Had enough!')\n",
    "\n",
    "sb = SongBird()\n",
    "sb.sing()\n",
    "sb.eat()\n",
    "sb.eat()"
   ]
  },
  {
   "cell_type": "markdown",
   "metadata": {},
   "source": [
    "### Encapsulation"
   ]
  },
  {
   "cell_type": "code",
   "execution_count": 25,
   "metadata": {},
   "outputs": [],
   "source": [
    "globalName = 'Sir Lancelot'\n",
    "\n",
    "class OpenObject():\n",
    "    def __init__(self):\n",
    "        self.globalName = globalName\n",
    "\n",
    "    def setName(self, name):\n",
    "        global globalName\n",
    "        globalName = name\n",
    "        self.globalName = name\n",
    "    def getName(self):\n",
    "        return self.globalName"
   ]
  },
  {
   "cell_type": "code",
   "execution_count": 26,
   "metadata": {},
   "outputs": [
    {
     "data": {
      "text/plain": [
       "'Sir Lancelot'"
      ]
     },
     "metadata": {},
     "output_type": "display_data"
    },
    {
     "data": {
      "text/plain": [
       "'Robin Hood'"
      ]
     },
     "metadata": {},
     "output_type": "display_data"
    },
    {
     "data": {
      "text/plain": [
       "'Robin Hood'"
      ]
     },
     "metadata": {},
     "output_type": "display_data"
    }
   ],
   "source": [
    "o1 = OpenObject()\n",
    "display(o1.globalName)\n",
    "o1.setName('Robin Hood')\n",
    "display(o1.getName())\n",
    "o2= OpenObject()\n",
    "display(o2.getName())"
   ]
  },
  {
   "cell_type": "code",
   "execution_count": 27,
   "metadata": {},
   "outputs": [],
   "source": [
    "class EnclObject():\n",
    "    def __init__(self, name = 'Sir Lancelor'):\n",
    "        self._name = name\n",
    "\n",
    "    def setName(self, new_name):\n",
    "        self._name = new_name\n",
    "\n",
    "    def getName(self):\n",
    "        return self._name"
   ]
  },
  {
   "cell_type": "code",
   "execution_count": 28,
   "metadata": {},
   "outputs": [
    {
     "data": {
      "text/plain": [
       "'Sir Lancelor'"
      ]
     },
     "metadata": {},
     "output_type": "display_data"
    },
    {
     "data": {
      "text/plain": [
       "'Robin Hood'"
      ]
     },
     "metadata": {},
     "output_type": "display_data"
    },
    {
     "data": {
      "text/plain": [
       "'Sir Lancelor'"
      ]
     },
     "metadata": {},
     "output_type": "display_data"
    }
   ],
   "source": [
    "o1 = EnclObject()\n",
    "display(o1.getName())\n",
    "o1.setName('Robin Hood')\n",
    "display(o1.getName())\n",
    "o2= EnclObject()\n",
    "display(o2.getName())"
   ]
  },
  {
   "cell_type": "code",
   "execution_count": 29,
   "metadata": {},
   "outputs": [
    {
     "name": "stdout",
     "output_type": "stream",
     "text": [
      "Maruti 800 is starting..\n",
      "Hyundai i10 is starting..\n"
     ]
    }
   ],
   "source": [
    "class Car:\n",
    "    def __init__(self, make, model):\n",
    "        self.make  = make\n",
    "        self.model = model\n",
    "    def start(self):\n",
    "        print(f'{self.make} {self.model} is starting..')\n",
    "car1 = Car('Maruti', '800')\n",
    "car2 = Car('Hyundai', 'i10')\n",
    "car1.start()\n",
    "car2.start()"
   ]
  },
  {
   "cell_type": "code",
   "execution_count": 30,
   "metadata": {},
   "outputs": [
    {
     "data": {
      "text/plain": [
       "'Maruti'"
      ]
     },
     "execution_count": 30,
     "metadata": {},
     "output_type": "execute_result"
    }
   ],
   "source": [
    "car1.make"
   ]
  },
  {
   "cell_type": "code",
   "execution_count": 31,
   "metadata": {},
   "outputs": [
    {
     "name": "stdout",
     "output_type": "stream",
     "text": [
      "Where are you! I am not there!\n"
     ]
    }
   ],
   "source": [
    "class Secret:\n",
    "    def __inaccessible(self):\n",
    "        print ('I am not there!')\n",
    "    def accessible(self):\n",
    "        print('Where are you!', end=' ')\n",
    "        self.__inaccessible()\n",
    "s1 = Secret()\n",
    "s1.accessible()"
   ]
  },
  {
   "cell_type": "markdown",
   "metadata": {},
   "source": [
    "# Name Mangling"
   ]
  },
  {
   "cell_type": "code",
   "execution_count": 32,
   "metadata": {},
   "outputs": [],
   "source": [
    "class BankAccount:\n",
    "    def __init__(self, account_number):\n",
    "        self.__account_number = account_number\n",
    "    def __validate_pin(self, pin):\n",
    "        return len(pin) == 4\n",
    "acc = BankAccount('123456')\n",
    "        "
   ]
  },
  {
   "cell_type": "code",
   "execution_count": 33,
   "metadata": {},
   "outputs": [
    {
     "data": {
      "text/plain": [
       "'123456'"
      ]
     },
     "execution_count": 33,
     "metadata": {},
     "output_type": "execute_result"
    }
   ],
   "source": [
    "acc._BankAccount__account_number"
   ]
  },
  {
   "cell_type": "code",
   "execution_count": 34,
   "metadata": {},
   "outputs": [
    {
     "data": {
      "text/plain": [
       "True"
      ]
     },
     "execution_count": 34,
     "metadata": {},
     "output_type": "execute_result"
    }
   ],
   "source": [
    "acc._BankAccount__validate_pin('1234')"
   ]
  },
  {
   "cell_type": "code",
   "execution_count": 35,
   "metadata": {},
   "outputs": [
    {
     "name": "stdout",
     "output_type": "stream",
     "text": [
      "Buddy makes a bark sound\n"
     ]
    },
    {
     "data": {
      "text/plain": [
       "'Generic Animal'"
      ]
     },
     "execution_count": 35,
     "metadata": {},
     "output_type": "execute_result"
    }
   ],
   "source": [
    "class Animal:\n",
    "    def __init__(self, name):\n",
    "        self._name = name\n",
    "    def _make_sound(self, sound):\n",
    "        print(f'{self._name} makes a {sound} sound')\n",
    "\n",
    "class Dog(Animal):\n",
    "    def bark(self):\n",
    "        self._make_sound('bark')\n",
    "\n",
    "animal = Animal('Generic Animal')\n",
    "dog = Dog('Buddy')\n",
    "dog.bark() # Buddy makes a bark sound\n",
    "animal._name"
   ]
  },
  {
   "cell_type": "code",
   "execution_count": 36,
   "metadata": {},
   "outputs": [
    {
     "name": "stdout",
     "output_type": "stream",
     "text": [
      "ID: 101, name: Anil, gets 50000\n",
      "ID: 102, name: Bob, gets 60000\n"
     ]
    }
   ],
   "source": [
    "class Employee:\n",
    "    def __init__(self, emp_id, emp_name, emp_salary):\n",
    "        self._emp_id = emp_id\n",
    "        self._emp_name = emp_name\n",
    "        self._emp_salary = emp_salary\n",
    "\n",
    "    def __str__(self):\n",
    "        return f'ID: {self._emp_id}, name: {self._emp_name}, gets {self._emp_salary}'\n",
    "    \n",
    "    def increase_salary(self, amount):\n",
    "        if amount > 0:\n",
    "            self._emp_salary += amount\n",
    "        else:\n",
    "            print(f'Invalid amount: {amount}')\n",
    "\n",
    "empl1 = Employee(101, 'Anil', 50000)\n",
    "\n",
    "empl2 = Employee(102, 'Bob', 60000)\n",
    "\n",
    "print (empl1)\n",
    "print (empl2)"
   ]
  },
  {
   "cell_type": "code",
   "execution_count": 37,
   "metadata": {},
   "outputs": [
    {
     "name": "stdout",
     "output_type": "stream",
     "text": [
      "ID: 101, name: Anil, gets 51000\n"
     ]
    }
   ],
   "source": [
    "empl1.increase_salary(1000)\n",
    "print (empl1)"
   ]
  },
  {
   "cell_type": "markdown",
   "metadata": {},
   "source": [
    "### Multiple Super class"
   ]
  },
  {
   "cell_type": "code",
   "execution_count": 38,
   "metadata": {},
   "outputs": [
    {
     "name": "stdout",
     "output_type": "stream",
     "text": [
      "Value: 6\n"
     ]
    }
   ],
   "source": [
    "class Calculator:\n",
    "    def calculate(self, expression):\n",
    "        self.value = eval(expression)\n",
    "\n",
    "class Talker:\n",
    "    def talk(self):\n",
    "        print (f'Value: {self.value}')\n",
    "\n",
    "class TalkingCaculator(Calculator, Talker):\n",
    "    pass\n",
    "\n",
    "tc = TalkingCaculator()\n",
    "tc.calculate('1+2+3')\n",
    "tc.talk()"
   ]
  },
  {
   "cell_type": "code",
   "execution_count": 39,
   "metadata": {},
   "outputs": [
    {
     "name": "stdout",
     "output_type": "stream",
     "text": [
      "In __init__ of TalkingCaculator\n",
      "In __init__ of Calculator\n",
      "In __init__ of Talker\n",
      "In __init__ of Interaction system\n",
      "I am Talker\n"
     ]
    }
   ],
   "source": [
    "class InteractionSystem:\n",
    "    def __init__(self):\n",
    "        print('In __init__ of Interaction system')\n",
    "    def who_am_i(self):\n",
    "        print ('I am InteractionSystem')\n",
    "\n",
    "class Calculator(InteractionSystem):\n",
    "    def __init__(self):\n",
    "        print('In __init__ of Calculator')\n",
    "        super().__init__()\n",
    "\n",
    "    def calculate(self, expression):\n",
    "        self.value = eval(expression)\n",
    "\n",
    "    # def who_am_i(self):\n",
    "    #     print ('I am Calculator')\n",
    "\n",
    "class Talker(InteractionSystem):\n",
    "    def __init__(self):\n",
    "        print('In __init__ of Talker')\n",
    "        super().__init__()\n",
    "\n",
    "    def who_am_i(self):\n",
    "        print ('I am Talker')\n",
    "    def talk(self):\n",
    "        print (f'Value: {self.value}')\n",
    "\n",
    "class TalkingCaculator(Calculator, Talker):\n",
    "    def __init__(self):\n",
    "        print('In __init__ of TalkingCaculator')\n",
    "        super().__init__()\n",
    "\n",
    "tc = TalkingCaculator()\n",
    "tc.who_am_i()"
   ]
  },
  {
   "cell_type": "code",
   "execution_count": 40,
   "metadata": {},
   "outputs": [
    {
     "data": {
      "text/plain": [
       "(__main__.TalkingCaculator,\n",
       " __main__.Calculator,\n",
       " __main__.Talker,\n",
       " __main__.InteractionSystem,\n",
       " object)"
      ]
     },
     "execution_count": 40,
     "metadata": {},
     "output_type": "execute_result"
    }
   ],
   "source": [
    "TalkingCaculator.__mro__"
   ]
  },
  {
   "cell_type": "markdown",
   "metadata": {},
   "source": [
    "`__len__()`, `__getitem()__`, `__setitem()__`, `__delitem-_`"
   ]
  },
  {
   "cell_type": "code",
   "execution_count": 43,
   "metadata": {},
   "outputs": [
    {
     "name": "stdout",
     "output_type": "stream",
     "text": [
      "{}\n"
     ]
    }
   ],
   "source": [
    "def check_index(key):\n",
    "    if not isinstance(key, int) : raise TypeError\n",
    "    if key<0: raise IndexError\n",
    "\n",
    "class AirthmeticError:\n",
    "    def __init__(self, start=0,step = 0):\n",
    "        self.start = start\n",
    "        self.step = step\n",
    "        self.change = {}\n",
    "\n",
    "    def __getitem__(self, key):\n",
    "        check_index(key)\n",
    "        try: return self.change[key]\n",
    "        except KeyError:\n",
    "            return self.start + key*self.step\n",
    "\n",
    "    def __setitem__(self, key, value):\n",
    "        check_index(key)\n",
    "        self.change[key] = value\n",
    "\n",
    "    def __str__(self):\n",
    "        return f'{self.change}'\n",
    "\n",
    "s = AirthmeticError(1,2)\n",
    "print (s)"
   ]
  },
  {
   "cell_type": "code",
   "execution_count": 45,
   "metadata": {},
   "outputs": [
    {
     "name": "stdout",
     "output_type": "stream",
     "text": [
      "{2: 1000}\n"
     ]
    }
   ],
   "source": [
    "s[2] = 1000\n",
    "print (s)"
   ]
  },
  {
   "cell_type": "markdown",
   "metadata": {},
   "source": [
    "### Iterators"
   ]
  },
  {
   "cell_type": "code",
   "execution_count": 46,
   "metadata": {},
   "outputs": [],
   "source": [
    "class Fibs:\n",
    "    def __init__(self):\n",
    "        self.a = 0\n",
    "        self.b = 1\n",
    "    def next(self):\n",
    "        self.a, self.b = self.b, self.a+self.b\n",
    "        return self.a\n",
    "    def __iter__(self):\n",
    "        return self"
   ]
  },
  {
   "cell_type": "code",
   "execution_count": 48,
   "metadata": {},
   "outputs": [
    {
     "name": "stdout",
     "output_type": "stream",
     "text": [
      "1, 1, 2, 3, 5, 8, 13, 21, 34, 55, 89, 144, 233, 377, 610, 987, 1597, 2584, 4181, 6765, 10946, 17711, 28657, 46368, 75025, 121393, 196418, 317811, 514229, 832040, 1346269, 2178309, 3524578, 5702887, 9227465, 14930352, 24157817, 39088169, 63245986, 102334155, 165580141, 267914296, 433494437, 701408733, 1134903170, 1836311903, 2971215073, 4807526976, 7778742049, 12586269025, 20365011074, 32951280099, 53316291173, 86267571272, 139583862445, 225851433717, 365435296162, 591286729879, 956722026041, 1548008755920, 2504730781961, 4052739537881, 6557470319842, 10610209857723, 17167680177565, 27777890035288, 44945570212853, 72723460248141, 117669030460994, 190392490709135, 308061521170129, 498454011879264, 806515533049393, 1304969544928657, 2111485077978050, 3416454622906707, 5527939700884757, 8944394323791464, 14472334024676221, 23416728348467685, 37889062373143906, 61305790721611591, 99194853094755497, 160500643816367088, 259695496911122585, 420196140727489673, 679891637638612258, 1100087778366101931, 1779979416004714189, 2880067194370816120, 4660046610375530309, 7540113804746346429, 12200160415121876738, 19740274219868223167, 31940434634990099905, 51680708854858323072, 83621143489848422977, 135301852344706746049, 218922995834555169026, 354224848179261915075, "
     ]
    }
   ],
   "source": [
    "fib = Fibs()\n",
    "for _ in range(100):\n",
    "    print (fib.next(), end = ', ')"
   ]
  },
  {
   "cell_type": "code",
   "execution_count": null,
   "metadata": {},
   "outputs": [],
   "source": []
  }
 ],
 "metadata": {
  "kernelspec": {
   "display_name": "Python 3 (ipykernel)",
   "language": "python",
   "name": "python3"
  },
  "language_info": {
   "codemirror_mode": {
    "name": "ipython",
    "version": 3
   },
   "file_extension": ".py",
   "mimetype": "text/x-python",
   "name": "python",
   "nbconvert_exporter": "python",
   "pygments_lexer": "ipython3",
   "version": "3.10.12"
  }
 },
 "nbformat": 4,
 "nbformat_minor": 4
}
