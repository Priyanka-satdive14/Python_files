{
 "cells": [
  {
   "cell_type": "code",
   "execution_count": 1,
   "metadata": {},
   "outputs": [],
   "source": [
    "#!/usr/bin/env python3\n",
    "# -*- coding: utf-8 -*-"
   ]
  },
  {
   "cell_type": "markdown",
   "metadata": {},
   "source": [
    "# Analytics and Statistics using Python\n",
    "## S01: Introduction\n",
    "Python is an interpreted language. The Python interpreter runs a program by executing one statement at a time.\n",
    "- Basic Syntax\n",
    "- Data Types, Variables, Operators\n",
    "- Declaring variable, data types in programs\n",
    "- Your First Python Program\n",
    "- Flow of Control (Modules, Branching)\n",
    "- If, If- else, Nested if-else\n",
    "- Looping, For, While\n",
    "- Nested loops\n",
    "- Control Structure\n",
    "- Uses of Break & Continue\n",
    "\n",
    "\n",
    "<img src='../../prasami_images/prasami_color_tutorials_small.png' width='400' alt=\"By Pramod Sharma : pramod.sharma@prasami.com\"/>"
   ]
  },
  {
   "cell_type": "markdown",
   "metadata": {},
   "source": [
    "## Basic Syntax"
   ]
  },
  {
   "cell_type": "code",
   "execution_count": 2,
   "metadata": {},
   "outputs": [
    {
     "data": {
      "text/plain": [
       "5"
      ]
     },
     "execution_count": 2,
     "metadata": {},
     "output_type": "execute_result"
    }
   ],
   "source": [
    "2+3"
   ]
  },
  {
   "cell_type": "code",
   "execution_count": 3,
   "metadata": {},
   "outputs": [
    {
     "name": "stdout",
     "output_type": "stream",
     "text": [
      "Hello World!\n"
     ]
    }
   ],
   "source": [
    "# At the very basic, simplest python program would need just one statement to print 'Hello World'\n",
    "\n",
    "print (\"Hello World!\")"
   ]
  },
  {
   "cell_type": "markdown",
   "metadata": {},
   "source": [
    "### Print Statements\n",
    "\n",
    "The humble `print()` statement is like the loudspeaker of your code—it shouts out whatever you tell it, sending output straight to the console. Whether you're debugging or just showing off, `print()` is your go-to function for sending text, variables, or a mix of both straight to the console. Think of it as your code’s way of saying, \"Hey, this is what I'm thinking!\" Just don’t rely on it too much for serious debugging—it’s more like a casual conversation than a detective tool.\n",
    "\n",
    "However, in production, the real consumers of the output are usually downstream applications or systems, and print() isn't needed (or wanted). So while it’s great for testing, in production, it’s like shouting in a library—best avoided!"
   ]
  },
  {
   "cell_type": "code",
   "execution_count": 4,
   "metadata": {},
   "outputs": [
    {
     "name": "stdout",
     "output_type": "stream",
     "text": [
      "34\n"
     ]
    }
   ],
   "source": [
    "num_students = 34            # numerical\n",
    "course = 'Python Programming'  # text\n",
    "my_name = \"Pramod Sharma\"    # text\n",
    "\n",
    "# Just print\n",
    "print (num_students)"
   ]
  },
  {
   "cell_type": "code",
   "execution_count": 5,
   "metadata": {},
   "outputs": [
    {
     "name": "stdout",
     "output_type": "stream",
     "text": [
      " This text\n",
      "           is in multiple\n",
      "                           physical lines\n"
     ]
    }
   ],
   "source": [
    "print (\"\"\" This text\n",
    "           is in multiple\n",
    "                           physical lines\"\"\")"
   ]
  },
  {
   "cell_type": "code",
   "execution_count": 6,
   "metadata": {},
   "outputs": [
    {
     "name": "stdout",
     "output_type": "stream",
     "text": [
      "-------------------------------------------------- \n",
      "\n"
     ]
    }
   ],
   "source": [
    "# Print 50 dash and insert a line\n",
    "print (\"-\"*50, '\\n')"
   ]
  },
  {
   "cell_type": "code",
   "execution_count": 7,
   "metadata": {},
   "outputs": [
    {
     "name": "stdout",
     "output_type": "stream",
     "text": [
      "'Python Programming'  34.0000\n"
     ]
    }
   ],
   "source": [
    "# Formatted printing\n",
    "formatter = \"%r  %7.4f\" \n",
    "print (formatter % (course, num_students))"
   ]
  },
  {
   "cell_type": "code",
   "execution_count": 8,
   "metadata": {},
   "outputs": [
    {
     "name": "stdout",
     "output_type": "stream",
     "text": [
      "Python Programming             : 34\n"
     ]
    }
   ],
   "source": [
    "# Another style\n",
    "formatter = '{:30s} : {}' # {} are place holders,\n",
    "# > < are used for justification of text\n",
    "print(formatter.format(course, num_students))"
   ]
  },
  {
   "cell_type": "code",
   "execution_count": 9,
   "metadata": {},
   "outputs": [
    {
     "name": "stdout",
     "output_type": "stream",
     "text": [
      "Python Programming____________ : 034\n"
     ]
    }
   ],
   "source": [
    "\n",
    "# Horizontal placements of variables. Note that the text is on the left followed by '_\" to fill remaing characters\n",
    "# and 34 is appended by a '0'\n",
    "formatter = '{0:_<30} : {1:03}'\n",
    "print(formatter.format(course, num_students))"
   ]
  },
  {
   "cell_type": "code",
   "execution_count": 10,
   "metadata": {},
   "outputs": [
    {
     "name": "stdout",
     "output_type": "stream",
     "text": [
      "------------Python Programming \n",
      "   34\n"
     ]
    }
   ],
   "source": [
    "# What if I want it on next line and fill right justified\n",
    "formatter = '{:->30} \\n {:4}'\n",
    "print (formatter.format(course, num_students))"
   ]
  },
  {
   "cell_type": "code",
   "execution_count": 11,
   "metadata": {},
   "outputs": [
    {
     "name": "stdout",
     "output_type": "stream",
     "text": [
      "Python Programming------------ : 34## : ************Python Programming\n"
     ]
    }
   ],
   "source": [
    "# Select the position of variable in the formating string and repetition at your convenience\n",
    "formatter = '{0:-<30} : {1:#<4} : {0:*>30}'\n",
    "print (formatter.format(course, num_students))"
   ]
  },
  {
   "cell_type": "code",
   "execution_count": 12,
   "metadata": {},
   "outputs": [
    {
     "name": "stdout",
     "output_type": "stream",
     "text": [
      "Python Programming------------ : 34##\n"
     ]
    }
   ],
   "source": [
    "# Another quick and short way\n",
    "\n",
    "print (f'{course:-<30} : {num_students:#<4}')"
   ]
  },
  {
   "cell_type": "code",
   "execution_count": 13,
   "metadata": {},
   "outputs": [
    {
     "name": "stdout",
     "output_type": "stream",
     "text": [
      "A tab in introduced \t within this line.\n",
      "\tThis line is tabbed.\n",
      "this line has double quote \" in the sentence\n",
      "this line has single quote ' in the sentence\n"
     ]
    }
   ],
   "source": [
    "# Printing tab, inserting new line \n",
    "# and printing single and double quoted\n",
    "\n",
    "print (\"A tab in introduced \\t within this line.\")\n",
    "print (\"\\tThis line is tabbed.\")\n",
    "print ('this line has double quote \" in the sentence')    # Note: if string has double quote, use single quote\n",
    "print (\"this line has single quote ' in the sentence\")    # Note: if string has single quote, use double quote"
   ]
  },
  {
   "cell_type": "markdown",
   "metadata": {},
   "source": [
    "### Format Conversion\n",
    "\n",
    "    d\tSigned integer decimal.\n",
    "    o\tUnsigned octal.\n",
    "    u\tUnsigned decimal.\n",
    "    b\tBinary\n",
    "    x\tUnsigned hexadecimal (lowercase).\n",
    "    X\tUnsigned hexadecimal (uppercase).\n",
    "    e\tFloating point exponential format (lowercase).\n",
    "    E\tFloating point exponential format (uppercase).\n",
    "    f\tFloating point decimal format.\n",
    "    F\tFloating point decimal format.\n",
    "    g\tSame as \"e\" if exponent is greater than -4 or less than precision, \"f\" otherwise.\n",
    "    G\tSame as \"E\" if exponent is greater than -4 or less than precision, \"F\" otherwise.\n",
    "    c\tSingle character (accepts integer or single character string).\n",
    "    r\tString (converts any python object using repr()).\n",
    "    s\tString (converts any python object using str()).\n",
    "    %\tNo argument is converted, results in a \"%\" character in the result."
   ]
  },
  {
   "cell_type": "markdown",
   "metadata": {},
   "source": [
    "## Language Semantics\n",
    "Python’s design shines through its focus on readability, simplicity, and explicitness—some even call it \"executable pseudocode.\"\n",
    "\n",
    "### Indentation, Not Braces\n",
    "Instead of using braces to organize code like many languages (think R, C++, Java, and Perl), Python relies on good old whitespace—tabs or spaces. This means your code’s structure is literally determined by how you space it out. So, remember: in Python, the only thing tighter than your code should be your indentation!"
   ]
  },
  {
   "cell_type": "code",
   "execution_count": 14,
   "metadata": {},
   "outputs": [
    {
     "name": "stdout",
     "output_type": "stream",
     "text": [
      "Number is smaller\n",
      "Number is smaller\n",
      "Number is smaller\n",
      "Number is bigger\n",
      "Number is bigger\n"
     ]
    }
   ],
   "source": [
    "array = [1, 2, 3, 5, 6]\n",
    "pivot = 4\n",
    "for x in array:\n",
    "    if x < pivot:\n",
    "        print ('Number is smaller')\n",
    "    else:\n",
    "        print ('Number is bigger')"
   ]
  },
  {
   "cell_type": "markdown",
   "metadata": {},
   "source": [
    "A colon denotes the start of an indented code block after which all of the code must be indented by the same amount until the end of the block. In another language, you might instead have something like:"
   ]
  },
  {
   "cell_type": "code",
   "execution_count": 15,
   "metadata": {},
   "outputs": [],
   "source": [
    "_ = '''\n",
    "for x in array {\n",
    "    if x < pivot {\n",
    "        less.append(x)\n",
    "    } else {\n",
    "        greater.append(x)\n",
    "    }\n",
    "}\n",
    "'''"
   ]
  },
  {
   "cell_type": "markdown",
   "metadata": {},
   "source": [
    "## Comments\n",
    "Any text preceded by the hash mark (pound sign) # is ignored by the Python interpreter. This is often used to add comments to code. At times you may also want to exclude certain blocks of code without deleting them. An easy solution is to comment out the code:"
   ]
  },
  {
   "cell_type": "code",
   "execution_count": 16,
   "metadata": {},
   "outputs": [
    {
     "name": "stdout",
     "output_type": "stream",
     "text": [
      "Number is smaller\n",
      "Number is smaller\n",
      "Number is smaller\n"
     ]
    }
   ],
   "source": [
    "for x in array:\n",
    "    if x < pivot:\n",
    "        print ('Number is smaller')\n",
    "    # else:\n",
    "    #     print ('Number is bigger')"
   ]
  },
  {
   "cell_type": "markdown",
   "metadata": {},
   "source": [
    "### Inline comments are important\n",
    "\n",
    "Inline comments are crucial for making your code more understandable. They act like friendly signposts, guiding anyone reading your code (including your future self) through its logic. Comments explain why certain decisions were made, clarify complex sections, and provide context that the code itself might not convey. This reduces the learning curve for others and helps prevent confusion or misinterpretation. Plus, they’re invaluable during debugging, reminding you what each part of your code is supposed to do. Remember, good comments can turn a puzzling riddle into a clear story, making collaboration smoother and coding less of a headache!"
   ]
  },
  {
   "cell_type": "code",
   "execution_count": 17,
   "metadata": {},
   "outputs": [
    {
     "name": "stdout",
     "output_type": "stream",
     "text": [
      "5\n",
      "2\n",
      "6\n",
      "1.5\n",
      "9\n",
      "1\n",
      "1.0\n"
     ]
    }
   ],
   "source": [
    "print(2 + 3)   # addition(+)\n",
    "print(3 - 1)   # subtraction(-)\n",
    "print(2 * 3)   # multiplication(*)\n",
    "print(3 / 2)   # division(/)\n",
    "print(3 ** 2)  # exponential(**)\n",
    "print(3 % 2)   # modulus(%)\n",
    "print(3.5 // 2)  # Floor division operator(//)"
   ]
  },
  {
   "cell_type": "markdown",
   "metadata": {},
   "source": [
    "## Data Types, Variables, Operators"
   ]
  },
  {
   "cell_type": "code",
   "execution_count": 18,
   "metadata": {},
   "outputs": [
    {
     "name": "stdout",
     "output_type": "stream",
     "text": [
      "<class 'int'>\n",
      "<class 'float'>\n",
      "<class 'complex'>\n",
      "<class 'str'>\n",
      "<class 'list'>\n",
      "<class 'dict'>\n",
      "<class 'set'>\n",
      "<class 'tuple'>\n"
     ]
    }
   ],
   "source": [
    "# Checking data types\n",
    "\n",
    "print(type(10))                  # Int\n",
    "print(type(3.14))                # Float\n",
    "print(type(1 + 3j))              # Complex\n",
    "print(type('Mohan'))             # String\n",
    "print(type([1, 2, 3]))           # List\n",
    "print(type({'name':'Mohan'}))    # Dictionary\n",
    "print(type({9.8, 3.14, 2.7}))    # Set\n",
    "print(type((9.8, 3.14, 2.7)))    # Tuple\n"
   ]
  },
  {
   "cell_type": "markdown",
   "metadata": {},
   "source": [
    "### Data Types\n",
    "Data types specify the kind of value a variable can hold. Python has several built-in data types, which are categorized into different types:\n",
    "\n",
    "a. **Numeric Types:**\n",
    "\n",
    "int: Represents integer numbers, e.g., 5, -3.\n",
    "\n",
    "float: Represents floating-point numbers (decimals), e.g., 3.14, -2.0.\n",
    "\n",
    "complex: Represents complex numbers, e.g., 3 + 4j."
   ]
  },
  {
   "cell_type": "code",
   "execution_count": 19,
   "metadata": {},
   "outputs": [
    {
     "name": "stdout",
     "output_type": "stream",
     "text": [
      "<class 'int'>\n",
      "<class 'float'>\n",
      "<class 'complex'>\n"
     ]
    }
   ],
   "source": [
    "# Examples of numeric types\n",
    "intNum = 10    # int\n",
    "floatNum = 20.5  # float\n",
    "complexNum = 2 + 3j  # complex\n",
    "\n",
    "print(type(intNum))  # Output: <class 'int'>\n",
    "print(type(floatNum))  # Output: <class 'float'>\n",
    "print(type(complexNum))  # Output: <class 'complex'>"
   ]
  },
  {
   "cell_type": "markdown",
   "metadata": {},
   "source": [
    "b. **Sequence Types:**\n",
    "- `str:` Represents a sequence of characters (strings), e.g., \"Hello\".\n",
    "- `list:` Represents an ordered collection of items, e.g., [1, 2, 3, \"apple\"].\n",
    "- `tuple:` Similar to a list but immutable (cannot be changed), e.g., (1, 2, 3)."
   ]
  },
  {
   "cell_type": "code",
   "execution_count": 20,
   "metadata": {},
   "outputs": [
    {
     "name": "stdout",
     "output_type": "stream",
     "text": [
      "<class 'str'>\n",
      "<class 'list'>\n",
      "<class 'tuple'>\n"
     ]
    }
   ],
   "source": [
    "# Examples of sequence types\n",
    "stringData = \"Hello, World!\"  # str\n",
    "list_data = [1, 2, 3, \"apple\"]  # list\n",
    "tuple_data = (1, 2, 3)  # tuple\n",
    "\n",
    "print(type(stringData))  # Output: <class 'str'>\n",
    "print(type(list_data))  # Output: <class 'list'>\n",
    "print(type(tuple_data))  # Output: <class 'tuple'>"
   ]
  },
  {
   "cell_type": "markdown",
   "metadata": {},
   "source": [
    "c. **Mapping Type:**\n",
    "\n",
    "dict: Represents a collection of key-value pairs, e.g., {\"name\": \"John\", \"age\": 25}."
   ]
  },
  {
   "cell_type": "code",
   "execution_count": 21,
   "metadata": {},
   "outputs": [
    {
     "name": "stdout",
     "output_type": "stream",
     "text": [
      "<class 'dict'>\n"
     ]
    }
   ],
   "source": [
    "# Example of a dictionary\n",
    "person = {\"name\": \"John\", \"age\": 25, \"city\": \"New York\"}\n",
    "\n",
    "print(type(person))  # Output: <class 'dict'>"
   ]
  },
  {
   "cell_type": "markdown",
   "metadata": {},
   "source": [
    "d. **Set Types:**\n",
    "\n",
    "- set: Represents an unordered collection of unique items, e.g., {1, 2, 3}.\n",
    "- frozenset: Similar to a set but immutable."
   ]
  },
  {
   "cell_type": "code",
   "execution_count": 22,
   "metadata": {},
   "outputs": [
    {
     "name": "stdout",
     "output_type": "stream",
     "text": [
      "<class 'set'>\n",
      "<class 'frozenset'>\n"
     ]
    }
   ],
   "source": [
    "# Examples of set types\n",
    "set_data = {1, 2, 3, 4}  # set\n",
    "frozen_set_data = frozenset([1, 2, 3, 4])  # frozenset\n",
    "\n",
    "print(type(set_data))  # Output: <class 'set'>\n",
    "print(type(frozen_set_data))  # Output: <class 'frozenset'>"
   ]
  },
  {
   "cell_type": "markdown",
   "metadata": {},
   "source": [
    "e. ``Boolean Type:``\n",
    "\n",
    "bool: Represents two values: True or False."
   ]
  },
  {
   "cell_type": "code",
   "execution_count": 23,
   "metadata": {},
   "outputs": [
    {
     "name": "stdout",
     "output_type": "stream",
     "text": [
      "<class 'bool'>\n"
     ]
    }
   ],
   "source": [
    "# Example of a boolean type\n",
    "is_valid = True  # bool\n",
    "\n",
    "print(type(is_valid))  # Output: <class 'bool'>"
   ]
  },
  {
   "cell_type": "markdown",
   "metadata": {},
   "source": [
    "f. ``None Type:``\n",
    "\n",
    "NoneType: Represents the absence of a value, e.g., None."
   ]
  },
  {
   "cell_type": "code",
   "execution_count": 24,
   "metadata": {},
   "outputs": [
    {
     "name": "stdout",
     "output_type": "stream",
     "text": [
      "<class 'NoneType'>\n"
     ]
    }
   ],
   "source": [
    "# Example of NoneType\n",
    "no_value = None\n",
    "\n",
    "print(type(no_value))  # Output: <class 'NoneType'>"
   ]
  },
  {
   "cell_type": "markdown",
   "metadata": {},
   "source": [
    "### 2. Variables\n",
    "## Variables\n",
    "Variables are used to store information that can be referenced and manipulated in a program. They act as containers for storing data values.\n",
    "\n",
    "### Variable Naming Conventions\n",
    "- **Use meaningful names:** Variable names should be descriptive and indicate what the variable represents.\n",
    "\n",
    "    - Good: total_sales, user_name\n",
    "    - Bad: x, a1\n",
    "- **Start with a letter or underscore:** Variable names must begin with a letter (a-z, A-Z) or an underscore (_). They cannot start with a number.\n",
    "\n",
    "    - Valid: _value, name, age\n",
    "    - Invalid: 1st_place, 9_lives\n",
    "- **Case-sensitive:** Variable names are case-sensitive, meaning Age and age would be considered two different variables.\n",
    "\n",
    "    - Example: Score is different from score\n",
    "- **No spaces:** Variable names cannot contain spaces. Use underscores (_) to separate words.\n",
    "\n",
    "     - Valid: first_name, current_balance\n",
    "    - Invalid: first name, current balance\n",
    "- **Avoid Python keywords:** Do not use Python reserved words or built-in function names as variable names.\n",
    "\n",
    "    - Keywords: if, else, while, for, return, etc.\n",
    "    - Built-in functions: print, len, input, etc.\n",
    "\n",
    "**Warning:** if you use reserved words as a variable in your code. Compilers will not complain and still would let you use.\n",
    "\n",
    "#### Primitives\n",
    "We have primitives in Python. Primitives are basic data types that are built into Python. These include:\n",
    "\n",
    "- int: Represents whole numbers, positive or negative, without a decimal point.\n",
    "    - Example: 10, -3, 0\n",
    "\n",
    "- float: Represents real numbers with a decimal point.\n",
    "\n",
    "    - Example: 3.14, -2.5, 0.0\n",
    "- str: Represents a sequence of characters (a string).\n",
    "\n",
    "    - Example: \"hello\", \"123\", \"Amitabh Bachchan\"\n",
    "\n",
    "#### Collections in Python\n",
    "Collections are data types that can store multiple items. The primary collections in Python include lists, tuples, and arrays.\n",
    "\n",
    "- **List:** An ordered collection of items which is mutable (i.e., the items can be changed).\n",
    "    - Syntax: Created using square brackets [].\n",
    "    - Key Features:\n",
    "        - Can contain mixed data types.\n",
    "        - Allows duplicate elements.\n",
    "        - Items can be added, removed, or changed.\n",
    "- **Tuple:** An ordered collection of items which is immutable (i.e., the items cannot be changed after the tuple is created).\n",
    "    - Syntax: Created using parentheses ().\n",
    "    - Key Features:\n",
    "        - Can contain mixed data types.\n",
    "        - Allows duplicate elements.\n",
    "        - Items cannot be modified after creation (read-only).\n",
    "- **Array:** An ordered collection of items which is mutable, but typically stores elements of the same type. Arrays are not a built-in data type in Python but can be used via libraries like array or numpy.\n",
    "    - Syntax:\n",
    "    - Key Features:\n",
    "        - More efficient for large collections of the same data type compared to lists.\n",
    "        - Allows operations on entire arrays more efficiently than lists.\n",
    "        - Arrays from numpy support multi-dimensional arrays and a variety of mathematical operations.\n",
    "\n",
    "We can name primitives in `camel case` and collections in `snake case`"
   ]
  },
  {
   "cell_type": "code",
   "execution_count": 25,
   "metadata": {},
   "outputs": [
    {
     "name": "stdout",
     "output_type": "stream",
     "text": [
      "Alice 30 5.5\n"
     ]
    }
   ],
   "source": [
    "# Example of variable assignment\n",
    "name = \"Alice\"  # str type\n",
    "age = 30  # int type\n",
    "height = 5.5  # float type\n",
    "\n",
    "print(name, age, height)  # Output: Alice 30 5.5"
   ]
  },
  {
   "cell_type": "markdown",
   "metadata": {},
   "source": [
    "## Invalid variables names\n",
    "\n",
    "> `first-name`\n",
    "> `first@name`\n",
    "> `first$name`\n",
    "> `num-1`\n",
    "> `1num`\n",
    "\n",
    "### Declaring Multiple Variable in a Line\n",
    "\n",
    "Multiple variables can also be declared in one line:"
   ]
  },
  {
   "cell_type": "code",
   "execution_count": 26,
   "metadata": {},
   "outputs": [
    {
     "name": "stdout",
     "output_type": "stream",
     "text": [
      "Mohan Sharma India 25 True\n",
      "First name: Mohan\n",
      "Last name:  Sharma\n",
      "Country:  India\n",
      "Age:  25\n",
      "Married:  True\n"
     ]
    }
   ],
   "source": [
    "firstName, lastName, country, age, isMarried = 'Mohan', 'Sharma', 'India', 25, True\n",
    "\n",
    "print(firstName, lastName, country, age, isMarried)\n",
    "print('First name:', firstName)\n",
    "print('Last name: ', lastName)\n",
    "print('Country: ', country)\n",
    "print('Age: ', age)\n",
    "print('Married: ', isMarried)"
   ]
  },
  {
   "cell_type": "markdown",
   "metadata": {},
   "source": [
    "### 3. Operators\n",
    "Operators are special symbols that perform operations on variables and values. Python supports several types of operators:\n",
    "\n",
    "a. **Arithmetic Operators:**\n",
    "Operator|description\n",
    "|:-:|:--|\n",
    "|+ (Addition)|Adds two operands.\n",
    "|- (Subtraction)| Subtracts the right operand from the left.\n",
    "|* (Multiplication)| Multiplies two operands.\n",
    "|/ (Division)| Divides the left operand by the right; returns a float.\n",
    "|// (Floor Division)| Divides the left operand by the right; returns an integer.\n",
    "|% (Modulus)| Returns the remainder of division.\n",
    "|** (Exponentiation)| Raises the left operand to the power of the right."
   ]
  },
  {
   "cell_type": "code",
   "execution_count": 27,
   "metadata": {},
   "outputs": [
    {
     "name": "stdout",
     "output_type": "stream",
     "text": [
      "13\n",
      "7\n",
      "30\n",
      "3.3333333333333335\n",
      "3\n",
      "1\n",
      "1000\n"
     ]
    }
   ],
   "source": [
    "# Arithmetic operations\n",
    "a = 10\n",
    "b = 3\n",
    "\n",
    "print(a + b)  # Output: 13 (Addition)\n",
    "print(a - b)  # Output: 7 (Subtraction)\n",
    "print(a * b)  # Output: 30 (Multiplication)\n",
    "print(a / b)  # Output: 3.333... (Division)\n",
    "print(a // b)  # Output: 3 (Floor Division)\n",
    "print(a % b)  # Output: 1 (Modulus)\n",
    "print(a ** b)  # Output: 1000 (Exponentiation)"
   ]
  },
  {
   "cell_type": "markdown",
   "metadata": {},
   "source": [
    "b. **Comparison Operators:**\n",
    "|Operator|Description|\n",
    "|:-:|:--|\n",
    "|==|Equal to.\n",
    "|!=|Not equal to.\n",
    "|>|Greater than.\n",
    "|<|Less than.\n",
    "|>=|Greater than or equal to.\n",
    "|<=|Less than or equal to."
   ]
  },
  {
   "cell_type": "code",
   "execution_count": 28,
   "metadata": {},
   "outputs": [
    {
     "name": "stdout",
     "output_type": "stream",
     "text": [
      "False\n",
      "True\n",
      "False\n",
      "True\n",
      "False\n",
      "True\n"
     ]
    }
   ],
   "source": [
    "# Comparison operations\n",
    "x = 5\n",
    "y = 10\n",
    "\n",
    "print(x == y)  # Output: False (Equal to)\n",
    "print(x != y)  # Output: True (Not equal to)\n",
    "print(x > y)  # Output: False (Greater than)\n",
    "print(x < y)  # Output: True (Less than)\n",
    "print(x >= y)  # Output: False (Greater than or equal to)\n",
    "print(x <= y)  # Output: True (Less than or equal to)"
   ]
  },
  {
   "cell_type": "markdown",
   "metadata": {},
   "source": [
    "c. **Logical Operators:**\n",
    "Operator|Description\n",
    "|:-:|:--|\n",
    "|and|Returns True if both operands are true.|\n",
    "|or|Returns True if at least one operand is true.|\n",
    "|not|Reverses the logical state of its operand.|\n",
    "\n",
    "d. **Bitwise Operators**\n",
    "There are 6 bitwise operators in Python. The below table provides short details about them.\n",
    "\n",
    "|Operator|Description|Simple Example|\n",
    "|:-:|:--|:--|\n",
    "|`&`|`and` is a Logical that returns True if both the operands are true whereas `&` is a bitwise operator in Python that acts on bits and performs bit-by-bit operations.|10 & 7 = 2|\n",
    "|`\\|`|Bitwise OR Operator|10 \\| 7 = 2|\n",
    "|`^`|`True` if the number of `True` inputs is odd. In Python, you can use the `^` operator for bitwise XOR, and it can also be applied to boolean values.|10 ^ 7 = 13|\n",
    "|`~`|Bitwise Ones’ Compliment Operator|~10 = -11|\n",
    "|`<<`|Bitwise Left Shift operator|10<<2 = 40|\n",
    "|`>>`|Bitwise Right Shift Operator|10>>1 = 5|"
   ]
  },
  {
   "cell_type": "code",
   "execution_count": 29,
   "metadata": {},
   "outputs": [
    {
     "name": "stdout",
     "output_type": "stream",
     "text": [
      "False\n",
      "True\n",
      "False\n"
     ]
    }
   ],
   "source": [
    "# Logical operations\n",
    "a = True\n",
    "b = False\n",
    "\n",
    "print(a and b)  # Output: False (True and False is False)\n",
    "print(a or b)  # Output: True (True or False is True)\n",
    "print(not a)  # Output: False (Not True is False)"
   ]
  },
  {
   "cell_type": "code",
   "execution_count": 30,
   "metadata": {},
   "outputs": [
    {
     "name": "stdout",
     "output_type": "stream",
     "text": [
      "`True` XOR `False` = True\n"
     ]
    }
   ],
   "source": [
    "# Bitwise operations\n",
    "# Perform XOR\n",
    "result = a ^ b  # True ^ False = True\n",
    "print(f\"`{a}` XOR `{b}` = {result}\")"
   ]
  },
  {
   "cell_type": "code",
   "execution_count": 31,
   "metadata": {},
   "outputs": [
    {
     "name": "stdout",
     "output_type": "stream",
     "text": [
      "'10' XOR '4' = 14\n",
      "'1010' XOR '100' = 1110\n"
     ]
    }
   ],
   "source": [
    "# XOR with integers\n",
    "x = 10  # In binary: 1010\n",
    "y = 4   # In binary: 0100\n",
    "\n",
    "# Perform XOR\n",
    "result = x ^ y  # 1010 XOR 0100 = 1110 (which is 14 in decimal)\n",
    "print(f\"'{x}' XOR '{y}' = {result}\")\n",
    "print(f\"'{x:b}' XOR '{y:b}' = {result:b}\")"
   ]
  },
  {
   "cell_type": "code",
   "execution_count": 32,
   "metadata": {},
   "outputs": [
    {
     "name": "stdout",
     "output_type": "stream",
     "text": [
      "'10' | '7' = 15\n",
      "'1010' | '111' = 1111\n"
     ]
    }
   ],
   "source": [
    "x = 10  # In binary: 1010\n",
    "y = 7   # In binary:  111\n",
    "\n",
    "result = x | y # 1010 | 111 = 1111 (which is 15 in decimal) \n",
    "# 1 × 2 + 1 × 2 + 1 × 2 + 1 × 2 = 15\n",
    "print(f\"'{x}' | '{y}' = {result}\")\n",
    "print(f\"'{x:b}' | '{y:b}' = {result:b}\")"
   ]
  },
  {
   "cell_type": "code",
   "execution_count": 33,
   "metadata": {},
   "outputs": [
    {
     "name": "stdout",
     "output_type": "stream",
     "text": [
      "'10' XOR '4' = 14\n",
      "'1010' XOR '100' = 1110\n"
     ]
    }
   ],
   "source": [
    "# XOR with integers\n",
    "x = 10  # In binary: 1010\n",
    "y = 4   # In binary: 0100\n",
    "\n",
    "# Perform XOR\n",
    "result = x ^ y  # 1010 XOR 0100 = 1110 (which is 14 in decimal)\n",
    "print(f\"'{x}' XOR '{y}' = {result}\")\n",
    "print(f\"'{x:b}' XOR '{y:b}' = {result:b}\")"
   ]
  },
  {
   "cell_type": "markdown",
   "metadata": {},
   "source": [
    "#### `and`"
   ]
  },
  {
   "cell_type": "code",
   "execution_count": 34,
   "metadata": {},
   "outputs": [
    {
     "name": "stdout",
     "output_type": "stream",
     "text": [
      "one is wrong\n"
     ]
    }
   ],
   "source": [
    "num1 = 5\n",
    "num2 = 10\n",
    "\n",
    "if num1>3 and num2<10:\n",
    "  print(\"both are correct\")\n",
    "\n",
    "else:\n",
    "  print (\"one is wrong\")"
   ]
  },
  {
   "cell_type": "markdown",
   "metadata": {},
   "source": [
    "#### '&'"
   ]
  },
  {
   "cell_type": "code",
   "execution_count": 35,
   "metadata": {},
   "outputs": [
    {
     "name": "stdout",
     "output_type": "stream",
     "text": [
      "'14' & '10' = 10\n",
      "'1110' & '1010' = 1010\n"
     ]
    }
   ],
   "source": [
    "num1 = 14 # 14 in binary is 1110 \n",
    "num2= 10 # 10 in binary is 1010\n",
    "\n",
    "result = num1 & num2 # bitwise & on these two will give us 1010 which is 10 in integers.\n",
    "\n",
    "print(f\"'{num1}' & '{num2}' = {result}\")\n",
    "print(f\"'{num1:b}' & '{num2:b}' = {result:b}\")"
   ]
  },
  {
   "cell_type": "markdown",
   "metadata": {},
   "source": [
    "### `~`\n",
    "Python Ones’ complement of a number ‘num’ is equal to -(num+1)."
   ]
  },
  {
   "cell_type": "code",
   "execution_count": 36,
   "metadata": {},
   "outputs": [
    {
     "name": "stdout",
     "output_type": "stream",
     "text": [
      "'~14'  = -11\n",
      "'~1110' = -1011\n"
     ]
    }
   ],
   "source": [
    "num =10 # 10 in binary is 1010\n",
    "\n",
    "print(f\"'~{num1}'  = {~num}\")\n",
    "print(f\"'~{num1:b}' = {~num:b}\")"
   ]
  },
  {
   "cell_type": "markdown",
   "metadata": {},
   "source": [
    "### Bitwise Left Shift Operator\n",
    "Python bitwise left shift operator shifts the left operand bits towards the left side for the given number of times in the right operand. In simple terms, the binary number is appended with 0s at the end."
   ]
  },
  {
   "cell_type": "code",
   "execution_count": 37,
   "metadata": {},
   "outputs": [
    {
     "name": "stdout",
     "output_type": "stream",
     "text": [
      "'10<<2'  = 40\n",
      "'1010<<2' = 101000\n"
     ]
    }
   ],
   "source": [
    "print(f\"'{num}<<2'  = {num<<2}\")\n",
    "print(f\"'{num:b}<<2' = {num<<2:b}\")"
   ]
  },
  {
   "cell_type": "markdown",
   "metadata": {},
   "source": [
    "### Bitwise Right Shift Operator\n",
    "Python right shift operator is exactly the opposite of the left shift operator. Then left side operand bits are moved towards the right side for the given number of times. In simple terms, the right side bits are removed."
   ]
  },
  {
   "cell_type": "code",
   "execution_count": 38,
   "metadata": {},
   "outputs": [
    {
     "name": "stdout",
     "output_type": "stream",
     "text": [
      "Integer: '10>>2'  = 2\n",
      "Binary : '1010>>2' = 10\n"
     ]
    }
   ],
   "source": [
    "print(f\"Integer: '{num}>>2'  = {num>>2}\")\n",
    "print(f\"Binary : '{num:b}>>2' = {num>>2:b}\")"
   ]
  },
  {
   "cell_type": "code",
   "execution_count": 39,
   "metadata": {},
   "outputs": [
    {
     "name": "stdout",
     "output_type": "stream",
     "text": [
      "The unique number in [2, 3, 5, 3, 2] is 5.\n"
     ]
    }
   ],
   "source": [
    "def find_unique(numbers):\n",
    "    '''\n",
    "    This function will not work for multiple unique values \n",
    "    in the list\n",
    "    '''\n",
    "    \n",
    "    unique = 0\n",
    "    \n",
    "    for num in numbers:\n",
    "        unique ^= num  # XOR operation\n",
    "    return unique\n",
    "\n",
    "# Example usage\n",
    "numbers = [2, 3, 5, 3, 2]\n",
    "unique_number = find_unique(numbers)\n",
    "print(f\"The unique number in {numbers} is {unique_number}.\")"
   ]
  },
  {
   "cell_type": "markdown",
   "metadata": {},
   "source": [
    "d. **Assignment Operators:**\n",
    "Operator|Description\n",
    "|:-:|:--|\n",
    "|=|Assigns the value on the right to the variable on the left.\n",
    "|+=|Adds and assigns.\n",
    "|-=|Subtracts and assigns.\n",
    "|*=|Multiplies and assigns.\n",
    "|/=|Divides and assigns.\n",
    "|%=|Modulus and assigns.\n",
    "|**=|Exponentiates and assigns.\n",
    "|//=|Floor divides and assigns."
   ]
  },
  {
   "cell_type": "code",
   "execution_count": 40,
   "metadata": {},
   "outputs": [
    {
     "name": "stdout",
     "output_type": "stream",
     "text": [
      "8\n",
      "16\n",
      "a: good; b:['bad', 'ugly']\n",
      "<class 'str'> <class 'list'>\n"
     ]
    }
   ],
   "source": [
    "# Assignment operations\n",
    "a = 5\n",
    "a += 3  # Equivalent to a = a + 3\n",
    "print(a)  # Output: 8\n",
    "\n",
    "a *= 2  # Equivalent to a = a * 2\n",
    "print(a)  # Output: 16\n",
    "\n",
    "a, *b = 'good', 'bad', 'ugly'\n",
    "print (f'a: {a}; b:{b}')\n",
    "print (type(a), type(b))"
   ]
  },
  {
   "cell_type": "markdown",
   "metadata": {},
   "source": [
    "e. **Membership Operators:**\n",
    "Operator|Description\n",
    "|:-:|:--|\n",
    "|in|Returns True if a value is found in a sequence|\n",
    "|not in|Returns True if a value is not found in a sequence|"
   ]
  },
  {
   "cell_type": "code",
   "execution_count": 41,
   "metadata": {},
   "outputs": [
    {
     "name": "stdout",
     "output_type": "stream",
     "text": [
      "True\n",
      "True\n"
     ]
    }
   ],
   "source": [
    "# Membership operations\n",
    "fruits = [\"apple\", \"banana\", \"cherry\"]\n",
    "\n",
    "print(\"banana\" in fruits)  # Output: True\n",
    "print(\"grape\" not in fruits)  # Output: True"
   ]
  },
  {
   "cell_type": "markdown",
   "metadata": {},
   "source": [
    "f. **Identity Operators:**\n",
    "Operator|Description\n",
    "|:-:|:--|\n",
    "|is|Returns True if two variables refer to the same object.\n",
    "|is not|Returns True if two variables do not refer to the same object."
   ]
  },
  {
   "cell_type": "code",
   "execution_count": 42,
   "metadata": {},
   "outputs": [
    {
     "name": "stdout",
     "output_type": "stream",
     "text": [
      "True\n",
      "False\n"
     ]
    }
   ],
   "source": [
    "# Identity operations\n",
    "a = [1, 2, 3]\n",
    "b = a\n",
    "c = [1, 2, 3]\n",
    "\n",
    "print(a is b)  # Output: True (a and b refer to the same object)\n",
    "print(a is c)  # Output: False (a and c are different objects with the same content)"
   ]
  },
  {
   "cell_type": "markdown",
   "metadata": {},
   "source": [
    "## Declaring Variables\n",
    "A variable in Python is a symbolic name associated with a value. The process of creating a variable is known as \"declaring a variable,\" although in Python, variables are created by simply assigning a value to them without needing explicit declaration."
   ]
  },
  {
   "cell_type": "code",
   "execution_count": 43,
   "metadata": {},
   "outputs": [],
   "source": [
    "# Declaring variables with different data types\n",
    "name = \"Alice\"        # str (string) type\n",
    "age = 25              # int (integer) type\n",
    "height = 5.6          # float (floating-point number) type\n",
    "is_student = True     # bool (boolean) type\n"
   ]
  },
  {
   "cell_type": "markdown",
   "metadata": {},
   "source": [
    "## Implicit vs. Explicit Typing\n",
    "- Implicit Typing: Python is dynamically typed, which means you do not need to explicitly declare the data type of a variable. Python determines the type based on the value assigned to the variable."
   ]
  },
  {
   "cell_type": "code",
   "execution_count": 44,
   "metadata": {},
   "outputs": [],
   "source": [
    "count = 10    # Python knows this is an int\n",
    "temperature = 36.6  # Python knows this is a float"
   ]
  },
  {
   "cell_type": "markdown",
   "metadata": {},
   "source": [
    "- Explicit Typing: In cases where you want to ensure a variable is of a specific type, you can use type casting (converting from one type to another)."
   ]
  },
  {
   "cell_type": "code",
   "execution_count": 45,
   "metadata": {},
   "outputs": [],
   "source": [
    "number = int(5.0)  # Explicitly casting a float to an int"
   ]
  },
  {
   "cell_type": "markdown",
   "metadata": {},
   "source": [
    "Checking and Converting Data Types\n",
    "Python provides built-in functions to check and convert data types:\n",
    "\n",
    "a. Checking the Data Type:\n",
    "\n",
    "To check the data type of a variable, use the type() function."
   ]
  },
  {
   "cell_type": "code",
   "execution_count": 46,
   "metadata": {},
   "outputs": [
    {
     "name": "stdout",
     "output_type": "stream",
     "text": [
      "<class 'str'>\n",
      "<class 'int'>\n",
      "<class 'float'>\n",
      "<class 'bool'>\n"
     ]
    }
   ],
   "source": [
    "# Checking the data type of variables\n",
    "print(type(name))  # Output: <class 'str'>\n",
    "print(type(age))   # Output: <class 'int'>\n",
    "print(type(height))  # Output: <class 'float'>\n",
    "print(type(is_student))  # Output: <class 'bool'>\n"
   ]
  },
  {
   "cell_type": "markdown",
   "metadata": {},
   "source": [
    "b. Type Conversion (Casting)\n",
    "\n",
    "You can convert one data type to another using type casting functions like int(), float(), str(), etc."
   ]
  },
  {
   "cell_type": "code",
   "execution_count": 47,
   "metadata": {},
   "outputs": [
    {
     "name": "stdout",
     "output_type": "stream",
     "text": [
      "<class 'str'>\n",
      "<class 'int'>\n"
     ]
    }
   ],
   "source": [
    "# Converting data types\n",
    "num_str = \"100\"\n",
    "num_int = int(num_str)  # Converting str to int\n",
    "\n",
    "print(type(num_str))  # Output: <class 'str'>\n",
    "print(type(num_int))  # Output: <class 'int'>\n"
   ]
  },
  {
   "cell_type": "markdown",
   "metadata": {},
   "source": [
    "## Variable Scope\n",
    "Variables in Python can have different scopes, which determine where they can be accessed.\n",
    "\n",
    "a. Global Variables\n",
    "\n",
    "- Declared outside of any function or block.\n",
    "\n",
    "- Accessible throughout the entire program."
   ]
  },
  {
   "cell_type": "code",
   "execution_count": 48,
   "metadata": {},
   "outputs": [
    {
     "name": "stdout",
     "output_type": "stream",
     "text": [
      "I am global\n"
     ]
    }
   ],
   "source": [
    "global_var = \"I am global\"\n",
    "\n",
    "def my_function():\n",
    "    print(global_var)  # Can access global_var here\n",
    "\n",
    "my_function()  # Output: I am global\n"
   ]
  },
  {
   "cell_type": "markdown",
   "metadata": {},
   "source": [
    "b. Local Variables\n",
    "- Declared inside a function or block.\n",
    "- Only accessible within that function or block."
   ]
  },
  {
   "cell_type": "code",
   "execution_count": 49,
   "metadata": {},
   "outputs": [
    {
     "name": "stdout",
     "output_type": "stream",
     "text": [
      "I am local\n"
     ]
    }
   ],
   "source": [
    "def my_function():\n",
    "    local_var = \"I am local\"\n",
    "    print(local_var)  # Can access local_var here\n",
    "\n",
    "my_function()  # Output: I am local\n",
    "# Following would cause an error because local`var is not accessible outside the function\n",
    "# print(local_var)\n"
   ]
  },
  {
   "cell_type": "markdown",
   "metadata": {},
   "source": [
    "## Flow of Control in Python: Modules and Branching\n",
    "Flow of control refers to the order in which individual statements, instructions, or function calls are executed or evaluated in a program. In Python, flow of control includes conditional statements (branching), loops, and the use of modules. Let’s dive into these concepts:\n",
    "\n",
    "1. Modules in Python\n",
    "Modules in Python are files that contain Python code, which can include functions, classes, and variables. They are used to organize code into manageable and reusable components. By importing a module into your script, you can use its functions, classes, and variables.\n",
    "\n",
    "- Creating a Module: A module is simply a Python file with a .py extension. For example, if you create a file named mymodule.py, that file is now a module."
   ]
  },
  {
   "cell_type": "code",
   "execution_count": 50,
   "metadata": {},
   "outputs": [],
   "source": [
    "# utils.greetmodule.py\n",
    "\n",
    "def greet(name):\n",
    "    return f\"Hello, {name}!\"\n"
   ]
  },
  {
   "cell_type": "markdown",
   "metadata": {},
   "source": [
    "- Importing a Module: Use the import statement to include a module in your script."
   ]
  },
  {
   "cell_type": "code",
   "execution_count": 51,
   "metadata": {},
   "outputs": [
    {
     "name": "stdout",
     "output_type": "stream",
     "text": [
      "Hello, PK!\n"
     ]
    }
   ],
   "source": [
    "# main.py\n",
    "from utils import greetmodule\n",
    "\n",
    "print(greetmodule.greet(\"PK\"))  # Output: Hello, PK!\n"
   ]
  },
  {
   "cell_type": "markdown",
   "metadata": {},
   "source": [
    "- Using Aliases: You can use the as keyword to give a module an alias."
   ]
  },
  {
   "cell_type": "code",
   "execution_count": 52,
   "metadata": {},
   "outputs": [
    {
     "name": "stdout",
     "output_type": "stream",
     "text": [
      "Hello, PK!\n"
     ]
    }
   ],
   "source": [
    "from utils import greetmodule as gm\n",
    "\n",
    "print(gm.greet(\"PK\"))  # Output: Hello, PK!"
   ]
  },
  {
   "cell_type": "markdown",
   "metadata": {},
   "source": [
    "- Importing Specific Functions: You can import specific functions from a module."
   ]
  },
  {
   "cell_type": "code",
   "execution_count": 53,
   "metadata": {},
   "outputs": [
    {
     "name": "stdout",
     "output_type": "stream",
     "text": [
      "Hello, PK!\n"
     ]
    }
   ],
   "source": [
    "from utils.greetmodule import greet\n",
    "\n",
    "print(greet(\"PK\"))  # Output: Hello, PK!"
   ]
  },
  {
   "cell_type": "markdown",
   "metadata": {},
   "source": [
    "### Built in functions\n",
    "\n",
    "In Python we have lots of built-in functions. Built-in functions are globally available for your use that mean you can make use of the built-in functions without importing or configuring. Some of the most commonly used Python built-in functions are the following: `print()`, `len()`, `type()`, `int()`, `float()`, `str()`, `input()`, `list()`, `dict()`, `min()`, `max()`, `sum()`, `sorted()`, `open()`, `file()`, `help()`, and `dir()`."
   ]
  },
  {
   "cell_type": "code",
   "execution_count": 54,
   "metadata": {},
   "outputs": [
    {
     "name": "stdout",
     "output_type": "stream",
     "text": [
      "\n",
      "Here is a list of the Python keywords.  Enter any keyword to get more help.\n",
      "\n",
      "False               class               from                or\n",
      "None                continue            global              pass\n",
      "True                def                 if                  raise\n",
      "and                 del                 import              return\n",
      "as                  elif                in                  try\n",
      "assert              else                is                  while\n",
      "async               except              lambda              with\n",
      "await               finally             nonlocal            yield\n",
      "break               for                 not                 \n",
      "\n"
     ]
    }
   ],
   "source": [
    "help('keywords') # print all python reserved words"
   ]
  },
  {
   "cell_type": "code",
   "execution_count": 55,
   "metadata": {},
   "outputs": [
    {
     "name": "stdout",
     "output_type": "stream",
     "text": [
      "Help on class str in module builtins:\n",
      "\n",
      "class str(object)\n",
      " |  str(object='') -> str\n",
      " |  str(bytes_or_buffer[, encoding[, errors]]) -> str\n",
      " |  \n",
      " |  Create a new string object from the given object. If encoding or\n",
      " |  errors is specified, then the object must expose a data buffer\n",
      " |  that will be decoded using the given encoding and error handler.\n",
      " |  Otherwise, returns the result of object.__str__() (if defined)\n",
      " |  or repr(object).\n",
      " |  encoding defaults to sys.getdefaultencoding().\n",
      " |  errors defaults to 'strict'.\n",
      " |  \n",
      " |  Methods defined here:\n",
      " |  \n",
      " |  __add__(self, value, /)\n",
      " |      Return self+value.\n",
      " |  \n",
      " |  __contains__(self, key, /)\n",
      " |      Return key in self.\n",
      " |  \n",
      " |  __eq__(self, value, /)\n",
      " |      Return self==value.\n",
      " |  \n",
      " |  __format__(self, format_spec, /)\n",
      " |      Return a formatted version of the string as described by format_spec.\n",
      " |  \n",
      " |  __ge__(self, value, /)\n",
      " |      Return self>=value.\n",
      " |  \n",
      " |  __getattribute__(self, name, /)\n",
      " |      Return getattr(self, name).\n",
      " |  \n",
      " |  __getitem__(self, key, /)\n",
      " |      Return self[key].\n",
      " |  \n",
      " |  __getnewargs__(...)\n",
      " |  \n",
      " |  __gt__(self, value, /)\n",
      " |      Return self>value.\n",
      " |  \n",
      " |  __hash__(self, /)\n",
      " |      Return hash(self).\n",
      " |  \n",
      " |  __iter__(self, /)\n",
      " |      Implement iter(self).\n",
      " |  \n",
      " |  __le__(self, value, /)\n",
      " |      Return self<=value.\n",
      " |  \n",
      " |  __len__(self, /)\n",
      " |      Return len(self).\n",
      " |  \n",
      " |  __lt__(self, value, /)\n",
      " |      Return self<value.\n",
      " |  \n",
      " |  __mod__(self, value, /)\n",
      " |      Return self%value.\n",
      " |  \n",
      " |  __mul__(self, value, /)\n",
      " |      Return self*value.\n",
      " |  \n",
      " |  __ne__(self, value, /)\n",
      " |      Return self!=value.\n",
      " |  \n",
      " |  __repr__(self, /)\n",
      " |      Return repr(self).\n",
      " |  \n",
      " |  __rmod__(self, value, /)\n",
      " |      Return value%self.\n",
      " |  \n",
      " |  __rmul__(self, value, /)\n",
      " |      Return value*self.\n",
      " |  \n",
      " |  __sizeof__(self, /)\n",
      " |      Return the size of the string in memory, in bytes.\n",
      " |  \n",
      " |  __str__(self, /)\n",
      " |      Return str(self).\n",
      " |  \n",
      " |  capitalize(self, /)\n",
      " |      Return a capitalized version of the string.\n",
      " |      \n",
      " |      More specifically, make the first character have upper case and the rest lower\n",
      " |      case.\n",
      " |  \n",
      " |  casefold(self, /)\n",
      " |      Return a version of the string suitable for caseless comparisons.\n",
      " |  \n",
      " |  center(self, width, fillchar=' ', /)\n",
      " |      Return a centered string of length width.\n",
      " |      \n",
      " |      Padding is done using the specified fill character (default is a space).\n",
      " |  \n",
      " |  count(...)\n",
      " |      S.count(sub[, start[, end]]) -> int\n",
      " |      \n",
      " |      Return the number of non-overlapping occurrences of substring sub in\n",
      " |      string S[start:end].  Optional arguments start and end are\n",
      " |      interpreted as in slice notation.\n",
      " |  \n",
      " |  encode(self, /, encoding='utf-8', errors='strict')\n",
      " |      Encode the string using the codec registered for encoding.\n",
      " |      \n",
      " |      encoding\n",
      " |        The encoding in which to encode the string.\n",
      " |      errors\n",
      " |        The error handling scheme to use for encoding errors.\n",
      " |        The default is 'strict' meaning that encoding errors raise a\n",
      " |        UnicodeEncodeError.  Other possible values are 'ignore', 'replace' and\n",
      " |        'xmlcharrefreplace' as well as any other name registered with\n",
      " |        codecs.register_error that can handle UnicodeEncodeErrors.\n",
      " |  \n",
      " |  endswith(...)\n",
      " |      S.endswith(suffix[, start[, end]]) -> bool\n",
      " |      \n",
      " |      Return True if S ends with the specified suffix, False otherwise.\n",
      " |      With optional start, test S beginning at that position.\n",
      " |      With optional end, stop comparing S at that position.\n",
      " |      suffix can also be a tuple of strings to try.\n",
      " |  \n",
      " |  expandtabs(self, /, tabsize=8)\n",
      " |      Return a copy where all tab characters are expanded using spaces.\n",
      " |      \n",
      " |      If tabsize is not given, a tab size of 8 characters is assumed.\n",
      " |  \n",
      " |  find(...)\n",
      " |      S.find(sub[, start[, end]]) -> int\n",
      " |      \n",
      " |      Return the lowest index in S where substring sub is found,\n",
      " |      such that sub is contained within S[start:end].  Optional\n",
      " |      arguments start and end are interpreted as in slice notation.\n",
      " |      \n",
      " |      Return -1 on failure.\n",
      " |  \n",
      " |  format(...)\n",
      " |      S.format(*args, **kwargs) -> str\n",
      " |      \n",
      " |      Return a formatted version of S, using substitutions from args and kwargs.\n",
      " |      The substitutions are identified by braces ('{' and '}').\n",
      " |  \n",
      " |  format_map(...)\n",
      " |      S.format_map(mapping) -> str\n",
      " |      \n",
      " |      Return a formatted version of S, using substitutions from mapping.\n",
      " |      The substitutions are identified by braces ('{' and '}').\n",
      " |  \n",
      " |  index(...)\n",
      " |      S.index(sub[, start[, end]]) -> int\n",
      " |      \n",
      " |      Return the lowest index in S where substring sub is found,\n",
      " |      such that sub is contained within S[start:end].  Optional\n",
      " |      arguments start and end are interpreted as in slice notation.\n",
      " |      \n",
      " |      Raises ValueError when the substring is not found.\n",
      " |  \n",
      " |  isalnum(self, /)\n",
      " |      Return True if the string is an alpha-numeric string, False otherwise.\n",
      " |      \n",
      " |      A string is alpha-numeric if all characters in the string are alpha-numeric and\n",
      " |      there is at least one character in the string.\n",
      " |  \n",
      " |  isalpha(self, /)\n",
      " |      Return True if the string is an alphabetic string, False otherwise.\n",
      " |      \n",
      " |      A string is alphabetic if all characters in the string are alphabetic and there\n",
      " |      is at least one character in the string.\n",
      " |  \n",
      " |  isascii(self, /)\n",
      " |      Return True if all characters in the string are ASCII, False otherwise.\n",
      " |      \n",
      " |      ASCII characters have code points in the range U+0000-U+007F.\n",
      " |      Empty string is ASCII too.\n",
      " |  \n",
      " |  isdecimal(self, /)\n",
      " |      Return True if the string is a decimal string, False otherwise.\n",
      " |      \n",
      " |      A string is a decimal string if all characters in the string are decimal and\n",
      " |      there is at least one character in the string.\n",
      " |  \n",
      " |  isdigit(self, /)\n",
      " |      Return True if the string is a digit string, False otherwise.\n",
      " |      \n",
      " |      A string is a digit string if all characters in the string are digits and there\n",
      " |      is at least one character in the string.\n",
      " |  \n",
      " |  isidentifier(self, /)\n",
      " |      Return True if the string is a valid Python identifier, False otherwise.\n",
      " |      \n",
      " |      Call keyword.iskeyword(s) to test whether string s is a reserved identifier,\n",
      " |      such as \"def\" or \"class\".\n",
      " |  \n",
      " |  islower(self, /)\n",
      " |      Return True if the string is a lowercase string, False otherwise.\n",
      " |      \n",
      " |      A string is lowercase if all cased characters in the string are lowercase and\n",
      " |      there is at least one cased character in the string.\n",
      " |  \n",
      " |  isnumeric(self, /)\n",
      " |      Return True if the string is a numeric string, False otherwise.\n",
      " |      \n",
      " |      A string is numeric if all characters in the string are numeric and there is at\n",
      " |      least one character in the string.\n",
      " |  \n",
      " |  isprintable(self, /)\n",
      " |      Return True if the string is printable, False otherwise.\n",
      " |      \n",
      " |      A string is printable if all of its characters are considered printable in\n",
      " |      repr() or if it is empty.\n",
      " |  \n",
      " |  isspace(self, /)\n",
      " |      Return True if the string is a whitespace string, False otherwise.\n",
      " |      \n",
      " |      A string is whitespace if all characters in the string are whitespace and there\n",
      " |      is at least one character in the string.\n",
      " |  \n",
      " |  istitle(self, /)\n",
      " |      Return True if the string is a title-cased string, False otherwise.\n",
      " |      \n",
      " |      In a title-cased string, upper- and title-case characters may only\n",
      " |      follow uncased characters and lowercase characters only cased ones.\n",
      " |  \n",
      " |  isupper(self, /)\n",
      " |      Return True if the string is an uppercase string, False otherwise.\n",
      " |      \n",
      " |      A string is uppercase if all cased characters in the string are uppercase and\n",
      " |      there is at least one cased character in the string.\n",
      " |  \n",
      " |  join(self, iterable, /)\n",
      " |      Concatenate any number of strings.\n",
      " |      \n",
      " |      The string whose method is called is inserted in between each given string.\n",
      " |      The result is returned as a new string.\n",
      " |      \n",
      " |      Example: '.'.join(['ab', 'pq', 'rs']) -> 'ab.pq.rs'\n",
      " |  \n",
      " |  ljust(self, width, fillchar=' ', /)\n",
      " |      Return a left-justified string of length width.\n",
      " |      \n",
      " |      Padding is done using the specified fill character (default is a space).\n",
      " |  \n",
      " |  lower(self, /)\n",
      " |      Return a copy of the string converted to lowercase.\n",
      " |  \n",
      " |  lstrip(self, chars=None, /)\n",
      " |      Return a copy of the string with leading whitespace removed.\n",
      " |      \n",
      " |      If chars is given and not None, remove characters in chars instead.\n",
      " |  \n",
      " |  partition(self, sep, /)\n",
      " |      Partition the string into three parts using the given separator.\n",
      " |      \n",
      " |      This will search for the separator in the string.  If the separator is found,\n",
      " |      returns a 3-tuple containing the part before the separator, the separator\n",
      " |      itself, and the part after it.\n",
      " |      \n",
      " |      If the separator is not found, returns a 3-tuple containing the original string\n",
      " |      and two empty strings.\n",
      " |  \n",
      " |  removeprefix(self, prefix, /)\n",
      " |      Return a str with the given prefix string removed if present.\n",
      " |      \n",
      " |      If the string starts with the prefix string, return string[len(prefix):].\n",
      " |      Otherwise, return a copy of the original string.\n",
      " |  \n",
      " |  removesuffix(self, suffix, /)\n",
      " |      Return a str with the given suffix string removed if present.\n",
      " |      \n",
      " |      If the string ends with the suffix string and that suffix is not empty,\n",
      " |      return string[:-len(suffix)]. Otherwise, return a copy of the original\n",
      " |      string.\n",
      " |  \n",
      " |  replace(self, old, new, count=-1, /)\n",
      " |      Return a copy with all occurrences of substring old replaced by new.\n",
      " |      \n",
      " |        count\n",
      " |          Maximum number of occurrences to replace.\n",
      " |          -1 (the default value) means replace all occurrences.\n",
      " |      \n",
      " |      If the optional argument count is given, only the first count occurrences are\n",
      " |      replaced.\n",
      " |  \n",
      " |  rfind(...)\n",
      " |      S.rfind(sub[, start[, end]]) -> int\n",
      " |      \n",
      " |      Return the highest index in S where substring sub is found,\n",
      " |      such that sub is contained within S[start:end].  Optional\n",
      " |      arguments start and end are interpreted as in slice notation.\n",
      " |      \n",
      " |      Return -1 on failure.\n",
      " |  \n",
      " |  rindex(...)\n",
      " |      S.rindex(sub[, start[, end]]) -> int\n",
      " |      \n",
      " |      Return the highest index in S where substring sub is found,\n",
      " |      such that sub is contained within S[start:end].  Optional\n",
      " |      arguments start and end are interpreted as in slice notation.\n",
      " |      \n",
      " |      Raises ValueError when the substring is not found.\n",
      " |  \n",
      " |  rjust(self, width, fillchar=' ', /)\n",
      " |      Return a right-justified string of length width.\n",
      " |      \n",
      " |      Padding is done using the specified fill character (default is a space).\n",
      " |  \n",
      " |  rpartition(self, sep, /)\n",
      " |      Partition the string into three parts using the given separator.\n",
      " |      \n",
      " |      This will search for the separator in the string, starting at the end. If\n",
      " |      the separator is found, returns a 3-tuple containing the part before the\n",
      " |      separator, the separator itself, and the part after it.\n",
      " |      \n",
      " |      If the separator is not found, returns a 3-tuple containing two empty strings\n",
      " |      and the original string.\n",
      " |  \n",
      " |  rsplit(self, /, sep=None, maxsplit=-1)\n",
      " |      Return a list of the substrings in the string, using sep as the separator string.\n",
      " |      \n",
      " |        sep\n",
      " |          The separator used to split the string.\n",
      " |      \n",
      " |          When set to None (the default value), will split on any whitespace\n",
      " |          character (including \\\\n \\\\r \\\\t \\\\f and spaces) and will discard\n",
      " |          empty strings from the result.\n",
      " |        maxsplit\n",
      " |          Maximum number of splits (starting from the left).\n",
      " |          -1 (the default value) means no limit.\n",
      " |      \n",
      " |      Splitting starts at the end of the string and works to the front.\n",
      " |  \n",
      " |  rstrip(self, chars=None, /)\n",
      " |      Return a copy of the string with trailing whitespace removed.\n",
      " |      \n",
      " |      If chars is given and not None, remove characters in chars instead.\n",
      " |  \n",
      " |  split(self, /, sep=None, maxsplit=-1)\n",
      " |      Return a list of the substrings in the string, using sep as the separator string.\n",
      " |      \n",
      " |        sep\n",
      " |          The separator used to split the string.\n",
      " |      \n",
      " |          When set to None (the default value), will split on any whitespace\n",
      " |          character (including \\\\n \\\\r \\\\t \\\\f and spaces) and will discard\n",
      " |          empty strings from the result.\n",
      " |        maxsplit\n",
      " |          Maximum number of splits (starting from the left).\n",
      " |          -1 (the default value) means no limit.\n",
      " |      \n",
      " |      Note, str.split() is mainly useful for data that has been intentionally\n",
      " |      delimited.  With natural text that includes punctuation, consider using\n",
      " |      the regular expression module.\n",
      " |  \n",
      " |  splitlines(self, /, keepends=False)\n",
      " |      Return a list of the lines in the string, breaking at line boundaries.\n",
      " |      \n",
      " |      Line breaks are not included in the resulting list unless keepends is given and\n",
      " |      true.\n",
      " |  \n",
      " |  startswith(...)\n",
      " |      S.startswith(prefix[, start[, end]]) -> bool\n",
      " |      \n",
      " |      Return True if S starts with the specified prefix, False otherwise.\n",
      " |      With optional start, test S beginning at that position.\n",
      " |      With optional end, stop comparing S at that position.\n",
      " |      prefix can also be a tuple of strings to try.\n",
      " |  \n",
      " |  strip(self, chars=None, /)\n",
      " |      Return a copy of the string with leading and trailing whitespace removed.\n",
      " |      \n",
      " |      If chars is given and not None, remove characters in chars instead.\n",
      " |  \n",
      " |  swapcase(self, /)\n",
      " |      Convert uppercase characters to lowercase and lowercase characters to uppercase.\n",
      " |  \n",
      " |  title(self, /)\n",
      " |      Return a version of the string where each word is titlecased.\n",
      " |      \n",
      " |      More specifically, words start with uppercased characters and all remaining\n",
      " |      cased characters have lower case.\n",
      " |  \n",
      " |  translate(self, table, /)\n",
      " |      Replace each character in the string using the given translation table.\n",
      " |      \n",
      " |        table\n",
      " |          Translation table, which must be a mapping of Unicode ordinals to\n",
      " |          Unicode ordinals, strings, or None.\n",
      " |      \n",
      " |      The table must implement lookup/indexing via __getitem__, for instance a\n",
      " |      dictionary or list.  If this operation raises LookupError, the character is\n",
      " |      left untouched.  Characters mapped to None are deleted.\n",
      " |  \n",
      " |  upper(self, /)\n",
      " |      Return a copy of the string converted to uppercase.\n",
      " |  \n",
      " |  zfill(self, width, /)\n",
      " |      Pad a numeric string with zeros on the left, to fill a field of the given width.\n",
      " |      \n",
      " |      The string is never truncated.\n",
      " |  \n",
      " |  ----------------------------------------------------------------------\n",
      " |  Static methods defined here:\n",
      " |  \n",
      " |  __new__(*args, **kwargs) from builtins.type\n",
      " |      Create and return a new object.  See help(type) for accurate signature.\n",
      " |  \n",
      " |  maketrans(...)\n",
      " |      Return a translation table usable for str.translate().\n",
      " |      \n",
      " |      If there is only one argument, it must be a dictionary mapping Unicode\n",
      " |      ordinals (integers) or characters to Unicode ordinals, strings or None.\n",
      " |      Character keys will be then converted to ordinals.\n",
      " |      If there are two arguments, they must be strings of equal length, and\n",
      " |      in the resulting dictionary, each character in x will be mapped to the\n",
      " |      character at the same position in y. If there is a third argument, it\n",
      " |      must be a string, whose characters will be mapped to None in the result.\n",
      "\n"
     ]
    }
   ],
   "source": [
    "help(str) # prints help about string"
   ]
  },
  {
   "cell_type": "markdown",
   "metadata": {},
   "source": [
    "The dir() function in Python is used to get a list of the attributes and methods of an object. When you pass the str class to dir(), it returns a list of all the attributes and methods available for string objects.\n",
    "\n",
    "Here's a simple explanation:\n",
    "\n",
    "- Attributes: These are variables that belong to the object.\n",
    "- Methods: These are functions that belong to the object and can be called to perform actions on the object."
   ]
  },
  {
   "cell_type": "code",
   "execution_count": 56,
   "metadata": {},
   "outputs": [
    {
     "data": {
      "text/plain": [
       "['__add__',\n",
       " '__class__',\n",
       " '__contains__',\n",
       " '__delattr__',\n",
       " '__dir__',\n",
       " '__doc__',\n",
       " '__eq__',\n",
       " '__format__',\n",
       " '__ge__',\n",
       " '__getattribute__',\n",
       " '__getitem__',\n",
       " '__getnewargs__',\n",
       " '__gt__',\n",
       " '__hash__',\n",
       " '__init__',\n",
       " '__init_subclass__',\n",
       " '__iter__',\n",
       " '__le__',\n",
       " '__len__',\n",
       " '__lt__',\n",
       " '__mod__',\n",
       " '__mul__',\n",
       " '__ne__',\n",
       " '__new__',\n",
       " '__reduce__',\n",
       " '__reduce_ex__',\n",
       " '__repr__',\n",
       " '__rmod__',\n",
       " '__rmul__',\n",
       " '__setattr__',\n",
       " '__sizeof__',\n",
       " '__str__',\n",
       " '__subclasshook__',\n",
       " 'capitalize',\n",
       " 'casefold',\n",
       " 'center',\n",
       " 'count',\n",
       " 'encode',\n",
       " 'endswith',\n",
       " 'expandtabs',\n",
       " 'find',\n",
       " 'format',\n",
       " 'format_map',\n",
       " 'index',\n",
       " 'isalnum',\n",
       " 'isalpha',\n",
       " 'isascii',\n",
       " 'isdecimal',\n",
       " 'isdigit',\n",
       " 'isidentifier',\n",
       " 'islower',\n",
       " 'isnumeric',\n",
       " 'isprintable',\n",
       " 'isspace',\n",
       " 'istitle',\n",
       " 'isupper',\n",
       " 'join',\n",
       " 'ljust',\n",
       " 'lower',\n",
       " 'lstrip',\n",
       " 'maketrans',\n",
       " 'partition',\n",
       " 'removeprefix',\n",
       " 'removesuffix',\n",
       " 'replace',\n",
       " 'rfind',\n",
       " 'rindex',\n",
       " 'rjust',\n",
       " 'rpartition',\n",
       " 'rsplit',\n",
       " 'rstrip',\n",
       " 'split',\n",
       " 'splitlines',\n",
       " 'startswith',\n",
       " 'strip',\n",
       " 'swapcase',\n",
       " 'title',\n",
       " 'translate',\n",
       " 'upper',\n",
       " 'zfill']"
      ]
     },
     "execution_count": 56,
     "metadata": {},
     "output_type": "execute_result"
    }
   ],
   "source": [
    "dir(str) # complete information of methods and attributes\n",
    "#So, dir(str) helps you understand what you can do with string objects in Python."
   ]
  },
  {
   "cell_type": "markdown",
   "metadata": {},
   "source": [
    "## Conditionals, Loops\n",
    "\n",
    "## Conditionals\n",
    "\n",
    "By default, statements in Python script are executed sequentially from top to bottom. If the processing logic require so, the sequential flow of execution can be altered in two way:\n",
    "\n",
    "- **Conditional execution:** a block of one or more statements will be executed if a certain expression is true\n",
    "- **Repetitive execution:** a block of one or more statements will be repetitively executed as long as a certain expression is true. In this section, we will cover `if`, `else`, `elif` statements. The comparison and logical operators we learned in previous sections will be useful here.\n",
    "\n",
    "### If Condition\n",
    "\n",
    "In python and other programming languages the key word `if` is used to check if a condition is true and to execute the block code. **Remember** the indentation after the colon."
   ]
  },
  {
   "cell_type": "code",
   "execution_count": 57,
   "metadata": {},
   "outputs": [
    {
     "name": "stdout",
     "output_type": "stream",
     "text": [
      "A is a positive number\n"
     ]
    }
   ],
   "source": [
    "a = 3\n",
    "if a > 0:\n",
    "    print('A is a positive number') # A is a positive number"
   ]
  },
  {
   "cell_type": "markdown",
   "metadata": {},
   "source": [
    "As you can see in the example above, 3 is greater than 0. The condition was true and the block code was executed. However, if the condition is false, we do not see the result. In order to see the result of the false condition, we should have another block, which is going to be `else`.\n",
    "\n",
    "### If Else\n",
    "\n",
    "If condition is true the first block will be executed, if not the else condition will run."
   ]
  },
  {
   "cell_type": "code",
   "execution_count": 58,
   "metadata": {},
   "outputs": [
    {
     "name": "stdout",
     "output_type": "stream",
     "text": [
      "A is a positive number\n"
     ]
    }
   ],
   "source": [
    "a = 3\n",
    "if a < 0:\n",
    "    print('A is a negative number')\n",
    "else:\n",
    "    print('A is a positive number')"
   ]
  },
  {
   "cell_type": "markdown",
   "metadata": {},
   "source": [
    "### Syntactic Sugar"
   ]
  },
  {
   "cell_type": "code",
   "execution_count": 59,
   "metadata": {},
   "outputs": [
    {
     "name": "stdout",
     "output_type": "stream",
     "text": [
      "A is negative\n"
     ]
    }
   ],
   "source": [
    "a = -2\n",
    "print('A is positive') if a > 0 else print('A is negative')"
   ]
  },
  {
   "cell_type": "markdown",
   "metadata": {},
   "source": [
    "The condition above proves false, therefore the else block was executed. How about if our condition is more than two? We could use `elif`."
   ]
  },
  {
   "cell_type": "code",
   "execution_count": 60,
   "metadata": {},
   "outputs": [
    {
     "name": "stdout",
     "output_type": "stream",
     "text": [
      "A is zero\n"
     ]
    }
   ],
   "source": [
    "a = 0\n",
    "if a > 0:\n",
    "    print('A is a positive number')\n",
    "elif a < 0:\n",
    "    print('A is a negative number')\n",
    "else:\n",
    "    print('A is zero')"
   ]
  },
  {
   "cell_type": "markdown",
   "metadata": {},
   "source": [
    "### Nested Conditions\n",
    "\n",
    "Conditions can be nested. Not a good idea though. Nested loops can be difficult to debug."
   ]
  },
  {
   "cell_type": "code",
   "execution_count": 61,
   "metadata": {},
   "outputs": [
    {
     "name": "stdout",
     "output_type": "stream",
     "text": [
      "A is zero\n"
     ]
    }
   ],
   "source": [
    "a = 0\n",
    "if a > 0:\n",
    "    if a % 2 == 0:\n",
    "        print('A is a positive and even integer')\n",
    "    else:\n",
    "        print('A is a positive number')\n",
    "elif a == 0:\n",
    "    print('A is zero')\n",
    "else:\n",
    "    print('A is a negative number')"
   ]
  },
  {
   "cell_type": "markdown",
   "metadata": {},
   "source": [
    "We can avoid writing nested condition by using logical operator `and`.\n",
    "\n",
    "### If Condition and Logical Operators"
   ]
  },
  {
   "cell_type": "code",
   "execution_count": 62,
   "metadata": {},
   "outputs": [
    {
     "name": "stdout",
     "output_type": "stream",
     "text": [
      "A is zero\n"
     ]
    }
   ],
   "source": [
    "a = 0\n",
    "if a > 0 and a % 2 == 0:\n",
    "        print('A is an even and positive integer')\n",
    "elif a > 0 and a % 2 !=  0:\n",
    "     print('A is a positive integer')\n",
    "elif a == 0:\n",
    "    print('A is zero')\n",
    "else:\n",
    "    print('A is negative')"
   ]
  },
  {
   "cell_type": "markdown",
   "metadata": {},
   "source": [
    "### If and Or Logical Operators"
   ]
  },
  {
   "cell_type": "code",
   "execution_count": 63,
   "metadata": {},
   "outputs": [
    {
     "name": "stdout",
     "output_type": "stream",
     "text": [
      "0\n",
      "1\n",
      "2\n",
      "3\n",
      "4\n",
      "5\n",
      "6\n",
      "7\n",
      "8\n",
      "9\n",
      "The loop stops at 9\n"
     ]
    }
   ],
   "source": [
    "for number in range(10):\n",
    "    print(number)   # prints 0 to 9\n",
    "else:\n",
    "    print('The loop stops at', number)"
   ]
  },
  {
   "cell_type": "markdown",
   "metadata": {},
   "source": [
    "## Loops\n",
    "\n",
    "Life is full of routines. In programming we also do lots of repetitive tasks. In order to handle repetitive task programming languages use loops. Python programming language also provides the following types of two loops:\n",
    "\n",
    "1. while loop\n",
    "2. for loop\n",
    "\n",
    "### While Loop\n",
    "\n",
    "We use the reserved word _while_ to make a while loop. It is used to execute a block of statements repeatedly until a given condition is satisfied. When the condition becomes false, the lines of code after the loop will be continued to be executed.\n",
    "## Loops\n",
    "\n",
    "Life is full of routines. In programming we also do lots of repetitive tasks. In order to handle repetitive task programming languages use loops. Python programming language also provides the following types of two loops:\n",
    "\n",
    "1. while loop\n",
    "2. for loop\n",
    "\n",
    "### While Loop\n",
    "\n",
    "We use the reserved word _while_ to make a while loop. It is used to execute a block of statements repeatedly until a given condition is satisfied. When the condition becomes false, the lines of code after the loop will be continued to be executed."
   ]
  },
  {
   "cell_type": "code",
   "execution_count": 64,
   "metadata": {},
   "outputs": [
    {
     "name": "stdout",
     "output_type": "stream",
     "text": [
      "0\n",
      "1\n",
      "2\n",
      "3\n",
      "4\n"
     ]
    }
   ],
   "source": [
    "count = 0\n",
    "while count < 5:\n",
    "    print(count)\n",
    "    count = count + 1 #prints from 0 to 4"
   ]
  },
  {
   "cell_type": "markdown",
   "metadata": {},
   "source": [
    "In the above while loop, the condition becomes false when count is 5. That is when the loop stops.\n",
    "While can also be clubbed with else. If we are interested to run block of code once the condition is no longer true, we can use `else`."
   ]
  },
  {
   "cell_type": "code",
   "execution_count": 65,
   "metadata": {},
   "outputs": [
    {
     "name": "stdout",
     "output_type": "stream",
     "text": [
      "0\n",
      "1\n",
      "2\n",
      "3\n",
      "4\n",
      "5\n"
     ]
    }
   ],
   "source": [
    "count = 0\n",
    "while count < 5:\n",
    "    print(count)\n",
    "    count = count + 1\n",
    "else:\n",
    "    print(count)"
   ]
  },
  {
   "cell_type": "markdown",
   "metadata": {},
   "source": [
    "The above loop condition will be false when count is 5 and the loop stops, and execution starts the else statement. As a result 5 will be printed.\n",
    "\n",
    "### Break and Continue\n",
    "\n",
    "- Break: We use break when we like to get out of or stop the loop."
   ]
  },
  {
   "cell_type": "code",
   "execution_count": 66,
   "metadata": {},
   "outputs": [
    {
     "name": "stdout",
     "output_type": "stream",
     "text": [
      "0\n",
      "1\n",
      "2\n"
     ]
    }
   ],
   "source": [
    "count = 0\n",
    "while True: # infinite loop\n",
    "    print(count)\n",
    "    count = count + 1\n",
    "    if count == 3:\n",
    "        break"
   ]
  },
  {
   "cell_type": "markdown",
   "metadata": {},
   "source": [
    "The above while loop only prints 0, 1, 2, but when it reaches 3 it stops.\n",
    "\n",
    "### Continue: \n",
    "With the continue statement we can skip the current iteration, and continue with the next:"
   ]
  },
  {
   "cell_type": "code",
   "execution_count": 67,
   "metadata": {},
   "outputs": [
    {
     "name": "stdout",
     "output_type": "stream",
     "text": [
      "0\n",
      "1\n",
      "2\n",
      "4\n"
     ]
    }
   ],
   "source": [
    "count = 0\n",
    "while count < 5:\n",
    "    if count == 3:\n",
    "        count = count + 1\n",
    "        continue\n",
    "    print(count)\n",
    "    count = count + 1"
   ]
  },
  {
   "cell_type": "markdown",
   "metadata": {},
   "source": [
    "The above while loop only prints 0, 1, 2 and 4 (skips 3).\n",
    "\n",
    "## For Loop\n",
    "\n",
    "A `for` keyword is used to make a for loop, similar with other programming languages, but with some syntax differences. Loop is used for iterating over a sequence (that is either a list, a tuple, a dictionary, a set, or a string).\n",
    "\n",
    "#### For loop with list"
   ]
  },
  {
   "cell_type": "code",
   "execution_count": 68,
   "metadata": {},
   "outputs": [
    {
     "name": "stdout",
     "output_type": "stream",
     "text": [
      "0\n",
      "1\n",
      "2\n",
      "3\n",
      "4\n",
      "5\n"
     ]
    }
   ],
   "source": [
    "numbers = [0, 1, 2, 3, 4, 5]\n",
    "for number in numbers: # number is temporary name to refer to the list's items, valid only inside this loop\n",
    "    print(number)       # the numbers will be printed line by line, from 0 to 5"
   ]
  },
  {
   "cell_type": "markdown",
   "metadata": {},
   "source": [
    "#### For loop with string"
   ]
  },
  {
   "cell_type": "code",
   "execution_count": 69,
   "metadata": {},
   "outputs": [
    {
     "name": "stdout",
     "output_type": "stream",
     "text": [
      "P\n",
      "y\n",
      "t\n",
      "h\n",
      "o\n",
      "n\n"
     ]
    }
   ],
   "source": [
    "word = 'Python'\n",
    "for letter in word:\n",
    "    print(letter)"
   ]
  },
  {
   "cell_type": "code",
   "execution_count": 70,
   "metadata": {},
   "outputs": [
    {
     "name": "stdout",
     "output_type": "stream",
     "text": [
      "P\n",
      "y\n",
      "t\n",
      "h\n",
      "o\n",
      "n\n"
     ]
    }
   ],
   "source": [
    "for i in range(len(word)): # python treats all strings as list\n",
    "    print(word[i])"
   ]
  },
  {
   "cell_type": "markdown",
   "metadata": {},
   "source": [
    "#### For loop with tuple"
   ]
  },
  {
   "cell_type": "code",
   "execution_count": 71,
   "metadata": {},
   "outputs": [
    {
     "name": "stdout",
     "output_type": "stream",
     "text": [
      "0\n",
      "1\n",
      "2\n",
      "3\n",
      "4\n",
      "5\n"
     ]
    }
   ],
   "source": [
    "numbers = (0, 1, 2, 3, 4, 5)\n",
    "for number in numbers:\n",
    "    print(number)"
   ]
  },
  {
   "cell_type": "markdown",
   "metadata": {},
   "source": [
    "#### For loop with dictionary\n",
    "  Looping through a dictionary gives you the key of the dictionary."
   ]
  },
  {
   "cell_type": "code",
   "execution_count": 72,
   "metadata": {},
   "outputs": [
    {
     "name": "stdout",
     "output_type": "stream",
     "text": [
      "key: first_name\n",
      "key: last_name\n",
      "key: age\n",
      "key: country\n",
      "key: is_married\n",
      "key: skills\n",
      "key: address\n",
      "--------------------------------------------------\n",
      "Key: first_name| Value: Mohan\n",
      "Key: last_name| Value: Sharma\n",
      "Key: age| Value: 25\n",
      "Key: country| Value: India\n",
      "Key: is_married| Value: False\n",
      "Key: skills| Value: ['C', 'C++', 'Python']\n",
      "Key: address| Value: {'street': 'ABC street', 'zipcode': '123456'}\n"
     ]
    }
   ],
   "source": [
    "person = {'first_name':'Mohan',\n",
    "          'last_name':'Sharma',\n",
    "          'age':25,\n",
    "          'country':'India',\n",
    "          'is_married':False,\n",
    "          'skills':['C', 'C++', 'Python'],\n",
    "          'address':{'street':'ABC street',\n",
    "                     'zipcode':'123456'\n",
    "                    }\n",
    "         }\n",
    "for key in person:\n",
    "    print(f'key: {key}')\n",
    "print ('-'*50)\n",
    "for key, value in person.items():\n",
    "    print(f'Key: {key}| Value: {value}') # print both keys and values"
   ]
  },
  {
   "cell_type": "markdown",
   "metadata": {},
   "source": [
    "#### Loops in set"
   ]
  },
  {
   "cell_type": "code",
   "execution_count": 73,
   "metadata": {},
   "outputs": [
    {
     "name": "stdout",
     "output_type": "stream",
     "text": [
      "Google\n",
      "IBM\n",
      "Apple\n",
      "Amazon\n",
      "Oracle\n",
      "Facebook\n",
      "Microsoft\n"
     ]
    }
   ],
   "source": [
    "it_companies = {'Facebook', 'Google', 'Microsoft', 'Apple', 'IBM', 'Oracle', 'Amazon'}\n",
    "for company in it_companies:\n",
    "    print(company)"
   ]
  },
  {
   "cell_type": "markdown",
   "metadata": {},
   "source": [
    "### Break and Continue\n",
    "\n",
    "Reminder:\n",
    "`Break`: We use break when we like to stop our loop before it is completed."
   ]
  },
  {
   "cell_type": "code",
   "execution_count": 74,
   "metadata": {},
   "outputs": [
    {
     "name": "stdout",
     "output_type": "stream",
     "text": [
      "0\n",
      "1\n",
      "2\n",
      "3\n"
     ]
    }
   ],
   "source": [
    "numbers = (0,1,2,3,4,5)\n",
    "for number in numbers:\n",
    "    print(number)\n",
    "    if number == 3:\n",
    "        break"
   ]
  },
  {
   "cell_type": "markdown",
   "metadata": {},
   "source": [
    "In the above example, the loop stops when it reaches 3.\n",
    "\n",
    "Continue: We use continue when we like to skip some of the steps in the iteration of the loop."
   ]
  },
  {
   "cell_type": "code",
   "execution_count": 75,
   "metadata": {},
   "outputs": [
    {
     "name": "stdout",
     "output_type": "stream",
     "text": [
      "0\n",
      "Next number should be  1\n",
      "1\n",
      "Next number should be  2\n",
      "2\n",
      "Next number should be  3\n",
      "3\n",
      "4\n",
      "Next number should be  5\n",
      "5\n",
      "loop's end\n",
      "outside the loop\n"
     ]
    }
   ],
   "source": [
    "numbers = (0,1,2,3,4,5)\n",
    "for number in numbers:\n",
    "    print(number)\n",
    "    if number == 3:\n",
    "        continue\n",
    "    print('Next number should be ', number + 1) if number != 5 else print(\"loop's end\") # for short hand conditions need both if and else statements\n",
    "print('outside the loop')"
   ]
  },
  {
   "cell_type": "markdown",
   "metadata": {},
   "source": [
    "In the example above, if the number equals 3, the step *after* the condition (but inside the loop) is skipped and the execution of the loop continues if there are any iterations left.\n",
    "\n",
    "### The Range Function\n",
    "\n",
    "The `range()` function is used list of numbers. The `range(start, end, step)` takes three parameters: starting, ending and increment. By default it starts from 0 and the increment is 1. The range sequence needs at least 1 argument (end).\n",
    "Creating sequences using range"
   ]
  },
  {
   "cell_type": "code",
   "execution_count": 76,
   "metadata": {},
   "outputs": [
    {
     "name": "stdout",
     "output_type": "stream",
     "text": [
      "0 1 2 3 4 5 6 7 8 9 "
     ]
    }
   ],
   "source": [
    "for number in range(10):\n",
    "    print(number, end = ' ')   # prints 10 values 0 to 9, not including 10\n",
    "### Note: end = ' ' prints on the same line with one blank space."
   ]
  },
  {
   "cell_type": "markdown",
   "metadata": {},
   "source": [
    "### Nested For Loop\n",
    "\n",
    "We can write loops inside a loop."
   ]
  },
  {
   "cell_type": "code",
   "execution_count": 77,
   "metadata": {},
   "outputs": [
    {
     "name": "stdout",
     "output_type": "stream",
     "text": [
      "C\n",
      "C++\n",
      "Python\n"
     ]
    }
   ],
   "source": [
    "for key in person:\n",
    "    if key == 'skills':\n",
    "        for skill in person['skills']:\n",
    "            print(skill)"
   ]
  },
  {
   "cell_type": "markdown",
   "metadata": {},
   "source": [
    "### For Else\n",
    "\n",
    "If we want to execute some message when the loop ends, we use else."
   ]
  },
  {
   "cell_type": "code",
   "execution_count": 78,
   "metadata": {},
   "outputs": [
    {
     "name": "stdout",
     "output_type": "stream",
     "text": [
      "0\n",
      "1\n",
      "2\n",
      "3\n",
      "4\n",
      "5\n",
      "6\n",
      "7\n",
      "8\n",
      "9\n",
      "The loop stops at 9\n"
     ]
    }
   ],
   "source": [
    "for number in range(10):\n",
    "    print(number)   # prints 0 to 9\n",
    "else:\n",
    "    print('The loop stops at', number)"
   ]
  },
  {
   "cell_type": "markdown",
   "metadata": {},
   "source": [
    "### Pass\n",
    "\n",
    "In python when statement is required (after semicolon), but we don't like to execute any code there, we can write the word `pass` to avoid errors. Also we can use it as a placeholder, for future statements."
   ]
  },
  {
   "cell_type": "code",
   "execution_count": 79,
   "metadata": {},
   "outputs": [
    {
     "name": "stdout",
     "output_type": "stream",
     "text": [
      "Last number: 5\n"
     ]
    }
   ],
   "source": [
    "for number in range(6):\n",
    "    pass\n",
    "print (f'Last number: {number}')"
   ]
  },
  {
   "cell_type": "markdown",
   "metadata": {},
   "source": [
    "## \"Duck\" typing\n",
    "`If it looks like a duck and quacks like a duck, it must be a duck.`\n",
    "\n",
    "Often you may not care about the type of an object but rather only whether it has certain methods or behavior. For example, you can verify that an object is iterable if it implemented the iterator protocol. For many objects, this means it has a `__iter__` \"magic method\", though an alternative and better way to check is to try using the iter function.\n"
   ]
  },
  {
   "cell_type": "code",
   "execution_count": 80,
   "metadata": {},
   "outputs": [
    {
     "name": "stdout",
     "output_type": "stream",
     "text": [
      "True\n",
      "True\n",
      "False\n"
     ]
    }
   ],
   "source": [
    "def isiterable(obj):\n",
    "    try:\n",
    "        iter(obj)\n",
    "        return True\n",
    "    except TypeError: # not iterable\n",
    "        return False\n",
    "    \n",
    "#This function would return True for strings as well as most Python collection types:\n",
    "print(isiterable('a string'))\n",
    "\n",
    "print(isiterable([1, 2, 3]))\n",
    "\n",
    "print (isiterable(5))\n"
   ]
  },
  {
   "cell_type": "markdown",
   "metadata": {},
   "source": [
    "A place where I use this functionality all the time is to write functions that can accept multiple kinds of input. A common case is writing a function that can accept any kind of sequence (list, tuple, ndarray) or even an iterator. You can first check if the object is a list (or a NumPy array) and, if it is not, convert it to be one:\n",
    "\n",
    "<code> \n",
    "if not isinstance(x, list) and isiterable(x):\n",
    "\n",
    "    x = list(x)\n",
    "</code>"
   ]
  },
  {
   "cell_type": "code",
   "execution_count": null,
   "metadata": {},
   "outputs": [],
   "source": []
  }
 ],
 "metadata": {
  "kernelspec": {
   "display_name": "Python 3 (ipykernel)",
   "language": "python",
   "name": "python3"
  },
  "language_info": {
   "codemirror_mode": {
    "name": "ipython",
    "version": 3
   },
   "file_extension": ".py",
   "mimetype": "text/x-python",
   "name": "python",
   "nbconvert_exporter": "python",
   "pygments_lexer": "ipython3",
   "version": "3.10.12"
  }
 },
 "nbformat": 4,
 "nbformat_minor": 4
}
