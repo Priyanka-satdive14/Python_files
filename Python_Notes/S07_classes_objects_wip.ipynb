{
 "cells": [
  {
   "cell_type": "code",
   "execution_count": 1,
   "metadata": {},
   "outputs": [],
   "source": [
    "#!/usr/bin/env python3\n",
    "# -*- coding: utf-8 -*-"
   ]
  },
  {
   "cell_type": "markdown",
   "metadata": {},
   "source": [
    "# Analytics and Statistics using Python\n",
    "## S07: Classes and Objects\n",
    "- Advanced Python:\n",
    "    - Object Oriented Python\n",
    "    - OOPs concept\n",
    "- What's an Object?\n",
    "- Indenting Code\n",
    "- Native Data types\n",
    "- Declaring variables\n",
    "- Referencing Variables\n",
    "- Object References\n",
    "\n",
    "<img src='../../prasami_images/prasami_color_tutorials_small.png' width='400' alt=\"By Pramod Sharma : pramod.sharma@prasami.com\" align = \"left\"/>"
   ]
  },
  {
   "cell_type": "markdown",
   "metadata": {},
   "source": [
    "## Everything is an object\n",
    "An important characteristic of the Python language is the consistency of its object model. Every number, string, data structure, function, class, module, and so on exists in the Python interpreter in its own \"box\" which is referred to as a Python object. Each object has an associated type (for example, string or function) and internal data. In practice this makes the language very flexible, as even functions can be treated just like any other object."
   ]
  },
  {
   "cell_type": "code",
   "execution_count": 2,
   "metadata": {},
   "outputs": [
    {
     "name": "stdout",
     "output_type": "stream",
     "text": [
      "Rupees Symbol: ₹\n"
     ]
    }
   ],
   "source": [
    "rupee_symbol = '\\u20B9'\n",
    "\n",
    "print (f'Rupees Symbol: {rupee_symbol}')"
   ]
  },
  {
   "cell_type": "code",
   "execution_count": 3,
   "metadata": {},
   "outputs": [
    {
     "name": "stdout",
     "output_type": "stream",
     "text": [
      "<class 'int'>\n",
      "<class 'str'>\n",
      "<class 'bool'>\n",
      "<class 'list'>\n",
      "<class 'tuple'>\n",
      "<class 'set'>\n",
      "<class 'dict'>\n"
     ]
    }
   ],
   "source": [
    "number = 15\n",
    "print(type(number))\n",
    "\n",
    "string = 'Mohan'\n",
    "print(type(string))\n",
    "\n",
    "boolean = True\n",
    "print(type(boolean))\n",
    "\n",
    "lst = []\n",
    "print(type(lst))\n",
    "\n",
    "tpl = ()\n",
    "print(type(tpl))\n",
    "\n",
    "set1 = set()\n",
    "print(type(set1))\n",
    "\n",
    "dct = {}\n",
    "print(type(dct))\n"
   ]
  },
  {
   "cell_type": "markdown",
   "metadata": {},
   "source": [
    "Some key advantages of using objects include:\n",
    "\n",
    "- **Polymorphism:** The same operation can be applied to objects from different classes, and they will behave appropriately, almost as if \"by magic.\"\n",
    "- **Encapsulation:** Internal details of how an object works are hidden from the outside world, exposing only what's necessary.\n",
    "- **Inheritance:** You can create more specialized classes based on existing, more general ones, reusing and extending their functionality.\n",
    "\n",
    "### Polymorphism - Having different forms"
   ]
  },
  {
   "cell_type": "code",
   "execution_count": 4,
   "metadata": {},
   "outputs": [
    {
     "name": "stdout",
     "output_type": "stream",
     "text": [
      "The length of 'Mohan is from Pune' is 18\n",
      "The length of [1, 2, 3, 4, 5, 6] is 6\n"
     ]
    }
   ],
   "source": [
    "def length_message(x):\n",
    "    print (\"The length of\", repr(x), \"is\", len(x))\n",
    "\n",
    "length_message('Mohan is from Pune')\n",
    "\n",
    "length_message([1,2,3,4,5,6])"
   ]
  },
  {
   "cell_type": "markdown",
   "metadata": {},
   "source": [
    "### Creating a Class\n",
    "\n",
    "To create a class, we use the keyword `class` followed by the class name and a colon. By convention, the class name should follow **CamelCase** style, where each word starts with a capital letter and no underscores are used between words."
   ]
  },
  {
   "cell_type": "code",
   "execution_count": 5,
   "metadata": {},
   "outputs": [
    {
     "name": "stdout",
     "output_type": "stream",
     "text": [
      "<class '__main__.Person'>\n"
     ]
    }
   ],
   "source": [
    "class Person:\n",
    "  pass\n",
    "\n",
    "print(Person)"
   ]
  },
  {
   "cell_type": "markdown",
   "metadata": {},
   "source": [
    "### Creating an Object\n",
    "\n",
    "We can create an object by calling the class."
   ]
  },
  {
   "cell_type": "code",
   "execution_count": 6,
   "metadata": {},
   "outputs": [
    {
     "name": "stdout",
     "output_type": "stream",
     "text": [
      "<__main__.Person object at 0x7211606aad40>\n"
     ]
    }
   ],
   "source": [
    "p = Person()\n",
    "\n",
    "print(p)"
   ]
  },
  {
   "cell_type": "code",
   "execution_count": 7,
   "metadata": {},
   "outputs": [
    {
     "data": {
      "text/plain": [
       "['__class__',\n",
       " '__delattr__',\n",
       " '__dict__',\n",
       " '__dir__',\n",
       " '__doc__',\n",
       " '__eq__',\n",
       " '__format__',\n",
       " '__ge__',\n",
       " '__getattribute__',\n",
       " '__gt__',\n",
       " '__hash__',\n",
       " '__init__',\n",
       " '__init_subclass__',\n",
       " '__le__',\n",
       " '__lt__',\n",
       " '__module__',\n",
       " '__ne__',\n",
       " '__new__',\n",
       " '__reduce__',\n",
       " '__reduce_ex__',\n",
       " '__repr__',\n",
       " '__setattr__',\n",
       " '__sizeof__',\n",
       " '__str__',\n",
       " '__subclasshook__',\n",
       " '__weakref__']"
      ]
     },
     "execution_count": 7,
     "metadata": {},
     "output_type": "execute_result"
    }
   ],
   "source": [
    "dir(Person)"
   ]
  },
  {
   "cell_type": "markdown",
   "metadata": {},
   "source": [
    "### Class Constructor\n",
    "\n",
    "\n",
    "Python has a built-in constructor function called `__init__()`. This function takes a parameter, typically named `self`, which refers to the current instance of the class.\n",
    "\n",
    "Although it's a convention to name this parameter `self`, you can technically call it anything. However, for consistency and readability, I will stick with the standard `self`.\n"
   ]
  },
  {
   "cell_type": "code",
   "execution_count": 8,
   "metadata": {},
   "outputs": [
    {
     "name": "stdout",
     "output_type": "stream",
     "text": [
      "Object: <__main__.Person object at 0x7211606aa8c0>\n",
      "Name attribute: Mohan\n"
     ]
    }
   ],
   "source": [
    "class Person:\n",
    "  def __init__ (self, name):\n",
    "    # self allows to attach parameter to the object\n",
    "    self.name =name\n",
    "\n",
    "p = Person('Mohan')\n",
    "\n",
    "print(f'Object: {p}')\n",
    "\n",
    "print(f'Name attribute: {p.name}')"
   ]
  },
  {
   "cell_type": "code",
   "execution_count": 9,
   "metadata": {},
   "outputs": [
    {
     "name": "stdout",
     "output_type": "stream",
     "text": [
      "Full Name: Mohan Sharma\n",
      "Age: 25\n",
      "Lives in : Pune, India\n"
     ]
    }
   ],
   "source": [
    "# Let us add more parameters to the constructor function.\n",
    "\n",
    "class Person:\n",
    "    def __init__(self, fName, lName, age, country, city):\n",
    "        self.firstName = fName\n",
    "        self.lastName = lName\n",
    "        self.age = age\n",
    "        self.country = country\n",
    "        self.city = city\n",
    "\n",
    "\n",
    "p = Person('Mohan', 'Sharma', 25, 'India', 'Pune')\n",
    "print(f'Full Name: {p.firstName} {p.lastName}')\n",
    "print(f'Age: {p.age}')\n",
    "print(f'Lives in : {p.city}, {p.country}')"
   ]
  },
  {
   "cell_type": "markdown",
   "metadata": {},
   "source": [
    "### Object Methods\n",
    "\n",
    "Objects can have methods. The methods are functions which belong to the object."
   ]
  },
  {
   "cell_type": "code",
   "execution_count": 10,
   "metadata": {},
   "outputs": [
    {
     "name": "stdout",
     "output_type": "stream",
     "text": [
      "Mohan Sharma is 25 years old. He lives in Pune, India.\n"
     ]
    }
   ],
   "source": [
    "class Person:\n",
    "  def __init__(self, fName, lName, age, country, city):\n",
    "    self.firstName = fName\n",
    "    self.lastName = lName\n",
    "    self.age = age\n",
    "    self.country = country\n",
    "    self.city = city\n",
    "\n",
    "  def person_info(self):\n",
    "    return f'{self.firstName} {self.lastName} is {self.age} years old. He lives in {self.city}, {self.country}.'\n",
    "\n",
    "p = Person('Mohan', 'Sharma', 25, 'India', 'Pune')\n",
    "\n",
    "print(p.person_info())"
   ]
  },
  {
   "cell_type": "markdown",
   "metadata": {},
   "source": [
    "### Methods with default values\n",
    "\n",
    "Sometimes, you may want to have a default values for your object methods. If we give default values for the parameters in the constructor, we can avoid errors when we call or instantiate our class without parameters. "
   ]
  },
  {
   "cell_type": "code",
   "execution_count": 11,
   "metadata": {},
   "outputs": [
    {
     "name": "stdout",
     "output_type": "stream",
     "text": [
      "Sohan Verma is 52 years old. He lives in Mumbai, India.\n",
      "Mohan Sharma is 25 years old. He lives in Pune, India.\n"
     ]
    }
   ],
   "source": [
    "class Person:\n",
    "  def __init__(self, fName='Sohan', \n",
    "               lName='Verma', \n",
    "               age=52, \n",
    "               country='India', \n",
    "               city='Mumbai'):\n",
    "    '''\n",
    "    Args:\n",
    "      fName: str - First Name eg: 'Sohan'\n",
    "      lName: str - Last Name  eg: 'Verma' \n",
    "      age:   int - Age of the person eg:52 \n",
    "      country: str - Country of residence eg: 'India' \n",
    "      city   : str - City of residence eg: 'Mumbai'\n",
    "    ''''\n",
    "    self.firstName = fName\n",
    "    \n",
    "    self.lastName = lName\n",
    "    \n",
    "    self.age = age\n",
    "    \n",
    "    self.country = country\n",
    "    \n",
    "    self.city = city\n",
    "\n",
    "  def person_info(self):\n",
    "    \n",
    "    return f'{self.firstName} {self.lastName} is {self.age} years old. He lives in {self.city}, {self.country}.'\n",
    "\n",
    "p1 = Person()\n",
    "p2 = Person('Mohan', 'Sharma', 25, 'India', 'Pune')\n",
    "\n",
    "print(p1.person_info())\n",
    "print(p2.person_info())"
   ]
  },
  {
   "cell_type": "markdown",
   "metadata": {},
   "source": [
    "\n",
    "### Method to Modify Class Values\n",
    "\n",
    "In the example below, the person class, all the constructor parameters have default values. In addition to that, we have skills parameter, which we can access using a method. Let us create add_skill method to add skills to the skills list.\n"
   ]
  },
  {
   "cell_type": "code",
   "execution_count": 12,
   "metadata": {},
   "outputs": [
    {
     "name": "stdout",
     "output_type": "stream",
     "text": [
      "Sohan Verma is 52 years old. He lives in Mumbai, India.\n",
      "Mohan Sharma is 25 years old. He lives in Pune, India.\n",
      "['Python', 'Pandas', 'Numpy']\n",
      "[]\n"
     ]
    }
   ],
   "source": [
    "class Person:\n",
    "  def __init__(self, fName='Sohan', lName='Verma', age=52, country='India', city='Mumbai'):\n",
    "    self.firstName = fName\n",
    "    self.lastName = lName\n",
    "    self.age = age\n",
    "    self.country = country\n",
    "    self.city = city\n",
    "    self.skills = []\n",
    "\n",
    "\n",
    "  def person_info(self):\n",
    "    return f'{self.firstName} {self.lastName} is {self.age} years old. He lives in {self.city}, {self.country}.'\n",
    "      \n",
    "  def add_skill(self, skill):\n",
    "    self.skills.append(skill)\n",
    "\n",
    "p1 = Person()\n",
    "print(p1.person_info())\n",
    "p1.add_skill('Python')\n",
    "p1.add_skill('Pandas')\n",
    "p1.add_skill('Numpy')\n",
    "\n",
    "p2 = Person('Mohan', 'Sharma', 25, 'India', 'Pune')\n",
    "print(p2.person_info())\n",
    "\n",
    "print(p1.skills)\n",
    "\n",
    "print(p2.skills)"
   ]
  },
  {
   "cell_type": "markdown",
   "metadata": {},
   "source": [
    "### Inheritance\n",
    "\n",
    "Using inheritance we can reuse parent class code. Inheritance allows us to define a class that inherits all the methods and properties from parent class. The parent class or super or base class is the class which gives all the methods and properties. Child class is the class that inherits from another or parent class."
   ]
  },
  {
   "cell_type": "code",
   "execution_count": 13,
   "metadata": {},
   "outputs": [
    {
     "name": "stdout",
     "output_type": "stream",
     "text": [
      "Mohan Sharma is 25 years old. He lives in Pune, India.\n",
      "['Python', 'Pandas', 'Numpy']\n",
      "Rohan Tuli is 28 years old. He lives in Delhi, India.\n",
      "['Organizing', 'Marketing', 'Digital Marketing']\n"
     ]
    }
   ],
   "source": [
    "class Student(Person):\n",
    "    pass\n",
    "\n",
    "\n",
    "s1 = Student('Mohan', 'Sharma', 25, 'India', 'Pune')\n",
    "s2 = Student('Rohan', 'Tuli', 28, 'India', 'Delhi')\n",
    "print(s1.person_info())\n",
    "\n",
    "\n",
    "s1.add_skill('Python')\n",
    "s1.add_skill('Pandas')\n",
    "s1.add_skill('Numpy')\n",
    "print(s1.skills)\n",
    "\n",
    "print(s2.person_info())\n",
    "s2.add_skill('Organizing')\n",
    "s2.add_skill('Marketing')\n",
    "s2.add_skill('Digital Marketing')\n",
    "print(s2.skills)"
   ]
  },
  {
   "cell_type": "markdown",
   "metadata": {},
   "source": [
    "We did not call the `__init__()` constructor in the child class. However, even without explicitly calling it, we can still access all the properties from the parent class. It is generally better practice to call the constructor. We can access the parent class properties by using `super()`.\n",
    "\n",
    "Additionally, we can add new methods to the child class or override the methods of the parent class by defining methods with the same name in the child class. When we include the `__init__()` function in the child class, it will no longer inherit the parent class's `__init__()` function.\n",
    "\n",
    "Let’s take another example to illustrate this point."
   ]
  },
  {
   "cell_type": "code",
   "execution_count": 14,
   "metadata": {},
   "outputs": [
    {
     "name": "stdout",
     "output_type": "stream",
     "text": [
      "Aaaah...\n",
      "No, thanks!\n"
     ]
    }
   ],
   "source": [
    "class Bird:\n",
    "\n",
    "    def __init__(self):\n",
    "        self.hungry = True\n",
    "\n",
    "    def eat(self):\n",
    "        if self.hungry:\n",
    "            print ('Aaaah...')\n",
    "            self.hungry = False\n",
    "        else:\n",
    "            print ('No, thanks!')\n",
    "\n",
    "\n",
    "b = Bird()\n",
    "b.eat()\n",
    "b.eat()"
   ]
  },
  {
   "cell_type": "code",
   "execution_count": 15,
   "metadata": {},
   "outputs": [
    {
     "ename": "AttributeError",
     "evalue": "'SongBird' object has no attribute 'hungry'",
     "output_type": "error",
     "traceback": [
      "\u001b[0;31m---------------------------------------------------------------------------\u001b[0m",
      "\u001b[0;31mAttributeError\u001b[0m                            Traceback (most recent call last)",
      "Cell \u001b[0;32mIn[15], line 8\u001b[0m\n\u001b[1;32m      5\u001b[0m         \u001b[38;5;28mprint\u001b[39m (\u001b[38;5;28mself\u001b[39m\u001b[38;5;241m.\u001b[39msound)\n\u001b[1;32m      7\u001b[0m sb \u001b[38;5;241m=\u001b[39m SongBird()\n\u001b[0;32m----> 8\u001b[0m \u001b[43msb\u001b[49m\u001b[38;5;241;43m.\u001b[39;49m\u001b[43meat\u001b[49m\u001b[43m(\u001b[49m\u001b[43m)\u001b[49m\n",
      "Cell \u001b[0;32mIn[14], line 7\u001b[0m, in \u001b[0;36mBird.eat\u001b[0;34m(self)\u001b[0m\n\u001b[1;32m      6\u001b[0m \u001b[38;5;28;01mdef\u001b[39;00m \u001b[38;5;21meat\u001b[39m(\u001b[38;5;28mself\u001b[39m):\n\u001b[0;32m----> 7\u001b[0m     \u001b[38;5;28;01mif\u001b[39;00m \u001b[38;5;28;43mself\u001b[39;49m\u001b[38;5;241;43m.\u001b[39;49m\u001b[43mhungry\u001b[49m:\n\u001b[1;32m      8\u001b[0m         \u001b[38;5;28mprint\u001b[39m (\u001b[38;5;124m'\u001b[39m\u001b[38;5;124mAaaah...\u001b[39m\u001b[38;5;124m'\u001b[39m)\n\u001b[1;32m      9\u001b[0m         \u001b[38;5;28mself\u001b[39m\u001b[38;5;241m.\u001b[39mhungry \u001b[38;5;241m=\u001b[39m \u001b[38;5;28;01mFalse\u001b[39;00m\n",
      "\u001b[0;31mAttributeError\u001b[0m: 'SongBird' object has no attribute 'hungry'"
     ]
    }
   ],
   "source": [
    "class SongBird(Bird):\n",
    "    def __init__(self):\n",
    "        self.sound = 'Squawk!'\n",
    "    def sing(self):\n",
    "        print (self.sound)\n",
    "\n",
    "sb = SongBird()\n",
    "sb.eat()"
   ]
  },
  {
   "cell_type": "markdown",
   "metadata": {},
   "source": [
    "\n",
    "Since `SongBird` is a subclass of `Bird`, it naturally inherits the eat method. But hold on—if you try to call this method, you might hit a little snag.\n",
    "\n",
    "Why? Well, `SongBird` decided to be rebellious and override the constructor. In doing so, it conveniently forgot to initialize the `hungry` attribute. So now, when you ask it to `eat`, it’s like asking someone to cook dinner without telling them they’re hungry first! If `SongBird` didn’t override the `__init__` method, all would be well—the `Bird` class would handle the `hunger` situation like a responsible parent."
   ]
  },
  {
   "cell_type": "code",
   "execution_count": 16,
   "metadata": {},
   "outputs": [
    {
     "name": "stdout",
     "output_type": "stream",
     "text": [
      "Singing:Squawk!\n",
      "Aaaah...\n",
      "No, thanks!\n"
     ]
    }
   ],
   "source": [
    "class Bird:\n",
    "    def __init__(self):\n",
    "        self.hungry = True\n",
    "\n",
    "    def eat(self):\n",
    "        if self.hungry:\n",
    "            print ('Aaaah...')\n",
    "            self.hungry = False\n",
    "        else:\n",
    "            print ('No, thanks!')\n",
    "        return\n",
    "            \n",
    "            \n",
    "class SongBird(Bird):\n",
    "    def __init__(self):\n",
    "        '''\n",
    "        Calling super as below was part of python 2\n",
    "        It is discouraged now.\n",
    "        - Hard-Coded Parent Class (PS: you may want to lock it!)\n",
    "        - Maintainability: super() (without arguments) makes the code\n",
    "          more maintainable and flexible for changes in the inheritance structure.\n",
    "        - Readability: The newer syntax is cleaner and more Pythonic.\n",
    "        - Multiple Inheritance: super() works better in complex \n",
    "          hierarchies involving multiple inheritance.\n",
    "        '''\n",
    "        #super(SongBird, self).__init__() \n",
    "        '''\n",
    "        Preferred way\n",
    "        '''\n",
    "        super().__init__() \n",
    "        self.sound = 'Squawk!'\n",
    "    \n",
    "    def sing(self):\n",
    "        print (f'Singing:{self.sound}')\n",
    "        \n",
    "sb = SongBird()\n",
    "sb.sing()\n",
    "sb.eat()\n",
    "sb.eat()"
   ]
  },
  {
   "cell_type": "markdown",
   "metadata": {},
   "source": [
    "### Overriding Parent Method"
   ]
  },
  {
   "cell_type": "code",
   "execution_count": 17,
   "metadata": {},
   "outputs": [
    {
     "name": "stdout",
     "output_type": "stream",
     "text": [
      "Mohan Sharma is 25 years old. He lives in Pune, India.\n",
      "['Python', 'Pandas', 'Numpy']\n",
      "Reshma Tuli is 28 years old. She lives in Delhi, India.\n",
      "['Organizing', 'Marketing', 'Digital Marketing']\n"
     ]
    }
   ],
   "source": [
    "class Student(Person):\n",
    "    def __init__ (self, fName='Sohan', lName='Verma', age=52, country='India', city='Mumbai', gender='male'):\n",
    "        super().__init__(fName, lName, age, country, city)\n",
    "        self.gender = gender\n",
    "        \n",
    "    def person_info(self):\n",
    "        address = 'He' if self.gender =='male' else 'She'\n",
    "        return f'{self.firstName} {self.lastName} is {self.age} years old. {address} lives in {self.city}, {self.country}.'\n",
    "\n",
    "s1 = Student('Mohan', 'Sharma', 25, 'India', 'Pune')\n",
    "s2 = Student('Reshma', 'Tuli', 28, 'India', 'Delhi', 'female')\n",
    "\n",
    "print(s1.person_info())\n",
    "s1.add_skill('Python')\n",
    "s1.add_skill('Pandas')\n",
    "s1.add_skill('Numpy')\n",
    "print(s1.skills)\n",
    "\n",
    "print(s2.person_info())\n",
    "s2.add_skill('Organizing')\n",
    "s2.add_skill('Marketing')\n",
    "s2.add_skill('Digital Marketing')\n",
    "print(s2.skills)"
   ]
  },
  {
   "cell_type": "markdown",
   "metadata": {},
   "source": [
    "We can use the built-in `super()` function or the parent class name, Person, to automatically inherit methods and properties from the parent class. In the example above, we override the parent method. The child method introduces a new feature: it can identify whether the gender is male or female and assign the appropriate pronoun (He/She).\n",
    "\n",
    "### Encapsulation\n",
    "Encapsulation is the principle of concealing unnecessary details from the outside world."
   ]
  },
  {
   "cell_type": "code",
   "execution_count": 18,
   "metadata": {},
   "outputs": [
    {
     "name": "stdout",
     "output_type": "stream",
     "text": [
      "O1 Name at initiation Sir Lancelot\n",
      "O1 Name after change Robin Hood\n",
      "O2 Name at initiation Robin Hood\n"
     ]
    }
   ],
   "source": [
    "globalName = 'Sir Lancelot' \n",
    "\n",
    "class OpenObject():\n",
    "    def __init__(self):\n",
    "        # Referencing the global variable directly\n",
    "        self.globalName = globalName\n",
    "       \n",
    "    def setName(self, name):\n",
    "         global globalName\n",
    "         globalName = name\n",
    "         self.globalName = name\n",
    "\n",
    "    def getName(self):\n",
    "         return self.globalName\n",
    "    \n",
    "   \n",
    "o1 = OpenObject()\n",
    "print ('O1 Name at initiation', o1.getName())\n",
    "o1.setName('Robin Hood')\n",
    "print ('O1 Name after change', o1.getName())\n",
    "o2 = OpenObject()\n",
    "print ('O2 Name at initiation', o2.getName())\n"
   ]
  },
  {
   "cell_type": "markdown",
   "metadata": {},
   "source": [
    "Probably this is one behaviour we do not want."
   ]
  },
  {
   "cell_type": "code",
   "execution_count": 19,
   "metadata": {},
   "outputs": [
    {
     "name": "stdout",
     "output_type": "stream",
     "text": [
      "O1 Name at initiation Sir Lancelot\n",
      "O1 Name after change Robin Hood\n",
      "O2 Name at initiation Sir Lancelot\n"
     ]
    }
   ],
   "source": [
    "class EnclObject():\n",
    "\n",
    "    def __init__(self, name = 'Sir Lancelot' ):\n",
    "        # Instance variable (Encapsulated)\n",
    "        self._name = name # The underscore indicates that it's intended to be private\n",
    "    \n",
    "    # Setter for the name\n",
    "    def setName(self, new_name):\n",
    "         self._name= new_name\n",
    "    \n",
    "    # Getter for the name\n",
    "    def getName(self):\n",
    "         return self._name\n",
    "    \n",
    "   \n",
    "o1 = EnclObject()\n",
    "print ('O1 Name at initiation', o1.getName())\n",
    "o1.setName('Robin Hood')\n",
    "print ('O1 Name after change', o1.getName())\n",
    "o2 = EnclObject()\n",
    "print ('O2 Name at initiation', o2.getName())"
   ]
  },
  {
   "cell_type": "markdown",
   "metadata": {},
   "source": [
    "### Access Modifiers in Python Encapsulation\n",
    "Encapsulation in Python is implemented using access modifiers, which control the visibility and accessibility of a class's members (attributes and methods).\n",
    "\n",
    "The three access modifiers are:\n",
    "\n",
    "- **Public:** Public members can be accessed from anywhere, both within and outside the class. By default, all members are public unless explicitly marked as private.\n",
    "- **Protected:** Protected members can be accessed within the class and its subclasses. You can designate a member as protected by prefixing its name with a single underscore (_).\n",
    "- **Private:** Private members are accessible only within the class itself. To mark a member as private, prefix its name with double underscores (__).\n",
    "#### Encapsulation of Public Members\n",
    "Public members can be accessed freely, allowing for easy interaction with the class's attributes and methods from external code. This transparency makes public members suitable for attributes and methods that are intended to be used by clients of the class."
   ]
  },
  {
   "cell_type": "code",
   "execution_count": 20,
   "metadata": {},
   "outputs": [
    {
     "name": "stdout",
     "output_type": "stream",
     "text": [
      "Maruti 800 is starting.\n",
      "Hyundai i10 is starting.\n"
     ]
    }
   ],
   "source": [
    "# Consider a class \"Car\" as an example:\n",
    "\n",
    "class Car:\n",
    "\n",
    "    def __init__(self, make, model):\n",
    "        self.make = make  # Public attribute\n",
    "        self.model = model  # Public attribute\n",
    "    \n",
    "    def start(self):\n",
    "        print(f\"{self.make} {self.model} is starting.\")  # Public method\n",
    "\n",
    "car1 = Car('Maruti', '800')\n",
    "car1.start()\n",
    "\n",
    "car1.make = 'Hyundai' # Accessible from outside the class\n",
    "car1.model = 'i10' # Accessible from outside the class\n",
    "car1.start() "
   ]
  },
  {
   "cell_type": "markdown",
   "metadata": {},
   "source": [
    "In this case, make and model attributes are public, and the start method is also public. They can be accessed directly from outside the class.\n",
    "\n",
    "#### Encapsulation using private members"
   ]
  },
  {
   "cell_type": "code",
   "execution_count": 21,
   "metadata": {},
   "outputs": [],
   "source": [
    "class BankAccount:\n",
    "\n",
    "    def __init__(self, account_number):\n",
    "        self.__account_number = account_number  # Private attribute\n",
    "    \n",
    "    def __validate_pin(self, pin):\n",
    "        # Private method to validate the PIN\n",
    "        return len(str(pin)) == 4\n",
    "\n",
    "account = BankAccount('123456')\n",
    "\n",
    "## Folowing two lines will throw an exception\n",
    "# account.__validate_pin('1234')\n",
    "# account.__account_number"
   ]
  },
  {
   "cell_type": "markdown",
   "metadata": {},
   "source": [
    "In this data encapsulation in python example, the `__account_number` attribute and the `__validate_pin` method are marked as private using double underscores. They can be accessed within the class.\n",
    "\n",
    "Python doesn’t support privacy directly, but relies on the programmer to know when it is safe to modify an attribute from the outside."
   ]
  },
  {
   "cell_type": "code",
   "execution_count": 22,
   "metadata": {},
   "outputs": [],
   "source": [
    "class Secretive:\n",
    "    def __inaccessible(self):\n",
    "        print (\"Bet you can't see me directly...\")\n",
    "\n",
    "    def accessible(self):\n",
    "        print (\"The secret message is exposed through me:\", end = ' ')\n",
    "        self.__inaccessible()"
   ]
  },
  {
   "cell_type": "markdown",
   "metadata": {},
   "source": [
    "Now `__inaccessible` is inaccessible to the outside world, while it can still be used inside\n",
    "the class (for example, from accessible):"
   ]
  },
  {
   "cell_type": "code",
   "execution_count": 24,
   "metadata": {},
   "outputs": [
    {
     "ename": "AttributeError",
     "evalue": "'Secretive' object has no attribute '__inaccessible'",
     "output_type": "error",
     "traceback": [
      "\u001b[0;31m---------------------------------------------------------------------------\u001b[0m",
      "\u001b[0;31mAttributeError\u001b[0m                            Traceback (most recent call last)",
      "Cell \u001b[0;32mIn[24], line 2\u001b[0m\n\u001b[1;32m      1\u001b[0m s \u001b[38;5;241m=\u001b[39m Secretive()\n\u001b[0;32m----> 2\u001b[0m \u001b[43ms\u001b[49m\u001b[38;5;241;43m.\u001b[39;49m\u001b[43m__inaccessible\u001b[49m()\n",
      "\u001b[0;31mAttributeError\u001b[0m: 'Secretive' object has no attribute '__inaccessible'"
     ]
    }
   ],
   "source": [
    "s = Secretive()\n",
    "s.__inaccessible()"
   ]
  },
  {
   "cell_type": "code",
   "execution_count": 25,
   "metadata": {},
   "outputs": [
    {
     "name": "stdout",
     "output_type": "stream",
     "text": [
      "The secret message is exposed through me: Bet you can't see me directly...\n"
     ]
    }
   ],
   "source": [
    "s.accessible()"
   ]
  },
  {
   "cell_type": "markdown",
   "metadata": {},
   "source": [
    "#### Name Mangling to Access Private Members\n",
    "Name mangling is a technique that enables access to private members (attributes and methods marked with double underscores `(__)` from outside the class. This is done by prefixing their names with the class name followed by an underscore (ClassName). While this technique makes private members somewhat accessible, it is generally discouraged to maintain encapsulation and enhance code clarity."
   ]
  },
  {
   "cell_type": "code",
   "execution_count": 26,
   "metadata": {},
   "outputs": [
    {
     "name": "stdout",
     "output_type": "stream",
     "text": [
      "123456\n",
      "True\n",
      "Bet you can't see me directly...\n"
     ]
    }
   ],
   "source": [
    "# Accessing private attributes using name mangling\n",
    "print(account._BankAccount__account_number)  # Output: 12345\n",
    "\n",
    "\n",
    "# Accessing private method using name mangling\n",
    "print(account._BankAccount__validate_pin(1234))  # Output: True\n",
    "\n",
    "# Accessing private member of Secretive class\n",
    "s._Secretive__inaccessible()"
   ]
  },
  {
   "cell_type": "markdown",
   "metadata": {},
   "source": [
    "#### Encapsulation using protected members\n",
    "Protected members are accessible within the class itself and its subclasses, maintaining data integrity while allowing for some degree of flexibility. You indicate a member as protected by prefixing its name with a single underscore (_).\n",
    "\n",
    "Here's an encapsulation in python example:"
   ]
  },
  {
   "cell_type": "code",
   "execution_count": 27,
   "metadata": {},
   "outputs": [
    {
     "name": "stdout",
     "output_type": "stream",
     "text": [
      "Generic Animal\n",
      "Buddy makes a bark sound.\n"
     ]
    }
   ],
   "source": [
    "class Animal:\n",
    "\n",
    "    def __init__(self, name):\n",
    "        self._name = name  # Protected attribute\n",
    "    \n",
    "    def _make_sound(self, sound):\n",
    "        print(f\"{self._name} makes a {sound} sound.\")  # Protected method\n",
    "\n",
    "\n",
    "# Subclass of Animal\n",
    "class Dog(Animal):\n",
    "    def bark(self):\n",
    "        self._make_sound(\"bark\")\n",
    "\n",
    "\n",
    "# Creating instances\n",
    "animal = Animal(\"Generic Animal\")\n",
    "dog = Dog(\"Buddy\")\n",
    "\n",
    "\n",
    "# Accessing protected attribute\n",
    "print(animal._name)  # Accessible, but not recommended to access outside the class\n",
    "\n",
    "\n",
    "# Accessing protected method\n",
    "dog.bark()  # Output: Buddy makes a bark sound."
   ]
  },
  {
   "cell_type": "code",
   "execution_count": 28,
   "metadata": {},
   "outputs": [
    {
     "data": {
      "text/plain": [
       "'Generic Animal'"
      ]
     },
     "execution_count": 28,
     "metadata": {},
     "output_type": "execute_result"
    }
   ],
   "source": [
    "animal._name"
   ]
  },
  {
   "cell_type": "markdown",
   "metadata": {},
   "source": [
    "#### Encapsulation elaborate example\n",
    "Let's explore another example of data encapsulation in python. Consider a scenario where you're developing a class to manage employee data within a company.\n",
    "\n",
    "Here's a simple encapsulation example:"
   ]
  },
  {
   "cell_type": "code",
   "execution_count": 29,
   "metadata": {},
   "outputs": [
    {
     "name": "stdout",
     "output_type": "stream",
     "text": [
      "ID: 101, Name: Alice, Salary: ₹50000\n",
      "ID: 101, Name: Alice, Salary: ₹52000\n",
      "ID: 102, Name: Eve, Salary: ₹60000\n"
     ]
    }
   ],
   "source": [
    "class Employee:\n",
    "\n",
    "    def __init__(self, emp_id, emp_name, emp_salary):\n",
    "        self._emp_id = emp_id  # Protected attribute\n",
    "        self._emp_name = emp_name  # Protected attribute\n",
    "        self._emp_salary = emp_salary  # Protected attribute\n",
    "    \n",
    "    def __str__(self):\n",
    "        # This method defines how the employee object is represented as a string.\n",
    "        return f\"ID: {self._emp_id}, Name: {self._emp_name}, Salary: {rupee_symbol}{self._emp_salary}\"\n",
    "    \n",
    "    def increase_salary(self, amount):\n",
    "        \"\"\"Increase employee's salary.\"\"\"\n",
    "        if amount > 0:\n",
    "            self._emp_salary += amount\n",
    "        else:\n",
    "            print(\"Invalid salary increase amount.\")\n",
    "    \n",
    "    def change_name(self, new_name):\n",
    "        \"\"\"Change employee's name.\"\"\"\n",
    "        self._emp_name = new_name\n",
    "\n",
    "\n",
    "# Create employee objects\n",
    "employee1 = Employee(101, \"Alice\", 50000)\n",
    "employee2 = Employee(102, \"Bob\", 60000)\n",
    "\n",
    "\n",
    "# Access employee details\n",
    "print(employee1)  # Output: ID: 101, Name: Alice, Salary: 50000\n",
    "\n",
    "\n",
    "# Increase employee salary\n",
    "employee1.increase_salary(2000)\n",
    "print(employee1)  # Output: ID: 101, Name: Alice, Salary: 52000\n",
    "\n",
    "\n",
    "# Change employee name\n",
    "employee2.change_name(\"Eve\")\n",
    "print(employee2)  # Output: ID: 102, Name: Eve, Salary: 60000"
   ]
  },
  {
   "cell_type": "markdown",
   "metadata": {},
   "source": [
    "Here's how encapsulation benefits us in this scenario:\n",
    "\n",
    "- **Data Protection:** The attributes _emp_id, _emp_name, and _emp_salary are protected. They are accessible outside the class but should be treated as non-public.\n",
    "- **Modular Design:** All employee-related functionality is encapsulated within the Employee class, making the code organized and modular.\n",
    "- **Abstraction:** External code interacts with the class through well-defined methods like get_employee_details, increase_salary, and change_name, abstracting away the complexity of the internal implementation.\n",
    "- **Controlled Access:** Access to employee data is controlled through methods. For example, you can't change an employee's salary without using the increase_salary method."
   ]
  },
  {
   "cell_type": "markdown",
   "metadata": {},
   "source": [
    "Let's create a more complex example: a Banking System. This system will involve multiple classes interacting with each other to manage accounts, transactions, and users.\n",
    "\n",
    "### Scenario: Banking System\n",
    "Classes Involved:\n",
    "\n",
    "- User: Represents a bank customer.\n",
    "- BankAccount: Represents a user's bank account.\n",
    "- Transaction: Represents a transaction (e.g., deposit, withdrawal).\n",
    "- Bank: Manages all users, accounts, and transactions.\n",
    "\n",
    "Key Features:\n",
    "\n",
    "A user can have multiple bank accounts.\n",
    "Each account can perform deposits, withdrawals, and balance checks.\n",
    "The bank tracks all users and their accounts."
   ]
  },
  {
   "cell_type": "code",
   "execution_count": 30,
   "metadata": {},
   "outputs": [],
   "source": [
    "class User:\n",
    "    \"\"\"Represents a bank customer.\"\"\"\n",
    "    \n",
    "    def __init__(self, name, email):\n",
    "        # The constructor initializes the user's name, email, and accounts.\n",
    "        self.name = name  # The name of the user\n",
    "        self.email = email  # The email address of the user\n",
    "        self.accounts = []  # A list to store the user's bank accounts\n",
    "    \n",
    "    def add_account(self, account):\n",
    "        # Method to add a bank account to the user's list of accounts\n",
    "        self.accounts.append(account)\n",
    "    \n",
    "    def __str__(self):\n",
    "        # This method defines how the user object is represented as a string.\n",
    "        return f\"User: {self.name}, Email: {self.email}\""
   ]
  },
  {
   "cell_type": "code",
   "execution_count": 31,
   "metadata": {},
   "outputs": [],
   "source": [
    "class Transaction:\n",
    "    \"\"\"Represents a transaction (deposit/withdrawal).\"\"\"\n",
    "    \n",
    "    def __init__(self, transaction_type, amount):\n",
    "        # The constructor initializes the transaction with a type and an amount.\n",
    "        self.transaction_type = transaction_type  # Type of transaction (e.g., 'Deposit', 'Withdrawal')\n",
    "        self.amount = amount  # The amount involved in the transaction\n",
    "    \n",
    "    def __str__(self):\n",
    "        # This method defines how the transaction object is represented as a string.\n",
    "        return f\"{self.transaction_type} of {rupee_symbol}{self.amount}\""
   ]
  },
  {
   "cell_type": "code",
   "execution_count": 32,
   "metadata": {},
   "outputs": [],
   "source": [
    "class BankAccount:\n",
    "\n",
    "    \"\"\"Represents a bank account.\"\"\"\n",
    "    def __init__(self, account_number, balance=0):\n",
    "        # The constructor initializes the account with a number and an optional starting balance.\n",
    "        \n",
    "        self.account_number = account_number  # Unique identifier for the bank account\n",
    "        \n",
    "        self.balance = balance  # Starting balance, default is 0\n",
    "        \n",
    "        self.transactions = []  # A list to store all transactions related to this account\n",
    "    \n",
    "    def deposit(self, amount):\n",
    "        # Method to deposit money into the account\n",
    "        \n",
    "        if amount > 0:\n",
    "            \n",
    "            self.balance += amount  # Increase the balance by the deposit amount\n",
    "            \n",
    "            # Create a transaction record for this deposit\n",
    "            transaction = Transaction('Deposit', amount)\n",
    "            \n",
    "            self.transactions.append(transaction)  # Add the transaction to the transaction history\n",
    "            \n",
    "            print(f\"Deposited {rupee_symbol}{amount} into account {self.account_number}.\")\n",
    "        \n",
    "        else:\n",
    "\n",
    "            print(\"Deposit amount must be positive.\")  # Error message for invalid deposit amounts\n",
    "    \n",
    "    def withdraw(self, amount):\n",
    "\n",
    "        # Method to withdraw money from the account\n",
    "        \n",
    "        if 0 < amount <= self.balance:\n",
    "        \n",
    "            self.balance -= amount  # Decrease the balance by the withdrawal amount\n",
    "        \n",
    "            # Create a transaction record for this withdrawal\n",
    "            transaction = Transaction('Withdrawal', amount)\n",
    "        \n",
    "            self.transactions.append(transaction)  # Add the transaction to the transaction history\n",
    "        \n",
    "            print(f\"Withdrew {rupee_symbol}{amount} from account {self.account_number}.\")\n",
    "        \n",
    "        else:\n",
    "        \n",
    "            print(\"Invalid withdrawal amount.\")  # Error message for invalid withdrawal amounts\n",
    "    \n",
    "    def get_balance(self):\n",
    "        \n",
    "        # Method to check the current balance of the account\n",
    "        \n",
    "        return self.balance\n",
    "    \n",
    "    def get_transaction_history(self):\n",
    "\n",
    "        # Method to retrieve the transaction history as a list of strings\n",
    "        \n",
    "        return [str(transaction) for transaction in self.transactions]\n",
    "    \n",
    "    def __str__(self):\n",
    "        \n",
    "        # This method defines how the bank account object is represented as a string.\n",
    "        \n",
    "        return f\"Account {self.account_number}, Balance: {rupee_symbol}{self.balance}\""
   ]
  },
  {
   "cell_type": "code",
   "execution_count": 33,
   "metadata": {},
   "outputs": [],
   "source": [
    "class Bank:\n",
    "    \"\"\"Represents the bank managing users and their accounts.\"\"\"\n",
    "    \n",
    "    def __init__(self, name):\n",
    "\n",
    "        # The constructor initializes the bank with a name and an empty list of users.\n",
    "        \n",
    "        self.name = name  # The name of the bank\n",
    "        \n",
    "        self.users = []  # A list to store all the users of the bank\n",
    "    \n",
    "    def add_user(self, user):\n",
    "        \n",
    "        # Method to add a user to the bank's list of users\n",
    "        \n",
    "        self.users.append(user)\n",
    "    \n",
    "    def get_user(self, name):\n",
    "        \n",
    "        # Method to find and return a user by their name\n",
    "        \n",
    "        for user in self.users:\n",
    "        \n",
    "            if user.name == name:\n",
    "        \n",
    "                return user\n",
    "        \n",
    "        return None  # Return None if the user is not found\n",
    "    \n",
    "    def __str__(self):\n",
    "        \n",
    "        # This method defines how the bank object is represented as a string.\n",
    "        \n",
    "        return f\"{self.name} Bank with {len(self.users)} users\""
   ]
  },
  {
   "cell_type": "markdown",
   "metadata": {},
   "source": [
    "### Example Usage"
   ]
  },
  {
   "cell_type": "code",
   "execution_count": 34,
   "metadata": {},
   "outputs": [
    {
     "name": "stdout",
     "output_type": "stream",
     "text": [
      "SuperSecure Bank with 0 users\n"
     ]
    }
   ],
   "source": [
    "# Create a bank\n",
    "my_bank = Bank(\"SuperSecure\")  # Initialize the bank with the name \"SuperSecure\"\n",
    "\n",
    "# `__str__` helps in representing this object in a readable form\n",
    "print (my_bank)"
   ]
  },
  {
   "cell_type": "code",
   "execution_count": 35,
   "metadata": {},
   "outputs": [
    {
     "name": "stdout",
     "output_type": "stream",
     "text": [
      "User: Mohan, Email: mohan@example.com\n"
     ]
    }
   ],
   "source": [
    "# Create users\n",
    "user1 = User(\"Mohan\", \"mohan@example.com\")  # Create a user named Mohan\n",
    "\n",
    "user2 = User(\"Sohan\", \"soham@example.com\")  # Create a user named Soham\n",
    "\n",
    "print (user1)"
   ]
  },
  {
   "cell_type": "code",
   "execution_count": 36,
   "metadata": {},
   "outputs": [],
   "source": [
    "# Add users to the bank\n",
    "my_bank.add_user(user1)\n",
    "\n",
    "my_bank.add_user(user2)"
   ]
  },
  {
   "cell_type": "code",
   "execution_count": 37,
   "metadata": {},
   "outputs": [],
   "source": [
    "# Create bank accounts for users\n",
    "account1 = BankAccount(\"001\", 1000)  # Create an account for Alice with 1000 balance\n",
    "\n",
    "account2 = BankAccount(\"002\", 500)  # Create an account for Bob with 500 balance"
   ]
  },
  {
   "cell_type": "code",
   "execution_count": 38,
   "metadata": {},
   "outputs": [],
   "source": [
    "# Link accounts to users\n",
    "user1.add_account(account1)  # Add account1 to Mohan's accounts\n",
    "\n",
    "user2.add_account(account2)  # Add account2 to Sohan's accounts"
   ]
  },
  {
   "cell_type": "code",
   "execution_count": 39,
   "metadata": {},
   "outputs": [
    {
     "name": "stdout",
     "output_type": "stream",
     "text": [
      "Deposited ₹200 into account 001.\n",
      "Withdrew ₹50 from account 001.\n",
      "Deposited ₹300 into account 002.\n",
      "Withdrew ₹100 from account 002.\n"
     ]
    }
   ],
   "source": [
    "\n",
    "# Perform transactions\n",
    "account1.deposit(200)  # Mohan deposits 200 into her account\n",
    "\n",
    "account1.withdraw(50)  # Mohan withdraws 50 from her account\n",
    "\n",
    "account2.deposit(300)  # Sohan deposits 300 into his account\n",
    "\n",
    "account2.withdraw(100)  # Sohan withdraws 100 from his account"
   ]
  },
  {
   "cell_type": "code",
   "execution_count": 40,
   "metadata": {},
   "outputs": [
    {
     "name": "stdout",
     "output_type": "stream",
     "text": [
      "Account 001, Balance: ₹1150\n",
      "Transaction History: ['Deposit of ₹200', 'Withdrawal of ₹50']\n",
      "Account 002, Balance: ₹700\n",
      "Transaction History: ['Deposit of ₹300', 'Withdrawal of ₹100']\n",
      "SuperSecure Bank with 2 users\n"
     ]
    }
   ],
   "source": [
    "# Print account balances and transaction history\n",
    "print(account1)  # Print Mohan's account details\n",
    "\n",
    "print(\"Transaction History:\", account1.get_transaction_history())  # Print Alice's transaction history\n",
    "\n",
    "print(account2)  # Print Sohan's account details\n",
    "\n",
    "print(\"Transaction History:\", account2.get_transaction_history())  # Print Bob's transaction history\n",
    "\n",
    "# Print bank status\n",
    "print(my_bank)  # Print the status of the bank, including the number of users\n"
   ]
  },
  {
   "cell_type": "markdown",
   "metadata": {},
   "source": [
    "### Multiple Superclasses\n",
    "This can be a very powerful tool. However, unless you know you need multiple inheritance, you may want to stay away from it, as it can, in some cases, lead to unforeseen complications.\n",
    "\n",
    "<img src= '../../images/asp_multiple_inheritence.png' />\n"
   ]
  },
  {
   "cell_type": "code",
   "execution_count": 41,
   "metadata": {},
   "outputs": [
    {
     "name": "stdout",
     "output_type": "stream",
     "text": [
      "The value is 7\n"
     ]
    }
   ],
   "source": [
    "\n",
    "class Calculator:\n",
    "    '''to evaluate an expression'''\n",
    "    def calculate(self, expression):\n",
    "        self.value = eval(expression) # eval can evaluate any expression passed as string\n",
    "\n",
    "class Talker:\n",
    "    '''Print out the output'''\n",
    "    def talk(self):\n",
    "        print (f'The value is {self.value}' )\n",
    "\n",
    "class TalkingCalculator(Calculator, Talker):\n",
    "    '''Inheriting from Calculate as well as Talker'''\n",
    "    pass\n",
    "\n",
    "tc = TalkingCalculator()\n",
    "tc.calculate('1+2*3')\n",
    "tc.talk()"
   ]
  },
  {
   "cell_type": "markdown",
   "metadata": {},
   "source": [
    "<img src= '../../images/asp_diamond_problem.png' />"
   ]
  },
  {
   "cell_type": "code",
   "execution_count": 42,
   "metadata": {},
   "outputs": [
    {
     "name": "stdout",
     "output_type": "stream",
     "text": [
      "Called init of TalkingCalculator\n",
      "Called init of Calculator\n",
      "Called init of Talker\n",
      "Called init of InteractionSystem\n",
      "I am Calculator\n"
     ]
    }
   ],
   "source": [
    "class InteractionSystem:\n",
    "    def __init__(self):\n",
    "        print('Called init of InteractionSystem')\n",
    "        pass\n",
    "\n",
    "    def who_am_i(self):\n",
    "        print ('I am InteractionSystem')\n",
    "\n",
    "class Talker(InteractionSystem):\n",
    "    '''Print out the output'''\n",
    "    def __init__(self):\n",
    "        print('Called init of Talker')\n",
    "        super().__init__()\n",
    "\n",
    "    def talk(self):\n",
    "        print (f'The value is {self.value}' )\n",
    "        \n",
    "    def who_am_i(self):\n",
    "        print ('I am Talker')\n",
    "        \n",
    "\n",
    "class Calculator(InteractionSystem):\n",
    "    '''to evaluate an expression'''\n",
    "\n",
    "    def __init__(self):\n",
    "        print('Called init of Calculator')\n",
    "        super().__init__()\n",
    "\n",
    "    def calculate(self, expression):\n",
    "        self.value = eval(expression) # eval can evaluate any expression passed as string\n",
    "    \n",
    "    def who_am_i(self):\n",
    "         print ('I am Calculator')\n",
    "\n",
    "\n",
    "class TalkingCalculator(Calculator, Talker):\n",
    "    '''Inheriting from Calculate as well as Talker'''\n",
    "    def __init__(self):\n",
    "        print('Called init of TalkingCalculator')\n",
    "        super().__init__()\n",
    "\n",
    "\n",
    "tc = TalkingCalculator()\n",
    "tc.who_am_i()"
   ]
  },
  {
   "cell_type": "code",
   "execution_count": 43,
   "metadata": {},
   "outputs": [
    {
     "name": "stdout",
     "output_type": "stream",
     "text": [
      "(<class '__main__.TalkingCalculator'>, <class '__main__.Calculator'>, <class '__main__.Talker'>, <class '__main__.InteractionSystem'>, <class 'object'>)\n"
     ]
    }
   ],
   "source": [
    "print(TalkingCalculator.__mro__)"
   ]
  },
  {
   "cell_type": "markdown",
   "metadata": {},
   "source": [
    "According to the MRO, Python will look for the method in the following order:\n",
    "\n",
    "1. TalkingCalculator\n",
    "2. Calculator\n",
    "3. Talker\n",
    "4. InteractionSystem\n",
    "Since `TalkingCalculator` does not define method, it checks `Calculator`. The method in `Calculator` is found first, so that method is executed. If there is no `who_am_i` in `Calculator`, it will move over to `Talker`"
   ]
  },
  {
   "cell_type": "markdown",
   "metadata": {},
   "source": [
    "## Item Access\n",
    "\n",
    "One useful set of magic methods described in this section allows you to create objects that behave like sequences or mappings. The basic sequence and mapping protocol is pretty simple. However, to implement all the functionality of sequences and mappings, there are many magic methods to implement.\n",
    "\n",
    "### The Basic Sequence and Mapping Protocol\n",
    "Think of sequences and mappings as little collections of treasures—whether they're items, numbers, or even random facts. To make your own collection behave properly in Python (following the \"basic protocol\"), you need a few magical spells... ahem, methods! If your collection is set in stone (immutable), you only need two of these methods. But if you want it to be a bit more flexible (mutable), you’ll need four.\n",
    "\n",
    "Let’s break it down:\n",
    "\n",
    "- **`__len__(self)`:** This magic method is like the bouncer of your collection—it counts how many items are inside. For sequences (like lists or tuples), this is the number of elements. For mappings (like dictionaries), it’s the number of key-value pairs. If your `__len__` returns zero, it basically tells Python, “Hey, I’m empty!” and your object will behave like it’s “falsy” in a Boolean context, just like an empty list or string. Imagine trying to use a dictionary that says it has zero items but is secretly hoarding a few keys… chaos!\n",
    "\n",
    "**tip:** This method should be your go-to if you’re obsessed with keeping a headcount of your items. It’s like counting jelly beans in a jar, but with code.\n",
    "\n",
    "- **`__getitem__(self, key)`**: Ah, here’s where the treasure hunt begins. This method is called when someone tries to grab an item from your collection using a key. If it’s a sequence, the key is an index (like an address in the list). If it’s a mapping, the key could be anything—numbers, strings, or your favorite movie quotes! Your job is to return the right value, or they’ll get upset (and by “they,” I mean the user of your collection, not your code).\n",
    "\n",
    "**tip:** Think of __getitem__ as your collection’s concierge. “Oh, you’d like the value associated with ‘pizza’? Right this way!”\n",
    "\n",
    "- **`__setitem__(self, key, value)`** (for mutable objects): If your object is mutable (meaning it can be changed), then `__setitem__` is your key to the vault. This method lets you store a value with a key, so later, when someone asks, “Where’s my value for ‘blue sock’?” you know exactly where you stashed it. Only mutable collections (like lists or dictionaries) have this magical power of setting and updating items.\n",
    "\n",
    "**tip:** Think of this as the inventory manager for your collection. It makes sure each item is placed under the right label. If you misplace it, don’t be surprised when you look up “banana” and find “wrench” instead!\n",
    "\n",
    "- **`__delitem__(self, key)`** (also for mutable objects): This one’s for when someone gets a bit... destructive. It’s called when they try to delete an item from your collection with the del statement. Not everything in your collection might be up for deletion, but for those items that are, this method is their final goodbye.\n",
    "\n",
    "**tip:** Think of `__delitem__` as the garbage collector. If someone wants to delete “old_tupperware,” this method makes sure it’s properly thrown away (or at least hides it where no one will find it again).\n",
    "\n",
    "To summarize, if you want to make your collection behave like a true Python sequence or mapping, you need these magic methods to ensure everything works smoothly—whether you’re counting items, retrieving values, updating them, or even deleting them. And remember, with great power comes great responsibility! So use your mutable powers wisely, or you’ll end up with a collection that’s messier than a teenager’s room."
   ]
  },
  {
   "cell_type": "code",
   "execution_count": 44,
   "metadata": {},
   "outputs": [],
   "source": [
    "def checkIndex(key):\n",
    "\t\"\"\"\n",
    "\tIs the given key an acceptable index?\n",
    "\tTo be acceptable, the key should be a non-negative integer. If it\n",
    "\tis not an integer, a TypeError is raised; if it is negative, an\n",
    "\tIndexError is raised (since the sequence is of infinite length).\n",
    "\t\"\"\"\n",
    "\tif not isinstance(key, int): raise TypeError\n",
    "\t\n",
    "\tif key<0: raise IndexError\n",
    "\t\n",
    "class ArithmeticSequence:\n",
    "\tdef __init__(self, start=0, step=1):\n",
    "\t\t\"\"\"\n",
    "\t\tInitialize the arithmetic sequence.\n",
    "\t\tstart - the first value in the sequence\n",
    "\t\tstep  - the difference between two adjacent values\n",
    "\t\tchanged - a dictionary of values that have been modified by\n",
    "\t\tthe user\n",
    "\t\t\"\"\"\n",
    "\t\tself.start = start   # Store the start value\n",
    "\t\tself.step = step     # Store the step value\n",
    "\t\tself.changed = {}    # Num items have been modified\n",
    "\t\t\n",
    "\tdef __getitem__(self, key):\n",
    "\t\t\"\"\"\n",
    "\t\tGet an item from the arithmetic sequence.\n",
    "\t\t\"\"\"\n",
    "\t\tcheckIndex(key)\n",
    "\t\t\n",
    "\t\ttry: return self.changed[key]    # Modified?\n",
    "\n",
    "\t\texcept KeyError:                 # otherwise...\n",
    "\t\t\n",
    "\t\t\treturn self.start + key*self.step    # ...calculate the value\n",
    "\t\t\n",
    "\t\t\n",
    "\n",
    "\n",
    "\tdef __setitem__(self, key, value):\n",
    "\t\t\"\"\"\n",
    "\t\tChange an item in the arithmetic sequence.\n",
    "\t\t\"\"\"\n",
    "\t\tcheckIndex(key)\n",
    "\t\n",
    "\t\tself.changed[key] = value      # Store the changed value"
   ]
  },
  {
   "cell_type": "code",
   "execution_count": 45,
   "metadata": {},
   "outputs": [
    {
     "data": {
      "text/plain": [
       "4"
      ]
     },
     "execution_count": 45,
     "metadata": {},
     "output_type": "execute_result"
    }
   ],
   "source": [
    "s = ArithmeticSequence(1, 1)\n",
    "s[3] # Note we are not calling __getitem__(), its automatic"
   ]
  },
  {
   "cell_type": "code",
   "execution_count": 46,
   "metadata": {},
   "outputs": [],
   "source": [
    "s[4] = 1000 # Note we are not calling __setitem__(), its automatic"
   ]
  },
  {
   "cell_type": "code",
   "execution_count": 47,
   "metadata": {},
   "outputs": [
    {
     "data": {
      "text/plain": [
       "{4: 1000}"
      ]
     },
     "execution_count": 47,
     "metadata": {},
     "output_type": "execute_result"
    }
   ],
   "source": [
    "s.changed"
   ]
  },
  {
   "cell_type": "code",
   "execution_count": 48,
   "metadata": {},
   "outputs": [
    {
     "ename": "AttributeError",
     "evalue": "__delitem__",
     "output_type": "error",
     "traceback": [
      "\u001b[0;31m---------------------------------------------------------------------------\u001b[0m",
      "\u001b[0;31mAttributeError\u001b[0m                            Traceback (most recent call last)",
      "Cell \u001b[0;32mIn[48], line 2\u001b[0m\n\u001b[1;32m      1\u001b[0m \u001b[38;5;66;03m# Note that delete an items is not coded, not implemented __del__:\u001b[39;00m\n\u001b[0;32m----> 2\u001b[0m \u001b[38;5;28;01mdel\u001b[39;00m s[\u001b[38;5;241m4\u001b[39m]\n",
      "\u001b[0;31mAttributeError\u001b[0m: __delitem__"
     ]
    }
   ],
   "source": [
    "# Note that delete an items is not coded, not implemented __del__:\n",
    "del s[4]"
   ]
  },
  {
   "cell_type": "markdown",
   "metadata": {},
   "source": [
    "## Properties\n",
    "Accessors are simply methods with names such as getHeight and setHeight, and are used to retrieve or rebind some attribute. Encapsulating state variables (attributes) like this can be important if certain actions must be taken when accessing the given attribute. For example, consider the following Rectangle class:"
   ]
  },
  {
   "cell_type": "code",
   "execution_count": 49,
   "metadata": {},
   "outputs": [],
   "source": [
    "class Rectangle:\n",
    "    def __init__(self):\n",
    "        self.width = 0\n",
    "        self.height = 0\n",
    "\n",
    "    def setSize(self, size):\n",
    "        self.width, self.height = size\n",
    "\n",
    "    def getSize(self):\n",
    "        return self.width, self.height\n",
    "\n",
    "    size = property(getSize, setSize) # this line exposes the size"
   ]
  },
  {
   "cell_type": "code",
   "execution_count": 50,
   "metadata": {},
   "outputs": [
    {
     "data": {
      "text/plain": [
       "(10, 5)"
      ]
     },
     "execution_count": 50,
     "metadata": {},
     "output_type": "execute_result"
    }
   ],
   "source": [
    "r = Rectangle()\n",
    "r.width = 10\n",
    "r.height = 5\n",
    "r.size"
   ]
  },
  {
   "cell_type": "code",
   "execution_count": 51,
   "metadata": {},
   "outputs": [],
   "source": [
    "r.size = 150, 100"
   ]
  },
  {
   "cell_type": "code",
   "execution_count": 52,
   "metadata": {},
   "outputs": [
    {
     "data": {
      "text/plain": [
       "150"
      ]
     },
     "execution_count": 52,
     "metadata": {},
     "output_type": "execute_result"
    }
   ],
   "source": [
    "r.width"
   ]
  },
  {
   "cell_type": "markdown",
   "metadata": {},
   "source": [
    "## Iterators\n",
    "We  cover magic method, `__iter__`, which is the basis of the iterator protocol.\n",
    "### The Iterator Protocol\n",
    "Until now we have iterated over only sequences and dictionaries in for loops, but the truth is that you can iterate over other objects, too: objects that implement the `__iter__` method.\n",
    "The `__iter__` method returns an iterator, which is any object with a method called next, which is callable without any arguments. When you call the next method, the iterator should return its \"next value\". If the method is called, and the iterator has no more values to return, it\n",
    "should raise a `StopIteration` exception.\n",
    "\n",
    "**Simply  using list could be an overkill**"
   ]
  },
  {
   "cell_type": "code",
   "execution_count": 53,
   "metadata": {},
   "outputs": [],
   "source": [
    "# Our “list” is the sequence of Fibonacci Numbers. \n",
    "# Example without __iter__():\n",
    "class Fibs:\n",
    "    def __init__(self):\n",
    "        self.a = 0\n",
    "        self.b = 1\n",
    "    \n",
    "    def next(self):\n",
    "        self.a, self.b = self.b, self.a+self.b\n",
    "        return self.a"
   ]
  },
  {
   "cell_type": "code",
   "execution_count": 54,
   "metadata": {},
   "outputs": [
    {
     "name": "stdout",
     "output_type": "stream",
     "text": [
      "1, 1, 2, 3, 5, 8, 13, 21, 34, 55, "
     ]
    }
   ],
   "source": [
    "fib = Fibs()\n",
    "for _ in range(10):\n",
    "    f = fib.next()\n",
    "    print (f, end=', ')"
   ]
  },
  {
   "cell_type": "markdown",
   "metadata": {},
   "source": [
    "### With __iter()__\n",
    "Lets implement with `__iter__()`"
   ]
  },
  {
   "cell_type": "code",
   "execution_count": 55,
   "metadata": {},
   "outputs": [],
   "source": [
    "class FibsIter:\n",
    "    def __init__(self, max_num):\n",
    "        self.max_num = max_num\n",
    "\n",
    "    def __iter__(self):\n",
    "        self.a = 0\n",
    "        self.b = 1\n",
    "        return self\n",
    "    \n",
    "    def __next__(self):\n",
    "        if self.a <= self.max_num:\n",
    "            self.a, self.b = self.b, self.a+self.b\n",
    "            return self.a\n",
    "        else:\n",
    "            raise StopIteration"
   ]
  },
  {
   "cell_type": "code",
   "execution_count": 56,
   "metadata": {},
   "outputs": [
    {
     "name": "stdout",
     "output_type": "stream",
     "text": [
      "1, 1, 2, 3, 5, 8, 13, 21, "
     ]
    }
   ],
   "source": [
    "fibs = FibsIter(20)\n",
    "for fib in fibs:\n",
    "    print(fib, end = ', ')"
   ]
  },
  {
   "cell_type": "code",
   "execution_count": 57,
   "metadata": {},
   "outputs": [
    {
     "data": {
      "text/plain": [
       "[1, 1, 2, 3, 5, 8, 13, 21]"
      ]
     },
     "execution_count": 57,
     "metadata": {},
     "output_type": "execute_result"
    }
   ],
   "source": [
    "list(fibs)"
   ]
  },
  {
   "cell_type": "markdown",
   "metadata": {},
   "source": [
    "### Static Methods and Class Methods\n",
    "Static Methods and Class Methods are both used to define methods inside a class, but they differ in how they operate and how they are called. Here's a clear distinction between them:"
   ]
  },
  {
   "cell_type": "markdown",
   "metadata": {},
   "source": [
    "#### 1. Object (Instance) Methods\n",
    "- **Definition:** Instance methods are the most common type of method in a class. They can access and modify both instance-specific data (via `self`) and class-level data.\n",
    "\n",
    "- **Purpose:** These methods operate on instances of the class (objects) and can manipulate instance variables. They are called using an instance of the class.\n",
    "\n",
    "- **Decorator:** None needed for instance methods.\n",
    "\n",
    "- Behavior:\n",
    "    - Takes self as the first argument, which refers to the instance of the class.\n",
    "    - Can access instance attributes (`self.attribute`) as well as class attributes via `self.__class__`."
   ]
  },
  {
   "cell_type": "code",
   "execution_count": 58,
   "metadata": {},
   "outputs": [
    {
     "name": "stdout",
     "output_type": "stream",
     "text": [
      "Paul's current salary: 5000.00\n",
      "Paul's current salary: 5250.00\n"
     ]
    }
   ],
   "source": [
    "class Person:\n",
    "    def __init__(self, fName, salary):\n",
    "        self.firstName = fName\n",
    "        self.salary = salary\n",
    "        self.increment = 0\n",
    "\n",
    "    def person_info(self):\n",
    "        return f\"{self.firstName}'s current salary: {self.salary:0.2f}\"\n",
    "  \n",
    "    def set_increment(self, pct):\n",
    "        self.increment = pct\n",
    "\n",
    "    def give_raise(self):\n",
    "        self.salary *= (1+self.increment/100)\n",
    "\n",
    "p = Person('Paul',  5000)\n",
    "print(p.person_info()) # person\n",
    "p.set_increment(5) # increment in percentage\n",
    "p.give_raise()# Give increment\n",
    "print(p.person_info()) # happy Paul"
   ]
  },
  {
   "cell_type": "code",
   "execution_count": 59,
   "metadata": {},
   "outputs": [
    {
     "name": "stdout",
     "output_type": "stream",
     "text": [
      "John's current salary: 6000.00\n",
      "John's current salary: 6600.00\n"
     ]
    }
   ],
   "source": [
    "p = Person('John',  6000)\n",
    "print(p.person_info()) # person\n",
    "p.set_increment(10) # increment in percentage\n",
    "p.give_raise()# Give increment\n",
    "print(p.person_info()) # happy Paul"
   ]
  },
  {
   "cell_type": "markdown",
   "metadata": {},
   "source": [
    "#### 2. Class Methods\n",
    "- **Definition:** A class method, on the other hand, is a method that belongs to the class and can access or modify the class state (i.e., it can modify class-level variables).\n",
    "- **Purpose:** It is used when you need a method that works with the class itself, rather than instance-specific data. For example, you may want to modify a class variable that is shared across all instances of the class.\n",
    "- **Decorator:** `@classmethod`\n",
    "- **Behavior:**\n",
    "    - It takes `cls` (the class itself) as the first argument, allowing it to access and modify class attributes.\n",
    "    - It is often used for alternative constructors or operations that affect the entire class."
   ]
  },
  {
   "cell_type": "code",
   "execution_count": 60,
   "metadata": {},
   "outputs": [
    {
     "name": "stdout",
     "output_type": "stream",
     "text": [
      "Paul's current salary: 5000.00\n",
      "Paul's current salary: 5250.00\n"
     ]
    }
   ],
   "source": [
    "class Person:\n",
    "\n",
    "    # Class attribute (shared by all instances)\n",
    "    increment = 0 \n",
    "\n",
    "    def __init__(self, fName, salary):\n",
    "        self.firstName = fName\n",
    "        self.salary = salary\n",
    "        # self.increment = 0 # removed from `__init__`\n",
    "\n",
    "    def person_info(self):\n",
    "        return f\"{self.firstName}'s current salary: {self.salary:0.2f}\"\n",
    "    \n",
    "    @classmethod\n",
    "    def set_increment(cls, pct):\n",
    "        cls.increment = pct\n",
    "\n",
    "    def give_raise(self):\n",
    "        self.salary *= (1+self.increment/100)\n",
    "\n",
    "p = Person('Paul',  5000)\n",
    "print(p.person_info()) # person\n",
    "p.set_increment(5) # increment in percentage\n",
    "p.give_raise()# Give increment\n",
    "print(p.person_info()) # happy Paul"
   ]
  },
  {
   "cell_type": "code",
   "execution_count": 61,
   "metadata": {},
   "outputs": [
    {
     "name": "stdout",
     "output_type": "stream",
     "text": [
      "John's current salary: 6000.00\n",
      "John's current salary: 6300.00\n"
     ]
    }
   ],
   "source": [
    "p = Person('John',  6000)\n",
    "print(p.person_info()) # person\n",
    "# p.set_increment(10) # no increment defined\n",
    "p.give_raise()# Give increment\n",
    "print(p.person_info()) # happy Paul"
   ]
  },
  {
   "cell_type": "markdown",
   "metadata": {},
   "source": [
    "#### 3. Static Methods\n",
    "- **Definition:** A static method is a method that belongs to a class but does not have access to any instance-specific data (i.e., it cannot access instance variables or methods). It also doesn’t have access to the class itself.\n",
    "- **Purpose:** It is used when you need a function that logically belongs to the class but does not need to access or modify the class state or instance state.\n",
    "- **Decorator:** `@staticmethod`\n",
    "- **Behavior:**\n",
    "    - It does not take any mandatory self or cls arguments.\n",
    "    - It behaves like a regular function but resides within the class's namespace."
   ]
  },
  {
   "cell_type": "code",
   "execution_count": 62,
   "metadata": {},
   "outputs": [
    {
     "name": "stdout",
     "output_type": "stream",
     "text": [
      "15\n",
      "50\n"
     ]
    }
   ],
   "source": [
    "class MathOperations:\n",
    "    @staticmethod\n",
    "    def add(x, y):\n",
    "        \"\"\"Static method to add two numbers\"\"\"\n",
    "        return x + y\n",
    "    \n",
    "    @staticmethod\n",
    "    def multiply(a, b):\n",
    "        \"\"\"Static method to multiply two numbers\"\"\"\n",
    "        return a * b\n",
    "    \n",
    "# Calling the static method\n",
    "result = MathOperations.add(5, 10)\n",
    "print(result)  # Output: 15\n",
    "\n",
    "result = MathOperations.multiply(5, 10)\n",
    "print(result)"
   ]
  },
  {
   "cell_type": "markdown",
   "metadata": {},
   "source": [
    "### Complete Example"
   ]
  },
  {
   "cell_type": "code",
   "execution_count": 63,
   "metadata": {},
   "outputs": [
    {
     "name": "stdout",
     "output_type": "stream",
     "text": [
      "Static Method: 8\n",
      "Class Method: Count is 1\n",
      "Class Method: Count is 2\n",
      "Instance Method: My name is Paul\n",
      "Instance Method: My name is John\n"
     ]
    }
   ],
   "source": [
    "class Example:\n",
    "    count = 0  # Class-level attribute\n",
    "    \n",
    "    def __init__(self, name):\n",
    "        self.name = name  # Instance-level attribute\n",
    "    \n",
    "    # Static method\n",
    "    @staticmethod\n",
    "    def static_method(x, y):\n",
    "        return f\"Static Method: {x + y}\"\n",
    "    \n",
    "    # Class method\n",
    "    @classmethod\n",
    "    def class_method(cls):\n",
    "        cls.count += 1\n",
    "        return f\"Class Method: Count is {cls.count}\"\n",
    "    \n",
    "    # Object (Instance) method\n",
    "    def instance_method(self):\n",
    "        return f\"Instance Method: My name is {self.name}\"\n",
    "\n",
    "# Creating an instance of the class\n",
    "obj1 = Example(\"Paul\")\n",
    "obj2 = Example(\"John\")\n",
    "\n",
    "# Static method call\n",
    "print(Example.static_method(3, 5))  # Output: Static Method: 8\n",
    "\n",
    "# Class method call\n",
    "print(Example.class_method())       # Output: Class Method: Count is 1\n",
    "print(Example.class_method())       # Output: Class Method: Count is 2\n",
    "\n",
    "# Instance method calls\n",
    "print(obj1.instance_method())       # Output: Instance Method: My name is Alice\n",
    "print(obj2.instance_method())       # Output: Instance Method: My name is Bob\n"
   ]
  },
  {
   "cell_type": "code",
   "execution_count": 64,
   "metadata": {},
   "outputs": [
    {
     "ename": "AttributeError",
     "evalue": "'str' object has no attribute 'name'",
     "output_type": "error",
     "traceback": [
      "\u001b[0;31m---------------------------------------------------------------------------\u001b[0m",
      "\u001b[0;31mAttributeError\u001b[0m                            Traceback (most recent call last)",
      "Cell \u001b[0;32mIn[64], line 1\u001b[0m\n\u001b[0;32m----> 1\u001b[0m \u001b[43mExample\u001b[49m\u001b[38;5;241;43m.\u001b[39;49m\u001b[43minstance_method\u001b[49m\u001b[43m(\u001b[49m\u001b[38;5;124;43m'\u001b[39;49m\u001b[38;5;124;43mPks\u001b[39;49m\u001b[38;5;124;43m'\u001b[39;49m\u001b[43m)\u001b[49m\n",
      "Cell \u001b[0;32mIn[63], line 20\u001b[0m, in \u001b[0;36mExample.instance_method\u001b[0;34m(self)\u001b[0m\n\u001b[1;32m     19\u001b[0m \u001b[38;5;28;01mdef\u001b[39;00m \u001b[38;5;21minstance_method\u001b[39m(\u001b[38;5;28mself\u001b[39m):\n\u001b[0;32m---> 20\u001b[0m     \u001b[38;5;28;01mreturn\u001b[39;00m \u001b[38;5;124mf\u001b[39m\u001b[38;5;124m\"\u001b[39m\u001b[38;5;124mInstance Method: My name is \u001b[39m\u001b[38;5;132;01m{\u001b[39;00m\u001b[38;5;28;43mself\u001b[39;49m\u001b[38;5;241;43m.\u001b[39;49m\u001b[43mname\u001b[49m\u001b[38;5;132;01m}\u001b[39;00m\u001b[38;5;124m\"\u001b[39m\n",
      "\u001b[0;31mAttributeError\u001b[0m: 'str' object has no attribute 'name'"
     ]
    }
   ],
   "source": [
    "Example.instance_method('Pks')"
   ]
  },
  {
   "cell_type": "markdown",
   "metadata": {},
   "source": [
    "#### Summary of Method Types:\n",
    "|Type of Method|Decorator|First Argument|Can Access|Purpose|Calling Method|\n",
    "|:-:|:-:|:-:|:--|:--|:-:|\n",
    "|Static Method|@staticmethod|None|No instance or class data|Utility function, belongs to class but doesn't need access to instance or class data|ClassName.method() or object.method()|\n",
    "|Class Method|@classmethod|cls|Class data (cls)|Modify or work with class-level data|ClassName.method() or object.method()|\n",
    "|Instance (Object) Method|None (default)|self|Instance data, class data via `self.__class__`|Operates on specific instances of the class, can access instance and class data|object.method()|\n",
    "\n",
    "This comparison clearly distinguishes the different types of methods in Python classes, showcasing when and how to use each one."
   ]
  }
 ],
 "metadata": {
  "kernelspec": {
   "display_name": "Python 3 (ipykernel)",
   "language": "python",
   "name": "python3"
  },
  "language_info": {
   "codemirror_mode": {
    "name": "ipython",
    "version": 3
   },
   "file_extension": ".py",
   "mimetype": "text/x-python",
   "name": "python",
   "nbconvert_exporter": "python",
   "pygments_lexer": "ipython3",
   "version": "3.10.12"
  }
 },
 "nbformat": 4,
 "nbformat_minor": 4
}
