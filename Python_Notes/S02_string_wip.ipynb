{
 "cells": [
  {
   "cell_type": "code",
   "execution_count": 1,
   "metadata": {},
   "outputs": [],
   "source": [
    "#!/usr/bin/env python3\n",
    "# -*- coding: utf-8 -*-"
   ]
  },
  {
   "cell_type": "markdown",
   "metadata": {},
   "source": [
    "# Analytics and Statistics using Python\n",
    "## S02: String\n",
    "- Strings and Tuples\n",
    "- Accessing Strings\n",
    "- Formatting Strings\n",
    "- String slices\n",
    "\n",
    "<img src='../../prasami_images/prasami_color_tutorials_small.png' width='400' alt=\"By Pramod Sharma : pramod.sharma@prasami.com\" align = \"left\"/>"
   ]
  },
  {
   "cell_type": "markdown",
   "metadata": {},
   "source": [
    "## Strings\n",
    "\n",
    "Text is a string data type. Any data type written as text is a string. Any data under single, double or triple quote are strings. There are different string methods and built-in functions to deal with string data types. To check the length of a string use the len() method."
   ]
  },
  {
   "cell_type": "code",
   "execution_count": 2,
   "metadata": {},
   "outputs": [
    {
     "name": "stdout",
     "output_type": "stream",
     "text": [
      "P\n",
      "1\n",
      "Hello, World!\n",
      "13\n",
      "Welcome to PG-DHPCAP\n"
     ]
    }
   ],
   "source": [
    "letter = 'P'                # A string could be a single character or a bunch of texts\n",
    "\n",
    "print(letter)               # P\n",
    "\n",
    "print(len(letter))          # 1\n",
    "\n",
    "greeting = 'Hello, World!'  # String could be made using a single or double quote,\"Hello, World!\"\n",
    "\n",
    "print(greeting)             # Hello, World!\n",
    "\n",
    "print(len(greeting))        # 13\n",
    "\n",
    "sentence = \"Welcome to PG-DHPCAP\"\n",
    "\n",
    "print(sentence)"
   ]
  },
  {
   "cell_type": "code",
   "execution_count": 3,
   "metadata": {},
   "outputs": [
    {
     "name": "stdout",
     "output_type": "stream",
     "text": [
      "Python is a popular programming language. \n",
      "It was created by Guido van Rossum, and released in 1991. \n",
      "It is used for, web development (server-side), software development, mathematics, and system scripting.\n"
     ]
    }
   ],
   "source": [
    "# Multiline string is created by using triple single (''') or triple double quotes (\"\"\"). See the example below\n",
    "para = '''Python is a popular programming language. \n",
    "It was created by Guido van Rossum, and released in 1991. \n",
    "It is used for, web development (server-side), software development, mathematics, and system scripting.'''\n",
    "print (para)"
   ]
  },
  {
   "cell_type": "markdown",
   "metadata": {},
   "source": [
    "## String Concatenation\n",
    "\n",
    "Merging or connecting strings is called concatenation."
   ]
  },
  {
   "cell_type": "code",
   "execution_count": 4,
   "metadata": {},
   "outputs": [
    {
     "name": "stdout",
     "output_type": "stream",
     "text": [
      "Mohan Sharma\n"
     ]
    }
   ],
   "source": [
    "firstName = 'Mohan'\n",
    "lastName = 'Sharma'\n",
    "space = ' '\n",
    "fullName = firstName  +  space + lastName\n",
    "print(fullName) # Mohan Sharma"
   ]
  },
  {
   "cell_type": "code",
   "execution_count": 5,
   "metadata": {},
   "outputs": [
    {
     "name": "stdout",
     "output_type": "stream",
     "text": [
      "Full Name:  Mohan Sharma\n"
     ]
    }
   ],
   "source": [
    "# Alternatively\n",
    "fullName = f'{firstName} {lastName}'\n",
    "print ('Full Name: ', fullName) # Full Name:  Mohan Sharma"
   ]
  },
  {
   "cell_type": "code",
   "execution_count": 6,
   "metadata": {},
   "outputs": [
    {
     "name": "stdout",
     "output_type": "stream",
     "text": [
      "Full Name:  Mohan Sharma\n"
     ]
    }
   ],
   "source": [
    "# Also\n",
    "fullName = ' '.join([firstName, lastName])\n",
    "print ('Full Name: ', fullName) # Full Name:  Mohan Sharma"
   ]
  },
  {
   "cell_type": "code",
   "execution_count": 7,
   "metadata": {},
   "outputs": [
    {
     "name": "stdout",
     "output_type": "stream",
     "text": [
      "5\n",
      "6\n",
      "True\n",
      "12\n"
     ]
    }
   ],
   "source": [
    "\n",
    "# Checking the length of a string using len() built-in function\n",
    "print(len(firstName))  # 5\n",
    "print(len(lastName))   # 6\n",
    "print(len(firstName) < len(lastName)) # True\n",
    "print(len(fullName)) # 12"
   ]
  },
  {
   "cell_type": "markdown",
   "metadata": {},
   "source": [
    "### Escape Sequences in Strings\n",
    "\n",
    "In Python, a `\\` followed by a character is an escape sequence. Let us see the most common escape characters:\n",
    "\n",
    "- \\n: new line\n",
    "- \\t: Tab means(4 spaces)\n",
    "- \\\\\\\\: Back slash\n",
    "- \\\\': Single quote (')\n",
    "- \\\\\": Double quote (\")\n",
    "\n",
    "Now, let us see the use of the above escape sequences with examples."
   ]
  },
  {
   "cell_type": "code",
   "execution_count": 8,
   "metadata": {},
   "outputs": [
    {
     "name": "stdout",
     "output_type": "stream",
     "text": [
      "Python is a popular programming language. \n",
      " It was created by Guido van Rossum, and released in 1991.\n"
     ]
    }
   ],
   "source": [
    "print('Python is a popular programming language. \\n It was created by Guido van Rossum, and released in 1991.') # line break"
   ]
  },
  {
   "cell_type": "code",
   "execution_count": 9,
   "metadata": {},
   "outputs": [
    {
     "name": "stdout",
     "output_type": "stream",
     "text": [
      "Events   \tGold\tSilver\tBronze\tBrass\n",
      "Athletics\t0\t1\t0\t0\n",
      "Archery  \t0\t0\t0\t1\n",
      "Badminton\t0\t0\t0\t1\n",
      "Hockey   \t0\t0\t1\t0\n",
      "Shooting \t0\t0\t3\t3\n"
     ]
    }
   ],
   "source": [
    "print('Events   \\tGold\\tSilver\\tBronze\\tBrass') # adding tab space or 4 spaces  (default tab setting)\n",
    "\n",
    "print('Athletics\\t0\\t1\\t0\\t0')\n",
    "\n",
    "print('Archery  \\t0\\t0\\t0\\t1')\n",
    "\n",
    "print('Badminton\\t0\\t0\\t0\\t1')\n",
    "\n",
    "print('Hockey   \\t0\\t0\\t1\\t0')\n",
    "\n",
    "print('Shooting \\t0\\t0\\t3\\t3')"
   ]
  },
  {
   "cell_type": "code",
   "execution_count": 10,
   "metadata": {},
   "outputs": [
    {
     "name": "stdout",
     "output_type": "stream",
     "text": [
      "This is a backslash  symbol (\\)\n",
      "In every programming language it starts with 'Hello, World!'\n"
     ]
    }
   ],
   "source": [
    "print('This is a backslash  symbol (\\\\)') # To write a backslash\n",
    "\n",
    "print('In every programming language it starts with \\'Hello, World!\\'') # to write a another single quote inside a single quote"
   ]
  },
  {
   "cell_type": "markdown",
   "metadata": {},
   "source": [
    "### String formatting\n",
    "\n",
    "#### Old Style String Formatting (% Operator)\n",
    "\n",
    "In Python there are many ways of formatting strings. In this section, we will cover some of them.\n",
    "\n",
    "The \"%\" operator is used to format a set of variables enclosed in a \"tuple\" (a fixed size list), together with a format string, which contains normal text together with \"argument specifiers\", special symbols like \"%s\", \"%d\", \"%f\", \"%.<small>number of digits</small>f\".\n",
    "\n",
    "- %s - String (or any object with a string representation, like numbers)\n",
    "- %d - Integers\n",
    "- %f - Floating point numbers\n",
    "- \"%.<small>number of digits</small>f\" - Floating point numbers with fixed precision\n"
   ]
  },
  {
   "cell_type": "code",
   "execution_count": 11,
   "metadata": {},
   "outputs": [
    {
     "name": "stdout",
     "output_type": "stream",
     "text": [
      "I am Mohan Sharma. I am learning Python.\n"
     ]
    }
   ],
   "source": [
    "# Strings only\n",
    "language = 'Python'\n",
    "formated_string = 'I am %s %s. I am learning %s.' %(firstName, lastName, language)\n",
    "print(formated_string)"
   ]
  },
  {
   "cell_type": "code",
   "execution_count": 12,
   "metadata": {},
   "outputs": [
    {
     "data": {
      "text/plain": [
       "'The area of circle with a radius 2 is 12.56.'"
      ]
     },
     "execution_count": 12,
     "metadata": {},
     "output_type": "execute_result"
    }
   ],
   "source": [
    "# Strings  and numbers\n",
    "radius = 2\n",
    "pi = 3.14\n",
    "area = pi * radius ** 2\n",
    "formated_string = 'The area of circle with a radius %d is %.2f.' %(radius, area) # 2 refers the 2 significant digits after the point\n",
    "formated_string"
   ]
  },
  {
   "cell_type": "code",
   "execution_count": 13,
   "metadata": {},
   "outputs": [
    {
     "name": "stdout",
     "output_type": "stream",
     "text": [
      "Proposed medals are ['Gold', 'Silver', 'Bronze', 'Brass']\n",
      "Medal tally would have been {'Athletics': [0, 1, 0, 0], 'Archery': [0, 0, 0, 1], 'Badminton': [0, 0, 0, 1], 'Hockey': [0, 0, 1, 0], 'Shooting': [0, 0, 3, 3]}\n"
     ]
    }
   ],
   "source": [
    "# We can even print collections:\n",
    "medals = ['Gold', 'Silver', 'Bronze', 'Brass']\n",
    "\n",
    "events =  {'Athletics': [0, 1, 0, 0],\n",
    "'Archery': [0, 0, 0, 1],\n",
    "'Badminton': [0, 0, 0, 1],\n",
    "'Hockey': [0, 0, 1, 0],\n",
    "'Shooting': [0, 0, 3, 3]}\n",
    "\n",
    "print ('Proposed medals are %s' % medals )\n",
    "print ('Medal tally would have been %s' % events)"
   ]
  },
  {
   "cell_type": "markdown",
   "metadata": {},
   "source": [
    "### New Style String Formatting (str.format)"
   ]
  },
  {
   "cell_type": "code",
   "execution_count": 14,
   "metadata": {},
   "outputs": [
    {
     "name": "stdout",
     "output_type": "stream",
     "text": [
      "I am Mohan Sharma. I teach Python\n",
      "4 + 3 = 7\n",
      "4 - 3 = 1\n",
      "4 * 3 = 12\n",
      "4 / 3 = 1.33\n",
      "4 % 4 = 4\n",
      "4 // 3 = 1\n",
      "4 ** 3 = 64\n"
     ]
    }
   ],
   "source": [
    "formated_string = 'I am {} {}. I teach {}'.format(firstName, lastName, language)\n",
    "print(formated_string)\n",
    "\n",
    "a = 4\n",
    "b = 3\n",
    "\n",
    "print('{} + {} = {}'.format(a, b, a + b)) # default each value goes in one place holder\n",
    "\n",
    "print('{0:} - {1:} = {2:}'.format(a, b, a - b)) # we can index for placement\n",
    "\n",
    "print('{1:} * {2:} = {0:}'.format(a * b, a, b)) # alter the sequence\n",
    "\n",
    "print('{} / {} = {:.2f}'.format(a, b, a / b)) # limits it to two digits after decimal\n",
    "\n",
    "print('{0:d} % {0:d} = {0:d}'.format(a, b, a % b)) # specify the format\n",
    "\n",
    "print('{} // {} = {}'.format(a, b, a // b))\n",
    "\n",
    "print('{} ** {} = {}'.format(a, b, a ** b))"
   ]
  },
  {
   "cell_type": "code",
   "execution_count": 15,
   "metadata": {},
   "outputs": [
    {
     "name": "stdout",
     "output_type": "stream",
     "text": [
      "The area of a circle with a pi  3.14 radius 2.0 is  12.56.\n"
     ]
    }
   ],
   "source": [
    "# Strings  and numbers\n",
    "radius = 2.0\n",
    "pi = 3.14\n",
    "area = pi * radius ** 2\n",
    "formated_string = 'The area of a circle with a pi  {0:.2f} radius {1:3.1f} is {2:6.2f}.'.format(pi,radius, area) # 2 digits after decimal\n",
    "print(formated_string)\n"
   ]
  },
  {
   "cell_type": "markdown",
   "metadata": {},
   "source": [
    "### String Interpolation / f-Strings (Python 3.6+)\n",
    "\n",
    "Another new string formatting is string interpolation, f-strings. Strings start with f and we can inject the data in their corresponding positions. Quite convenient way of printing."
   ]
  },
  {
   "cell_type": "code",
   "execution_count": 16,
   "metadata": {},
   "outputs": [
    {
     "name": "stdout",
     "output_type": "stream",
     "text": [
      "4 + 3 = 7\n",
      "4 - 3 = 1\n",
      "4 * 3 = 12\n",
      "4 / 3 = 1.33\n",
      "4 % 3 = 1\n",
      "4 // 3 = 1\n",
      "4 ** 3 = 64\n"
     ]
    }
   ],
   "source": [
    "a = 4\n",
    "b = 3\n",
    "print(f'{a} + {b} = {a +b}')\n",
    "print(f'{a} - {b} = {a - b}')\n",
    "print(f'{a} * {b} = {a * b}')\n",
    "print(f'{a} / {b} = {a / b:.2f}')\n",
    "print(f'{a} % {b} = {a % b}')\n",
    "print(f'{a} // {b} = {a // b}')\n",
    "print(f'{a} ** {b} = {a ** b}')"
   ]
  },
  {
   "cell_type": "markdown",
   "metadata": {},
   "source": [
    "### Python Strings as Sequences of Characters\n",
    "\n",
    "Python strings are sequences of characters, and share their basic methods of access with other Python ordered sequences of objects – lists and tuples. The simplest way of extracting single characters from strings (and individual members from any sequence) is to unpack them into corresponding variables.\n",
    "\n",
    "#### Unpacking Characters"
   ]
  },
  {
   "cell_type": "code",
   "execution_count": 17,
   "metadata": {},
   "outputs": [
    {
     "name": "stdout",
     "output_type": "stream",
     "text": [
      "P\n",
      "y\n",
      "t\n",
      "h\n",
      "o\n",
      "n\n"
     ]
    }
   ],
   "source": [
    "language = 'Python'\n",
    "a,b,c,d,e,f = language # unpacking sequence characters into variables\n",
    "print(a) # P\n",
    "print(b) # y\n",
    "print(c) # t\n",
    "print(d) # h\n",
    "print(e) # o\n",
    "print(f) # n"
   ]
  },
  {
   "cell_type": "markdown",
   "metadata": {},
   "source": [
    "#### Accessing Characters in Strings by Index\n",
    "\n",
    "In programming counting starts from zero. Therefore the first letter of a string is at zero index and the last letter of a string is the length of a string minus one.\n",
    "\n",
    "<img src = '../../images/asp_nb_fig1.png'>"
   ]
  },
  {
   "cell_type": "code",
   "execution_count": 18,
   "metadata": {},
   "outputs": [
    {
     "name": "stdout",
     "output_type": "stream",
     "text": [
      "P\n"
     ]
    }
   ],
   "source": [
    "language = 'Python'\n",
    "\n",
    "firstLetter = language[0]\n",
    "\n",
    "print(firstLetter) # P"
   ]
  },
  {
   "cell_type": "code",
   "execution_count": 19,
   "metadata": {},
   "outputs": [
    {
     "name": "stdout",
     "output_type": "stream",
     "text": [
      "y\n"
     ]
    }
   ],
   "source": [
    "secondLetter = language[1]\n",
    "\n",
    "print(secondLetter) # y"
   ]
  },
  {
   "cell_type": "code",
   "execution_count": 20,
   "metadata": {},
   "outputs": [
    {
     "name": "stdout",
     "output_type": "stream",
     "text": [
      "n\n"
     ]
    }
   ],
   "source": [
    "lastIndex =  len(language) - 1\n",
    "\n",
    "lastLetter = language[lastIndex]\n",
    "\n",
    "print(lastLetter) # n"
   ]
  },
  {
   "cell_type": "code",
   "execution_count": 21,
   "metadata": {},
   "outputs": [
    {
     "name": "stdout",
     "output_type": "stream",
     "text": [
      "n\n",
      "o\n"
     ]
    }
   ],
   "source": [
    "# If we want to start from right end we can use negative indexing. -1 is the last index.\n",
    "\n",
    "lastLetter = language[-1]\n",
    "\n",
    "print(lastLetter) # n\n",
    "secondLast = language[-2]\n",
    "print(secondLast) # o"
   ]
  },
  {
   "cell_type": "markdown",
   "metadata": {},
   "source": [
    "#### Slicing Python Strings\n",
    "\n",
    "In python we can slice strings into substrings.\n",
    "\n"
   ]
  },
  {
   "cell_type": "code",
   "execution_count": 22,
   "metadata": {},
   "outputs": [
    {
     "name": "stdout",
     "output_type": "stream",
     "text": [
      "Pyt\n",
      "hon\n",
      "hon\n",
      "hon\n"
     ]
    }
   ],
   "source": [
    "firstThree = language[0:3] # starts at zero index and up to 3 but not include 3\n",
    "print(firstThree) #Pyt\n",
    "\n",
    "lastThree = language[3:6]\n",
    "print(lastThree) # hon\n",
    "\n",
    "# Another way\n",
    "lastThree = language[-3:]\n",
    "print(lastThree)   # hon\n",
    "\n",
    "lastThree = language[3:]\n",
    "print(lastThree)   # hon"
   ]
  },
  {
   "cell_type": "markdown",
   "metadata": {},
   "source": [
    "#### Reversing a String\n",
    "\n",
    "We can easily reverse strings in python.\n"
   ]
  },
  {
   "cell_type": "code",
   "execution_count": 23,
   "metadata": {},
   "outputs": [
    {
     "name": "stdout",
     "output_type": "stream",
     "text": [
      "!dlroW ,olleH\n"
     ]
    }
   ],
   "source": [
    "\n",
    "greeting = 'Hello, World!'\n",
    "\n",
    "print(greeting[::-1]) # !dlroW ,olleH"
   ]
  },
  {
   "cell_type": "markdown",
   "metadata": {},
   "source": [
    "#### Skipping Characters While Slicing\n",
    "\n",
    "It is possible to skip characters while slicing by passing step argument to slice method."
   ]
  },
  {
   "cell_type": "code",
   "execution_count": 24,
   "metadata": {},
   "outputs": [
    {
     "name": "stdout",
     "output_type": "stream",
     "text": [
      "Pto\n"
     ]
    }
   ],
   "source": [
    "pto = language[0:6:2] #\n",
    "print(pto) # Pto"
   ]
  },
  {
   "cell_type": "markdown",
   "metadata": {},
   "source": [
    "### String Methods\n",
    "\n",
    "There are many string methods which allow us to format strings. See some of the string methods in the following example:\n",
    "\n",
    "**capitalize():** Converts the first character of the string to capital letter"
   ]
  },
  {
   "cell_type": "code",
   "execution_count": 25,
   "metadata": {},
   "outputs": [
    {
     "name": "stdout",
     "output_type": "stream",
     "text": [
      "Neeraj wins silver medal in olympic 2024\n"
     ]
    }
   ],
   "source": [
    "sentence2 = 'neeraj wins silver medal in Olympic 2024'\n",
    "print(sentence2.capitalize()) # 'Neeraj wins silver medal in Olympic 2024'"
   ]
  },
  {
   "cell_type": "markdown",
   "metadata": {},
   "source": [
    "**count():** returns occurrences of substring in string, count(substring, start=.., end=..). The start is a starting indexing for counting and end is the last index to count."
   ]
  },
  {
   "cell_type": "code",
   "execution_count": 26,
   "metadata": {},
   "outputs": [
    {
     "name": "stdout",
     "output_type": "stream",
     "text": [
      "4\n",
      "3\n",
      "2\n"
     ]
    }
   ],
   "source": [
    "sentence = 'Neeraj Chopra wins silver medal in Olympic 2024'\n",
    "print(sentence.count('e')) # 3\n",
    "print(sentence.count('i', 8, 35)) # 1, \n",
    "print(sentence.count('ra')) # 2`"
   ]
  },
  {
   "cell_type": "markdown",
   "metadata": {},
   "source": [
    "**endswith():** Checks if a string ends with a specified ending"
   ]
  },
  {
   "cell_type": "code",
   "execution_count": 27,
   "metadata": {},
   "outputs": [
    {
     "name": "stdout",
     "output_type": "stream",
     "text": [
      "False\n",
      "True\n"
     ]
    }
   ],
   "source": [
    "print(sentence.endswith('pic'))   # False\n",
    "print(sentence.endswith('24'))    # True"
   ]
  },
  {
   "cell_type": "markdown",
   "metadata": {},
   "source": [
    "**expandtabs():** Replaces tab character with spaces, default tab size is 8. It takes tab size argument"
   ]
  },
  {
   "cell_type": "code",
   "execution_count": 28,
   "metadata": {},
   "outputs": [
    {
     "name": "stdout",
     "output_type": "stream",
     "text": [
      "123456789012345678901234567890123456789012345678901234567890\n",
      "Neeraj  Chopra  wins    silver  medal   in      Olympic 2024\n",
      "Neeraj Chopra wins silver medal in Olympic 2024\n",
      "Neeraj    Chopra    wins      silver    medal     in        Olympic   2024\n"
     ]
    }
   ],
   "source": [
    "sentence2 = 'Neeraj\\tChopra\\twins\\tsilver\\tmedal\\tin\\tOlympic\\t2024'\n",
    "for i in range(1,61):\n",
    "    print(i%10, end='')\n",
    "print ()\n",
    "print(sentence2.expandtabs())   # Default is 8\n",
    "print(sentence2.expandtabs(1))   # Neeraj  Chopra  wins    silver  medal   in      Olympic 2024\n",
    "print(sentence2.expandtabs(10)) # Neeraj Chopra wins silver medal in Olympic 2024"
   ]
  },
  {
   "cell_type": "markdown",
   "metadata": {},
   "source": [
    "**find():** Returns the index of the first occurrence of a substring, if not found returns -1"
   ]
  },
  {
   "cell_type": "code",
   "execution_count": 29,
   "metadata": {},
   "outputs": [
    {
     "name": "stdout",
     "output_type": "stream",
     "text": [
      "1\n",
      "41\n"
     ]
    }
   ],
   "source": [
    "print(sentence.find('e'))  # 1\n",
    "print(sentence.find('c')) # 41 not 7 as Caps C is different than smallcase c."
   ]
  },
  {
   "cell_type": "markdown",
   "metadata": {},
   "source": [
    "**rfind():** Right find -  Returns the index of the last occurrence of a substring, if not found returns -1"
   ]
  },
  {
   "cell_type": "code",
   "execution_count": 30,
   "metadata": {},
   "outputs": [
    {
     "name": "stdout",
     "output_type": "stream",
     "text": [
      "38\n",
      "11\n",
      "-1\n"
     ]
    }
   ],
   "source": [
    "print(sentence.rfind('m'))  # 38\n",
    "print(sentence.rfind('ra')) # 17\n",
    "print(sentence.rfind('az')) # 17"
   ]
  },
  {
   "cell_type": "markdown",
   "metadata": {},
   "source": [
    "**index():** Returns the lowest index of a substring, additional arguments indicate starting and ending index (default 0 and string length - 1). If the substring is not found it raises a valueError. "
   ]
  },
  {
   "cell_type": "code",
   "execution_count": 31,
   "metadata": {},
   "outputs": [
    {
     "name": "stdout",
     "output_type": "stream",
     "text": [
      "3\n",
      "Error: substring not found\n"
     ]
    }
   ],
   "source": [
    "sub_string = 'ra'\n",
    "print(sentence.index(sub_string))  # 3\n",
    "\n",
    "try:\n",
    "    print(sentence.index(sub_string, 30)) # error\n",
    "except ValueError as e:\n",
    "    print (f'Error: {e}')"
   ]
  },
  {
   "cell_type": "markdown",
   "metadata": {},
   "source": [
    "**rindex():** Returns the highest index of a substring, additional arguments indicate starting and ending index (default 0 and string length - 1)"
   ]
  },
  {
   "cell_type": "code",
   "execution_count": 32,
   "metadata": {},
   "outputs": [
    {
     "name": "stdout",
     "output_type": "stream",
     "text": [
      "11\n",
      "Error: substring not found\n"
     ]
    }
   ],
   "source": [
    "sub_string = 'ra'\n",
    "print(sentence.rindex(sub_string))  # 11\n",
    "try:\n",
    "    print(sentence.rindex(sub_string, 30)) # error\n",
    "except ValueError as e:\n",
    "    print (f'Error: {e}')"
   ]
  },
  {
   "cell_type": "markdown",
   "metadata": {},
   "source": [
    "**isalnum():** Checks alphanumeric character"
   ]
  },
  {
   "cell_type": "code",
   "execution_count": 33,
   "metadata": {},
   "outputs": [
    {
     "name": "stdout",
     "output_type": "stream",
     "text": [
      "AnalyticsandStatisticsusingPython : True\n",
      "Neeraj Chopra wins silver medal in Olympic 2024 : False\n",
      "NeerajChoprawinssilvermedalinOlympic2024 : True\n"
     ]
    }
   ],
   "source": [
    "sentence1 = 'AnalyticsandStatisticsusingPython'\n",
    "print(sentence1, ':', sentence1.isalnum()) # True\n",
    "print(sentence, ':', sentence.isalnum()) # False, space is not part of alpha-numeric set.\n",
    "print(''.join(sentence.split()), ':', ''.join(sentence.split()).isalnum()) # Remove space and it is"
   ]
  },
  {
   "cell_type": "markdown",
   "metadata": {},
   "source": [
    "**isalpha():** Checks if all string elements are alphabet characters (a-z and A-Z)"
   ]
  },
  {
   "cell_type": "code",
   "execution_count": 34,
   "metadata": {},
   "outputs": [
    {
     "name": "stdout",
     "output_type": "stream",
     "text": [
      "True\n",
      "False\n",
      "NeerajChoprawinssilvermedalinOlympic2024 : False\n"
     ]
    }
   ],
   "source": [
    "print(sentence1.isalpha()) # True\n",
    "\n",
    "print(sentence.isalpha()) # False, space is once again excluded and numbers\n",
    "\n",
    "print(''.join(sentence.split()), ':', ''.join(sentence.split()).isalpha())"
   ]
  },
  {
   "cell_type": "markdown",
   "metadata": {},
   "source": [
    "**isdecimal():** Checks if all characters in a string are decimal (0-9)"
   ]
  },
  {
   "cell_type": "code",
   "execution_count": 35,
   "metadata": {},
   "outputs": [
    {
     "name": "stdout",
     "output_type": "stream",
     "text": [
      "Neeraj Chopra wins silver medal in Olympic 2024 : False\n",
      "123 : True\n",
      "² : False\n",
      "12 3 : False\n",
      "12.3 : False\n"
     ]
    }
   ],
   "source": [
    "print(sentence, ':', sentence.isdecimal())  # False\n",
    "\n",
    "sentence2 = '123'\n",
    "print(sentence2, ':', sentence2.isdecimal())  # True\n",
    "\n",
    "sentence2 = '\\u00B2'\n",
    "print(sentence2, ':', sentence2.isdecimal())   # False\n",
    "\n",
    "sentence2 = '12 3'\n",
    "print(sentence2, ':', sentence2.isdecimal())  # False, space not allowed\n",
    "\n",
    "sentence2 = '12.3'\n",
    "print(sentence2, ':', sentence2.isdecimal()) "
   ]
  },
  {
   "cell_type": "markdown",
   "metadata": {},
   "source": [
    "**isdigit():** Checks if all characters in a string are numbers (0-9 and some other unicode characters for numbers)"
   ]
  },
  {
   "cell_type": "code",
   "execution_count": 36,
   "metadata": {},
   "outputs": [
    {
     "name": "stdout",
     "output_type": "stream",
     "text": [
      "30 : True\n",
      "² : True\n"
     ]
    }
   ],
   "source": [
    "sentence2 = '30'\n",
    "print(sentence2, ':', sentence2.isdigit())   # True\n",
    "sentence2 = '\\u00B2'\n",
    "print(sentence2, ':', sentence2.isdigit())   # True"
   ]
  },
  {
   "cell_type": "markdown",
   "metadata": {},
   "source": [
    "**isnumeric():** Checks if all characters in a string are numbers or number related (just like isdigit(), just accepts more symbols, like ½)"
   ]
  },
  {
   "cell_type": "code",
   "execution_count": 37,
   "metadata": {},
   "outputs": [
    {
     "name": "stdout",
     "output_type": "stream",
     "text": [
      "10 : True\n",
      "½ : True\n",
      "10.5 : False\n",
      "10½ : True\n"
     ]
    }
   ],
   "source": [
    "num = '10'\n",
    "print(num, ':', num.isnumeric()) # True\n",
    "num = '\\u00BD' # ½\n",
    "print(num, ':',num.isnumeric()) # True\n",
    "num = '10.5'\n",
    "print(num, ':',num.isnumeric()) # False\n",
    "num = '10\\u00BD'\n",
    "print(num, ':',num.isnumeric()) # False"
   ]
  },
  {
   "cell_type": "markdown",
   "metadata": {},
   "source": [
    "**isidentifier()**: Checks for a valid identifier - it checks if a string is a valid variable name."
   ]
  },
  {
   "cell_type": "code",
   "execution_count": 49,
   "metadata": {},
   "outputs": [
    {
     "name": "stdout",
     "output_type": "stream",
     "text": [
      "False\n",
      "True\n"
     ]
    }
   ],
   "source": [
    "sentence2 = '123Silver4Bronze'\n",
    "print(sentence2.isidentifier()) # False, because it starts with a number\n",
    "sentence2 = 'oneSilverFourBronze'\n",
    "print(sentence2.isidentifier()) # True"
   ]
  },
  {
   "cell_type": "markdown",
   "metadata": {},
   "source": [
    "**islower():** Checks if all alphabet characters in the string are lowercase."
   ]
  },
  {
   "cell_type": "code",
   "execution_count": 39,
   "metadata": {},
   "outputs": [
    {
     "name": "stdout",
     "output_type": "stream",
     "text": [
      "True\n",
      "False\n"
     ]
    }
   ],
   "source": [
    "sentence2 = 'one silver four bronze'\n",
    "print(sentence2.islower()) # True\n",
    "print(sentence.islower()) # False"
   ]
  },
  {
   "cell_type": "markdown",
   "metadata": {},
   "source": [
    "**isupper():** Checks if all alphabet characters in the string are uppercase"
   ]
  },
  {
   "cell_type": "code",
   "execution_count": 40,
   "metadata": {},
   "outputs": [
    {
     "name": "stdout",
     "output_type": "stream",
     "text": [
      "False\n",
      "True\n"
     ]
    }
   ],
   "source": [
    "print(sentence2.isupper()) #  False\n",
    "sentence2 = 'ONE SILVER FOUR BRONZE'\n",
    "print(sentence2.isupper()) # True"
   ]
  },
  {
   "cell_type": "markdown",
   "metadata": {},
   "source": [
    "**join():** Returns a concatenated string"
   ]
  },
  {
   "cell_type": "code",
   "execution_count": 41,
   "metadata": {},
   "outputs": [
    {
     "name": "stdout",
     "output_type": "stream",
     "text": [
      "Python NumPy Pandas matplotlib\n",
      "Python# NumPy# Pandas# matplotlib\n"
     ]
    }
   ],
   "source": [
    "ml_tech = ['Python', 'NumPy', 'Pandas', 'matplotlib']\n",
    "result = ' '.join(ml_tech)\n",
    "print(result) # 'Python NumPy Pandas matplotlib'\n",
    "\n",
    "result = '# '.join(ml_tech)\n",
    "print(result) # Python# NumPy# Pandas# matplotlib"
   ]
  },
  {
   "cell_type": "markdown",
   "metadata": {},
   "source": [
    "**strip():** Removes all given characters starting from the beginning and end of the string"
   ]
  },
  {
   "cell_type": "code",
   "execution_count": 42,
   "metadata": {},
   "outputs": [
    {
     "name": "stdout",
     "output_type": "stream",
     "text": [
      "alyticsandStatisticsusingPyt\n"
     ]
    }
   ],
   "source": [
    "print(sentence1.strip('Anho')) # 'alyticsandStatisticsusingPyt'"
   ]
  },
  {
   "cell_type": "markdown",
   "metadata": {},
   "source": [
    "**replace():** Replaces substring with a given string"
   ]
  },
  {
   "cell_type": "code",
   "execution_count": 43,
   "metadata": {},
   "outputs": [
    {
     "name": "stdout",
     "output_type": "stream",
     "text": [
      "AnalyticsandStatisticsusingPytorch\n"
     ]
    }
   ],
   "source": [
    "print(sentence1.replace('Python', 'Pytorch')) # 'AnalyticsandStatisticsusingPytorch'"
   ]
  },
  {
   "cell_type": "markdown",
   "metadata": {},
   "source": [
    "**split():** Splits the string, using given string or space as a separator"
   ]
  },
  {
   "cell_type": "code",
   "execution_count": 44,
   "metadata": {},
   "outputs": [
    {
     "name": "stdout",
     "output_type": "stream",
     "text": [
      "['Neeraj', 'Chopra', 'wins', 'silver', 'medal', 'in', 'Olympic', '2024']\n",
      "['Analytics', 'and', 'Statistics', 'using', 'Python']\n"
     ]
    }
   ],
   "source": [
    "print(sentence.split()) # default split is at white space\n",
    "sentence2 = 'Analytics,and,Statistics,using,Python'\n",
    "print(sentence2.split(',')) # ['Analytics', 'and', 'Statistics', 'using', 'Python']"
   ]
  },
  {
   "cell_type": "markdown",
   "metadata": {},
   "source": [
    "**title():** Returns a title cased string."
   ]
  },
  {
   "cell_type": "code",
   "execution_count": 45,
   "metadata": {},
   "outputs": [
    {
     "name": "stdout",
     "output_type": "stream",
     "text": [
      "Analyticsandstatisticsusingpython\n"
     ]
    }
   ],
   "source": [
    "sentence2 = 'AnalyticsandStatisticsusingPython'\n",
    "print(sentence2.title()) # Thirty Days Of Python"
   ]
  },
  {
   "cell_type": "markdown",
   "metadata": {},
   "source": [
    "**swapcase():** Converts all uppercase characters to lowercase and all lowercase characters to uppercase characters"
   ]
  },
  {
   "cell_type": "code",
   "execution_count": 46,
   "metadata": {},
   "outputs": [
    {
     "name": "stdout",
     "output_type": "stream",
     "text": [
      "aNALYTICSANDsTATISTICSUSINGpYTHON\n"
     ]
    }
   ],
   "source": [
    "print(sentence2.swapcase())   # aNALYTICSANDsTATISTICSUSINGpYTHON"
   ]
  },
  {
   "cell_type": "markdown",
   "metadata": {},
   "source": [
    "## INTEGERS VS. STRINGS OF DIGITS\n",
    "You might wonder why we have used strings to represent the telephone numbers—why not integers? Consider what would happen to STD and ISD representations."
   ]
  },
  {
   "cell_type": "code",
   "execution_count": 47,
   "metadata": {},
   "outputs": [
    {
     "ename": "SyntaxError",
     "evalue": "leading zeros in decimal integer literals are not permitted; use an 0o prefix for octal integers (689994431.py, line 1)",
     "output_type": "error",
     "traceback": [
      "\u001b[0;36m  File \u001b[0;32m\"/tmp/ipykernel_21540/689994431.py\"\u001b[0;36m, line \u001b[0;32m1\u001b[0m\n\u001b[0;31m    02265870412\u001b[0m\n\u001b[0m    ^\u001b[0m\n\u001b[0;31mSyntaxError\u001b[0m\u001b[0;31m:\u001b[0m leading zeros in decimal integer literals are not permitted; use an 0o prefix for octal integers\n"
     ]
    }
   ],
   "source": [
    "02265870412"
   ]
  },
  {
   "cell_type": "code",
   "execution_count": null,
   "metadata": {},
   "outputs": [],
   "source": [
    "code = 02265870412"
   ]
  },
  {
   "cell_type": "markdown",
   "metadata": {},
   "source": [
    "Not exactly what we wanted, is it? More over, octal numbers are written with an initial zero. It is impossible to write decimal numbers like that. "
   ]
  },
  {
   "cell_type": "markdown",
   "metadata": {},
   "source": [
    "The take away is: telephone numbers (and other numbers that may contain leading zeros) should be\n",
    "represented as strings of digits—not integers"
   ]
  },
  {
   "cell_type": "markdown",
   "metadata": {},
   "source": [
    "### Practice Problem: \n",
    "#### Problem Statement 1:\n",
    "\n",
    "Write a Python program that checks if a given string is a palindrome (reads the same forward and backward)."
   ]
  },
  {
   "cell_type": "code",
   "execution_count": 48,
   "metadata": {},
   "outputs": [
    {
     "name": "stdout",
     "output_type": "stream",
     "text": [
      "True\n",
      "False\n"
     ]
    }
   ],
   "source": [
    "pal_str = 'abbcbba'\n",
    "no_pal = 'abcde'\n",
    "\n",
    "print (pal_str == pal_str[::-1])\n",
    "\n",
    "print (no_pal == no_pal[::-1])"
   ]
  },
  {
   "cell_type": "markdown",
   "metadata": {},
   "source": [
    "#### Problem Statement 2:\n",
    "Write a Python program that takes a full name as input in the format \"First Last\".\n",
    "- Make sure it is in \"title case\" i.e. first letter capitalized.\n",
    "- Assign the first name and last name to two separate variables at once.\n",
    "- Format the output to display the name as \"Last, First\".\n",
    "- Print the initials of the name using string slicing.\n",
    "\n",
    "Example imput : full_name = 'Donald tRump'"
   ]
  },
  {
   "cell_type": "code",
   "execution_count": 49,
   "metadata": {},
   "outputs": [
    {
     "name": "stdout",
     "output_type": "stream",
     "text": [
      "donald trump\n",
      "Formatted Name: Trump, Donald\n",
      "Initials: DT\n"
     ]
    }
   ],
   "source": [
    "# Step 1: Input full name\n",
    "full_name = 'Donald tRump' #input(\"Enter your full name (First Last): \")\n",
    "\n",
    "# Step 2: convert to lower case\n",
    "full_name = full_name.lower()\n",
    "print (full_name)\n",
    "\n",
    "# Step 3: Assigning multiple values at once\n",
    "first_name, last_name = full_name.split()\n",
    "\n",
    "# Step 4: change to title case\n",
    "first_name, last_name = first_name.title(), last_name.title()\n",
    "\n",
    "# Formatting the output\n",
    "formatted_name = f\"{last_name}, {first_name}\"\n",
    "print(\"Formatted Name:\", formatted_name)\n",
    "\n",
    "# String Slicing to get initials\n",
    "initials = first_name[0] + last_name[0]\n",
    "print(\"Initials:\", initials)\n"
   ]
  },
  {
   "cell_type": "markdown",
   "metadata": {},
   "source": [
    "#### Problem Statement 2:\n",
    "Write a Python program that:\n",
    "\n",
    "1. Takes a sentence as input.\n",
    "2. Counts the number of vowels in the sentence.\n",
    "3. Reverses the sentence using string slicing.\n",
    "4. Replaces all occurrences of a specific word in the sentence with another word using basic string operations."
   ]
  },
  {
   "cell_type": "code",
   "execution_count": 50,
   "metadata": {},
   "outputs": [
    {
     "name": "stdout",
     "output_type": "stream",
     "text": [
      "Number of vowels: 3\n",
      "Reversed Sentence: nuf si nohtyP\n",
      "Modified Sentence: Python is exciting\n"
     ]
    }
   ],
   "source": [
    "# Step 1: Input sentence\n",
    "sentence = 'Python is fun' #input(\"Enter a sentence: \")\n",
    "\n",
    "# Step 2: Count vowels\n",
    "vowels = \"aeiouAEIOU\"\n",
    "vowel_count = sum(1 for char in sentence if char in vowels)\n",
    "print(\"Number of vowels:\", vowel_count)\n",
    "\n",
    "# Step 3: Reverse the sentence using string slicing\n",
    "reversed_sentence = sentence[::-1]\n",
    "print(\"Reversed Sentence:\", reversed_sentence)\n",
    "\n",
    "# Step 4: Replace a word in the sentence\n",
    "old_word = 'fun'# input(\"Enter the word to replace: \")\n",
    "new_word = 'exciting' #input(\"Enter the new word: \")\n",
    "modified_sentence = sentence.replace(old_word, new_word)\n",
    "print(\"Modified Sentence:\", modified_sentence)\n"
   ]
  },
  {
   "cell_type": "code",
   "execution_count": null,
   "metadata": {},
   "outputs": [],
   "source": []
  }
 ],
 "metadata": {
  "kernelspec": {
   "display_name": "Python 3 (ipykernel)",
   "language": "python",
   "name": "python3"
  },
  "language_info": {
   "codemirror_mode": {
    "name": "ipython",
    "version": 3
   },
   "file_extension": ".py",
   "mimetype": "text/x-python",
   "name": "python",
   "nbconvert_exporter": "python",
   "pygments_lexer": "ipython3",
   "version": "3.10.7"
  }
 },
 "nbformat": 4,
 "nbformat_minor": 4
}
